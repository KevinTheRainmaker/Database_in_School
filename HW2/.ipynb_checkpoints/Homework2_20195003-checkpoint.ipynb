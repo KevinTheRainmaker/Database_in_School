{
 "cells": [
  {
   "cell_type": "code",
   "execution_count": 28,
   "metadata": {},
   "outputs": [
    {
     "name": "stdout",
     "output_type": "stream",
     "text": [
      "The sql extension is already loaded. To reload it, use:\n",
      "  %reload_ext sql\n"
     ]
    }
   ],
   "source": [
    "%load_ext sql"
   ]
  },
  {
   "cell_type": "code",
   "execution_count": 29,
   "metadata": {},
   "outputs": [],
   "source": [
    "%sql sqlite:///shopingmall.db"
   ]
  },
  {
   "cell_type": "code",
   "execution_count": 65,
   "metadata": {},
   "outputs": [
    {
     "name": "stdout",
     "output_type": "stream",
     "text": [
      " * sqlite:///shopingmall.db\n",
      "Done.\n",
      "Done.\n",
      "Done.\n",
      "Done.\n",
      "Done.\n"
     ]
    },
    {
     "data": {
      "text/plain": [
       "[]"
      ]
     },
     "execution_count": 65,
     "metadata": {},
     "output_type": "execute_result"
    }
   ],
   "source": [
    "%%sql\n",
    "drop table customer;\n",
    "drop table seller;\n",
    "drop table storage;\n",
    "drop table product;\n",
    "drop table ordered_goods;"
   ]
  },
  {
   "cell_type": "code",
   "execution_count": 66,
   "metadata": {},
   "outputs": [
    {
     "name": "stdout",
     "output_type": "stream",
     "text": [
      " * sqlite:///shopingmall.db\n",
      "Done.\n",
      "Done.\n",
      "Done.\n",
      "Done.\n",
      "Done.\n"
     ]
    },
    {
     "data": {
      "text/plain": [
       "[]"
      ]
     },
     "execution_count": 66,
     "metadata": {},
     "output_type": "execute_result"
    }
   ],
   "source": [
    "%%sql\n",
    "create table customer(\n",
    "    customer_id     char(5) not null,\n",
    "    name            varchar(20),\n",
    "    address         varchar(20),\n",
    "    tel             char(11),\n",
    "    email           varchar(30),\n",
    "    personal_num    char(13) not null,\n",
    "    zip_code        char(5),\n",
    "    primary key(customer_id)\n",
    ");\n",
    "\n",
    "create table seller(\n",
    "    seller_id       char(5) not null,\n",
    "    name            varchar(20),\n",
    "    address         varchar(20),\n",
    "    tel             char(11),\n",
    "    primary key(seller_id)\n",
    ");\n",
    "\n",
    "create table storage(\n",
    "    storage_num     char(5) not null,\n",
    "    address         varcher(20),\n",
    "    tel             char(11),\n",
    "    primary key(storage_num)\n",
    ");\n",
    "\n",
    "create table product(\n",
    "    product_id      char(5) not null,\n",
    "    name            varchar(20),\n",
    "    brand           varchar(20),\n",
    "    size            varchar(5),\n",
    "    color           varchar(10),\n",
    "    stock           numeric(7,0),\n",
    "    price           numeric(6,0),\n",
    "    storage_num     char(5) not null,\n",
    "    primary key(product_id),\n",
    "    foreign key(storage_num) references storage\n",
    ");\n",
    "\n",
    "create table ordered_goods(\n",
    "    order_num       char(5) not null,\n",
    "    date            char(6),\n",
    "    payment_status  char(1),\n",
    "    customer_id     char(5) not null,\n",
    "    primary key(order_num),\n",
    "    foreign key(customer_id) references customer\n",
    ");"
   ]
  },
  {
   "cell_type": "code",
   "execution_count": 67,
   "metadata": {},
   "outputs": [
    {
     "name": "stdout",
     "output_type": "stream",
     "text": [
      " * sqlite:///shopingmall.db\n",
      "Done.\n"
     ]
    },
    {
     "data": {
      "text/html": [
       "<table>\n",
       "    <tr>\n",
       "        <th>type</th>\n",
       "        <th>name</th>\n",
       "        <th>tbl_name</th>\n",
       "        <th>rootpage</th>\n",
       "        <th>sql</th>\n",
       "    </tr>\n",
       "    <tr>\n",
       "        <td>table</td>\n",
       "        <td>customer</td>\n",
       "        <td>customer</td>\n",
       "        <td>2</td>\n",
       "        <td>CREATE TABLE customer( customer_id     char(5) not null,<br>    name            varchar(20),<br>    address         varchar(20),<br>    tel             char(11),<br>    email           varchar(30),<br>    personal_num    char(13) not null,<br>    zip_code        char(5),<br>    primary key(customer_id)<br>)</td>\n",
       "    </tr>\n",
       "    <tr>\n",
       "        <td>index</td>\n",
       "        <td>sqlite_autoindex_customer_1</td>\n",
       "        <td>customer</td>\n",
       "        <td>4</td>\n",
       "        <td>None</td>\n",
       "    </tr>\n",
       "    <tr>\n",
       "        <td>table</td>\n",
       "        <td>seller</td>\n",
       "        <td>seller</td>\n",
       "        <td>5</td>\n",
       "        <td>CREATE TABLE seller(<br>    seller_id       char(5) not null,<br>    name            varchar(20),<br>    address         varchar(20),<br>    tel             char(11),<br>    primary key(seller_id)<br>)</td>\n",
       "    </tr>\n",
       "    <tr>\n",
       "        <td>index</td>\n",
       "        <td>sqlite_autoindex_seller_1</td>\n",
       "        <td>seller</td>\n",
       "        <td>6</td>\n",
       "        <td>None</td>\n",
       "    </tr>\n",
       "    <tr>\n",
       "        <td>table</td>\n",
       "        <td>storage</td>\n",
       "        <td>storage</td>\n",
       "        <td>7</td>\n",
       "        <td>CREATE TABLE storage(<br>    storage_num     char(5) not null,<br>    address         varcher(20),<br>    tel             char(11),<br>    primary key(storage_num)<br>)</td>\n",
       "    </tr>\n",
       "    <tr>\n",
       "        <td>index</td>\n",
       "        <td>sqlite_autoindex_storage_1</td>\n",
       "        <td>storage</td>\n",
       "        <td>8</td>\n",
       "        <td>None</td>\n",
       "    </tr>\n",
       "    <tr>\n",
       "        <td>table</td>\n",
       "        <td>product</td>\n",
       "        <td>product</td>\n",
       "        <td>9</td>\n",
       "        <td>CREATE TABLE product(<br>    product_id      char(5) not null,<br>    name            varchar(20),<br>    brand           varchar(20),<br>    size            varchar(5),<br>    color           varchar(10),<br>    stock           numeric(7,0),<br>    price           numeric(6,0),<br>    storage_num     char(5) not null,<br>    primary key(product_id),<br>    foreign key(storage_num) references storage<br>)</td>\n",
       "    </tr>\n",
       "    <tr>\n",
       "        <td>index</td>\n",
       "        <td>sqlite_autoindex_product_1</td>\n",
       "        <td>product</td>\n",
       "        <td>10</td>\n",
       "        <td>None</td>\n",
       "    </tr>\n",
       "    <tr>\n",
       "        <td>table</td>\n",
       "        <td>ordered_goods</td>\n",
       "        <td>ordered_goods</td>\n",
       "        <td>11</td>\n",
       "        <td>CREATE TABLE ordered_goods(<br>    order_num       char(5) not null,<br>    date            char(6),<br>    payment_status  char(1),<br>    customer_id     char(5) not null,<br>    primary key(order_num),<br>    foreign key(customer_id) references customer<br>)</td>\n",
       "    </tr>\n",
       "    <tr>\n",
       "        <td>index</td>\n",
       "        <td>sqlite_autoindex_ordered_goods_1</td>\n",
       "        <td>ordered_goods</td>\n",
       "        <td>3</td>\n",
       "        <td>None</td>\n",
       "    </tr>\n",
       "</table>"
      ],
      "text/plain": [
       "[('table', 'customer', 'customer', 2, 'CREATE TABLE customer( customer_id     char(5) not null,\\n    name            varchar(20),\\n    address         varchar(20),\\n    tel             char(11),\\n    email           varchar(30),\\n    personal_num    char(13) not null,\\n    zip_code        char(5),\\n    primary key(customer_id)\\n)'),\n",
       " ('index', 'sqlite_autoindex_customer_1', 'customer', 4, None),\n",
       " ('table', 'seller', 'seller', 5, 'CREATE TABLE seller(\\n    seller_id       char(5) not null,\\n    name            varchar(20),\\n    address         varchar(20),\\n    tel             char(11),\\n    primary key(seller_id)\\n)'),\n",
       " ('index', 'sqlite_autoindex_seller_1', 'seller', 6, None),\n",
       " ('table', 'storage', 'storage', 7, 'CREATE TABLE storage(\\n    storage_num     char(5) not null,\\n    address         varcher(20),\\n    tel             char(11),\\n    primary key(storage_num)\\n)'),\n",
       " ('index', 'sqlite_autoindex_storage_1', 'storage', 8, None),\n",
       " ('table', 'product', 'product', 9, 'CREATE TABLE product(\\n    product_id      char(5) not null,\\n    name            varchar(20),\\n    brand           varchar(20),\\n    size            ... (88 characters truncated) ... rice           numeric(6,0),\\n    storage_num     char(5) not null,\\n    primary key(product_id),\\n    foreign key(storage_num) references storage\\n)'),\n",
       " ('index', 'sqlite_autoindex_product_1', 'product', 10, None),\n",
       " ('table', 'ordered_goods', 'ordered_goods', 11, 'CREATE TABLE ordered_goods(\\n    order_num       char(5) not null,\\n    date            char(6),\\n    payment_status  char(1),\\n    customer_id     char(5) not null,\\n    primary key(order_num),\\n    foreign key(customer_id) references customer\\n)'),\n",
       " ('index', 'sqlite_autoindex_ordered_goods_1', 'ordered_goods', 3, None)]"
      ]
     },
     "execution_count": 67,
     "metadata": {},
     "output_type": "execute_result"
    }
   ],
   "source": [
    "%sql select * from sqlite_master"
   ]
  },
  {
   "cell_type": "code",
   "execution_count": 68,
   "metadata": {},
   "outputs": [
    {
     "name": "stdout",
     "output_type": "stream",
     "text": [
      " * sqlite:///shopingmall.db\n",
      "1 rows affected.\n",
      "1 rows affected.\n",
      "1 rows affected.\n",
      "1 rows affected.\n"
     ]
    },
    {
     "data": {
      "text/plain": [
       "[]"
      ]
     },
     "execution_count": 68,
     "metadata": {},
     "output_type": "execute_result"
    }
   ],
   "source": [
    "%%sql\n",
    "insert into customer values('38293', 'Alice', 'New York', '01012345678', 'qwer@naver.com', '9909092017213', '61005');\n",
    "insert into customer values('93886', 'Brian', 'Washington', '01023456789', 'wert@google.com', '8808081010102', '13579');\n",
    "insert into customer values('48026', 'Chris', 'LA', '01034567890', 'erty@naver.com', '770707102345','61005');\n",
    "insert into customer values('73829', 'Diana', 'Boston', '01045678901', 'rtyu@google.com','000101201234','93725');"
   ]
  },
  {
   "cell_type": "code",
   "execution_count": 69,
   "metadata": {},
   "outputs": [
    {
     "name": "stdout",
     "output_type": "stream",
     "text": [
      " * sqlite:///shopingmall.db\n",
      "Done.\n"
     ]
    },
    {
     "data": {
      "text/html": [
       "<table>\n",
       "    <tr>\n",
       "        <th>customer_id</th>\n",
       "        <th>name</th>\n",
       "        <th>address</th>\n",
       "        <th>tel</th>\n",
       "        <th>email</th>\n",
       "        <th>personal_num</th>\n",
       "        <th>zip_code</th>\n",
       "    </tr>\n",
       "    <tr>\n",
       "        <td>38293</td>\n",
       "        <td>Alice</td>\n",
       "        <td>New York</td>\n",
       "        <td>01012345678</td>\n",
       "        <td>qwer@naver.com</td>\n",
       "        <td>9909092017213</td>\n",
       "        <td>61005</td>\n",
       "    </tr>\n",
       "    <tr>\n",
       "        <td>93886</td>\n",
       "        <td>Brian</td>\n",
       "        <td>Washington</td>\n",
       "        <td>01023456789</td>\n",
       "        <td>wert@google.com</td>\n",
       "        <td>8808081010102</td>\n",
       "        <td>13579</td>\n",
       "    </tr>\n",
       "    <tr>\n",
       "        <td>48026</td>\n",
       "        <td>Chris</td>\n",
       "        <td>LA</td>\n",
       "        <td>01034567890</td>\n",
       "        <td>erty@naver.com</td>\n",
       "        <td>770707102345</td>\n",
       "        <td>61005</td>\n",
       "    </tr>\n",
       "    <tr>\n",
       "        <td>73829</td>\n",
       "        <td>Diana</td>\n",
       "        <td>Boston</td>\n",
       "        <td>01045678901</td>\n",
       "        <td>rtyu@google.com</td>\n",
       "        <td>000101201234</td>\n",
       "        <td>93725</td>\n",
       "    </tr>\n",
       "</table>"
      ],
      "text/plain": [
       "[('38293', 'Alice', 'New York', '01012345678', 'qwer@naver.com', '9909092017213', '61005'),\n",
       " ('93886', 'Brian', 'Washington', '01023456789', 'wert@google.com', '8808081010102', '13579'),\n",
       " ('48026', 'Chris', 'LA', '01034567890', 'erty@naver.com', '770707102345', '61005'),\n",
       " ('73829', 'Diana', 'Boston', '01045678901', 'rtyu@google.com', '000101201234', '93725')]"
      ]
     },
     "execution_count": 69,
     "metadata": {},
     "output_type": "execute_result"
    }
   ],
   "source": [
    "%sql select * from customer;"
   ]
  },
  {
   "cell_type": "code",
   "execution_count": 70,
   "metadata": {},
   "outputs": [
    {
     "name": "stdout",
     "output_type": "stream",
     "text": [
      " * sqlite:///shopingmall.db\n",
      "1 rows affected.\n",
      "1 rows affected.\n",
      "1 rows affected.\n"
     ]
    },
    {
     "data": {
      "text/plain": [
       "[]"
      ]
     },
     "execution_count": 70,
     "metadata": {},
     "output_type": "execute_result"
    }
   ],
   "source": [
    "%%sql\n",
    "insert into seller values('12345','Apeach Mart', 'San Francisco', '41512345678');\n",
    "insert into seller values('13579','Bare Bear Bros', 'Otawa', '61323456789');\n",
    "insert into seller values('24680','Choonsik Shop', 'Seoul', '0234567890');"
   ]
  },
  {
   "cell_type": "code",
   "execution_count": 71,
   "metadata": {},
   "outputs": [
    {
     "name": "stdout",
     "output_type": "stream",
     "text": [
      " * sqlite:///shopingmall.db\n",
      "Done.\n"
     ]
    },
    {
     "data": {
      "text/html": [
       "<table>\n",
       "    <tr>\n",
       "        <th>seller_id</th>\n",
       "        <th>name</th>\n",
       "        <th>address</th>\n",
       "        <th>tel</th>\n",
       "    </tr>\n",
       "    <tr>\n",
       "        <td>12345</td>\n",
       "        <td>Apeach Mart</td>\n",
       "        <td>San Francisco</td>\n",
       "        <td>41512345678</td>\n",
       "    </tr>\n",
       "    <tr>\n",
       "        <td>13579</td>\n",
       "        <td>Bare Bear Bros</td>\n",
       "        <td>Otawa</td>\n",
       "        <td>61323456789</td>\n",
       "    </tr>\n",
       "    <tr>\n",
       "        <td>24680</td>\n",
       "        <td>Choonsik Shop</td>\n",
       "        <td>Seoul</td>\n",
       "        <td>0234567890</td>\n",
       "    </tr>\n",
       "</table>"
      ],
      "text/plain": [
       "[('12345', 'Apeach Mart', 'San Francisco', '41512345678'),\n",
       " ('13579', 'Bare Bear Bros', 'Otawa', '61323456789'),\n",
       " ('24680', 'Choonsik Shop', 'Seoul', '0234567890')]"
      ]
     },
     "execution_count": 71,
     "metadata": {},
     "output_type": "execute_result"
    }
   ],
   "source": [
    "%sql select * from seller;"
   ]
  },
  {
   "cell_type": "code",
   "execution_count": 72,
   "metadata": {},
   "outputs": [
    {
     "name": "stdout",
     "output_type": "stream",
     "text": [
      " * sqlite:///shopingmall.db\n",
      "1 rows affected.\n",
      "1 rows affected.\n",
      "1 rows affected.\n"
     ]
    },
    {
     "data": {
      "text/plain": [
       "[]"
      ]
     },
     "execution_count": 72,
     "metadata": {},
     "output_type": "execute_result"
    }
   ],
   "source": [
    "%%sql\n",
    "insert into storage values('11111','Seoul','0234567890');\n",
    "insert into storage values('22222','San Francisco','41512345678');\n",
    "insert into storage values('33333','Otawa','61323456789');"
   ]
  },
  {
   "cell_type": "code",
   "execution_count": 73,
   "metadata": {},
   "outputs": [
    {
     "name": "stdout",
     "output_type": "stream",
     "text": [
      " * sqlite:///shopingmall.db\n",
      "Done.\n"
     ]
    },
    {
     "data": {
      "text/html": [
       "<table>\n",
       "    <tr>\n",
       "        <th>storage_num</th>\n",
       "        <th>address</th>\n",
       "        <th>tel</th>\n",
       "    </tr>\n",
       "    <tr>\n",
       "        <td>11111</td>\n",
       "        <td>Seoul</td>\n",
       "        <td>0234567890</td>\n",
       "    </tr>\n",
       "    <tr>\n",
       "        <td>22222</td>\n",
       "        <td>San Francisco</td>\n",
       "        <td>41512345678</td>\n",
       "    </tr>\n",
       "    <tr>\n",
       "        <td>33333</td>\n",
       "        <td>Otawa</td>\n",
       "        <td>61323456789</td>\n",
       "    </tr>\n",
       "</table>"
      ],
      "text/plain": [
       "[('11111', 'Seoul', '0234567890'),\n",
       " ('22222', 'San Francisco', '41512345678'),\n",
       " ('33333', 'Otawa', '61323456789')]"
      ]
     },
     "execution_count": 73,
     "metadata": {},
     "output_type": "execute_result"
    }
   ],
   "source": [
    "%sql select * from storage;"
   ]
  },
  {
   "cell_type": "code",
   "execution_count": 74,
   "metadata": {},
   "outputs": [
    {
     "name": "stdout",
     "output_type": "stream",
     "text": [
      " * sqlite:///shopingmall.db\n",
      "1 rows affected.\n",
      "1 rows affected.\n",
      "1 rows affected.\n",
      "1 rows affected.\n"
     ]
    },
    {
     "data": {
      "text/plain": [
       "[]"
      ]
     },
     "execution_count": 74,
     "metadata": {},
     "output_type": "execute_result"
    }
   ],
   "source": [
    "%%sql\n",
    "insert into product values('01010','Anonymous mask','Anonymous','L','White','10000','12000','22222');\n",
    "insert into product values('02121','Buster','Ghost','XL','Black','1000','120000','33333');\n",
    "insert into product values('10132','Canon Shooter','Fortress','3XL','Blue','3000','300000','11111');\n",
    "insert into product values('23513','Dancing Cam',\"Let's Dance\",'S','White','100000','21000','22222');"
   ]
  },
  {
   "cell_type": "code",
   "execution_count": 75,
   "metadata": {},
   "outputs": [
    {
     "name": "stdout",
     "output_type": "stream",
     "text": [
      " * sqlite:///shopingmall.db\n",
      "Done.\n"
     ]
    },
    {
     "data": {
      "text/html": [
       "<table>\n",
       "    <tr>\n",
       "        <th>product_id</th>\n",
       "        <th>name</th>\n",
       "        <th>brand</th>\n",
       "        <th>size</th>\n",
       "        <th>color</th>\n",
       "        <th>stock</th>\n",
       "        <th>price</th>\n",
       "        <th>storage_num</th>\n",
       "    </tr>\n",
       "    <tr>\n",
       "        <td>01010</td>\n",
       "        <td>Anonymous mask</td>\n",
       "        <td>Anonymous</td>\n",
       "        <td>L</td>\n",
       "        <td>White</td>\n",
       "        <td>10000</td>\n",
       "        <td>12000</td>\n",
       "        <td>22222</td>\n",
       "    </tr>\n",
       "    <tr>\n",
       "        <td>02121</td>\n",
       "        <td>Buster</td>\n",
       "        <td>Ghost</td>\n",
       "        <td>XL</td>\n",
       "        <td>Black</td>\n",
       "        <td>1000</td>\n",
       "        <td>120000</td>\n",
       "        <td>33333</td>\n",
       "    </tr>\n",
       "    <tr>\n",
       "        <td>10132</td>\n",
       "        <td>Canon Shooter</td>\n",
       "        <td>Fortress</td>\n",
       "        <td>3XL</td>\n",
       "        <td>Blue</td>\n",
       "        <td>3000</td>\n",
       "        <td>300000</td>\n",
       "        <td>11111</td>\n",
       "    </tr>\n",
       "    <tr>\n",
       "        <td>23513</td>\n",
       "        <td>Dancing Cam</td>\n",
       "        <td>Let&#x27;s Dance</td>\n",
       "        <td>S</td>\n",
       "        <td>White</td>\n",
       "        <td>100000</td>\n",
       "        <td>21000</td>\n",
       "        <td>22222</td>\n",
       "    </tr>\n",
       "</table>"
      ],
      "text/plain": [
       "[('01010', 'Anonymous mask', 'Anonymous', 'L', 'White', 10000, 12000, '22222'),\n",
       " ('02121', 'Buster', 'Ghost', 'XL', 'Black', 1000, 120000, '33333'),\n",
       " ('10132', 'Canon Shooter', 'Fortress', '3XL', 'Blue', 3000, 300000, '11111'),\n",
       " ('23513', 'Dancing Cam', \"Let's Dance\", 'S', 'White', 100000, 21000, '22222')]"
      ]
     },
     "execution_count": 75,
     "metadata": {},
     "output_type": "execute_result"
    }
   ],
   "source": [
    "%sql select * from product;"
   ]
  },
  {
   "cell_type": "code",
   "execution_count": null,
   "metadata": {},
   "outputs": [],
   "source": [
    "%%sql\n",
    "insert into ordered_goods('505012','210505','Y','');"
   ]
  },
  {
   "cell_type": "code",
   "execution_count": 76,
   "metadata": {},
   "outputs": [
    {
     "name": "stdout",
     "output_type": "stream",
     "text": [
      " * sqlite:///shopingmall.db\n",
      "Done.\n"
     ]
    },
    {
     "data": {
      "text/html": [
       "<table>\n",
       "    <tr>\n",
       "        <th>order_num</th>\n",
       "        <th>date</th>\n",
       "        <th>payment_status</th>\n",
       "        <th>customer_id</th>\n",
       "    </tr>\n",
       "</table>"
      ],
      "text/plain": [
       "[]"
      ]
     },
     "execution_count": 76,
     "metadata": {},
     "output_type": "execute_result"
    }
   ],
   "source": [
    "%sql select * from ordered_goods;"
   ]
  },
  {
   "cell_type": "code",
   "execution_count": null,
   "metadata": {},
   "outputs": [],
   "source": []
  }
 ],
 "metadata": {
  "kernelspec": {
   "display_name": "Python 3",
   "language": "python",
   "name": "python3"
  },
  "language_info": {
   "codemirror_mode": {
    "name": "ipython",
    "version": 3
   },
   "file_extension": ".py",
   "mimetype": "text/x-python",
   "name": "python",
   "nbconvert_exporter": "python",
   "pygments_lexer": "ipython3",
   "version": "3.8.5"
  }
 },
 "nbformat": 4,
 "nbformat_minor": 4
}
