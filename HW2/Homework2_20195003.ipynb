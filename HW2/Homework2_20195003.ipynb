{
 "cells": [
  {
   "cell_type": "code",
   "execution_count": 45,
   "metadata": {},
   "outputs": [
    {
     "name": "stdout",
     "output_type": "stream",
     "text": [
      "The sql extension is already loaded. To reload it, use:\n",
      "  %reload_ext sql\n"
     ]
    }
   ],
   "source": [
    "%load_ext sql"
   ]
  },
  {
   "cell_type": "code",
   "execution_count": 46,
   "metadata": {},
   "outputs": [],
   "source": [
    "%sql sqlite:///shopingmall.db"
   ]
  },
  {
   "cell_type": "code",
   "execution_count": 47,
   "metadata": {},
   "outputs": [
    {
     "name": "stdout",
     "output_type": "stream",
     "text": [
      " * sqlite:///shopingmall.db\n",
      "Done.\n",
      "Done.\n",
      "Done.\n",
      "Done.\n",
      "Done.\n"
     ]
    },
    {
     "data": {
      "text/plain": [
       "[]"
      ]
     },
     "execution_count": 47,
     "metadata": {},
     "output_type": "execute_result"
    }
   ],
   "source": [
    "%%sql\n",
    "drop table Customer;\n",
    "drop table Seller;\n",
    "drop table Storage;\n",
    "drop table Product;\n",
    "drop table Ordered;"
   ]
  },
  {
   "cell_type": "code",
   "execution_count": 48,
   "metadata": {},
   "outputs": [
    {
     "name": "stdout",
     "output_type": "stream",
     "text": [
      " * sqlite:///shopingmall.db\n",
      "Done.\n",
      "Done.\n",
      "Done.\n",
      "Done.\n",
      "Done.\n"
     ]
    },
    {
     "data": {
      "text/plain": [
       "[]"
      ]
     },
     "execution_count": 48,
     "metadata": {},
     "output_type": "execute_result"
    }
   ],
   "source": [
    "%%sql\n",
    "create table Customer(\n",
    "    customer_id     char(5) not null,\n",
    "    name            varchar(20),\n",
    "    address         varchar(20),\n",
    "    tel             char(11),\n",
    "    email           varchar(30),\n",
    "    personal_num    char(13) not null,\n",
    "    zip_code        char(5),\n",
    "    primary key(customer_id)\n",
    ");\n",
    "\n",
    "create table Seller(\n",
    "    seller_id       char(5) not null,\n",
    "    name            varchar(20),\n",
    "    address         varchar(20),\n",
    "    tel             char(11),\n",
    "    primary key(seller_id)\n",
    ");\n",
    "\n",
    "create table Storage(\n",
    "    storage_num     char(5) not null,\n",
    "    address         varcher(20),\n",
    "    tel             char(11),\n",
    "    primary key(storage_num)\n",
    ");\n",
    "\n",
    "create table Product(\n",
    "    prod_id         char(5) not null,\n",
    "    name            varchar(20),\n",
    "    brand           varchar(20),\n",
    "    size            varchar(5),\n",
    "    color           varchar(10),\n",
    "    stock           numeric(7,0),\n",
    "    price           numeric(6,0),\n",
    "    storage_num     char(5) not null,\n",
    "    seller_id       char(5) not null,\n",
    "    primary key(prod_id),\n",
    "    foreign key(storage_num) references Storage,\n",
    "    foreign key(seller_id) references Seller\n",
    ");\n",
    "\n",
    "create table Ordered(\n",
    "    order_num       char(5) not null,\n",
    "    date            char(6),\n",
    "    prod_id         char(5) not null,\n",
    "    count           numeric(3,0) not null,\n",
    "    price           numeric(6,0),\n",
    "    payment_status  char(1),\n",
    "    customer_id     char(5) not null,\n",
    "    deliver_status  char(1),\n",
    "    primary key(order_num),\n",
    "    foreign key(customer_id) references Customer,\n",
    "    foreign key(price) references Product\n",
    ");"
   ]
  },
  {
   "cell_type": "code",
   "execution_count": 49,
   "metadata": {},
   "outputs": [
    {
     "name": "stdout",
     "output_type": "stream",
     "text": [
      " * sqlite:///shopingmall.db\n",
      "Done.\n"
     ]
    },
    {
     "data": {
      "text/html": [
       "<table>\n",
       "    <tr>\n",
       "        <th>type</th>\n",
       "        <th>name</th>\n",
       "        <th>tbl_name</th>\n",
       "        <th>rootpage</th>\n",
       "        <th>sql</th>\n",
       "    </tr>\n",
       "    <tr>\n",
       "        <td>table</td>\n",
       "        <td>Customer</td>\n",
       "        <td>Customer</td>\n",
       "        <td>2</td>\n",
       "        <td>CREATE TABLE Customer( customer_id     char(5) not null,<br>    name            varchar(20),<br>    address         varchar(20),<br>    tel             char(11),<br>    email           varchar(30),<br>    personal_num    char(13) not null,<br>    zip_code        char(5),<br>    primary key(customer_id)<br>)</td>\n",
       "    </tr>\n",
       "    <tr>\n",
       "        <td>index</td>\n",
       "        <td>sqlite_autoindex_Customer_1</td>\n",
       "        <td>Customer</td>\n",
       "        <td>4</td>\n",
       "        <td>None</td>\n",
       "    </tr>\n",
       "    <tr>\n",
       "        <td>table</td>\n",
       "        <td>Seller</td>\n",
       "        <td>Seller</td>\n",
       "        <td>5</td>\n",
       "        <td>CREATE TABLE Seller(<br>    seller_id       char(5) not null,<br>    name            varchar(20),<br>    address         varchar(20),<br>    tel             char(11),<br>    primary key(seller_id)<br>)</td>\n",
       "    </tr>\n",
       "    <tr>\n",
       "        <td>index</td>\n",
       "        <td>sqlite_autoindex_Seller_1</td>\n",
       "        <td>Seller</td>\n",
       "        <td>6</td>\n",
       "        <td>None</td>\n",
       "    </tr>\n",
       "    <tr>\n",
       "        <td>table</td>\n",
       "        <td>Storage</td>\n",
       "        <td>Storage</td>\n",
       "        <td>7</td>\n",
       "        <td>CREATE TABLE Storage(<br>    storage_num     char(5) not null,<br>    address         varcher(20),<br>    tel             char(11),<br>    primary key(storage_num)<br>)</td>\n",
       "    </tr>\n",
       "    <tr>\n",
       "        <td>index</td>\n",
       "        <td>sqlite_autoindex_Storage_1</td>\n",
       "        <td>Storage</td>\n",
       "        <td>8</td>\n",
       "        <td>None</td>\n",
       "    </tr>\n",
       "    <tr>\n",
       "        <td>table</td>\n",
       "        <td>Product</td>\n",
       "        <td>Product</td>\n",
       "        <td>9</td>\n",
       "        <td>CREATE TABLE Product(<br>    prod_id         char(5) not null,<br>    name            varchar(20),<br>    brand           varchar(20),<br>    size            varchar(5),<br>    color           varchar(10),<br>    stock           numeric(7,0),<br>    price           numeric(6,0),<br>    storage_num     char(5) not null,<br>    seller_id       char(5) not null,<br>    primary key(prod_id),<br>    foreign key(storage_num) references Storage,<br>    foreign key(seller_id) references Seller<br>)</td>\n",
       "    </tr>\n",
       "    <tr>\n",
       "        <td>index</td>\n",
       "        <td>sqlite_autoindex_Product_1</td>\n",
       "        <td>Product</td>\n",
       "        <td>10</td>\n",
       "        <td>None</td>\n",
       "    </tr>\n",
       "    <tr>\n",
       "        <td>table</td>\n",
       "        <td>Ordered</td>\n",
       "        <td>Ordered</td>\n",
       "        <td>13</td>\n",
       "        <td>CREATE TABLE Ordered(<br>    order_num       char(5) not null,<br>    date            char(6),<br>    prod_id         char(5) not null,<br>    count           numeric(3,0) not null,<br>    price           numeric(6,0),<br>    payment_status  char(1),<br>    customer_id     char(5) not null,<br>    deliver_status  char(1),<br>    primary key(order_num),<br>    foreign key(customer_id) references Customer,<br>    foreign key(price) references Product<br>)</td>\n",
       "    </tr>\n",
       "    <tr>\n",
       "        <td>index</td>\n",
       "        <td>sqlite_autoindex_Ordered_1</td>\n",
       "        <td>Ordered</td>\n",
       "        <td>14</td>\n",
       "        <td>None</td>\n",
       "    </tr>\n",
       "</table>"
      ],
      "text/plain": [
       "[('table', 'Customer', 'Customer', 2, 'CREATE TABLE Customer( customer_id     char(5) not null,\\n    name            varchar(20),\\n    address         varchar(20),\\n    tel             char(11),\\n    email           varchar(30),\\n    personal_num    char(13) not null,\\n    zip_code        char(5),\\n    primary key(customer_id)\\n)'),\n",
       " ('index', 'sqlite_autoindex_Customer_1', 'Customer', 4, None),\n",
       " ('table', 'Seller', 'Seller', 5, 'CREATE TABLE Seller(\\n    seller_id       char(5) not null,\\n    name            varchar(20),\\n    address         varchar(20),\\n    tel             char(11),\\n    primary key(seller_id)\\n)'),\n",
       " ('index', 'sqlite_autoindex_Seller_1', 'Seller', 6, None),\n",
       " ('table', 'Storage', 'Storage', 7, 'CREATE TABLE Storage(\\n    storage_num     char(5) not null,\\n    address         varcher(20),\\n    tel             char(11),\\n    primary key(storage_num)\\n)'),\n",
       " ('index', 'sqlite_autoindex_Storage_1', 'Storage', 8, None),\n",
       " ('table', 'Product', 'Product', 9, 'CREATE TABLE Product(\\n    prod_id         char(5) not null,\\n    name            varchar(20),\\n    brand           varchar(20),\\n    size            ... (171 characters truncated) ...       char(5) not null,\\n    primary key(prod_id),\\n    foreign key(storage_num) references Storage,\\n    foreign key(seller_id) references Seller\\n)'),\n",
       " ('index', 'sqlite_autoindex_Product_1', 'Product', 10, None),\n",
       " ('table', 'Ordered', 'Ordered', 13, 'CREATE TABLE Ordered(\\n    order_num       char(5) not null,\\n    date            char(6),\\n    prod_id         char(5) not null,\\n    count          ... (135 characters truncated) ... eliver_status  char(1),\\n    primary key(order_num),\\n    foreign key(customer_id) references Customer,\\n    foreign key(price) references Product\\n)'),\n",
       " ('index', 'sqlite_autoindex_Ordered_1', 'Ordered', 14, None)]"
      ]
     },
     "execution_count": 49,
     "metadata": {},
     "output_type": "execute_result"
    }
   ],
   "source": [
    "%sql select * from sqlite_master"
   ]
  },
  {
   "cell_type": "code",
   "execution_count": 50,
   "metadata": {},
   "outputs": [
    {
     "name": "stdout",
     "output_type": "stream",
     "text": [
      " * sqlite:///shopingmall.db\n",
      "1 rows affected.\n",
      "1 rows affected.\n",
      "1 rows affected.\n",
      "1 rows affected.\n"
     ]
    },
    {
     "data": {
      "text/plain": [
       "[]"
      ]
     },
     "execution_count": 50,
     "metadata": {},
     "output_type": "execute_result"
    }
   ],
   "source": [
    "%%sql\n",
    "insert into Customer values('38293', 'Alice', 'New York', '01012345678', 'qwer@naver.com', '9909092017213', '61005');\n",
    "insert into Customer values('93886', 'Brian', 'Washington', '01023456789', 'wert@google.com', '8808081010102', '13579');\n",
    "insert into Customer values('48026', 'Chris', 'LA', '01034567890', 'erty@naver.com', '770707102345','61005');\n",
    "insert into Customer values('73829', 'Diana', 'Boston', '01045678901', 'rtyu@google.com','000101201234','93725');"
   ]
  },
  {
   "cell_type": "code",
   "execution_count": 51,
   "metadata": {},
   "outputs": [
    {
     "name": "stdout",
     "output_type": "stream",
     "text": [
      " * sqlite:///shopingmall.db\n",
      "Done.\n"
     ]
    },
    {
     "data": {
      "text/html": [
       "<table>\n",
       "    <tr>\n",
       "        <th>customer_id</th>\n",
       "        <th>name</th>\n",
       "        <th>address</th>\n",
       "        <th>tel</th>\n",
       "        <th>email</th>\n",
       "        <th>personal_num</th>\n",
       "        <th>zip_code</th>\n",
       "    </tr>\n",
       "    <tr>\n",
       "        <td>38293</td>\n",
       "        <td>Alice</td>\n",
       "        <td>New York</td>\n",
       "        <td>01012345678</td>\n",
       "        <td>qwer@naver.com</td>\n",
       "        <td>9909092017213</td>\n",
       "        <td>61005</td>\n",
       "    </tr>\n",
       "    <tr>\n",
       "        <td>93886</td>\n",
       "        <td>Brian</td>\n",
       "        <td>Washington</td>\n",
       "        <td>01023456789</td>\n",
       "        <td>wert@google.com</td>\n",
       "        <td>8808081010102</td>\n",
       "        <td>13579</td>\n",
       "    </tr>\n",
       "    <tr>\n",
       "        <td>48026</td>\n",
       "        <td>Chris</td>\n",
       "        <td>LA</td>\n",
       "        <td>01034567890</td>\n",
       "        <td>erty@naver.com</td>\n",
       "        <td>770707102345</td>\n",
       "        <td>61005</td>\n",
       "    </tr>\n",
       "    <tr>\n",
       "        <td>73829</td>\n",
       "        <td>Diana</td>\n",
       "        <td>Boston</td>\n",
       "        <td>01045678901</td>\n",
       "        <td>rtyu@google.com</td>\n",
       "        <td>000101201234</td>\n",
       "        <td>93725</td>\n",
       "    </tr>\n",
       "</table>"
      ],
      "text/plain": [
       "[('38293', 'Alice', 'New York', '01012345678', 'qwer@naver.com', '9909092017213', '61005'),\n",
       " ('93886', 'Brian', 'Washington', '01023456789', 'wert@google.com', '8808081010102', '13579'),\n",
       " ('48026', 'Chris', 'LA', '01034567890', 'erty@naver.com', '770707102345', '61005'),\n",
       " ('73829', 'Diana', 'Boston', '01045678901', 'rtyu@google.com', '000101201234', '93725')]"
      ]
     },
     "execution_count": 51,
     "metadata": {},
     "output_type": "execute_result"
    }
   ],
   "source": [
    "%sql select * from customer;"
   ]
  },
  {
   "cell_type": "code",
   "execution_count": 52,
   "metadata": {},
   "outputs": [
    {
     "name": "stdout",
     "output_type": "stream",
     "text": [
      " * sqlite:///shopingmall.db\n",
      "1 rows affected.\n",
      "1 rows affected.\n",
      "1 rows affected.\n"
     ]
    },
    {
     "data": {
      "text/plain": [
       "[]"
      ]
     },
     "execution_count": 52,
     "metadata": {},
     "output_type": "execute_result"
    }
   ],
   "source": [
    "%%sql\n",
    "insert into Seller values('12345','Apeach Mart', 'San Francisco', '41512345678');\n",
    "insert into Seller values('13579','Bare Bear Bros', 'Otawa', '61323456789');\n",
    "insert into Seller values('24680','Choonsik Shop', 'Seoul', '0234567890');"
   ]
  },
  {
   "cell_type": "code",
   "execution_count": 53,
   "metadata": {},
   "outputs": [
    {
     "name": "stdout",
     "output_type": "stream",
     "text": [
      " * sqlite:///shopingmall.db\n",
      "Done.\n"
     ]
    },
    {
     "data": {
      "text/html": [
       "<table>\n",
       "    <tr>\n",
       "        <th>seller_id</th>\n",
       "        <th>name</th>\n",
       "        <th>address</th>\n",
       "        <th>tel</th>\n",
       "    </tr>\n",
       "    <tr>\n",
       "        <td>12345</td>\n",
       "        <td>Apeach Mart</td>\n",
       "        <td>San Francisco</td>\n",
       "        <td>41512345678</td>\n",
       "    </tr>\n",
       "    <tr>\n",
       "        <td>13579</td>\n",
       "        <td>Bare Bear Bros</td>\n",
       "        <td>Otawa</td>\n",
       "        <td>61323456789</td>\n",
       "    </tr>\n",
       "    <tr>\n",
       "        <td>24680</td>\n",
       "        <td>Choonsik Shop</td>\n",
       "        <td>Seoul</td>\n",
       "        <td>0234567890</td>\n",
       "    </tr>\n",
       "</table>"
      ],
      "text/plain": [
       "[('12345', 'Apeach Mart', 'San Francisco', '41512345678'),\n",
       " ('13579', 'Bare Bear Bros', 'Otawa', '61323456789'),\n",
       " ('24680', 'Choonsik Shop', 'Seoul', '0234567890')]"
      ]
     },
     "execution_count": 53,
     "metadata": {},
     "output_type": "execute_result"
    }
   ],
   "source": [
    "%sql select * from seller;"
   ]
  },
  {
   "cell_type": "code",
   "execution_count": 54,
   "metadata": {},
   "outputs": [
    {
     "name": "stdout",
     "output_type": "stream",
     "text": [
      " * sqlite:///shopingmall.db\n",
      "1 rows affected.\n",
      "1 rows affected.\n",
      "1 rows affected.\n"
     ]
    },
    {
     "data": {
      "text/plain": [
       "[]"
      ]
     },
     "execution_count": 54,
     "metadata": {},
     "output_type": "execute_result"
    }
   ],
   "source": [
    "%%sql\n",
    "insert into Storage values('11111','Seoul','0234567890');\n",
    "insert into Storage values('22222','San Francisco','41512345678');\n",
    "insert into Storage values('33333','Otawa','61323456789');"
   ]
  },
  {
   "cell_type": "code",
   "execution_count": 55,
   "metadata": {},
   "outputs": [
    {
     "name": "stdout",
     "output_type": "stream",
     "text": [
      " * sqlite:///shopingmall.db\n",
      "Done.\n"
     ]
    },
    {
     "data": {
      "text/html": [
       "<table>\n",
       "    <tr>\n",
       "        <th>storage_num</th>\n",
       "        <th>address</th>\n",
       "        <th>tel</th>\n",
       "    </tr>\n",
       "    <tr>\n",
       "        <td>11111</td>\n",
       "        <td>Seoul</td>\n",
       "        <td>0234567890</td>\n",
       "    </tr>\n",
       "    <tr>\n",
       "        <td>22222</td>\n",
       "        <td>San Francisco</td>\n",
       "        <td>41512345678</td>\n",
       "    </tr>\n",
       "    <tr>\n",
       "        <td>33333</td>\n",
       "        <td>Otawa</td>\n",
       "        <td>61323456789</td>\n",
       "    </tr>\n",
       "</table>"
      ],
      "text/plain": [
       "[('11111', 'Seoul', '0234567890'),\n",
       " ('22222', 'San Francisco', '41512345678'),\n",
       " ('33333', 'Otawa', '61323456789')]"
      ]
     },
     "execution_count": 55,
     "metadata": {},
     "output_type": "execute_result"
    }
   ],
   "source": [
    "%sql select * from storage;"
   ]
  },
  {
   "cell_type": "code",
   "execution_count": 56,
   "metadata": {},
   "outputs": [
    {
     "name": "stdout",
     "output_type": "stream",
     "text": [
      " * sqlite:///shopingmall.db\n",
      "1 rows affected.\n",
      "1 rows affected.\n",
      "1 rows affected.\n",
      "1 rows affected.\n"
     ]
    },
    {
     "data": {
      "text/plain": [
       "[]"
      ]
     },
     "execution_count": 56,
     "metadata": {},
     "output_type": "execute_result"
    }
   ],
   "source": [
    "%%sql\n",
    "insert into Product values('01010','Anonymous mask','Anonymous','L','White','10000','12000','22222','13579');\n",
    "insert into Product values('02121','Buster','Ghost','XL','Black','1000','120000','33333','12345');\n",
    "insert into Product values('10132','Canon Shooter','Fortress','3XL','Blue','3000','300000','11111','12345');\n",
    "insert into Product values('23513','Dancing Cam',\"Let's Dance\",'S','White','100000','21000','22222','24680');"
   ]
  },
  {
   "cell_type": "code",
   "execution_count": 57,
   "metadata": {},
   "outputs": [
    {
     "name": "stdout",
     "output_type": "stream",
     "text": [
      " * sqlite:///shopingmall.db\n",
      "Done.\n"
     ]
    },
    {
     "data": {
      "text/html": [
       "<table>\n",
       "    <tr>\n",
       "        <th>prod_id</th>\n",
       "        <th>name</th>\n",
       "        <th>brand</th>\n",
       "        <th>size</th>\n",
       "        <th>color</th>\n",
       "        <th>stock</th>\n",
       "        <th>price</th>\n",
       "        <th>storage_num</th>\n",
       "        <th>seller_id</th>\n",
       "    </tr>\n",
       "    <tr>\n",
       "        <td>01010</td>\n",
       "        <td>Anonymous mask</td>\n",
       "        <td>Anonymous</td>\n",
       "        <td>L</td>\n",
       "        <td>White</td>\n",
       "        <td>10000</td>\n",
       "        <td>12000</td>\n",
       "        <td>22222</td>\n",
       "        <td>13579</td>\n",
       "    </tr>\n",
       "    <tr>\n",
       "        <td>02121</td>\n",
       "        <td>Buster</td>\n",
       "        <td>Ghost</td>\n",
       "        <td>XL</td>\n",
       "        <td>Black</td>\n",
       "        <td>1000</td>\n",
       "        <td>120000</td>\n",
       "        <td>33333</td>\n",
       "        <td>12345</td>\n",
       "    </tr>\n",
       "    <tr>\n",
       "        <td>10132</td>\n",
       "        <td>Canon Shooter</td>\n",
       "        <td>Fortress</td>\n",
       "        <td>3XL</td>\n",
       "        <td>Blue</td>\n",
       "        <td>3000</td>\n",
       "        <td>300000</td>\n",
       "        <td>11111</td>\n",
       "        <td>12345</td>\n",
       "    </tr>\n",
       "    <tr>\n",
       "        <td>23513</td>\n",
       "        <td>Dancing Cam</td>\n",
       "        <td>Let&#x27;s Dance</td>\n",
       "        <td>S</td>\n",
       "        <td>White</td>\n",
       "        <td>100000</td>\n",
       "        <td>21000</td>\n",
       "        <td>22222</td>\n",
       "        <td>24680</td>\n",
       "    </tr>\n",
       "</table>"
      ],
      "text/plain": [
       "[('01010', 'Anonymous mask', 'Anonymous', 'L', 'White', 10000, 12000, '22222', '13579'),\n",
       " ('02121', 'Buster', 'Ghost', 'XL', 'Black', 1000, 120000, '33333', '12345'),\n",
       " ('10132', 'Canon Shooter', 'Fortress', '3XL', 'Blue', 3000, 300000, '11111', '12345'),\n",
       " ('23513', 'Dancing Cam', \"Let's Dance\", 'S', 'White', 100000, 21000, '22222', '24680')]"
      ]
     },
     "execution_count": 57,
     "metadata": {},
     "output_type": "execute_result"
    }
   ],
   "source": [
    "%sql select * from product;"
   ]
  },
  {
   "cell_type": "code",
   "execution_count": 58,
   "metadata": {},
   "outputs": [
    {
     "name": "stdout",
     "output_type": "stream",
     "text": [
      " * sqlite:///shopingmall.db\n",
      "1 rows affected.\n",
      "1 rows affected.\n",
      "1 rows affected.\n",
      "1 rows affected.\n"
     ]
    },
    {
     "data": {
      "text/plain": [
       "[]"
      ]
     },
     "execution_count": 58,
     "metadata": {},
     "output_type": "execute_result"
    }
   ],
   "source": [
    "%%sql\n",
    "insert into Ordered values('505012','210501', '02121', '1','120000','Y','93886','Y');\n",
    "insert into Ordered values('505010','210425', '10132', '1','300000','N','93886','N');\n",
    "insert into Ordered values('505014','210504', '01010', '5','12000','Y','48026','N');\n",
    "insert into Ordered values('505017','210505', '23513', '2','21000','Y','73829','Y');"
   ]
  },
  {
   "cell_type": "code",
   "execution_count": 59,
   "metadata": {},
   "outputs": [
    {
     "name": "stdout",
     "output_type": "stream",
     "text": [
      " * sqlite:///shopingmall.db\n",
      "Done.\n"
     ]
    },
    {
     "data": {
      "text/html": [
       "<table>\n",
       "    <tr>\n",
       "        <th>order_num</th>\n",
       "        <th>date</th>\n",
       "        <th>prod_id</th>\n",
       "        <th>count</th>\n",
       "        <th>price</th>\n",
       "        <th>payment_status</th>\n",
       "        <th>customer_id</th>\n",
       "        <th>deliver_status</th>\n",
       "    </tr>\n",
       "    <tr>\n",
       "        <td>505012</td>\n",
       "        <td>210501</td>\n",
       "        <td>02121</td>\n",
       "        <td>1</td>\n",
       "        <td>120000</td>\n",
       "        <td>Y</td>\n",
       "        <td>93886</td>\n",
       "        <td>Y</td>\n",
       "    </tr>\n",
       "    <tr>\n",
       "        <td>505010</td>\n",
       "        <td>210425</td>\n",
       "        <td>10132</td>\n",
       "        <td>1</td>\n",
       "        <td>300000</td>\n",
       "        <td>N</td>\n",
       "        <td>93886</td>\n",
       "        <td>N</td>\n",
       "    </tr>\n",
       "    <tr>\n",
       "        <td>505014</td>\n",
       "        <td>210504</td>\n",
       "        <td>01010</td>\n",
       "        <td>5</td>\n",
       "        <td>12000</td>\n",
       "        <td>Y</td>\n",
       "        <td>48026</td>\n",
       "        <td>N</td>\n",
       "    </tr>\n",
       "    <tr>\n",
       "        <td>505017</td>\n",
       "        <td>210505</td>\n",
       "        <td>23513</td>\n",
       "        <td>2</td>\n",
       "        <td>21000</td>\n",
       "        <td>Y</td>\n",
       "        <td>73829</td>\n",
       "        <td>Y</td>\n",
       "    </tr>\n",
       "</table>"
      ],
      "text/plain": [
       "[('505012', '210501', '02121', 1, 120000, 'Y', '93886', 'Y'),\n",
       " ('505010', '210425', '10132', 1, 300000, 'N', '93886', 'N'),\n",
       " ('505014', '210504', '01010', 5, 12000, 'Y', '48026', 'N'),\n",
       " ('505017', '210505', '23513', 2, 21000, 'Y', '73829', 'Y')]"
      ]
     },
     "execution_count": 59,
     "metadata": {},
     "output_type": "execute_result"
    }
   ],
   "source": [
    "%sql select * from ordered;"
   ]
  },
  {
   "cell_type": "markdown",
   "metadata": {},
   "source": [
    "## Functional Requirements"
   ]
  },
  {
   "cell_type": "code",
   "execution_count": 60,
   "metadata": {},
   "outputs": [
    {
     "name": "stdout",
     "output_type": "stream",
     "text": [
      " * sqlite:///shopingmall.db\n",
      "Done.\n"
     ]
    },
    {
     "data": {
      "text/html": [
       "<table>\n",
       "    <tr>\n",
       "        <th>order_num</th>\n",
       "        <th>date</th>\n",
       "        <th>prod_id</th>\n",
       "        <th>count</th>\n",
       "        <th>price</th>\n",
       "        <th>payment_status</th>\n",
       "        <th>customer_id</th>\n",
       "        <th>deliver_status</th>\n",
       "    </tr>\n",
       "    <tr>\n",
       "        <td>505012</td>\n",
       "        <td>210501</td>\n",
       "        <td>02121</td>\n",
       "        <td>1</td>\n",
       "        <td>120000</td>\n",
       "        <td>Y</td>\n",
       "        <td>93886</td>\n",
       "        <td>Y</td>\n",
       "    </tr>\n",
       "    <tr>\n",
       "        <td>505010</td>\n",
       "        <td>210425</td>\n",
       "        <td>10132</td>\n",
       "        <td>1</td>\n",
       "        <td>300000</td>\n",
       "        <td>N</td>\n",
       "        <td>93886</td>\n",
       "        <td>N</td>\n",
       "    </tr>\n",
       "</table>"
      ],
      "text/plain": [
       "[('505012', '210501', '02121', 1, 120000, 'Y', '93886', 'Y'),\n",
       " ('505010', '210425', '10132', 1, 300000, 'N', '93886', 'N')]"
      ]
     },
     "execution_count": 60,
     "metadata": {},
     "output_type": "execute_result"
    }
   ],
   "source": [
    "%sql select * from Ordered where customer_id = '93886'"
   ]
  },
  {
   "cell_type": "code",
   "execution_count": 21,
   "metadata": {},
   "outputs": [
    {
     "name": "stdout",
     "output_type": "stream",
     "text": [
      " * sqlite:///shopingmall.db\n",
      "Done.\n"
     ]
    },
    {
     "data": {
      "text/html": [
       "<table>\n",
       "    <tr>\n",
       "        <th>count</th>\n",
       "    </tr>\n",
       "    <tr>\n",
       "        <td>5</td>\n",
       "    </tr>\n",
       "</table>"
      ],
      "text/plain": [
       "[(5,)]"
      ]
     },
     "execution_count": 21,
     "metadata": {},
     "output_type": "execute_result"
    }
   ],
   "source": [
    "%sql select count from Ordered where prod_id = '01010'"
   ]
  },
  {
   "cell_type": "code",
   "execution_count": 62,
   "metadata": {},
   "outputs": [
    {
     "name": "stdout",
     "output_type": "stream",
     "text": [
      " * sqlite:///shopingmall.db\n",
      "Done.\n"
     ]
    },
    {
     "data": {
      "text/html": [
       "<table>\n",
       "    <tr>\n",
       "        <th>prod_id</th>\n",
       "        <th>name</th>\n",
       "        <th>price</th>\n",
       "    </tr>\n",
       "    <tr>\n",
       "        <td>02121</td>\n",
       "        <td>Buster</td>\n",
       "        <td>120000</td>\n",
       "    </tr>\n",
       "    <tr>\n",
       "        <td>23513</td>\n",
       "        <td>Dancing Cam</td>\n",
       "        <td>21000</td>\n",
       "    </tr>\n",
       "</table>"
      ],
      "text/plain": [
       "[('02121', 'Buster', 120000), ('23513', 'Dancing Cam', 21000)]"
      ]
     },
     "execution_count": 62,
     "metadata": {},
     "output_type": "execute_result"
    }
   ],
   "source": [
    "%sql select prod_id, name, price from Product where price between 20000 and 150000"
   ]
  },
  {
   "cell_type": "code",
   "execution_count": 63,
   "metadata": {},
   "outputs": [
    {
     "name": "stdout",
     "output_type": "stream",
     "text": [
      " * sqlite:///shopingmall.db\n",
      "Done.\n"
     ]
    },
    {
     "data": {
      "text/html": [
       "<table>\n",
       "    <tr>\n",
       "        <th>prod_id</th>\n",
       "        <th>name</th>\n",
       "        <th>brand</th>\n",
       "    </tr>\n",
       "    <tr>\n",
       "        <td>02121</td>\n",
       "        <td>Buster</td>\n",
       "        <td>Ghost</td>\n",
       "    </tr>\n",
       "</table>"
      ],
      "text/plain": [
       "[('02121', 'Buster', 'Ghost')]"
      ]
     },
     "execution_count": 63,
     "metadata": {},
     "output_type": "execute_result"
    }
   ],
   "source": [
    "%sql select prod_id, name, brand from Product where brand = 'Ghost'"
   ]
  },
  {
   "cell_type": "code",
   "execution_count": 64,
   "metadata": {},
   "outputs": [
    {
     "name": "stdout",
     "output_type": "stream",
     "text": [
      " * sqlite:///shopingmall.db\n",
      "Done.\n"
     ]
    },
    {
     "data": {
      "text/html": [
       "<table>\n",
       "    <tr>\n",
       "        <th>order_num</th>\n",
       "        <th>date</th>\n",
       "        <th>prod_id</th>\n",
       "        <th>count</th>\n",
       "        <th>price</th>\n",
       "        <th>payment_status</th>\n",
       "        <th>customer_id</th>\n",
       "        <th>deliver_status</th>\n",
       "    </tr>\n",
       "    <tr>\n",
       "        <td>505012</td>\n",
       "        <td>210501</td>\n",
       "        <td>02121</td>\n",
       "        <td>1</td>\n",
       "        <td>120000</td>\n",
       "        <td>Y</td>\n",
       "        <td>93886</td>\n",
       "        <td>Y</td>\n",
       "    </tr>\n",
       "    <tr>\n",
       "        <td>505014</td>\n",
       "        <td>210504</td>\n",
       "        <td>01010</td>\n",
       "        <td>5</td>\n",
       "        <td>12000</td>\n",
       "        <td>Y</td>\n",
       "        <td>48026</td>\n",
       "        <td>N</td>\n",
       "    </tr>\n",
       "    <tr>\n",
       "        <td>505017</td>\n",
       "        <td>210505</td>\n",
       "        <td>23513</td>\n",
       "        <td>2</td>\n",
       "        <td>21000</td>\n",
       "        <td>Y</td>\n",
       "        <td>73829</td>\n",
       "        <td>Y</td>\n",
       "    </tr>\n",
       "</table>"
      ],
      "text/plain": [
       "[('505012', '210501', '02121', 1, 120000, 'Y', '93886', 'Y'),\n",
       " ('505014', '210504', '01010', 5, 12000, 'Y', '48026', 'N'),\n",
       " ('505017', '210505', '23513', 2, 21000, 'Y', '73829', 'Y')]"
      ]
     },
     "execution_count": 64,
     "metadata": {},
     "output_type": "execute_result"
    }
   ],
   "source": [
    "%sql select * from Ordered where payment_status = 'Y'"
   ]
  },
  {
   "cell_type": "code",
   "execution_count": 65,
   "metadata": {},
   "outputs": [
    {
     "name": "stdout",
     "output_type": "stream",
     "text": [
      " * sqlite:///shopingmall.db\n",
      "Done.\n"
     ]
    },
    {
     "data": {
      "text/html": [
       "<table>\n",
       "    <tr>\n",
       "        <th>tot_price</th>\n",
       "    </tr>\n",
       "    <tr>\n",
       "        <td>60000</td>\n",
       "    </tr>\n",
       "</table>"
      ],
      "text/plain": [
       "[(60000,)]"
      ]
     },
     "execution_count": 65,
     "metadata": {},
     "output_type": "execute_result"
    }
   ],
   "source": [
    "%sql select count*price as tot_price from Ordered where order_num = '505014'"
   ]
  }
 ],
 "metadata": {
  "kernelspec": {
   "display_name": "Python 3",
   "language": "python",
   "name": "python3"
  },
  "language_info": {
   "codemirror_mode": {
    "name": "ipython",
    "version": 3
   },
   "file_extension": ".py",
   "mimetype": "text/x-python",
   "name": "python",
   "nbconvert_exporter": "python",
   "pygments_lexer": "ipython3",
   "version": "3.6.8"
  }
 },
 "nbformat": 4,
 "nbformat_minor": 4
}
