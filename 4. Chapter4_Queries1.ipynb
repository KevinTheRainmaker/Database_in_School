{
 "cells": [
  {
   "cell_type": "code",
   "execution_count": 62,
   "metadata": {},
   "outputs": [
    {
     "name": "stdout",
     "output_type": "stream",
     "text": [
      "The sql extension is already loaded. To reload it, use:\n",
      "  %reload_ext sql\n"
     ]
    }
   ],
   "source": [
    "%load_ext sql"
   ]
  },
  {
   "cell_type": "code",
   "execution_count": 63,
   "metadata": {},
   "outputs": [],
   "source": [
    "%sql sqlite:///db_univ7.db"
   ]
  },
  {
   "cell_type": "code",
   "execution_count": 64,
   "metadata": {},
   "outputs": [
    {
     "name": "stdout",
     "output_type": "stream",
     "text": [
      " * sqlite:///db_univ7.db\n",
      "Done.\n"
     ]
    },
    {
     "data": {
      "text/html": [
       "<table>\n",
       "    <tr>\n",
       "        <th>name</th>\n",
       "        <th>course_id</th>\n",
       "    </tr>\n",
       "    <tr>\n",
       "        <td>Zhang</td>\n",
       "        <td>CS-101</td>\n",
       "    </tr>\n",
       "    <tr>\n",
       "        <td>Zhang</td>\n",
       "        <td>CS-347</td>\n",
       "    </tr>\n",
       "    <tr>\n",
       "        <td>Shankar</td>\n",
       "        <td>CS-101</td>\n",
       "    </tr>\n",
       "    <tr>\n",
       "        <td>Shankar</td>\n",
       "        <td>CS-190</td>\n",
       "    </tr>\n",
       "    <tr>\n",
       "        <td>Shankar</td>\n",
       "        <td>CS-315</td>\n",
       "    </tr>\n",
       "    <tr>\n",
       "        <td>Shankar</td>\n",
       "        <td>CS-347</td>\n",
       "    </tr>\n",
       "    <tr>\n",
       "        <td>Brandt</td>\n",
       "        <td>HIS-351</td>\n",
       "    </tr>\n",
       "    <tr>\n",
       "        <td>Chavez</td>\n",
       "        <td>FIN-201</td>\n",
       "    </tr>\n",
       "    <tr>\n",
       "        <td>Peltier</td>\n",
       "        <td>PHY-101</td>\n",
       "    </tr>\n",
       "    <tr>\n",
       "        <td>Levy</td>\n",
       "        <td>CS-101</td>\n",
       "    </tr>\n",
       "    <tr>\n",
       "        <td>Levy</td>\n",
       "        <td>CS-101</td>\n",
       "    </tr>\n",
       "    <tr>\n",
       "        <td>Levy</td>\n",
       "        <td>CS-319</td>\n",
       "    </tr>\n",
       "    <tr>\n",
       "        <td>Williams</td>\n",
       "        <td>CS-101</td>\n",
       "    </tr>\n",
       "    <tr>\n",
       "        <td>Williams</td>\n",
       "        <td>CS-190</td>\n",
       "    </tr>\n",
       "    <tr>\n",
       "        <td>Sanchez</td>\n",
       "        <td>MU-199</td>\n",
       "    </tr>\n",
       "    <tr>\n",
       "        <td>Brown</td>\n",
       "        <td>CS-101</td>\n",
       "    </tr>\n",
       "    <tr>\n",
       "        <td>Brown</td>\n",
       "        <td>CS-319</td>\n",
       "    </tr>\n",
       "    <tr>\n",
       "        <td>Aoi</td>\n",
       "        <td>EE-181</td>\n",
       "    </tr>\n",
       "    <tr>\n",
       "        <td>Bourikas</td>\n",
       "        <td>CS-101</td>\n",
       "    </tr>\n",
       "    <tr>\n",
       "        <td>Bourikas</td>\n",
       "        <td>CS-315</td>\n",
       "    </tr>\n",
       "    <tr>\n",
       "        <td>Tanaka</td>\n",
       "        <td>BIO-101</td>\n",
       "    </tr>\n",
       "    <tr>\n",
       "        <td>Tanaka</td>\n",
       "        <td>BIO-301</td>\n",
       "    </tr>\n",
       "</table>"
      ],
      "text/plain": [
       "[('Zhang', 'CS-101'),\n",
       " ('Zhang', 'CS-347'),\n",
       " ('Shankar', 'CS-101'),\n",
       " ('Shankar', 'CS-190'),\n",
       " ('Shankar', 'CS-315'),\n",
       " ('Shankar', 'CS-347'),\n",
       " ('Brandt', 'HIS-351'),\n",
       " ('Chavez', 'FIN-201'),\n",
       " ('Peltier', 'PHY-101'),\n",
       " ('Levy', 'CS-101'),\n",
       " ('Levy', 'CS-101'),\n",
       " ('Levy', 'CS-319'),\n",
       " ('Williams', 'CS-101'),\n",
       " ('Williams', 'CS-190'),\n",
       " ('Sanchez', 'MU-199'),\n",
       " ('Brown', 'CS-101'),\n",
       " ('Brown', 'CS-319'),\n",
       " ('Aoi', 'EE-181'),\n",
       " ('Bourikas', 'CS-101'),\n",
       " ('Bourikas', 'CS-315'),\n",
       " ('Tanaka', 'BIO-101'),\n",
       " ('Tanaka', 'BIO-301')]"
      ]
     },
     "execution_count": 64,
     "metadata": {},
     "output_type": "execute_result"
    }
   ],
   "source": [
    "%%sql\n",
    "select name, course_id \n",
    "from  student, takes \n",
    "where student.ID = takes.ID;"
   ]
  },
  {
   "cell_type": "code",
   "execution_count": 65,
   "metadata": {},
   "outputs": [
    {
     "name": "stdout",
     "output_type": "stream",
     "text": [
      " * sqlite:///db_univ7.db\n",
      "Done.\n"
     ]
    },
    {
     "data": {
      "text/html": [
       "<table>\n",
       "    <tr>\n",
       "        <th>name</th>\n",
       "        <th>course_id</th>\n",
       "    </tr>\n",
       "    <tr>\n",
       "        <td>Zhang</td>\n",
       "        <td>CS-101</td>\n",
       "    </tr>\n",
       "    <tr>\n",
       "        <td>Zhang</td>\n",
       "        <td>CS-347</td>\n",
       "    </tr>\n",
       "    <tr>\n",
       "        <td>Shankar</td>\n",
       "        <td>CS-101</td>\n",
       "    </tr>\n",
       "    <tr>\n",
       "        <td>Shankar</td>\n",
       "        <td>CS-190</td>\n",
       "    </tr>\n",
       "    <tr>\n",
       "        <td>Shankar</td>\n",
       "        <td>CS-315</td>\n",
       "    </tr>\n",
       "    <tr>\n",
       "        <td>Shankar</td>\n",
       "        <td>CS-347</td>\n",
       "    </tr>\n",
       "    <tr>\n",
       "        <td>Brandt</td>\n",
       "        <td>HIS-351</td>\n",
       "    </tr>\n",
       "    <tr>\n",
       "        <td>Chavez</td>\n",
       "        <td>FIN-201</td>\n",
       "    </tr>\n",
       "    <tr>\n",
       "        <td>Peltier</td>\n",
       "        <td>PHY-101</td>\n",
       "    </tr>\n",
       "    <tr>\n",
       "        <td>Levy</td>\n",
       "        <td>CS-101</td>\n",
       "    </tr>\n",
       "    <tr>\n",
       "        <td>Levy</td>\n",
       "        <td>CS-101</td>\n",
       "    </tr>\n",
       "    <tr>\n",
       "        <td>Levy</td>\n",
       "        <td>CS-319</td>\n",
       "    </tr>\n",
       "    <tr>\n",
       "        <td>Williams</td>\n",
       "        <td>CS-101</td>\n",
       "    </tr>\n",
       "    <tr>\n",
       "        <td>Williams</td>\n",
       "        <td>CS-190</td>\n",
       "    </tr>\n",
       "    <tr>\n",
       "        <td>Sanchez</td>\n",
       "        <td>MU-199</td>\n",
       "    </tr>\n",
       "    <tr>\n",
       "        <td>Brown</td>\n",
       "        <td>CS-101</td>\n",
       "    </tr>\n",
       "    <tr>\n",
       "        <td>Brown</td>\n",
       "        <td>CS-319</td>\n",
       "    </tr>\n",
       "    <tr>\n",
       "        <td>Aoi</td>\n",
       "        <td>EE-181</td>\n",
       "    </tr>\n",
       "    <tr>\n",
       "        <td>Bourikas</td>\n",
       "        <td>CS-101</td>\n",
       "    </tr>\n",
       "    <tr>\n",
       "        <td>Bourikas</td>\n",
       "        <td>CS-315</td>\n",
       "    </tr>\n",
       "    <tr>\n",
       "        <td>Tanaka</td>\n",
       "        <td>BIO-101</td>\n",
       "    </tr>\n",
       "    <tr>\n",
       "        <td>Tanaka</td>\n",
       "        <td>BIO-301</td>\n",
       "    </tr>\n",
       "</table>"
      ],
      "text/plain": [
       "[('Zhang', 'CS-101'),\n",
       " ('Zhang', 'CS-347'),\n",
       " ('Shankar', 'CS-101'),\n",
       " ('Shankar', 'CS-190'),\n",
       " ('Shankar', 'CS-315'),\n",
       " ('Shankar', 'CS-347'),\n",
       " ('Brandt', 'HIS-351'),\n",
       " ('Chavez', 'FIN-201'),\n",
       " ('Peltier', 'PHY-101'),\n",
       " ('Levy', 'CS-101'),\n",
       " ('Levy', 'CS-101'),\n",
       " ('Levy', 'CS-319'),\n",
       " ('Williams', 'CS-101'),\n",
       " ('Williams', 'CS-190'),\n",
       " ('Sanchez', 'MU-199'),\n",
       " ('Brown', 'CS-101'),\n",
       " ('Brown', 'CS-319'),\n",
       " ('Aoi', 'EE-181'),\n",
       " ('Bourikas', 'CS-101'),\n",
       " ('Bourikas', 'CS-315'),\n",
       " ('Tanaka', 'BIO-101'),\n",
       " ('Tanaka', 'BIO-301')]"
      ]
     },
     "execution_count": 65,
     "metadata": {},
     "output_type": "execute_result"
    }
   ],
   "source": [
    "%%sql select name, course_id \n",
    "from student natural join takes;"
   ]
  },
  {
   "cell_type": "code",
   "execution_count": 66,
   "metadata": {},
   "outputs": [
    {
     "name": "stdout",
     "output_type": "stream",
     "text": [
      " * sqlite:///db_univ7.db\n",
      "Done.\n"
     ]
    },
    {
     "data": {
      "text/html": [
       "<table>\n",
       "    <tr>\n",
       "        <th>name</th>\n",
       "        <th>title</th>\n",
       "    </tr>\n",
       "    <tr>\n",
       "        <td>Zhang</td>\n",
       "        <td>Intro. to Computer Science</td>\n",
       "    </tr>\n",
       "    <tr>\n",
       "        <td>Zhang</td>\n",
       "        <td>Database System Concepts</td>\n",
       "    </tr>\n",
       "    <tr>\n",
       "        <td>Shankar</td>\n",
       "        <td>Intro. to Computer Science</td>\n",
       "    </tr>\n",
       "    <tr>\n",
       "        <td>Shankar</td>\n",
       "        <td>Game Design</td>\n",
       "    </tr>\n",
       "    <tr>\n",
       "        <td>Shankar</td>\n",
       "        <td>Robotics</td>\n",
       "    </tr>\n",
       "    <tr>\n",
       "        <td>Shankar</td>\n",
       "        <td>Database System Concepts</td>\n",
       "    </tr>\n",
       "    <tr>\n",
       "        <td>Brandt</td>\n",
       "        <td>World History</td>\n",
       "    </tr>\n",
       "    <tr>\n",
       "        <td>Chavez</td>\n",
       "        <td>Investment Banking</td>\n",
       "    </tr>\n",
       "    <tr>\n",
       "        <td>Peltier</td>\n",
       "        <td>Physical Principles</td>\n",
       "    </tr>\n",
       "    <tr>\n",
       "        <td>Levy</td>\n",
       "        <td>Intro. to Computer Science</td>\n",
       "    </tr>\n",
       "    <tr>\n",
       "        <td>Levy</td>\n",
       "        <td>Intro. to Computer Science</td>\n",
       "    </tr>\n",
       "    <tr>\n",
       "        <td>Levy</td>\n",
       "        <td>Image Processing</td>\n",
       "    </tr>\n",
       "    <tr>\n",
       "        <td>Williams</td>\n",
       "        <td>Intro. to Computer Science</td>\n",
       "    </tr>\n",
       "    <tr>\n",
       "        <td>Williams</td>\n",
       "        <td>Game Design</td>\n",
       "    </tr>\n",
       "    <tr>\n",
       "        <td>Sanchez</td>\n",
       "        <td>Music Video Production</td>\n",
       "    </tr>\n",
       "    <tr>\n",
       "        <td>Brown</td>\n",
       "        <td>Intro. to Computer Science</td>\n",
       "    </tr>\n",
       "    <tr>\n",
       "        <td>Brown</td>\n",
       "        <td>Image Processing</td>\n",
       "    </tr>\n",
       "    <tr>\n",
       "        <td>Aoi</td>\n",
       "        <td>Intro. to Digital Systems</td>\n",
       "    </tr>\n",
       "    <tr>\n",
       "        <td>Bourikas</td>\n",
       "        <td>Intro. to Computer Science</td>\n",
       "    </tr>\n",
       "    <tr>\n",
       "        <td>Bourikas</td>\n",
       "        <td>Robotics</td>\n",
       "    </tr>\n",
       "    <tr>\n",
       "        <td>Tanaka</td>\n",
       "        <td>Intro. to Biology</td>\n",
       "    </tr>\n",
       "    <tr>\n",
       "        <td>Tanaka</td>\n",
       "        <td>Genetics</td>\n",
       "    </tr>\n",
       "</table>"
      ],
      "text/plain": [
       "[('Zhang', 'Intro. to Computer Science'),\n",
       " ('Zhang', 'Database System Concepts'),\n",
       " ('Shankar', 'Intro. to Computer Science'),\n",
       " ('Shankar', 'Game Design'),\n",
       " ('Shankar', 'Robotics'),\n",
       " ('Shankar', 'Database System Concepts'),\n",
       " ('Brandt', 'World History'),\n",
       " ('Chavez', 'Investment Banking'),\n",
       " ('Peltier', 'Physical Principles'),\n",
       " ('Levy', 'Intro. to Computer Science'),\n",
       " ('Levy', 'Intro. to Computer Science'),\n",
       " ('Levy', 'Image Processing'),\n",
       " ('Williams', 'Intro. to Computer Science'),\n",
       " ('Williams', 'Game Design'),\n",
       " ('Sanchez', 'Music Video Production'),\n",
       " ('Brown', 'Intro. to Computer Science'),\n",
       " ('Brown', 'Image Processing'),\n",
       " ('Aoi', 'Intro. to Digital Systems'),\n",
       " ('Bourikas', 'Intro. to Computer Science'),\n",
       " ('Bourikas', 'Robotics'),\n",
       " ('Tanaka', 'Intro. to Biology'),\n",
       " ('Tanaka', 'Genetics')]"
      ]
     },
     "execution_count": 66,
     "metadata": {},
     "output_type": "execute_result"
    }
   ],
   "source": [
    "%%sql select name, title\n",
    "from student natural join takes, course\n",
    "where takes.course_id = course.course_id;"
   ]
  },
  {
   "cell_type": "code",
   "execution_count": 67,
   "metadata": {},
   "outputs": [
    {
     "name": "stdout",
     "output_type": "stream",
     "text": [
      " * sqlite:///db_univ7.db\n",
      "Done.\n"
     ]
    },
    {
     "data": {
      "text/html": [
       "<table>\n",
       "    <tr>\n",
       "        <th>name</th>\n",
       "        <th>title</th>\n",
       "    </tr>\n",
       "    <tr>\n",
       "        <td>Zhang</td>\n",
       "        <td>Intro. to Computer Science</td>\n",
       "    </tr>\n",
       "    <tr>\n",
       "        <td>Zhang</td>\n",
       "        <td>Database System Concepts</td>\n",
       "    </tr>\n",
       "    <tr>\n",
       "        <td>Shankar</td>\n",
       "        <td>Intro. to Computer Science</td>\n",
       "    </tr>\n",
       "    <tr>\n",
       "        <td>Shankar</td>\n",
       "        <td>Game Design</td>\n",
       "    </tr>\n",
       "    <tr>\n",
       "        <td>Shankar</td>\n",
       "        <td>Robotics</td>\n",
       "    </tr>\n",
       "    <tr>\n",
       "        <td>Shankar</td>\n",
       "        <td>Database System Concepts</td>\n",
       "    </tr>\n",
       "    <tr>\n",
       "        <td>Brandt</td>\n",
       "        <td>World History</td>\n",
       "    </tr>\n",
       "    <tr>\n",
       "        <td>Chavez</td>\n",
       "        <td>Investment Banking</td>\n",
       "    </tr>\n",
       "    <tr>\n",
       "        <td>Peltier</td>\n",
       "        <td>Physical Principles</td>\n",
       "    </tr>\n",
       "    <tr>\n",
       "        <td>Williams</td>\n",
       "        <td>Intro. to Computer Science</td>\n",
       "    </tr>\n",
       "    <tr>\n",
       "        <td>Williams</td>\n",
       "        <td>Game Design</td>\n",
       "    </tr>\n",
       "    <tr>\n",
       "        <td>Sanchez</td>\n",
       "        <td>Music Video Production</td>\n",
       "    </tr>\n",
       "    <tr>\n",
       "        <td>Brown</td>\n",
       "        <td>Intro. to Computer Science</td>\n",
       "    </tr>\n",
       "    <tr>\n",
       "        <td>Brown</td>\n",
       "        <td>Image Processing</td>\n",
       "    </tr>\n",
       "    <tr>\n",
       "        <td>Aoi</td>\n",
       "        <td>Intro. to Digital Systems</td>\n",
       "    </tr>\n",
       "    <tr>\n",
       "        <td>Tanaka</td>\n",
       "        <td>Intro. to Biology</td>\n",
       "    </tr>\n",
       "    <tr>\n",
       "        <td>Tanaka</td>\n",
       "        <td>Genetics</td>\n",
       "    </tr>\n",
       "</table>"
      ],
      "text/plain": [
       "[('Zhang', 'Intro. to Computer Science'),\n",
       " ('Zhang', 'Database System Concepts'),\n",
       " ('Shankar', 'Intro. to Computer Science'),\n",
       " ('Shankar', 'Game Design'),\n",
       " ('Shankar', 'Robotics'),\n",
       " ('Shankar', 'Database System Concepts'),\n",
       " ('Brandt', 'World History'),\n",
       " ('Chavez', 'Investment Banking'),\n",
       " ('Peltier', 'Physical Principles'),\n",
       " ('Williams', 'Intro. to Computer Science'),\n",
       " ('Williams', 'Game Design'),\n",
       " ('Sanchez', 'Music Video Production'),\n",
       " ('Brown', 'Intro. to Computer Science'),\n",
       " ('Brown', 'Image Processing'),\n",
       " ('Aoi', 'Intro. to Digital Systems'),\n",
       " ('Tanaka', 'Intro. to Biology'),\n",
       " ('Tanaka', 'Genetics')]"
      ]
     },
     "execution_count": 67,
     "metadata": {},
     "output_type": "execute_result"
    }
   ],
   "source": [
    "%%sql select name, title   \n",
    "from student natural join takes natural join course;"
   ]
  },
  {
   "cell_type": "code",
   "execution_count": 68,
   "metadata": {},
   "outputs": [
    {
     "name": "stdout",
     "output_type": "stream",
     "text": [
      " * sqlite:///db_univ7.db\n",
      "Done.\n"
     ]
    },
    {
     "data": {
      "text/html": [
       "<table>\n",
       "    <tr>\n",
       "        <th>name</th>\n",
       "        <th>dept_name</th>\n",
       "    </tr>\n",
       "    <tr>\n",
       "        <td>Zhang</td>\n",
       "        <td>Comp. Sci.</td>\n",
       "    </tr>\n",
       "    <tr>\n",
       "        <td>Shankar</td>\n",
       "        <td>Comp. Sci.</td>\n",
       "    </tr>\n",
       "    <tr>\n",
       "        <td>Brandt</td>\n",
       "        <td>History</td>\n",
       "    </tr>\n",
       "    <tr>\n",
       "        <td>Chavez</td>\n",
       "        <td>Finance</td>\n",
       "    </tr>\n",
       "    <tr>\n",
       "        <td>Peltier</td>\n",
       "        <td>Physics</td>\n",
       "    </tr>\n",
       "    <tr>\n",
       "        <td>Levy</td>\n",
       "        <td>Physics</td>\n",
       "    </tr>\n",
       "    <tr>\n",
       "        <td>Williams</td>\n",
       "        <td>Comp. Sci.</td>\n",
       "    </tr>\n",
       "    <tr>\n",
       "        <td>Sanchez</td>\n",
       "        <td>Music</td>\n",
       "    </tr>\n",
       "    <tr>\n",
       "        <td>Snow</td>\n",
       "        <td>Physics</td>\n",
       "    </tr>\n",
       "    <tr>\n",
       "        <td>Brown</td>\n",
       "        <td>Comp. Sci.</td>\n",
       "    </tr>\n",
       "    <tr>\n",
       "        <td>Aoi</td>\n",
       "        <td>Elec. Eng.</td>\n",
       "    </tr>\n",
       "    <tr>\n",
       "        <td>Bourikas</td>\n",
       "        <td>Elec. Eng.</td>\n",
       "    </tr>\n",
       "    <tr>\n",
       "        <td>Tanaka</td>\n",
       "        <td>Biology</td>\n",
       "    </tr>\n",
       "</table>"
      ],
      "text/plain": [
       "[('Zhang', 'Comp. Sci.'),\n",
       " ('Shankar', 'Comp. Sci.'),\n",
       " ('Brandt', 'History'),\n",
       " ('Chavez', 'Finance'),\n",
       " ('Peltier', 'Physics'),\n",
       " ('Levy', 'Physics'),\n",
       " ('Williams', 'Comp. Sci.'),\n",
       " ('Sanchez', 'Music'),\n",
       " ('Snow', 'Physics'),\n",
       " ('Brown', 'Comp. Sci.'),\n",
       " ('Aoi', 'Elec. Eng.'),\n",
       " ('Bourikas', 'Elec. Eng.'),\n",
       " ('Tanaka', 'Biology')]"
      ]
     },
     "execution_count": 68,
     "metadata": {},
     "output_type": "execute_result"
    }
   ],
   "source": [
    "%%sql select name, dept_name   \n",
    "from student;"
   ]
  },
  {
   "cell_type": "code",
   "execution_count": 47,
   "metadata": {},
   "outputs": [
    {
     "name": "stdout",
     "output_type": "stream",
     "text": [
      " * sqlite:///db_univ7.db\n",
      "Done.\n"
     ]
    },
    {
     "data": {
      "text/html": [
       "<table>\n",
       "    <tr>\n",
       "        <th>course_id</th>\n",
       "        <th>title</th>\n",
       "        <th>dept_name</th>\n",
       "        <th>credits</th>\n",
       "    </tr>\n",
       "    <tr>\n",
       "        <td>BIO-101</td>\n",
       "        <td>Intro. to Biology</td>\n",
       "        <td>Biology</td>\n",
       "        <td>4</td>\n",
       "    </tr>\n",
       "    <tr>\n",
       "        <td>BIO-301</td>\n",
       "        <td>Genetics</td>\n",
       "        <td>Biology</td>\n",
       "        <td>4</td>\n",
       "    </tr>\n",
       "    <tr>\n",
       "        <td>BIO-399</td>\n",
       "        <td>Computational Biology</td>\n",
       "        <td>Biology</td>\n",
       "        <td>3</td>\n",
       "    </tr>\n",
       "    <tr>\n",
       "        <td>CS-101</td>\n",
       "        <td>Intro. to Computer Science</td>\n",
       "        <td>Comp. Sci.</td>\n",
       "        <td>4</td>\n",
       "    </tr>\n",
       "    <tr>\n",
       "        <td>CS-190</td>\n",
       "        <td>Game Design</td>\n",
       "        <td>Comp. Sci.</td>\n",
       "        <td>4</td>\n",
       "    </tr>\n",
       "    <tr>\n",
       "        <td>CS-315</td>\n",
       "        <td>Robotics</td>\n",
       "        <td>Comp. Sci.</td>\n",
       "        <td>3</td>\n",
       "    </tr>\n",
       "    <tr>\n",
       "        <td>CS-319</td>\n",
       "        <td>Image Processing</td>\n",
       "        <td>Comp. Sci.</td>\n",
       "        <td>3</td>\n",
       "    </tr>\n",
       "    <tr>\n",
       "        <td>CS-347</td>\n",
       "        <td>Database System Concepts</td>\n",
       "        <td>Comp. Sci.</td>\n",
       "        <td>3</td>\n",
       "    </tr>\n",
       "    <tr>\n",
       "        <td>EE-181</td>\n",
       "        <td>Intro. to Digital Systems</td>\n",
       "        <td>Elec. Eng.</td>\n",
       "        <td>3</td>\n",
       "    </tr>\n",
       "    <tr>\n",
       "        <td>FIN-201</td>\n",
       "        <td>Investment Banking</td>\n",
       "        <td>Finance</td>\n",
       "        <td>3</td>\n",
       "    </tr>\n",
       "    <tr>\n",
       "        <td>HIS-351</td>\n",
       "        <td>World History</td>\n",
       "        <td>History</td>\n",
       "        <td>3</td>\n",
       "    </tr>\n",
       "    <tr>\n",
       "        <td>MU-199</td>\n",
       "        <td>Music Video Production</td>\n",
       "        <td>Music</td>\n",
       "        <td>3</td>\n",
       "    </tr>\n",
       "    <tr>\n",
       "        <td>PHY-101</td>\n",
       "        <td>Physical Principles</td>\n",
       "        <td>Physics</td>\n",
       "        <td>4</td>\n",
       "    </tr>\n",
       "</table>"
      ],
      "text/plain": [
       "[('BIO-101', 'Intro. to Biology', 'Biology', 4),\n",
       " ('BIO-301', 'Genetics', 'Biology', 4),\n",
       " ('BIO-399', 'Computational Biology', 'Biology', 3),\n",
       " ('CS-101', 'Intro. to Computer Science', 'Comp. Sci.', 4),\n",
       " ('CS-190', 'Game Design', 'Comp. Sci.', 4),\n",
       " ('CS-315', 'Robotics', 'Comp. Sci.', 3),\n",
       " ('CS-319', 'Image Processing', 'Comp. Sci.', 3),\n",
       " ('CS-347', 'Database System Concepts', 'Comp. Sci.', 3),\n",
       " ('EE-181', 'Intro. to Digital Systems', 'Elec. Eng.', 3),\n",
       " ('FIN-201', 'Investment Banking', 'Finance', 3),\n",
       " ('HIS-351', 'World History', 'History', 3),\n",
       " ('MU-199', 'Music Video Production', 'Music', 3),\n",
       " ('PHY-101', 'Physical Principles', 'Physics', 4)]"
      ]
     },
     "execution_count": 47,
     "metadata": {},
     "output_type": "execute_result"
    }
   ],
   "source": [
    "%%sql select *\n",
    "from course;"
   ]
  },
  {
   "cell_type": "code",
   "execution_count": 48,
   "metadata": {},
   "outputs": [
    {
     "name": "stdout",
     "output_type": "stream",
     "text": [
      " * sqlite:///db_univ7.db\n",
      "Done.\n"
     ]
    },
    {
     "data": {
      "text/html": [
       "<table>\n",
       "    <tr>\n",
       "        <th>course_id</th>\n",
       "        <th>title</th>\n",
       "        <th>dept_name</th>\n",
       "        <th>credits</th>\n",
       "        <th>prereq_id</th>\n",
       "    </tr>\n",
       "    <tr>\n",
       "        <td>BIO-101</td>\n",
       "        <td>Intro. to Biology</td>\n",
       "        <td>Biology</td>\n",
       "        <td>4</td>\n",
       "        <td>None</td>\n",
       "    </tr>\n",
       "    <tr>\n",
       "        <td>BIO-301</td>\n",
       "        <td>Genetics</td>\n",
       "        <td>Biology</td>\n",
       "        <td>4</td>\n",
       "        <td>BIO-101</td>\n",
       "    </tr>\n",
       "    <tr>\n",
       "        <td>BIO-399</td>\n",
       "        <td>Computational Biology</td>\n",
       "        <td>Biology</td>\n",
       "        <td>3</td>\n",
       "        <td>BIO-101</td>\n",
       "    </tr>\n",
       "    <tr>\n",
       "        <td>CS-101</td>\n",
       "        <td>Intro. to Computer Science</td>\n",
       "        <td>Comp. Sci.</td>\n",
       "        <td>4</td>\n",
       "        <td>None</td>\n",
       "    </tr>\n",
       "    <tr>\n",
       "        <td>CS-190</td>\n",
       "        <td>Game Design</td>\n",
       "        <td>Comp. Sci.</td>\n",
       "        <td>4</td>\n",
       "        <td>CS-101</td>\n",
       "    </tr>\n",
       "    <tr>\n",
       "        <td>CS-315</td>\n",
       "        <td>Robotics</td>\n",
       "        <td>Comp. Sci.</td>\n",
       "        <td>3</td>\n",
       "        <td>CS-101</td>\n",
       "    </tr>\n",
       "    <tr>\n",
       "        <td>CS-319</td>\n",
       "        <td>Image Processing</td>\n",
       "        <td>Comp. Sci.</td>\n",
       "        <td>3</td>\n",
       "        <td>CS-101</td>\n",
       "    </tr>\n",
       "    <tr>\n",
       "        <td>CS-347</td>\n",
       "        <td>Database System Concepts</td>\n",
       "        <td>Comp. Sci.</td>\n",
       "        <td>3</td>\n",
       "        <td>CS-101</td>\n",
       "    </tr>\n",
       "    <tr>\n",
       "        <td>EE-181</td>\n",
       "        <td>Intro. to Digital Systems</td>\n",
       "        <td>Elec. Eng.</td>\n",
       "        <td>3</td>\n",
       "        <td>PHY-101</td>\n",
       "    </tr>\n",
       "    <tr>\n",
       "        <td>FIN-201</td>\n",
       "        <td>Investment Banking</td>\n",
       "        <td>Finance</td>\n",
       "        <td>3</td>\n",
       "        <td>None</td>\n",
       "    </tr>\n",
       "    <tr>\n",
       "        <td>HIS-351</td>\n",
       "        <td>World History</td>\n",
       "        <td>History</td>\n",
       "        <td>3</td>\n",
       "        <td>None</td>\n",
       "    </tr>\n",
       "    <tr>\n",
       "        <td>MU-199</td>\n",
       "        <td>Music Video Production</td>\n",
       "        <td>Music</td>\n",
       "        <td>3</td>\n",
       "        <td>None</td>\n",
       "    </tr>\n",
       "    <tr>\n",
       "        <td>PHY-101</td>\n",
       "        <td>Physical Principles</td>\n",
       "        <td>Physics</td>\n",
       "        <td>4</td>\n",
       "        <td>None</td>\n",
       "    </tr>\n",
       "</table>"
      ],
      "text/plain": [
       "[('BIO-101', 'Intro. to Biology', 'Biology', 4, None),\n",
       " ('BIO-301', 'Genetics', 'Biology', 4, 'BIO-101'),\n",
       " ('BIO-399', 'Computational Biology', 'Biology', 3, 'BIO-101'),\n",
       " ('CS-101', 'Intro. to Computer Science', 'Comp. Sci.', 4, None),\n",
       " ('CS-190', 'Game Design', 'Comp. Sci.', 4, 'CS-101'),\n",
       " ('CS-315', 'Robotics', 'Comp. Sci.', 3, 'CS-101'),\n",
       " ('CS-319', 'Image Processing', 'Comp. Sci.', 3, 'CS-101'),\n",
       " ('CS-347', 'Database System Concepts', 'Comp. Sci.', 3, 'CS-101'),\n",
       " ('EE-181', 'Intro. to Digital Systems', 'Elec. Eng.', 3, 'PHY-101'),\n",
       " ('FIN-201', 'Investment Banking', 'Finance', 3, None),\n",
       " ('HIS-351', 'World History', 'History', 3, None),\n",
       " ('MU-199', 'Music Video Production', 'Music', 3, None),\n",
       " ('PHY-101', 'Physical Principles', 'Physics', 4, None)]"
      ]
     },
     "execution_count": 48,
     "metadata": {},
     "output_type": "execute_result"
    }
   ],
   "source": [
    "%sql select * from course natural left outer join prereq"
   ]
  },
  {
   "cell_type": "code",
   "execution_count": 69,
   "metadata": {},
   "outputs": [
    {
     "name": "stdout",
     "output_type": "stream",
     "text": [
      " * sqlite:///db_univ7.db\n",
      "(sqlite3.OperationalError) RIGHT and FULL OUTER JOINs are not currently supported\n",
      "[SQL: select * from course natural right outer join prereq]\n",
      "(Background on this error at: http://sqlalche.me/e/13/e3q8)\n"
     ]
    }
   ],
   "source": [
    "%sql select * from course natural right outer join prereq"
   ]
  },
  {
   "cell_type": "code",
   "execution_count": 50,
   "metadata": {},
   "outputs": [
    {
     "name": "stdout",
     "output_type": "stream",
     "text": [
      " * sqlite:///db_univ7.db\n",
      "Done.\n"
     ]
    },
    {
     "data": {
      "text/html": [
       "<table>\n",
       "    <tr>\n",
       "        <th>course_id</th>\n",
       "        <th>title</th>\n",
       "        <th>dept_name</th>\n",
       "        <th>credits</th>\n",
       "        <th>course_id_1</th>\n",
       "        <th>prereq_id</th>\n",
       "    </tr>\n",
       "    <tr>\n",
       "        <td>BIO-301</td>\n",
       "        <td>Genetics</td>\n",
       "        <td>Biology</td>\n",
       "        <td>4</td>\n",
       "        <td>BIO-301</td>\n",
       "        <td>BIO-101</td>\n",
       "    </tr>\n",
       "    <tr>\n",
       "        <td>BIO-399</td>\n",
       "        <td>Computational Biology</td>\n",
       "        <td>Biology</td>\n",
       "        <td>3</td>\n",
       "        <td>BIO-399</td>\n",
       "        <td>BIO-101</td>\n",
       "    </tr>\n",
       "    <tr>\n",
       "        <td>CS-190</td>\n",
       "        <td>Game Design</td>\n",
       "        <td>Comp. Sci.</td>\n",
       "        <td>4</td>\n",
       "        <td>CS-190</td>\n",
       "        <td>CS-101</td>\n",
       "    </tr>\n",
       "    <tr>\n",
       "        <td>CS-315</td>\n",
       "        <td>Robotics</td>\n",
       "        <td>Comp. Sci.</td>\n",
       "        <td>3</td>\n",
       "        <td>CS-315</td>\n",
       "        <td>CS-101</td>\n",
       "    </tr>\n",
       "    <tr>\n",
       "        <td>CS-319</td>\n",
       "        <td>Image Processing</td>\n",
       "        <td>Comp. Sci.</td>\n",
       "        <td>3</td>\n",
       "        <td>CS-319</td>\n",
       "        <td>CS-101</td>\n",
       "    </tr>\n",
       "    <tr>\n",
       "        <td>CS-347</td>\n",
       "        <td>Database System Concepts</td>\n",
       "        <td>Comp. Sci.</td>\n",
       "        <td>3</td>\n",
       "        <td>CS-347</td>\n",
       "        <td>CS-101</td>\n",
       "    </tr>\n",
       "    <tr>\n",
       "        <td>EE-181</td>\n",
       "        <td>Intro. to Digital Systems</td>\n",
       "        <td>Elec. Eng.</td>\n",
       "        <td>3</td>\n",
       "        <td>EE-181</td>\n",
       "        <td>PHY-101</td>\n",
       "    </tr>\n",
       "</table>"
      ],
      "text/plain": [
       "[('BIO-301', 'Genetics', 'Biology', 4, 'BIO-301', 'BIO-101'),\n",
       " ('BIO-399', 'Computational Biology', 'Biology', 3, 'BIO-399', 'BIO-101'),\n",
       " ('CS-190', 'Game Design', 'Comp. Sci.', 4, 'CS-190', 'CS-101'),\n",
       " ('CS-315', 'Robotics', 'Comp. Sci.', 3, 'CS-315', 'CS-101'),\n",
       " ('CS-319', 'Image Processing', 'Comp. Sci.', 3, 'CS-319', 'CS-101'),\n",
       " ('CS-347', 'Database System Concepts', 'Comp. Sci.', 3, 'CS-347', 'CS-101'),\n",
       " ('EE-181', 'Intro. to Digital Systems', 'Elec. Eng.', 3, 'EE-181', 'PHY-101')]"
      ]
     },
     "execution_count": 50,
     "metadata": {},
     "output_type": "execute_result"
    }
   ],
   "source": [
    "%%sql\n",
    "select *\n",
    "from course inner join prereq on course.course_id = prereq.course_id"
   ]
  },
  {
   "cell_type": "code",
   "execution_count": 51,
   "metadata": {},
   "outputs": [
    {
     "name": "stdout",
     "output_type": "stream",
     "text": [
      " * sqlite:///db_univ7.db\n",
      "Done.\n"
     ]
    },
    {
     "data": {
      "text/html": [
       "<table>\n",
       "    <tr>\n",
       "        <th>course_id</th>\n",
       "        <th>title</th>\n",
       "        <th>dept_name</th>\n",
       "        <th>credits</th>\n",
       "        <th>prereq_id</th>\n",
       "    </tr>\n",
       "    <tr>\n",
       "        <td>BIO-301</td>\n",
       "        <td>Genetics</td>\n",
       "        <td>Biology</td>\n",
       "        <td>4</td>\n",
       "        <td>BIO-101</td>\n",
       "    </tr>\n",
       "    <tr>\n",
       "        <td>BIO-399</td>\n",
       "        <td>Computational Biology</td>\n",
       "        <td>Biology</td>\n",
       "        <td>3</td>\n",
       "        <td>BIO-101</td>\n",
       "    </tr>\n",
       "    <tr>\n",
       "        <td>CS-190</td>\n",
       "        <td>Game Design</td>\n",
       "        <td>Comp. Sci.</td>\n",
       "        <td>4</td>\n",
       "        <td>CS-101</td>\n",
       "    </tr>\n",
       "    <tr>\n",
       "        <td>CS-315</td>\n",
       "        <td>Robotics</td>\n",
       "        <td>Comp. Sci.</td>\n",
       "        <td>3</td>\n",
       "        <td>CS-101</td>\n",
       "    </tr>\n",
       "    <tr>\n",
       "        <td>CS-319</td>\n",
       "        <td>Image Processing</td>\n",
       "        <td>Comp. Sci.</td>\n",
       "        <td>3</td>\n",
       "        <td>CS-101</td>\n",
       "    </tr>\n",
       "    <tr>\n",
       "        <td>CS-347</td>\n",
       "        <td>Database System Concepts</td>\n",
       "        <td>Comp. Sci.</td>\n",
       "        <td>3</td>\n",
       "        <td>CS-101</td>\n",
       "    </tr>\n",
       "    <tr>\n",
       "        <td>EE-181</td>\n",
       "        <td>Intro. to Digital Systems</td>\n",
       "        <td>Elec. Eng.</td>\n",
       "        <td>3</td>\n",
       "        <td>PHY-101</td>\n",
       "    </tr>\n",
       "</table>"
      ],
      "text/plain": [
       "[('BIO-301', 'Genetics', 'Biology', 4, 'BIO-101'),\n",
       " ('BIO-399', 'Computational Biology', 'Biology', 3, 'BIO-101'),\n",
       " ('CS-190', 'Game Design', 'Comp. Sci.', 4, 'CS-101'),\n",
       " ('CS-315', 'Robotics', 'Comp. Sci.', 3, 'CS-101'),\n",
       " ('CS-319', 'Image Processing', 'Comp. Sci.', 3, 'CS-101'),\n",
       " ('CS-347', 'Database System Concepts', 'Comp. Sci.', 3, 'CS-101'),\n",
       " ('EE-181', 'Intro. to Digital Systems', 'Elec. Eng.', 3, 'PHY-101')]"
      ]
     },
     "execution_count": 51,
     "metadata": {},
     "output_type": "execute_result"
    }
   ],
   "source": [
    "%%sql\n",
    "select * from course natural join prereq "
   ]
  },
  {
   "cell_type": "code",
   "execution_count": 52,
   "metadata": {},
   "outputs": [
    {
     "name": "stdout",
     "output_type": "stream",
     "text": [
      " * sqlite:///db_univ7.db\n",
      "Done.\n"
     ]
    },
    {
     "data": {
      "text/html": [
       "<table>\n",
       "    <tr>\n",
       "        <th>course_id</th>\n",
       "        <th>title</th>\n",
       "        <th>dept_name</th>\n",
       "        <th>credits</th>\n",
       "        <th>prereq_id</th>\n",
       "    </tr>\n",
       "    <tr>\n",
       "        <td>BIO-301</td>\n",
       "        <td>Genetics</td>\n",
       "        <td>Biology</td>\n",
       "        <td>4</td>\n",
       "        <td>BIO-101</td>\n",
       "    </tr>\n",
       "    <tr>\n",
       "        <td>BIO-399</td>\n",
       "        <td>Computational Biology</td>\n",
       "        <td>Biology</td>\n",
       "        <td>3</td>\n",
       "        <td>BIO-101</td>\n",
       "    </tr>\n",
       "    <tr>\n",
       "        <td>CS-190</td>\n",
       "        <td>Game Design</td>\n",
       "        <td>Comp. Sci.</td>\n",
       "        <td>4</td>\n",
       "        <td>CS-101</td>\n",
       "    </tr>\n",
       "    <tr>\n",
       "        <td>CS-315</td>\n",
       "        <td>Robotics</td>\n",
       "        <td>Comp. Sci.</td>\n",
       "        <td>3</td>\n",
       "        <td>CS-101</td>\n",
       "    </tr>\n",
       "    <tr>\n",
       "        <td>CS-319</td>\n",
       "        <td>Image Processing</td>\n",
       "        <td>Comp. Sci.</td>\n",
       "        <td>3</td>\n",
       "        <td>CS-101</td>\n",
       "    </tr>\n",
       "    <tr>\n",
       "        <td>CS-347</td>\n",
       "        <td>Database System Concepts</td>\n",
       "        <td>Comp. Sci.</td>\n",
       "        <td>3</td>\n",
       "        <td>CS-101</td>\n",
       "    </tr>\n",
       "    <tr>\n",
       "        <td>EE-181</td>\n",
       "        <td>Intro. to Digital Systems</td>\n",
       "        <td>Elec. Eng.</td>\n",
       "        <td>3</td>\n",
       "        <td>PHY-101</td>\n",
       "    </tr>\n",
       "</table>"
      ],
      "text/plain": [
       "[('BIO-301', 'Genetics', 'Biology', 4, 'BIO-101'),\n",
       " ('BIO-399', 'Computational Biology', 'Biology', 3, 'BIO-101'),\n",
       " ('CS-190', 'Game Design', 'Comp. Sci.', 4, 'CS-101'),\n",
       " ('CS-315', 'Robotics', 'Comp. Sci.', 3, 'CS-101'),\n",
       " ('CS-319', 'Image Processing', 'Comp. Sci.', 3, 'CS-101'),\n",
       " ('CS-347', 'Database System Concepts', 'Comp. Sci.', 3, 'CS-101'),\n",
       " ('EE-181', 'Intro. to Digital Systems', 'Elec. Eng.', 3, 'PHY-101')]"
      ]
     },
     "execution_count": 52,
     "metadata": {},
     "output_type": "execute_result"
    }
   ],
   "source": [
    "%%sql\n",
    "select * from course natural inner join prereq "
   ]
  },
  {
   "cell_type": "code",
   "execution_count": 10,
   "metadata": {},
   "outputs": [
    {
     "name": "stdout",
     "output_type": "stream",
     "text": [
      " * sqlite:///db_university.db\n",
      "Done.\n"
     ]
    },
    {
     "data": {
      "text/html": [
       "<table>\n",
       "    <tr>\n",
       "        <th>course_id</th>\n",
       "        <th>title</th>\n",
       "        <th>dept_name</th>\n",
       "        <th>credits</th>\n",
       "        <th>course_id_1</th>\n",
       "        <th>prereq_id</th>\n",
       "    </tr>\n",
       "    <tr>\n",
       "        <td>BIO-101</td>\n",
       "        <td>Intro. to Biology</td>\n",
       "        <td>Biology</td>\n",
       "        <td>4</td>\n",
       "        <td>None</td>\n",
       "        <td>None</td>\n",
       "    </tr>\n",
       "    <tr>\n",
       "        <td>BIO-301</td>\n",
       "        <td>Genetics</td>\n",
       "        <td>Biology</td>\n",
       "        <td>4</td>\n",
       "        <td>BIO-301</td>\n",
       "        <td>BIO-101</td>\n",
       "    </tr>\n",
       "    <tr>\n",
       "        <td>BIO-399</td>\n",
       "        <td>Computational Biology</td>\n",
       "        <td>Biology</td>\n",
       "        <td>3</td>\n",
       "        <td>BIO-399</td>\n",
       "        <td>BIO-101</td>\n",
       "    </tr>\n",
       "    <tr>\n",
       "        <td>CS-101</td>\n",
       "        <td>Intro. to Computer Science</td>\n",
       "        <td>Comp. Sci.</td>\n",
       "        <td>4</td>\n",
       "        <td>None</td>\n",
       "        <td>None</td>\n",
       "    </tr>\n",
       "    <tr>\n",
       "        <td>CS-190</td>\n",
       "        <td>Game Design</td>\n",
       "        <td>Comp. Sci.</td>\n",
       "        <td>4</td>\n",
       "        <td>CS-190</td>\n",
       "        <td>CS-101</td>\n",
       "    </tr>\n",
       "    <tr>\n",
       "        <td>CS-315</td>\n",
       "        <td>Robotics</td>\n",
       "        <td>Comp. Sci.</td>\n",
       "        <td>3</td>\n",
       "        <td>CS-315</td>\n",
       "        <td>CS-101</td>\n",
       "    </tr>\n",
       "    <tr>\n",
       "        <td>CS-319</td>\n",
       "        <td>Image Processing</td>\n",
       "        <td>Comp. Sci.</td>\n",
       "        <td>3</td>\n",
       "        <td>CS-319</td>\n",
       "        <td>CS-101</td>\n",
       "    </tr>\n",
       "    <tr>\n",
       "        <td>CS-347</td>\n",
       "        <td>Database System Concepts</td>\n",
       "        <td>Comp. Sci.</td>\n",
       "        <td>3</td>\n",
       "        <td>CS-347</td>\n",
       "        <td>CS-101</td>\n",
       "    </tr>\n",
       "    <tr>\n",
       "        <td>EE-181</td>\n",
       "        <td>Intro. to Digital Systems</td>\n",
       "        <td>Elec. Eng.</td>\n",
       "        <td>3</td>\n",
       "        <td>EE-181</td>\n",
       "        <td>PHY-101</td>\n",
       "    </tr>\n",
       "    <tr>\n",
       "        <td>FIN-201</td>\n",
       "        <td>Investment Banking</td>\n",
       "        <td>Finance</td>\n",
       "        <td>3</td>\n",
       "        <td>None</td>\n",
       "        <td>None</td>\n",
       "    </tr>\n",
       "    <tr>\n",
       "        <td>HIS-351</td>\n",
       "        <td>World History</td>\n",
       "        <td>History</td>\n",
       "        <td>3</td>\n",
       "        <td>None</td>\n",
       "        <td>None</td>\n",
       "    </tr>\n",
       "    <tr>\n",
       "        <td>MU-199</td>\n",
       "        <td>Music Video Production</td>\n",
       "        <td>Music</td>\n",
       "        <td>3</td>\n",
       "        <td>None</td>\n",
       "        <td>None</td>\n",
       "    </tr>\n",
       "    <tr>\n",
       "        <td>PHY-101</td>\n",
       "        <td>Physical Principles</td>\n",
       "        <td>Physics</td>\n",
       "        <td>4</td>\n",
       "        <td>None</td>\n",
       "        <td>None</td>\n",
       "    </tr>\n",
       "</table>"
      ],
      "text/plain": [
       "[('BIO-101', 'Intro. to Biology', 'Biology', 4, None, None),\n",
       " ('BIO-301', 'Genetics', 'Biology', 4, 'BIO-301', 'BIO-101'),\n",
       " ('BIO-399', 'Computational Biology', 'Biology', 3, 'BIO-399', 'BIO-101'),\n",
       " ('CS-101', 'Intro. to Computer Science', 'Comp. Sci.', 4, None, None),\n",
       " ('CS-190', 'Game Design', 'Comp. Sci.', 4, 'CS-190', 'CS-101'),\n",
       " ('CS-315', 'Robotics', 'Comp. Sci.', 3, 'CS-315', 'CS-101'),\n",
       " ('CS-319', 'Image Processing', 'Comp. Sci.', 3, 'CS-319', 'CS-101'),\n",
       " ('CS-347', 'Database System Concepts', 'Comp. Sci.', 3, 'CS-347', 'CS-101'),\n",
       " ('EE-181', 'Intro. to Digital Systems', 'Elec. Eng.', 3, 'EE-181', 'PHY-101'),\n",
       " ('FIN-201', 'Investment Banking', 'Finance', 3, None, None),\n",
       " ('HIS-351', 'World History', 'History', 3, None, None),\n",
       " ('MU-199', 'Music Video Production', 'Music', 3, None, None),\n",
       " ('PHY-101', 'Physical Principles', 'Physics', 4, None, None)]"
      ]
     },
     "execution_count": 10,
     "metadata": {},
     "output_type": "execute_result"
    }
   ],
   "source": [
    "%%sql \n",
    "select * \n",
    "from course left outer join prereq on course.course_id = prereq.course_id"
   ]
  },
  {
   "cell_type": "code",
   "execution_count": 61,
   "metadata": {},
   "outputs": [
    {
     "name": "stdout",
     "output_type": "stream",
     "text": [
      " * sqlite:///db_univ7.db\n",
      "Done.\n"
     ]
    },
    {
     "data": {
      "text/html": [
       "<table>\n",
       "    <tr>\n",
       "        <th>course_id</th>\n",
       "        <th>title</th>\n",
       "        <th>dept_name</th>\n",
       "        <th>credits</th>\n",
       "        <th>prereq_id</th>\n",
       "    </tr>\n",
       "    <tr>\n",
       "        <td>BIO-101</td>\n",
       "        <td>Intro. to Biology</td>\n",
       "        <td>Biology</td>\n",
       "        <td>4</td>\n",
       "        <td>None</td>\n",
       "    </tr>\n",
       "    <tr>\n",
       "        <td>BIO-301</td>\n",
       "        <td>Genetics</td>\n",
       "        <td>Biology</td>\n",
       "        <td>4</td>\n",
       "        <td>BIO-101</td>\n",
       "    </tr>\n",
       "    <tr>\n",
       "        <td>BIO-399</td>\n",
       "        <td>Computational Biology</td>\n",
       "        <td>Biology</td>\n",
       "        <td>3</td>\n",
       "        <td>BIO-101</td>\n",
       "    </tr>\n",
       "    <tr>\n",
       "        <td>CS-101</td>\n",
       "        <td>Intro. to Computer Science</td>\n",
       "        <td>Comp. Sci.</td>\n",
       "        <td>4</td>\n",
       "        <td>None</td>\n",
       "    </tr>\n",
       "    <tr>\n",
       "        <td>CS-190</td>\n",
       "        <td>Game Design</td>\n",
       "        <td>Comp. Sci.</td>\n",
       "        <td>4</td>\n",
       "        <td>CS-101</td>\n",
       "    </tr>\n",
       "    <tr>\n",
       "        <td>CS-315</td>\n",
       "        <td>Robotics</td>\n",
       "        <td>Comp. Sci.</td>\n",
       "        <td>3</td>\n",
       "        <td>CS-101</td>\n",
       "    </tr>\n",
       "    <tr>\n",
       "        <td>CS-319</td>\n",
       "        <td>Image Processing</td>\n",
       "        <td>Comp. Sci.</td>\n",
       "        <td>3</td>\n",
       "        <td>CS-101</td>\n",
       "    </tr>\n",
       "    <tr>\n",
       "        <td>CS-347</td>\n",
       "        <td>Database System Concepts</td>\n",
       "        <td>Comp. Sci.</td>\n",
       "        <td>3</td>\n",
       "        <td>CS-101</td>\n",
       "    </tr>\n",
       "    <tr>\n",
       "        <td>EE-181</td>\n",
       "        <td>Intro. to Digital Systems</td>\n",
       "        <td>Elec. Eng.</td>\n",
       "        <td>3</td>\n",
       "        <td>PHY-101</td>\n",
       "    </tr>\n",
       "    <tr>\n",
       "        <td>FIN-201</td>\n",
       "        <td>Investment Banking</td>\n",
       "        <td>Finance</td>\n",
       "        <td>3</td>\n",
       "        <td>None</td>\n",
       "    </tr>\n",
       "    <tr>\n",
       "        <td>HIS-351</td>\n",
       "        <td>World History</td>\n",
       "        <td>History</td>\n",
       "        <td>3</td>\n",
       "        <td>None</td>\n",
       "    </tr>\n",
       "    <tr>\n",
       "        <td>MU-199</td>\n",
       "        <td>Music Video Production</td>\n",
       "        <td>Music</td>\n",
       "        <td>3</td>\n",
       "        <td>None</td>\n",
       "    </tr>\n",
       "    <tr>\n",
       "        <td>PHY-101</td>\n",
       "        <td>Physical Principles</td>\n",
       "        <td>Physics</td>\n",
       "        <td>4</td>\n",
       "        <td>None</td>\n",
       "    </tr>\n",
       "</table>"
      ],
      "text/plain": [
       "[('BIO-101', 'Intro. to Biology', 'Biology', 4, None),\n",
       " ('BIO-301', 'Genetics', 'Biology', 4, 'BIO-101'),\n",
       " ('BIO-399', 'Computational Biology', 'Biology', 3, 'BIO-101'),\n",
       " ('CS-101', 'Intro. to Computer Science', 'Comp. Sci.', 4, None),\n",
       " ('CS-190', 'Game Design', 'Comp. Sci.', 4, 'CS-101'),\n",
       " ('CS-315', 'Robotics', 'Comp. Sci.', 3, 'CS-101'),\n",
       " ('CS-319', 'Image Processing', 'Comp. Sci.', 3, 'CS-101'),\n",
       " ('CS-347', 'Database System Concepts', 'Comp. Sci.', 3, 'CS-101'),\n",
       " ('EE-181', 'Intro. to Digital Systems', 'Elec. Eng.', 3, 'PHY-101'),\n",
       " ('FIN-201', 'Investment Banking', 'Finance', 3, None),\n",
       " ('HIS-351', 'World History', 'History', 3, None),\n",
       " ('MU-199', 'Music Video Production', 'Music', 3, None),\n",
       " ('PHY-101', 'Physical Principles', 'Physics', 4, None)]"
      ]
     },
     "execution_count": 61,
     "metadata": {},
     "output_type": "execute_result"
    }
   ],
   "source": [
    "%%sql \n",
    "select * \n",
    "from course left outer join prereq using (course_id)"
   ]
  },
  {
   "cell_type": "code",
   "execution_count": 59,
   "metadata": {},
   "outputs": [
    {
     "name": "stdout",
     "output_type": "stream",
     "text": [
      " * sqlite:///db_univ7.db\n",
      "Done.\n"
     ]
    },
    {
     "data": {
      "text/plain": [
       "[]"
      ]
     },
     "execution_count": 59,
     "metadata": {},
     "output_type": "execute_result"
    }
   ],
   "source": [
    "%%sql \n",
    "create view faculty as \n",
    "select ID, name, dept_name\n",
    "from instructor"
   ]
  },
  {
   "cell_type": "code",
   "execution_count": 70,
   "metadata": {},
   "outputs": [
    {
     "name": "stdout",
     "output_type": "stream",
     "text": [
      " * sqlite:///db_univ7.db\n",
      "Done.\n"
     ]
    },
    {
     "data": {
      "text/html": [
       "<table>\n",
       "    <tr>\n",
       "        <th>name</th>\n",
       "    </tr>\n",
       "    <tr>\n",
       "        <td>Crick</td>\n",
       "    </tr>\n",
       "</table>"
      ],
      "text/plain": [
       "[('Crick',)]"
      ]
     },
     "execution_count": 70,
     "metadata": {},
     "output_type": "execute_result"
    }
   ],
   "source": [
    "%sql select name from faculty where dept_name = 'Biology'"
   ]
  },
  {
   "cell_type": "code",
   "execution_count": 22,
   "metadata": {},
   "outputs": [
    {
     "name": "stdout",
     "output_type": "stream",
     "text": [
      " * sqlite:///db_univ7.db\n",
      "Done.\n"
     ]
    },
    {
     "data": {
      "text/plain": [
       "[]"
      ]
     },
     "execution_count": 22,
     "metadata": {},
     "output_type": "execute_result"
    }
   ],
   "source": [
    "%%sql\n",
    "create view departments_total_salary(dept_name, total_salary) as\n",
    "select dept_name, sum (salary)\n",
    "from instructor\n",
    "group by dept_name;"
   ]
  },
  {
   "cell_type": "code",
   "execution_count": 71,
   "metadata": {},
   "outputs": [
    {
     "name": "stdout",
     "output_type": "stream",
     "text": [
      " * sqlite:///db_univ7.db\n",
      "Done.\n"
     ]
    },
    {
     "data": {
      "text/html": [
       "<table>\n",
       "    <tr>\n",
       "        <th>dept_name</th>\n",
       "        <th>total_salary</th>\n",
       "    </tr>\n",
       "    <tr>\n",
       "        <td>Biology</td>\n",
       "        <td>72000</td>\n",
       "    </tr>\n",
       "    <tr>\n",
       "        <td>Comp. Sci.</td>\n",
       "        <td>232000</td>\n",
       "    </tr>\n",
       "    <tr>\n",
       "        <td>Elec. Eng.</td>\n",
       "        <td>80000</td>\n",
       "    </tr>\n",
       "    <tr>\n",
       "        <td>Finance</td>\n",
       "        <td>170000</td>\n",
       "    </tr>\n",
       "    <tr>\n",
       "        <td>History</td>\n",
       "        <td>122000</td>\n",
       "    </tr>\n",
       "    <tr>\n",
       "        <td>Music</td>\n",
       "        <td>40000</td>\n",
       "    </tr>\n",
       "    <tr>\n",
       "        <td>Physics</td>\n",
       "        <td>182000</td>\n",
       "    </tr>\n",
       "</table>"
      ],
      "text/plain": [
       "[('Biology', 72000),\n",
       " ('Comp. Sci.', 232000),\n",
       " ('Elec. Eng.', 80000),\n",
       " ('Finance', 170000),\n",
       " ('History', 122000),\n",
       " ('Music', 40000),\n",
       " ('Physics', 182000)]"
      ]
     },
     "execution_count": 71,
     "metadata": {},
     "output_type": "execute_result"
    }
   ],
   "source": [
    "%sql select * from  departments_total_salary"
   ]
  },
  {
   "cell_type": "code",
   "execution_count": 31,
   "metadata": {},
   "outputs": [
    {
     "name": "stdout",
     "output_type": "stream",
     "text": [
      " * sqlite:///db_univ7.db\n",
      "Done.\n"
     ]
    },
    {
     "data": {
      "text/plain": [
       "[]"
      ]
     },
     "execution_count": 31,
     "metadata": {},
     "output_type": "execute_result"
    }
   ],
   "source": [
    "%%sql\n",
    "create view physics_fall_2017 as\n",
    "select course.course_id, sec_id, building, room_number\n",
    "from course, section\n",
    "where course.course_id = section.course_id\n",
    "and course.dept_name = 'Physics' and section.semester = 'Fall' and section.year = '2017'"
   ]
  },
  {
   "cell_type": "code",
   "execution_count": 72,
   "metadata": {},
   "outputs": [
    {
     "name": "stdout",
     "output_type": "stream",
     "text": [
      " * sqlite:///db_univ7.db\n",
      "Done.\n"
     ]
    },
    {
     "data": {
      "text/html": [
       "<table>\n",
       "    <tr>\n",
       "        <th>course_id</th>\n",
       "        <th>sec_id</th>\n",
       "        <th>building</th>\n",
       "        <th>room_number</th>\n",
       "    </tr>\n",
       "    <tr>\n",
       "        <td>PHY-101</td>\n",
       "        <td>1</td>\n",
       "        <td>Watson</td>\n",
       "        <td>100</td>\n",
       "    </tr>\n",
       "</table>"
      ],
      "text/plain": [
       "[('PHY-101', '1', 'Watson', '100')]"
      ]
     },
     "execution_count": 72,
     "metadata": {},
     "output_type": "execute_result"
    }
   ],
   "source": [
    "%sql select * from physics_fall_2017"
   ]
  },
  {
   "cell_type": "code",
   "execution_count": 33,
   "metadata": {},
   "outputs": [
    {
     "name": "stdout",
     "output_type": "stream",
     "text": [
      " * sqlite:///db_univ7.db\n",
      "Done.\n"
     ]
    },
    {
     "data": {
      "text/plain": [
       "[]"
      ]
     },
     "execution_count": 33,
     "metadata": {},
     "output_type": "execute_result"
    }
   ],
   "source": [
    "%%sql\n",
    "create view physics_fall_2017_watson as\n",
    "select course_id, room_number from physics_fall_2017 where building='Watson'\n"
   ]
  },
  {
   "cell_type": "code",
   "execution_count": 34,
   "metadata": {},
   "outputs": [
    {
     "name": "stdout",
     "output_type": "stream",
     "text": [
      " * sqlite:///db_univ7.db\n",
      "Done.\n"
     ]
    },
    {
     "data": {
      "text/html": [
       "<table>\n",
       "    <tr>\n",
       "        <th>course_id</th>\n",
       "        <th>room_number</th>\n",
       "    </tr>\n",
       "    <tr>\n",
       "        <td>PHY-101</td>\n",
       "        <td>100</td>\n",
       "    </tr>\n",
       "</table>"
      ],
      "text/plain": [
       "[('PHY-101', '100')]"
      ]
     },
     "execution_count": 34,
     "metadata": {},
     "output_type": "execute_result"
    }
   ],
   "source": [
    "%sql select * from physics_fall_2017_watson"
   ]
  },
  {
   "cell_type": "code",
   "execution_count": 35,
   "metadata": {},
   "outputs": [
    {
     "name": "stdout",
     "output_type": "stream",
     "text": [
      " * sqlite:///db_univ7.db\n",
      "(sqlite3.OperationalError) cannot modify faculty because it is a view\n",
      "[SQL: insert into faculty values ('30765', 'Green', 'Music');]\n",
      "(Background on this error at: http://sqlalche.me/e/13/e3q8)\n"
     ]
    }
   ],
   "source": [
    "%sql insert into faculty values ('30765', 'Green', 'Music');"
   ]
  },
  {
   "cell_type": "code",
   "execution_count": null,
   "metadata": {},
   "outputs": [],
   "source": []
  }
 ],
 "metadata": {
  "kernelspec": {
   "display_name": "Python 3",
   "language": "python",
   "name": "python3"
  },
  "language_info": {
   "codemirror_mode": {
    "name": "ipython",
    "version": 3
   },
   "file_extension": ".py",
   "mimetype": "text/x-python",
   "name": "python",
   "nbconvert_exporter": "python",
   "pygments_lexer": "ipython3",
   "version": "3.8.3"
  }
 },
 "nbformat": 4,
 "nbformat_minor": 2
}
