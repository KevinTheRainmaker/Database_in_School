{
 "cells": [
  {
   "cell_type": "code",
   "execution_count": 1,
   "metadata": {},
   "outputs": [],
   "source": [
    "%load_ext sql"
   ]
  },
  {
   "cell_type": "code",
   "execution_count": 2,
   "metadata": {},
   "outputs": [],
   "source": [
    "%sql sqlite:///db_univ7.db"
   ]
  },
  {
   "cell_type": "markdown",
   "metadata": {},
   "source": [
    "### To Check DB"
   ]
  },
  {
   "cell_type": "code",
   "execution_count": 3,
   "metadata": {},
   "outputs": [
    {
     "name": "stdout",
     "output_type": "stream",
     "text": [
      " * sqlite:///db_univ7.db\n",
      "Done.\n"
     ]
    },
    {
     "data": {
      "text/html": [
       "<table>\n",
       "    <tr>\n",
       "        <th>type</th>\n",
       "        <th>name</th>\n",
       "        <th>tbl_name</th>\n",
       "        <th>rootpage</th>\n",
       "        <th>sql</th>\n",
       "    </tr>\n",
       "    <tr>\n",
       "        <td>table</td>\n",
       "        <td>classroom</td>\n",
       "        <td>classroom</td>\n",
       "        <td>2</td>\n",
       "        <td>CREATE TABLE classroom<br>\t(building\t\tvarchar(15),<br>\t room_number\t\tvarchar(7),<br>\t capacity\t\tnumeric(4,0),<br>\t primary key (building, room_number)<br>\t)</td>\n",
       "    </tr>\n",
       "    <tr>\n",
       "        <td>index</td>\n",
       "        <td>sqlite_autoindex_classroom_1</td>\n",
       "        <td>classroom</td>\n",
       "        <td>3</td>\n",
       "        <td>None</td>\n",
       "    </tr>\n",
       "    <tr>\n",
       "        <td>table</td>\n",
       "        <td>department</td>\n",
       "        <td>department</td>\n",
       "        <td>4</td>\n",
       "        <td>CREATE TABLE department<br>\t(dept_name\t\tvarchar(20), <br>\t building\t\tvarchar(15), <br>\t budget\t\t        numeric(12,2) check (budget &gt; 0),<br>\t primary key (dept_name)<br>\t)</td>\n",
       "    </tr>\n",
       "    <tr>\n",
       "        <td>index</td>\n",
       "        <td>sqlite_autoindex_department_1</td>\n",
       "        <td>department</td>\n",
       "        <td>5</td>\n",
       "        <td>None</td>\n",
       "    </tr>\n",
       "    <tr>\n",
       "        <td>table</td>\n",
       "        <td>course</td>\n",
       "        <td>course</td>\n",
       "        <td>6</td>\n",
       "        <td>CREATE TABLE course<br>\t(course_id\t\tvarchar(8), <br>\t title\t\t\tvarchar(50), <br>\t dept_name\t\tvarchar(20),<br>\t credits\t\tnumeric(2,0) check (credits &gt; 0),<br>\t primary key (course_id),<br>\t foreign key (dept_name) references department (dept_name)<br>\t\ton delete set null<br>\t)</td>\n",
       "    </tr>\n",
       "    <tr>\n",
       "        <td>index</td>\n",
       "        <td>sqlite_autoindex_course_1</td>\n",
       "        <td>course</td>\n",
       "        <td>7</td>\n",
       "        <td>None</td>\n",
       "    </tr>\n",
       "    <tr>\n",
       "        <td>table</td>\n",
       "        <td>instructor</td>\n",
       "        <td>instructor</td>\n",
       "        <td>8</td>\n",
       "        <td>CREATE TABLE instructor<br>\t(ID\t\t\tvarchar(5), <br>\t name\t\t\tvarchar(20) not null, <br>\t dept_name\t\tvarchar(20), <br>\t salary\t\t\tnumeric(8,2) check (salary &gt; 29000),<br>\t primary key (ID),<br>\t foreign key (dept_name) references department (dept_name)<br>\t\ton delete set null<br>\t)</td>\n",
       "    </tr>\n",
       "    <tr>\n",
       "        <td>index</td>\n",
       "        <td>sqlite_autoindex_instructor_1</td>\n",
       "        <td>instructor</td>\n",
       "        <td>9</td>\n",
       "        <td>None</td>\n",
       "    </tr>\n",
       "    <tr>\n",
       "        <td>table</td>\n",
       "        <td>section</td>\n",
       "        <td>section</td>\n",
       "        <td>10</td>\n",
       "        <td>CREATE TABLE section<br>\t(course_id\t\tvarchar(8), <br>         sec_id\t\t\tvarchar(8),<br>\t semester\t\tvarchar(6)<br>\t\tcheck (semester in (&#x27;Fall&#x27;, &#x27;Winter&#x27;, &#x27;Spring&#x27;, &#x27;Summer&#x27;)), <br>\t year\t\t\tnumeric(4,0) check (year &gt; 1701 and year &lt; 2100), <br>\t building\t\tvarchar(15),<br>\t room_number\t\tvarchar(7),<br>\t time_slot_id\t\tvarchar(4),<br>\t primary key (course_id, sec_id, semester, year),<br>\t foreign key (course_id) references course (course_id)<br>\t\ton delete cascade,<br>\t foreign key (building, room_number) references classroom (building, room_number)<br>\t\ton delete set null<br>\t)</td>\n",
       "    </tr>\n",
       "    <tr>\n",
       "        <td>index</td>\n",
       "        <td>sqlite_autoindex_section_1</td>\n",
       "        <td>section</td>\n",
       "        <td>11</td>\n",
       "        <td>None</td>\n",
       "    </tr>\n",
       "    <tr>\n",
       "        <td>table</td>\n",
       "        <td>teaches</td>\n",
       "        <td>teaches</td>\n",
       "        <td>12</td>\n",
       "        <td>CREATE TABLE teaches<br>\t(ID\t\t\tvarchar(5), <br>\t course_id\t\tvarchar(8),<br>\t sec_id\t\t\tvarchar(8), <br>\t semester\t\tvarchar(6),<br>\t year\t\t\tnumeric(4,0),<br>\t primary key (ID, course_id, sec_id, semester, year),<br>\t foreign key (course_id, sec_id, semester, year) references section (course_id, sec_id, semester, year)<br>\t\ton delete cascade,<br>\t foreign key (ID) references instructor (ID)<br>\t\ton delete cascade<br>\t)</td>\n",
       "    </tr>\n",
       "    <tr>\n",
       "        <td>index</td>\n",
       "        <td>sqlite_autoindex_teaches_1</td>\n",
       "        <td>teaches</td>\n",
       "        <td>13</td>\n",
       "        <td>None</td>\n",
       "    </tr>\n",
       "    <tr>\n",
       "        <td>table</td>\n",
       "        <td>student</td>\n",
       "        <td>student</td>\n",
       "        <td>14</td>\n",
       "        <td>CREATE TABLE student<br>\t(ID\t\t\tvarchar(5), <br>\t name\t\t\tvarchar(20) not null, <br>\t dept_name\t\tvarchar(20), <br>\t tot_cred\t\tnumeric(3,0) check (tot_cred &gt;= 0),<br>\t primary key (ID),<br>\t foreign key (dept_name) references department (dept_name)<br>\t\ton delete set null<br>\t)</td>\n",
       "    </tr>\n",
       "    <tr>\n",
       "        <td>index</td>\n",
       "        <td>sqlite_autoindex_student_1</td>\n",
       "        <td>student</td>\n",
       "        <td>15</td>\n",
       "        <td>None</td>\n",
       "    </tr>\n",
       "    <tr>\n",
       "        <td>table</td>\n",
       "        <td>takes</td>\n",
       "        <td>takes</td>\n",
       "        <td>16</td>\n",
       "        <td>CREATE TABLE takes<br>\t(ID\t\t\tvarchar(5), <br>\t course_id\t\tvarchar(8),<br>\t sec_id\t\t\tvarchar(8), <br>\t semester\t\tvarchar(6),<br>\t year\t\t\tnumeric(4,0),<br>\t grade\t\t        varchar(2),<br>\t primary key (ID, course_id, sec_id, semester, year),<br>\t foreign key (course_id, sec_id, semester, year) references section (course_id, sec_id, semester, year)<br>\t\ton delete cascade,<br>\t foreign key (ID) references student (ID)<br>\t\ton delete cascade<br>\t)</td>\n",
       "    </tr>\n",
       "    <tr>\n",
       "        <td>index</td>\n",
       "        <td>sqlite_autoindex_takes_1</td>\n",
       "        <td>takes</td>\n",
       "        <td>17</td>\n",
       "        <td>None</td>\n",
       "    </tr>\n",
       "    <tr>\n",
       "        <td>table</td>\n",
       "        <td>advisor</td>\n",
       "        <td>advisor</td>\n",
       "        <td>18</td>\n",
       "        <td>CREATE TABLE advisor<br>\t(s_ID\t\t\tvarchar(5),<br>\t i_ID\t\t\tvarchar(5),<br>\t primary key (s_ID),<br>\t foreign key (i_ID) references instructor (ID)<br>\t\ton delete set null,<br>\t foreign key (s_ID) references student (ID)<br>\t\ton delete cascade<br>\t)</td>\n",
       "    </tr>\n",
       "    <tr>\n",
       "        <td>index</td>\n",
       "        <td>sqlite_autoindex_advisor_1</td>\n",
       "        <td>advisor</td>\n",
       "        <td>19</td>\n",
       "        <td>None</td>\n",
       "    </tr>\n",
       "    <tr>\n",
       "        <td>table</td>\n",
       "        <td>time_slot</td>\n",
       "        <td>time_slot</td>\n",
       "        <td>20</td>\n",
       "        <td>CREATE TABLE time_slot<br>\t(time_slot_id\t\tvarchar(4),<br>\t day\t\t\tvarchar(1),<br>\t start_hr\t\tnumeric(2) check (start_hr &gt;= 0 and start_hr &lt; 24),<br>\t start_min\t\tnumeric(2) check (start_min &gt;= 0 and start_min &lt; 60),<br>\t end_hr\t\t\tnumeric(2) check (end_hr &gt;= 0 and end_hr &lt; 24),<br>\t end_min\t\tnumeric(2) check (end_min &gt;= 0 and end_min &lt; 60),<br>\t primary key (time_slot_id, day, start_hr, start_min)<br>\t)</td>\n",
       "    </tr>\n",
       "    <tr>\n",
       "        <td>index</td>\n",
       "        <td>sqlite_autoindex_time_slot_1</td>\n",
       "        <td>time_slot</td>\n",
       "        <td>21</td>\n",
       "        <td>None</td>\n",
       "    </tr>\n",
       "    <tr>\n",
       "        <td>table</td>\n",
       "        <td>prereq</td>\n",
       "        <td>prereq</td>\n",
       "        <td>22</td>\n",
       "        <td>CREATE TABLE prereq<br>\t(course_id\t\tvarchar(8), <br>\t prereq_id\t\tvarchar(8),<br>\t primary key (course_id, prereq_id),<br>\t foreign key (course_id) references course (course_id)<br>\t\ton delete cascade,<br>\t foreign key (prereq_id) references course (course_id)<br>\t)</td>\n",
       "    </tr>\n",
       "    <tr>\n",
       "        <td>index</td>\n",
       "        <td>sqlite_autoindex_prereq_1</td>\n",
       "        <td>prereq</td>\n",
       "        <td>23</td>\n",
       "        <td>None</td>\n",
       "    </tr>\n",
       "</table>"
      ],
      "text/plain": [
       "[('table', 'classroom', 'classroom', 2, 'CREATE TABLE classroom\\n\\t(building\\t\\tvarchar(15),\\n\\t room_number\\t\\tvarchar(7),\\n\\t capacity\\t\\tnumeric(4,0),\\n\\t primary key (building, room_number)\\n\\t)'),\n",
       " ('index', 'sqlite_autoindex_classroom_1', 'classroom', 3, None),\n",
       " ('table', 'department', 'department', 4, 'CREATE TABLE department\\n\\t(dept_name\\t\\tvarchar(20), \\n\\t building\\t\\tvarchar(15), \\n\\t budget\\t\\t        numeric(12,2) check (budget > 0),\\n\\t primary key (dept_name)\\n\\t)'),\n",
       " ('index', 'sqlite_autoindex_department_1', 'department', 5, None),\n",
       " ('table', 'course', 'course', 6, 'CREATE TABLE course\\n\\t(course_id\\t\\tvarchar(8), \\n\\t title\\t\\t\\tvarchar(50), \\n\\t dept_name\\t\\tvarchar(20),\\n\\t credits\\t\\tnumeric(2,0) check (credits > 0),\\n\\t primary key (course_id),\\n\\t foreign key (dept_name) references department (dept_name)\\n\\t\\ton delete set null\\n\\t)'),\n",
       " ('index', 'sqlite_autoindex_course_1', 'course', 7, None),\n",
       " ('table', 'instructor', 'instructor', 8, 'CREATE TABLE instructor\\n\\t(ID\\t\\t\\tvarchar(5), \\n\\t name\\t\\t\\tvarchar(20) not null, \\n\\t dept_name\\t\\tvarchar(20), \\n\\t salary\\t\\t\\tnumeric(8,2) check (salary > 29000),\\n\\t primary key (ID),\\n\\t foreign key (dept_name) references department (dept_name)\\n\\t\\ton delete set null\\n\\t)'),\n",
       " ('index', 'sqlite_autoindex_instructor_1', 'instructor', 9, None),\n",
       " ('table', 'section', 'section', 10, \"CREATE TABLE section\\n\\t(course_id\\t\\tvarchar(8), \\n         sec_id\\t\\t\\tvarchar(8),\\n\\t semester\\t\\tvarchar(6)\\n\\t\\tcheck (semester in ('Fall', 'Win ... (285 characters truncated) ... (course_id)\\n\\t\\ton delete cascade,\\n\\t foreign key (building, room_number) references classroom (building, room_number)\\n\\t\\ton delete set null\\n\\t)\"),\n",
       " ('index', 'sqlite_autoindex_section_1', 'section', 11, None),\n",
       " ('table', 'teaches', 'teaches', 12, 'CREATE TABLE teaches\\n\\t(ID\\t\\t\\tvarchar(5), \\n\\t course_id\\t\\tvarchar(8),\\n\\t sec_id\\t\\t\\tvarchar(8), \\n\\t semester\\t\\tvarchar(6),\\n\\t year\\t\\t\\tnum ... (125 characters truncated) ... ences section (course_id, sec_id, semester, year)\\n\\t\\ton delete cascade,\\n\\t foreign key (ID) references instructor (ID)\\n\\t\\ton delete cascade\\n\\t)'),\n",
       " ('index', 'sqlite_autoindex_teaches_1', 'teaches', 13, None),\n",
       " ('table', 'student', 'student', 14, 'CREATE TABLE student\\n\\t(ID\\t\\t\\tvarchar(5), \\n\\t name\\t\\t\\tvarchar(20) not null, \\n\\t dept_name\\t\\tvarchar(20), \\n\\t tot_cred\\t\\tnumeric(3,0) check (tot_cred >= 0),\\n\\t primary key (ID),\\n\\t foreign key (dept_name) references department (dept_name)\\n\\t\\ton delete set null\\n\\t)'),\n",
       " ('index', 'sqlite_autoindex_student_1', 'student', 15, None),\n",
       " ('table', 'takes', 'takes', 16, 'CREATE TABLE takes\\n\\t(ID\\t\\t\\tvarchar(5), \\n\\t course_id\\t\\tvarchar(8),\\n\\t sec_id\\t\\t\\tvarchar(8), \\n\\t semester\\t\\tvarchar(6),\\n\\t year\\t\\t\\tnumer ... (153 characters truncated) ... ferences section (course_id, sec_id, semester, year)\\n\\t\\ton delete cascade,\\n\\t foreign key (ID) references student (ID)\\n\\t\\ton delete cascade\\n\\t)'),\n",
       " ('index', 'sqlite_autoindex_takes_1', 'takes', 17, None),\n",
       " ('table', 'advisor', 'advisor', 18, 'CREATE TABLE advisor\\n\\t(s_ID\\t\\t\\tvarchar(5),\\n\\t i_ID\\t\\t\\tvarchar(5),\\n\\t primary key (s_ID),\\n\\t foreign key (i_ID) references instructor (ID)\\n\\t\\ton delete set null,\\n\\t foreign key (s_ID) references student (ID)\\n\\t\\ton delete cascade\\n\\t)'),\n",
       " ('index', 'sqlite_autoindex_advisor_1', 'advisor', 19, None),\n",
       " ('table', 'time_slot', 'time_slot', 20, 'CREATE TABLE time_slot\\n\\t(time_slot_id\\t\\tvarchar(4),\\n\\t day\\t\\t\\tvarchar(1),\\n\\t start_hr\\t\\tnumeric(2) check (start_hr >= 0 and start_hr < 24),\\n ... (111 characters truncated) ... >= 0 and end_hr < 24),\\n\\t end_min\\t\\tnumeric(2) check (end_min >= 0 and end_min < 60),\\n\\t primary key (time_slot_id, day, start_hr, start_min)\\n\\t)'),\n",
       " ('index', 'sqlite_autoindex_time_slot_1', 'time_slot', 21, None),\n",
       " ('table', 'prereq', 'prereq', 22, 'CREATE TABLE prereq\\n\\t(course_id\\t\\tvarchar(8), \\n\\t prereq_id\\t\\tvarchar(8),\\n\\t primary key (course_id, prereq_id),\\n\\t foreign key (course_id) references course (course_id)\\n\\t\\ton delete cascade,\\n\\t foreign key (prereq_id) references course (course_id)\\n\\t)'),\n",
       " ('index', 'sqlite_autoindex_prereq_1', 'prereq', 23, None)]"
      ]
     },
     "execution_count": 3,
     "metadata": {},
     "output_type": "execute_result"
    }
   ],
   "source": [
    "%sql select * from sqlite_master"
   ]
  },
  {
   "cell_type": "code",
   "execution_count": 4,
   "metadata": {},
   "outputs": [
    {
     "name": "stdout",
     "output_type": "stream",
     "text": [
      " * sqlite:///db_univ7.db\n",
      "Done.\n"
     ]
    },
    {
     "data": {
      "text/html": [
       "<table>\n",
       "    <tr>\n",
       "        <th>course_id</th>\n",
       "        <th>title</th>\n",
       "        <th>dept_name</th>\n",
       "        <th>credits</th>\n",
       "    </tr>\n",
       "    <tr>\n",
       "        <td>BIO-101</td>\n",
       "        <td>Intro. to Biology</td>\n",
       "        <td>Biology</td>\n",
       "        <td>4</td>\n",
       "    </tr>\n",
       "    <tr>\n",
       "        <td>BIO-301</td>\n",
       "        <td>Genetics</td>\n",
       "        <td>Biology</td>\n",
       "        <td>4</td>\n",
       "    </tr>\n",
       "    <tr>\n",
       "        <td>BIO-399</td>\n",
       "        <td>Computational Biology</td>\n",
       "        <td>Biology</td>\n",
       "        <td>3</td>\n",
       "    </tr>\n",
       "    <tr>\n",
       "        <td>CS-101</td>\n",
       "        <td>Intro. to Computer Science</td>\n",
       "        <td>Comp. Sci.</td>\n",
       "        <td>4</td>\n",
       "    </tr>\n",
       "    <tr>\n",
       "        <td>CS-190</td>\n",
       "        <td>Game Design</td>\n",
       "        <td>Comp. Sci.</td>\n",
       "        <td>4</td>\n",
       "    </tr>\n",
       "    <tr>\n",
       "        <td>CS-315</td>\n",
       "        <td>Robotics</td>\n",
       "        <td>Comp. Sci.</td>\n",
       "        <td>3</td>\n",
       "    </tr>\n",
       "    <tr>\n",
       "        <td>CS-319</td>\n",
       "        <td>Image Processing</td>\n",
       "        <td>Comp. Sci.</td>\n",
       "        <td>3</td>\n",
       "    </tr>\n",
       "    <tr>\n",
       "        <td>CS-347</td>\n",
       "        <td>Database System Concepts</td>\n",
       "        <td>Comp. Sci.</td>\n",
       "        <td>3</td>\n",
       "    </tr>\n",
       "    <tr>\n",
       "        <td>EE-181</td>\n",
       "        <td>Intro. to Digital Systems</td>\n",
       "        <td>Elec. Eng.</td>\n",
       "        <td>3</td>\n",
       "    </tr>\n",
       "    <tr>\n",
       "        <td>FIN-201</td>\n",
       "        <td>Investment Banking</td>\n",
       "        <td>Finance</td>\n",
       "        <td>3</td>\n",
       "    </tr>\n",
       "    <tr>\n",
       "        <td>HIS-351</td>\n",
       "        <td>World History</td>\n",
       "        <td>History</td>\n",
       "        <td>3</td>\n",
       "    </tr>\n",
       "    <tr>\n",
       "        <td>MU-199</td>\n",
       "        <td>Music Video Production</td>\n",
       "        <td>Music</td>\n",
       "        <td>3</td>\n",
       "    </tr>\n",
       "    <tr>\n",
       "        <td>PHY-101</td>\n",
       "        <td>Physical Principles</td>\n",
       "        <td>Physics</td>\n",
       "        <td>4</td>\n",
       "    </tr>\n",
       "</table>"
      ],
      "text/plain": [
       "[('BIO-101', 'Intro. to Biology', 'Biology', 4),\n",
       " ('BIO-301', 'Genetics', 'Biology', 4),\n",
       " ('BIO-399', 'Computational Biology', 'Biology', 3),\n",
       " ('CS-101', 'Intro. to Computer Science', 'Comp. Sci.', 4),\n",
       " ('CS-190', 'Game Design', 'Comp. Sci.', 4),\n",
       " ('CS-315', 'Robotics', 'Comp. Sci.', 3),\n",
       " ('CS-319', 'Image Processing', 'Comp. Sci.', 3),\n",
       " ('CS-347', 'Database System Concepts', 'Comp. Sci.', 3),\n",
       " ('EE-181', 'Intro. to Digital Systems', 'Elec. Eng.', 3),\n",
       " ('FIN-201', 'Investment Banking', 'Finance', 3),\n",
       " ('HIS-351', 'World History', 'History', 3),\n",
       " ('MU-199', 'Music Video Production', 'Music', 3),\n",
       " ('PHY-101', 'Physical Principles', 'Physics', 4)]"
      ]
     },
     "execution_count": 4,
     "metadata": {},
     "output_type": "execute_result"
    }
   ],
   "source": [
    "%sql select * from course"
   ]
  },
  {
   "cell_type": "code",
   "execution_count": 5,
   "metadata": {},
   "outputs": [
    {
     "name": "stdout",
     "output_type": "stream",
     "text": [
      " * sqlite:///db_univ7.db\n",
      "Done.\n"
     ]
    },
    {
     "data": {
      "text/html": [
       "<table>\n",
       "    <tr>\n",
       "        <th>course_id</th>\n",
       "        <th>sec_id</th>\n",
       "        <th>semester</th>\n",
       "        <th>year</th>\n",
       "        <th>building</th>\n",
       "        <th>room_number</th>\n",
       "        <th>time_slot_id</th>\n",
       "    </tr>\n",
       "    <tr>\n",
       "        <td>BIO-101</td>\n",
       "        <td>1</td>\n",
       "        <td>Summer</td>\n",
       "        <td>2017</td>\n",
       "        <td>Painter</td>\n",
       "        <td>514</td>\n",
       "        <td>B</td>\n",
       "    </tr>\n",
       "    <tr>\n",
       "        <td>BIO-301</td>\n",
       "        <td>1</td>\n",
       "        <td>Summer</td>\n",
       "        <td>2018</td>\n",
       "        <td>Painter</td>\n",
       "        <td>514</td>\n",
       "        <td>A</td>\n",
       "    </tr>\n",
       "    <tr>\n",
       "        <td>CS-101</td>\n",
       "        <td>1</td>\n",
       "        <td>Fall</td>\n",
       "        <td>2017</td>\n",
       "        <td>Packard</td>\n",
       "        <td>101</td>\n",
       "        <td>H</td>\n",
       "    </tr>\n",
       "    <tr>\n",
       "        <td>CS-101</td>\n",
       "        <td>1</td>\n",
       "        <td>Spring</td>\n",
       "        <td>2018</td>\n",
       "        <td>Packard</td>\n",
       "        <td>101</td>\n",
       "        <td>F</td>\n",
       "    </tr>\n",
       "    <tr>\n",
       "        <td>CS-190</td>\n",
       "        <td>1</td>\n",
       "        <td>Spring</td>\n",
       "        <td>2017</td>\n",
       "        <td>Taylor</td>\n",
       "        <td>3128</td>\n",
       "        <td>E</td>\n",
       "    </tr>\n",
       "    <tr>\n",
       "        <td>CS-190</td>\n",
       "        <td>2</td>\n",
       "        <td>Spring</td>\n",
       "        <td>2017</td>\n",
       "        <td>Taylor</td>\n",
       "        <td>3128</td>\n",
       "        <td>A</td>\n",
       "    </tr>\n",
       "    <tr>\n",
       "        <td>CS-315</td>\n",
       "        <td>1</td>\n",
       "        <td>Spring</td>\n",
       "        <td>2018</td>\n",
       "        <td>Watson</td>\n",
       "        <td>120</td>\n",
       "        <td>D</td>\n",
       "    </tr>\n",
       "    <tr>\n",
       "        <td>CS-319</td>\n",
       "        <td>1</td>\n",
       "        <td>Spring</td>\n",
       "        <td>2018</td>\n",
       "        <td>Watson</td>\n",
       "        <td>100</td>\n",
       "        <td>B</td>\n",
       "    </tr>\n",
       "    <tr>\n",
       "        <td>CS-319</td>\n",
       "        <td>2</td>\n",
       "        <td>Spring</td>\n",
       "        <td>2018</td>\n",
       "        <td>Taylor</td>\n",
       "        <td>3128</td>\n",
       "        <td>C</td>\n",
       "    </tr>\n",
       "    <tr>\n",
       "        <td>CS-347</td>\n",
       "        <td>1</td>\n",
       "        <td>Fall</td>\n",
       "        <td>2017</td>\n",
       "        <td>Taylor</td>\n",
       "        <td>3128</td>\n",
       "        <td>A</td>\n",
       "    </tr>\n",
       "    <tr>\n",
       "        <td>EE-181</td>\n",
       "        <td>1</td>\n",
       "        <td>Spring</td>\n",
       "        <td>2017</td>\n",
       "        <td>Taylor</td>\n",
       "        <td>3128</td>\n",
       "        <td>C</td>\n",
       "    </tr>\n",
       "    <tr>\n",
       "        <td>FIN-201</td>\n",
       "        <td>1</td>\n",
       "        <td>Spring</td>\n",
       "        <td>2018</td>\n",
       "        <td>Packard</td>\n",
       "        <td>101</td>\n",
       "        <td>B</td>\n",
       "    </tr>\n",
       "    <tr>\n",
       "        <td>HIS-351</td>\n",
       "        <td>1</td>\n",
       "        <td>Spring</td>\n",
       "        <td>2018</td>\n",
       "        <td>Painter</td>\n",
       "        <td>514</td>\n",
       "        <td>C</td>\n",
       "    </tr>\n",
       "    <tr>\n",
       "        <td>MU-199</td>\n",
       "        <td>1</td>\n",
       "        <td>Spring</td>\n",
       "        <td>2018</td>\n",
       "        <td>Packard</td>\n",
       "        <td>101</td>\n",
       "        <td>D</td>\n",
       "    </tr>\n",
       "    <tr>\n",
       "        <td>PHY-101</td>\n",
       "        <td>1</td>\n",
       "        <td>Fall</td>\n",
       "        <td>2017</td>\n",
       "        <td>Watson</td>\n",
       "        <td>100</td>\n",
       "        <td>A</td>\n",
       "    </tr>\n",
       "</table>"
      ],
      "text/plain": [
       "[('BIO-101', '1', 'Summer', 2017, 'Painter', '514', 'B'),\n",
       " ('BIO-301', '1', 'Summer', 2018, 'Painter', '514', 'A'),\n",
       " ('CS-101', '1', 'Fall', 2017, 'Packard', '101', 'H'),\n",
       " ('CS-101', '1', 'Spring', 2018, 'Packard', '101', 'F'),\n",
       " ('CS-190', '1', 'Spring', 2017, 'Taylor', '3128', 'E'),\n",
       " ('CS-190', '2', 'Spring', 2017, 'Taylor', '3128', 'A'),\n",
       " ('CS-315', '1', 'Spring', 2018, 'Watson', '120', 'D'),\n",
       " ('CS-319', '1', 'Spring', 2018, 'Watson', '100', 'B'),\n",
       " ('CS-319', '2', 'Spring', 2018, 'Taylor', '3128', 'C'),\n",
       " ('CS-347', '1', 'Fall', 2017, 'Taylor', '3128', 'A'),\n",
       " ('EE-181', '1', 'Spring', 2017, 'Taylor', '3128', 'C'),\n",
       " ('FIN-201', '1', 'Spring', 2018, 'Packard', '101', 'B'),\n",
       " ('HIS-351', '1', 'Spring', 2018, 'Painter', '514', 'C'),\n",
       " ('MU-199', '1', 'Spring', 2018, 'Packard', '101', 'D'),\n",
       " ('PHY-101', '1', 'Fall', 2017, 'Watson', '100', 'A')]"
      ]
     },
     "execution_count": 5,
     "metadata": {},
     "output_type": "execute_result"
    }
   ],
   "source": [
    "%%sql\n",
    "select * from section \n",
    "order by course_id,year, semester"
   ]
  },
  {
   "cell_type": "code",
   "execution_count": 6,
   "metadata": {},
   "outputs": [
    {
     "name": "stdout",
     "output_type": "stream",
     "text": [
      " * sqlite:///db_univ7.db\n",
      "Done.\n"
     ]
    },
    {
     "data": {
      "text/html": [
       "<table>\n",
       "    <tr>\n",
       "        <th>ID</th>\n",
       "        <th>name</th>\n",
       "        <th>dept_name</th>\n",
       "        <th>tot_cred</th>\n",
       "    </tr>\n",
       "    <tr>\n",
       "        <td>00128</td>\n",
       "        <td>Zhang</td>\n",
       "        <td>Comp. Sci.</td>\n",
       "        <td>102</td>\n",
       "    </tr>\n",
       "    <tr>\n",
       "        <td>12345</td>\n",
       "        <td>Shankar</td>\n",
       "        <td>Comp. Sci.</td>\n",
       "        <td>32</td>\n",
       "    </tr>\n",
       "    <tr>\n",
       "        <td>19991</td>\n",
       "        <td>Brandt</td>\n",
       "        <td>History</td>\n",
       "        <td>80</td>\n",
       "    </tr>\n",
       "    <tr>\n",
       "        <td>23121</td>\n",
       "        <td>Chavez</td>\n",
       "        <td>Finance</td>\n",
       "        <td>110</td>\n",
       "    </tr>\n",
       "    <tr>\n",
       "        <td>44553</td>\n",
       "        <td>Peltier</td>\n",
       "        <td>Physics</td>\n",
       "        <td>56</td>\n",
       "    </tr>\n",
       "    <tr>\n",
       "        <td>45678</td>\n",
       "        <td>Levy</td>\n",
       "        <td>Physics</td>\n",
       "        <td>46</td>\n",
       "    </tr>\n",
       "    <tr>\n",
       "        <td>54321</td>\n",
       "        <td>Williams</td>\n",
       "        <td>Comp. Sci.</td>\n",
       "        <td>54</td>\n",
       "    </tr>\n",
       "    <tr>\n",
       "        <td>55739</td>\n",
       "        <td>Sanchez</td>\n",
       "        <td>Music</td>\n",
       "        <td>38</td>\n",
       "    </tr>\n",
       "    <tr>\n",
       "        <td>70557</td>\n",
       "        <td>Snow</td>\n",
       "        <td>Physics</td>\n",
       "        <td>0</td>\n",
       "    </tr>\n",
       "    <tr>\n",
       "        <td>76543</td>\n",
       "        <td>Brown</td>\n",
       "        <td>Comp. Sci.</td>\n",
       "        <td>58</td>\n",
       "    </tr>\n",
       "    <tr>\n",
       "        <td>76653</td>\n",
       "        <td>Aoi</td>\n",
       "        <td>Elec. Eng.</td>\n",
       "        <td>60</td>\n",
       "    </tr>\n",
       "    <tr>\n",
       "        <td>98765</td>\n",
       "        <td>Bourikas</td>\n",
       "        <td>Elec. Eng.</td>\n",
       "        <td>98</td>\n",
       "    </tr>\n",
       "    <tr>\n",
       "        <td>98988</td>\n",
       "        <td>Tanaka</td>\n",
       "        <td>Biology</td>\n",
       "        <td>120</td>\n",
       "    </tr>\n",
       "</table>"
      ],
      "text/plain": [
       "[('00128', 'Zhang', 'Comp. Sci.', 102),\n",
       " ('12345', 'Shankar', 'Comp. Sci.', 32),\n",
       " ('19991', 'Brandt', 'History', 80),\n",
       " ('23121', 'Chavez', 'Finance', 110),\n",
       " ('44553', 'Peltier', 'Physics', 56),\n",
       " ('45678', 'Levy', 'Physics', 46),\n",
       " ('54321', 'Williams', 'Comp. Sci.', 54),\n",
       " ('55739', 'Sanchez', 'Music', 38),\n",
       " ('70557', 'Snow', 'Physics', 0),\n",
       " ('76543', 'Brown', 'Comp. Sci.', 58),\n",
       " ('76653', 'Aoi', 'Elec. Eng.', 60),\n",
       " ('98765', 'Bourikas', 'Elec. Eng.', 98),\n",
       " ('98988', 'Tanaka', 'Biology', 120)]"
      ]
     },
     "execution_count": 6,
     "metadata": {},
     "output_type": "execute_result"
    }
   ],
   "source": [
    "%sql select * from student"
   ]
  },
  {
   "cell_type": "code",
   "execution_count": 7,
   "metadata": {},
   "outputs": [
    {
     "name": "stdout",
     "output_type": "stream",
     "text": [
      " * sqlite:///db_univ7.db\n",
      "Done.\n"
     ]
    },
    {
     "data": {
      "text/html": [
       "<table>\n",
       "    <tr>\n",
       "        <th>ID</th>\n",
       "        <th>name</th>\n",
       "        <th>dept_name</th>\n",
       "        <th>salary</th>\n",
       "    </tr>\n",
       "    <tr>\n",
       "        <td>10101</td>\n",
       "        <td>Srinivasan</td>\n",
       "        <td>Comp. Sci.</td>\n",
       "        <td>65000</td>\n",
       "    </tr>\n",
       "    <tr>\n",
       "        <td>12121</td>\n",
       "        <td>Wu</td>\n",
       "        <td>Finance</td>\n",
       "        <td>90000</td>\n",
       "    </tr>\n",
       "    <tr>\n",
       "        <td>15151</td>\n",
       "        <td>Mozart</td>\n",
       "        <td>Music</td>\n",
       "        <td>40000</td>\n",
       "    </tr>\n",
       "    <tr>\n",
       "        <td>22222</td>\n",
       "        <td>Einstein</td>\n",
       "        <td>Physics</td>\n",
       "        <td>95000</td>\n",
       "    </tr>\n",
       "    <tr>\n",
       "        <td>32343</td>\n",
       "        <td>El Said</td>\n",
       "        <td>History</td>\n",
       "        <td>60000</td>\n",
       "    </tr>\n",
       "    <tr>\n",
       "        <td>33456</td>\n",
       "        <td>Gold</td>\n",
       "        <td>Physics</td>\n",
       "        <td>87000</td>\n",
       "    </tr>\n",
       "    <tr>\n",
       "        <td>45565</td>\n",
       "        <td>Katz</td>\n",
       "        <td>Comp. Sci.</td>\n",
       "        <td>75000</td>\n",
       "    </tr>\n",
       "    <tr>\n",
       "        <td>58583</td>\n",
       "        <td>Califieri</td>\n",
       "        <td>History</td>\n",
       "        <td>62000</td>\n",
       "    </tr>\n",
       "    <tr>\n",
       "        <td>76543</td>\n",
       "        <td>Singh</td>\n",
       "        <td>Finance</td>\n",
       "        <td>80000</td>\n",
       "    </tr>\n",
       "    <tr>\n",
       "        <td>76766</td>\n",
       "        <td>Crick</td>\n",
       "        <td>Biology</td>\n",
       "        <td>72000</td>\n",
       "    </tr>\n",
       "    <tr>\n",
       "        <td>83821</td>\n",
       "        <td>Brandt</td>\n",
       "        <td>Comp. Sci.</td>\n",
       "        <td>92000</td>\n",
       "    </tr>\n",
       "    <tr>\n",
       "        <td>98345</td>\n",
       "        <td>Kim</td>\n",
       "        <td>Elec. Eng.</td>\n",
       "        <td>80000</td>\n",
       "    </tr>\n",
       "</table>"
      ],
      "text/plain": [
       "[('10101', 'Srinivasan', 'Comp. Sci.', 65000),\n",
       " ('12121', 'Wu', 'Finance', 90000),\n",
       " ('15151', 'Mozart', 'Music', 40000),\n",
       " ('22222', 'Einstein', 'Physics', 95000),\n",
       " ('32343', 'El Said', 'History', 60000),\n",
       " ('33456', 'Gold', 'Physics', 87000),\n",
       " ('45565', 'Katz', 'Comp. Sci.', 75000),\n",
       " ('58583', 'Califieri', 'History', 62000),\n",
       " ('76543', 'Singh', 'Finance', 80000),\n",
       " ('76766', 'Crick', 'Biology', 72000),\n",
       " ('83821', 'Brandt', 'Comp. Sci.', 92000),\n",
       " ('98345', 'Kim', 'Elec. Eng.', 80000)]"
      ]
     },
     "execution_count": 7,
     "metadata": {},
     "output_type": "execute_result"
    }
   ],
   "source": [
    "%sql select * from instructor"
   ]
  },
  {
   "cell_type": "code",
   "execution_count": 8,
   "metadata": {},
   "outputs": [
    {
     "name": "stdout",
     "output_type": "stream",
     "text": [
      " * sqlite:///db_univ7.db\n",
      "Done.\n"
     ]
    },
    {
     "data": {
      "text/html": [
       "<table>\n",
       "    <tr>\n",
       "        <th>ID</th>\n",
       "        <th>course_id</th>\n",
       "        <th>sec_id</th>\n",
       "        <th>semester</th>\n",
       "        <th>year</th>\n",
       "        <th>grade</th>\n",
       "    </tr>\n",
       "    <tr>\n",
       "        <td>00128</td>\n",
       "        <td>CS-101</td>\n",
       "        <td>1</td>\n",
       "        <td>Fall</td>\n",
       "        <td>2017</td>\n",
       "        <td>A</td>\n",
       "    </tr>\n",
       "    <tr>\n",
       "        <td>12345</td>\n",
       "        <td>CS-101</td>\n",
       "        <td>1</td>\n",
       "        <td>Fall</td>\n",
       "        <td>2017</td>\n",
       "        <td>C</td>\n",
       "    </tr>\n",
       "    <tr>\n",
       "        <td>45678</td>\n",
       "        <td>CS-101</td>\n",
       "        <td>1</td>\n",
       "        <td>Fall</td>\n",
       "        <td>2017</td>\n",
       "        <td>F</td>\n",
       "    </tr>\n",
       "    <tr>\n",
       "        <td>54321</td>\n",
       "        <td>CS-101</td>\n",
       "        <td>1</td>\n",
       "        <td>Fall</td>\n",
       "        <td>2017</td>\n",
       "        <td>A-</td>\n",
       "    </tr>\n",
       "    <tr>\n",
       "        <td>76543</td>\n",
       "        <td>CS-101</td>\n",
       "        <td>1</td>\n",
       "        <td>Fall</td>\n",
       "        <td>2017</td>\n",
       "        <td>A</td>\n",
       "    </tr>\n",
       "    <tr>\n",
       "        <td>98765</td>\n",
       "        <td>CS-101</td>\n",
       "        <td>1</td>\n",
       "        <td>Fall</td>\n",
       "        <td>2017</td>\n",
       "        <td>C-</td>\n",
       "    </tr>\n",
       "    <tr>\n",
       "        <td>00128</td>\n",
       "        <td>CS-347</td>\n",
       "        <td>1</td>\n",
       "        <td>Fall</td>\n",
       "        <td>2017</td>\n",
       "        <td>A-</td>\n",
       "    </tr>\n",
       "    <tr>\n",
       "        <td>12345</td>\n",
       "        <td>CS-347</td>\n",
       "        <td>1</td>\n",
       "        <td>Fall</td>\n",
       "        <td>2017</td>\n",
       "        <td>A</td>\n",
       "    </tr>\n",
       "    <tr>\n",
       "        <td>44553</td>\n",
       "        <td>PHY-101</td>\n",
       "        <td>1</td>\n",
       "        <td>Fall</td>\n",
       "        <td>2017</td>\n",
       "        <td>B-</td>\n",
       "    </tr>\n",
       "    <tr>\n",
       "        <td>12345</td>\n",
       "        <td>CS-190</td>\n",
       "        <td>2</td>\n",
       "        <td>Spring</td>\n",
       "        <td>2017</td>\n",
       "        <td>A</td>\n",
       "    </tr>\n",
       "    <tr>\n",
       "        <td>54321</td>\n",
       "        <td>CS-190</td>\n",
       "        <td>2</td>\n",
       "        <td>Spring</td>\n",
       "        <td>2017</td>\n",
       "        <td>B+</td>\n",
       "    </tr>\n",
       "    <tr>\n",
       "        <td>76653</td>\n",
       "        <td>EE-181</td>\n",
       "        <td>1</td>\n",
       "        <td>Spring</td>\n",
       "        <td>2017</td>\n",
       "        <td>C</td>\n",
       "    </tr>\n",
       "    <tr>\n",
       "        <td>98988</td>\n",
       "        <td>BIO-101</td>\n",
       "        <td>1</td>\n",
       "        <td>Summer</td>\n",
       "        <td>2017</td>\n",
       "        <td>A</td>\n",
       "    </tr>\n",
       "    <tr>\n",
       "        <td>45678</td>\n",
       "        <td>CS-101</td>\n",
       "        <td>1</td>\n",
       "        <td>Spring</td>\n",
       "        <td>2018</td>\n",
       "        <td>B+</td>\n",
       "    </tr>\n",
       "    <tr>\n",
       "        <td>12345</td>\n",
       "        <td>CS-315</td>\n",
       "        <td>1</td>\n",
       "        <td>Spring</td>\n",
       "        <td>2018</td>\n",
       "        <td>A</td>\n",
       "    </tr>\n",
       "    <tr>\n",
       "        <td>98765</td>\n",
       "        <td>CS-315</td>\n",
       "        <td>1</td>\n",
       "        <td>Spring</td>\n",
       "        <td>2018</td>\n",
       "        <td>B</td>\n",
       "    </tr>\n",
       "    <tr>\n",
       "        <td>45678</td>\n",
       "        <td>CS-319</td>\n",
       "        <td>1</td>\n",
       "        <td>Spring</td>\n",
       "        <td>2018</td>\n",
       "        <td>B</td>\n",
       "    </tr>\n",
       "    <tr>\n",
       "        <td>76543</td>\n",
       "        <td>CS-319</td>\n",
       "        <td>2</td>\n",
       "        <td>Spring</td>\n",
       "        <td>2018</td>\n",
       "        <td>A</td>\n",
       "    </tr>\n",
       "    <tr>\n",
       "        <td>23121</td>\n",
       "        <td>FIN-201</td>\n",
       "        <td>1</td>\n",
       "        <td>Spring</td>\n",
       "        <td>2018</td>\n",
       "        <td>C+</td>\n",
       "    </tr>\n",
       "    <tr>\n",
       "        <td>19991</td>\n",
       "        <td>HIS-351</td>\n",
       "        <td>1</td>\n",
       "        <td>Spring</td>\n",
       "        <td>2018</td>\n",
       "        <td>B</td>\n",
       "    </tr>\n",
       "    <tr>\n",
       "        <td>55739</td>\n",
       "        <td>MU-199</td>\n",
       "        <td>1</td>\n",
       "        <td>Spring</td>\n",
       "        <td>2018</td>\n",
       "        <td>A-</td>\n",
       "    </tr>\n",
       "    <tr>\n",
       "        <td>98988</td>\n",
       "        <td>BIO-301</td>\n",
       "        <td>1</td>\n",
       "        <td>Summer</td>\n",
       "        <td>2018</td>\n",
       "        <td>None</td>\n",
       "    </tr>\n",
       "</table>"
      ],
      "text/plain": [
       "[('00128', 'CS-101', '1', 'Fall', 2017, 'A'),\n",
       " ('12345', 'CS-101', '1', 'Fall', 2017, 'C'),\n",
       " ('45678', 'CS-101', '1', 'Fall', 2017, 'F'),\n",
       " ('54321', 'CS-101', '1', 'Fall', 2017, 'A-'),\n",
       " ('76543', 'CS-101', '1', 'Fall', 2017, 'A'),\n",
       " ('98765', 'CS-101', '1', 'Fall', 2017, 'C-'),\n",
       " ('00128', 'CS-347', '1', 'Fall', 2017, 'A-'),\n",
       " ('12345', 'CS-347', '1', 'Fall', 2017, 'A'),\n",
       " ('44553', 'PHY-101', '1', 'Fall', 2017, 'B-'),\n",
       " ('12345', 'CS-190', '2', 'Spring', 2017, 'A'),\n",
       " ('54321', 'CS-190', '2', 'Spring', 2017, 'B+'),\n",
       " ('76653', 'EE-181', '1', 'Spring', 2017, 'C'),\n",
       " ('98988', 'BIO-101', '1', 'Summer', 2017, 'A'),\n",
       " ('45678', 'CS-101', '1', 'Spring', 2018, 'B+'),\n",
       " ('12345', 'CS-315', '1', 'Spring', 2018, 'A'),\n",
       " ('98765', 'CS-315', '1', 'Spring', 2018, 'B'),\n",
       " ('45678', 'CS-319', '1', 'Spring', 2018, 'B'),\n",
       " ('76543', 'CS-319', '2', 'Spring', 2018, 'A'),\n",
       " ('23121', 'FIN-201', '1', 'Spring', 2018, 'C+'),\n",
       " ('19991', 'HIS-351', '1', 'Spring', 2018, 'B'),\n",
       " ('55739', 'MU-199', '1', 'Spring', 2018, 'A-'),\n",
       " ('98988', 'BIO-301', '1', 'Summer', 2018, None)]"
      ]
     },
     "execution_count": 8,
     "metadata": {},
     "output_type": "execute_result"
    }
   ],
   "source": [
    "%%sql\n",
    "select * from takes\n",
    "order by year, semester,course_id"
   ]
  },
  {
   "cell_type": "code",
   "execution_count": 9,
   "metadata": {},
   "outputs": [
    {
     "name": "stdout",
     "output_type": "stream",
     "text": [
      " * sqlite:///db_univ7.db\n",
      "Done.\n"
     ]
    },
    {
     "data": {
      "text/html": [
       "<table>\n",
       "    <tr>\n",
       "        <th>ID</th>\n",
       "        <th>course_id</th>\n",
       "        <th>sec_id</th>\n",
       "        <th>semester</th>\n",
       "        <th>year</th>\n",
       "    </tr>\n",
       "    <tr>\n",
       "        <td>10101</td>\n",
       "        <td>CS-101</td>\n",
       "        <td>1</td>\n",
       "        <td>Fall</td>\n",
       "        <td>2017</td>\n",
       "    </tr>\n",
       "    <tr>\n",
       "        <td>10101</td>\n",
       "        <td>CS-315</td>\n",
       "        <td>1</td>\n",
       "        <td>Spring</td>\n",
       "        <td>2018</td>\n",
       "    </tr>\n",
       "    <tr>\n",
       "        <td>10101</td>\n",
       "        <td>CS-347</td>\n",
       "        <td>1</td>\n",
       "        <td>Fall</td>\n",
       "        <td>2017</td>\n",
       "    </tr>\n",
       "    <tr>\n",
       "        <td>12121</td>\n",
       "        <td>FIN-201</td>\n",
       "        <td>1</td>\n",
       "        <td>Spring</td>\n",
       "        <td>2018</td>\n",
       "    </tr>\n",
       "    <tr>\n",
       "        <td>15151</td>\n",
       "        <td>MU-199</td>\n",
       "        <td>1</td>\n",
       "        <td>Spring</td>\n",
       "        <td>2018</td>\n",
       "    </tr>\n",
       "    <tr>\n",
       "        <td>22222</td>\n",
       "        <td>PHY-101</td>\n",
       "        <td>1</td>\n",
       "        <td>Fall</td>\n",
       "        <td>2017</td>\n",
       "    </tr>\n",
       "    <tr>\n",
       "        <td>32343</td>\n",
       "        <td>HIS-351</td>\n",
       "        <td>1</td>\n",
       "        <td>Spring</td>\n",
       "        <td>2018</td>\n",
       "    </tr>\n",
       "    <tr>\n",
       "        <td>45565</td>\n",
       "        <td>CS-101</td>\n",
       "        <td>1</td>\n",
       "        <td>Spring</td>\n",
       "        <td>2018</td>\n",
       "    </tr>\n",
       "    <tr>\n",
       "        <td>45565</td>\n",
       "        <td>CS-319</td>\n",
       "        <td>1</td>\n",
       "        <td>Spring</td>\n",
       "        <td>2018</td>\n",
       "    </tr>\n",
       "    <tr>\n",
       "        <td>76766</td>\n",
       "        <td>BIO-101</td>\n",
       "        <td>1</td>\n",
       "        <td>Summer</td>\n",
       "        <td>2017</td>\n",
       "    </tr>\n",
       "    <tr>\n",
       "        <td>76766</td>\n",
       "        <td>BIO-301</td>\n",
       "        <td>1</td>\n",
       "        <td>Summer</td>\n",
       "        <td>2018</td>\n",
       "    </tr>\n",
       "    <tr>\n",
       "        <td>83821</td>\n",
       "        <td>CS-190</td>\n",
       "        <td>1</td>\n",
       "        <td>Spring</td>\n",
       "        <td>2017</td>\n",
       "    </tr>\n",
       "    <tr>\n",
       "        <td>83821</td>\n",
       "        <td>CS-190</td>\n",
       "        <td>2</td>\n",
       "        <td>Spring</td>\n",
       "        <td>2017</td>\n",
       "    </tr>\n",
       "    <tr>\n",
       "        <td>83821</td>\n",
       "        <td>CS-319</td>\n",
       "        <td>2</td>\n",
       "        <td>Spring</td>\n",
       "        <td>2018</td>\n",
       "    </tr>\n",
       "    <tr>\n",
       "        <td>98345</td>\n",
       "        <td>EE-181</td>\n",
       "        <td>1</td>\n",
       "        <td>Spring</td>\n",
       "        <td>2017</td>\n",
       "    </tr>\n",
       "</table>"
      ],
      "text/plain": [
       "[('10101', 'CS-101', '1', 'Fall', 2017),\n",
       " ('10101', 'CS-315', '1', 'Spring', 2018),\n",
       " ('10101', 'CS-347', '1', 'Fall', 2017),\n",
       " ('12121', 'FIN-201', '1', 'Spring', 2018),\n",
       " ('15151', 'MU-199', '1', 'Spring', 2018),\n",
       " ('22222', 'PHY-101', '1', 'Fall', 2017),\n",
       " ('32343', 'HIS-351', '1', 'Spring', 2018),\n",
       " ('45565', 'CS-101', '1', 'Spring', 2018),\n",
       " ('45565', 'CS-319', '1', 'Spring', 2018),\n",
       " ('76766', 'BIO-101', '1', 'Summer', 2017),\n",
       " ('76766', 'BIO-301', '1', 'Summer', 2018),\n",
       " ('83821', 'CS-190', '1', 'Spring', 2017),\n",
       " ('83821', 'CS-190', '2', 'Spring', 2017),\n",
       " ('83821', 'CS-319', '2', 'Spring', 2018),\n",
       " ('98345', 'EE-181', '1', 'Spring', 2017)]"
      ]
     },
     "execution_count": 9,
     "metadata": {},
     "output_type": "execute_result"
    }
   ],
   "source": [
    "%sql select * from teaches"
   ]
  },
  {
   "cell_type": "markdown",
   "metadata": {},
   "source": [
    "----"
   ]
  },
  {
   "cell_type": "code",
   "execution_count": 10,
   "metadata": {},
   "outputs": [
    {
     "name": "stdout",
     "output_type": "stream",
     "text": [
      " * sqlite:///db_univ7.db\n",
      "Done.\n"
     ]
    },
    {
     "data": {
      "text/html": [
       "<table>\n",
       "    <tr>\n",
       "        <th>title</th>\n",
       "    </tr>\n",
       "    <tr>\n",
       "        <td>Robotics</td>\n",
       "    </tr>\n",
       "    <tr>\n",
       "        <td>Image Processing</td>\n",
       "    </tr>\n",
       "    <tr>\n",
       "        <td>Database System Concepts</td>\n",
       "    </tr>\n",
       "</table>"
      ],
      "text/plain": [
       "[('Robotics',), ('Image Processing',), ('Database System Concepts',)]"
      ]
     },
     "execution_count": 10,
     "metadata": {},
     "output_type": "execute_result"
    }
   ],
   "source": [
    "%%sql /*Problem 1-1*/\n",
    "select title \n",
    "from course\n",
    "where dept_name='Comp. Sci.' and credits=3"
   ]
  },
  {
   "cell_type": "code",
   "execution_count": 11,
   "metadata": {},
   "outputs": [
    {
     "name": "stdout",
     "output_type": "stream",
     "text": [
      " * sqlite:///db_univ7.db\n",
      "Done.\n"
     ]
    },
    {
     "data": {
      "text/html": [
       "<table>\n",
       "    <tr>\n",
       "        <th>ID</th>\n",
       "    </tr>\n",
       "    <tr>\n",
       "        <td>44553</td>\n",
       "    </tr>\n",
       "</table>"
      ],
      "text/plain": [
       "[('44553',)]"
      ]
     },
     "execution_count": 11,
     "metadata": {},
     "output_type": "execute_result"
    }
   ],
   "source": [
    "%%sql /*Problem 1-2*/\n",
    "select distinct S.ID\n",
    "from student as S, takes as T\n",
    "where T.course_ID = (select teaches.course_ID\n",
    "                     from instructor,teaches\n",
    "                     where name = 'Einstein' and instructor.ID =  teaches.ID)\n",
    "    and S.ID = T.ID"
   ]
  },
  {
   "cell_type": "code",
   "execution_count": 12,
   "metadata": {},
   "outputs": [
    {
     "name": "stdout",
     "output_type": "stream",
     "text": [
      " * sqlite:///db_univ7.db\n",
      "Done.\n"
     ]
    },
    {
     "data": {
      "text/html": [
       "<table>\n",
       "    <tr>\n",
       "        <th>max(salary)</th>\n",
       "    </tr>\n",
       "    <tr>\n",
       "        <td>95000</td>\n",
       "    </tr>\n",
       "</table>"
      ],
      "text/plain": [
       "[(95000,)]"
      ]
     },
     "execution_count": 12,
     "metadata": {},
     "output_type": "execute_result"
    }
   ],
   "source": [
    "%%sql /*Problem 1-3*/\n",
    "select max(salary) \n",
    "from instructor"
   ]
  },
  {
   "cell_type": "code",
   "execution_count": 13,
   "metadata": {},
   "outputs": [
    {
     "name": "stdout",
     "output_type": "stream",
     "text": [
      " * sqlite:///db_univ7.db\n",
      "Done.\n"
     ]
    },
    {
     "data": {
      "text/html": [
       "<table>\n",
       "    <tr>\n",
       "        <th>name</th>\n",
       "    </tr>\n",
       "    <tr>\n",
       "        <td>Einstein</td>\n",
       "    </tr>\n",
       "</table>"
      ],
      "text/plain": [
       "[('Einstein',)]"
      ]
     },
     "execution_count": 13,
     "metadata": {},
     "output_type": "execute_result"
    }
   ],
   "source": [
    "%%sql /*Problem 1-4*/\n",
    "select name\n",
    "from instructor\n",
    "where salary = (select max(salary) from instructor)"
   ]
  },
  {
   "cell_type": "code",
   "execution_count": 14,
   "metadata": {},
   "outputs": [
    {
     "name": "stdout",
     "output_type": "stream",
     "text": [
      " * sqlite:///db_univ7.db\n",
      "Done.\n"
     ]
    },
    {
     "data": {
      "text/html": [
       "<table>\n",
       "    <tr>\n",
       "        <th>course_id</th>\n",
       "        <th>sec_id</th>\n",
       "        <th>enrollment</th>\n",
       "    </tr>\n",
       "    <tr>\n",
       "        <td>CS-101</td>\n",
       "        <td>1</td>\n",
       "        <td>6</td>\n",
       "    </tr>\n",
       "    <tr>\n",
       "        <td>CS-347</td>\n",
       "        <td>1</td>\n",
       "        <td>2</td>\n",
       "    </tr>\n",
       "    <tr>\n",
       "        <td>PHY-101</td>\n",
       "        <td>1</td>\n",
       "        <td>1</td>\n",
       "    </tr>\n",
       "</table>"
      ],
      "text/plain": [
       "[('CS-101', '1', 6), ('CS-347', '1', 2), ('PHY-101', '1', 1)]"
      ]
     },
     "execution_count": 14,
     "metadata": {},
     "output_type": "execute_result"
    }
   ],
   "source": [
    "%%sql /*Problem 1-5*/\n",
    "select course_id, sec_id, count(sec_id) as enrollment\n",
    "from takes natural join section\n",
    "where semester = 'Fall' and year = '2017'\n",
    "group by course_id"
   ]
  },
  {
   "cell_type": "code",
   "execution_count": 15,
   "metadata": {},
   "outputs": [
    {
     "name": "stdout",
     "output_type": "stream",
     "text": [
      " * sqlite:///db_univ7.db\n",
      "Done.\n"
     ]
    },
    {
     "data": {
      "text/plain": [
       "[]"
      ]
     },
     "execution_count": 15,
     "metadata": {},
     "output_type": "execute_result"
    }
   ],
   "source": [
    "%%sql /*Problem 1-6*/\n",
    "create view count as\n",
    "select course_id, sec_id, count(course_id) as enrollment\n",
    "from takes natural join section\n",
    "where semester = 'Fall' and year = '2017'\n",
    "group by course_id"
   ]
  },
  {
   "cell_type": "code",
   "execution_count": 16,
   "metadata": {},
   "outputs": [
    {
     "name": "stdout",
     "output_type": "stream",
     "text": [
      " * sqlite:///db_univ7.db\n",
      "Done.\n"
     ]
    },
    {
     "data": {
      "text/html": [
       "<table>\n",
       "    <tr>\n",
       "        <th>max(enrollment)</th>\n",
       "    </tr>\n",
       "    <tr>\n",
       "        <td>6</td>\n",
       "    </tr>\n",
       "</table>"
      ],
      "text/plain": [
       "[(6,)]"
      ]
     },
     "execution_count": 16,
     "metadata": {},
     "output_type": "execute_result"
    }
   ],
   "source": [
    "%%sql\n",
    "select max(enrollment)\n",
    "from count"
   ]
  },
  {
   "cell_type": "code",
   "execution_count": 17,
   "metadata": {},
   "outputs": [
    {
     "name": "stdout",
     "output_type": "stream",
     "text": [
      " * sqlite:///db_univ7.db\n",
      "Done.\n"
     ]
    },
    {
     "data": {
      "text/html": [
       "<table>\n",
       "    <tr>\n",
       "        <th>course_id</th>\n",
       "        <th>sec_id</th>\n",
       "    </tr>\n",
       "    <tr>\n",
       "        <td>CS-101</td>\n",
       "        <td>1</td>\n",
       "    </tr>\n",
       "</table>"
      ],
      "text/plain": [
       "[('CS-101', '1')]"
      ]
     },
     "execution_count": 17,
     "metadata": {},
     "output_type": "execute_result"
    }
   ],
   "source": [
    "%%sql /*Problem 1-7*/\n",
    "select course_id,sec_id\n",
    "from count\n",
    "where enrollment in (select max(enrollment)\n",
    "                     from count)"
   ]
  },
  {
   "cell_type": "code",
   "execution_count": 2,
   "metadata": {},
   "outputs": [],
   "source": [
    "%sql sqlite:///insurance.db"
   ]
  },
  {
   "cell_type": "code",
   "execution_count": 3,
   "metadata": {},
   "outputs": [
    {
     "name": "stdout",
     "output_type": "stream",
     "text": [
      " * sqlite:///insurance.db\n",
      "Done.\n",
      "Done.\n",
      "Done.\n",
      "Done.\n",
      "Done.\n"
     ]
    },
    {
     "data": {
      "text/plain": [
       "[]"
      ]
     },
     "execution_count": 3,
     "metadata": {},
     "output_type": "execute_result"
    }
   ],
   "source": [
    "%%sql /*Problem 2*/\n",
    "create table person(\n",
    "    driver_id   char(5),\n",
    "    name        varchar(20) not null,\n",
    "    address     varchar(20),\n",
    "    primary key(driver_id)\n",
    ");\n",
    "\n",
    "create table car(\n",
    "    license_plate   char(8),\n",
    "    model           varchar(10),\n",
    "    year            numeric(4,0) check(year>1900 and year<2100),\n",
    "    primary key(license_plate)\n",
    ");\n",
    "\n",
    "create table accident(\n",
    "    report_number   char(6),\n",
    "    year            numeric(4,0) check(year>1900 and year<2100),\n",
    "    location        varchar(20),\n",
    "    primary key(report_number)    \n",
    ");\n",
    "\n",
    "create table owns(\n",
    "    driver_id       char(5),\n",
    "    license_plate   char(8),\n",
    "    primary key(driver_id,license_plate),\n",
    "    foreign key(driver_id) references person,\n",
    "    foreign key(license_plate) references car\n",
    ");\n",
    "\n",
    "create table participated(\n",
    "    report_number   char(6),\n",
    "    license_plate   char(8),\n",
    "    driver_id       char(5),\n",
    "    damage_amount   numeric(7,0),\n",
    "    primary key(report_number,license_plate),\n",
    "    foreign key(report_number) references accident,\n",
    "    foreign key(license_plate) references car,\n",
    "    foreign key(driver_id) references person\n",
    ");"
   ]
  },
  {
   "cell_type": "code",
   "execution_count": 4,
   "metadata": {},
   "outputs": [
    {
     "name": "stdout",
     "output_type": "stream",
     "text": [
      " * sqlite:///insurance.db\n",
      "Done.\n",
      "1 rows affected.\n",
      "1 rows affected.\n",
      "1 rows affected.\n",
      "1 rows affected.\n"
     ]
    },
    {
     "data": {
      "text/plain": [
       "[]"
      ]
     },
     "execution_count": 4,
     "metadata": {},
     "output_type": "execute_result"
    }
   ],
   "source": [
    "%%sql /*Problem 3-1*/\n",
    "insert into person values('29538','John Smith','Seoul');\n",
    "insert into person values('12345','Brianne Howey','Daejeon');\n",
    "insert into person values('58033','Chris Brown','Gwangju');\n",
    "insert into person values('82592','Filip Tysander','Ulsan');\n",
    "insert into person values('78608','Erick Carreira','Daegu');"
   ]
  },
  {
   "cell_type": "code",
   "execution_count": 5,
   "metadata": {},
   "outputs": [
    {
     "name": "stdout",
     "output_type": "stream",
     "text": [
      " * sqlite:///insurance.db\n",
      "1 rows affected.\n",
      "1 rows affected.\n",
      "1 rows affected.\n",
      "1 rows affected.\n",
      "1 rows affected.\n"
     ]
    },
    {
     "data": {
      "text/plain": [
       "[]"
      ]
     },
     "execution_count": 5,
     "metadata": {},
     "output_type": "execute_result"
    }
   ],
   "source": [
    "%%sql\n",
    "insert into car values('AABB2000','Ferrari','2018');\n",
    "insert into car values('UFNE8210','Benz','2010');\n",
    "insert into car values('TDWU0421','Ford','2012');\n",
    "insert into car values('CSYF1980','BMW','2013');\n",
    "insert into car values('OMSH1732','Morning','2008');"
   ]
  },
  {
   "cell_type": "code",
   "execution_count": 6,
   "metadata": {},
   "outputs": [
    {
     "name": "stdout",
     "output_type": "stream",
     "text": [
      " * sqlite:///insurance.db\n",
      "1 rows affected.\n",
      "1 rows affected.\n",
      "1 rows affected.\n",
      "1 rows affected.\n",
      "1 rows affected.\n"
     ]
    },
    {
     "data": {
      "text/plain": [
       "[]"
      ]
     },
     "execution_count": 6,
     "metadata": {},
     "output_type": "execute_result"
    }
   ],
   "source": [
    "%%sql\n",
    "insert into accident values('AR2197','2021','Seoul');\n",
    "insert into accident values('HE4884','2012','Daejeon');\n",
    "insert into accident values('QW2197','2021','Gwangju');\n",
    "insert into accident values('XE8732','2013','Ulsan');\n",
    "insert into accident values('HU2309','2018','Daegu');"
   ]
  },
  {
   "cell_type": "code",
   "execution_count": 7,
   "metadata": {},
   "outputs": [
    {
     "name": "stdout",
     "output_type": "stream",
     "text": [
      " * sqlite:///insurance.db\n",
      "1 rows affected.\n",
      "1 rows affected.\n",
      "1 rows affected.\n",
      "1 rows affected.\n",
      "1 rows affected.\n"
     ]
    },
    {
     "data": {
      "text/plain": [
       "[]"
      ]
     },
     "execution_count": 7,
     "metadata": {},
     "output_type": "execute_result"
    }
   ],
   "source": [
    "%%sql\n",
    "insert into owns values('29538','AABB2000');\n",
    "insert into owns values('12345','UFNE8210');\n",
    "insert into owns values('58033','TDWU0421');\n",
    "insert into owns values('82592','CSYF1980');\n",
    "insert into owns values('78608','OMSH1732');"
   ]
  },
  {
   "cell_type": "code",
   "execution_count": 8,
   "metadata": {},
   "outputs": [
    {
     "name": "stdout",
     "output_type": "stream",
     "text": [
      " * sqlite:///insurance.db\n",
      "1 rows affected.\n",
      "1 rows affected.\n",
      "1 rows affected.\n",
      "1 rows affected.\n",
      "1 rows affected.\n"
     ]
    },
    {
     "data": {
      "text/plain": [
       "[]"
      ]
     },
     "execution_count": 8,
     "metadata": {},
     "output_type": "execute_result"
    }
   ],
   "source": [
    "%%sql\n",
    "insert into participated values('QW2197','TDWU0421','58033','1700');\n",
    "insert into participated values('HE4884','UFNE8210','12345','2300');\n",
    "insert into participated values('AR2197','AABB2000','29538','2700');\n",
    "insert into participated values('XE8732','CSYF1980','82592','2100');\n",
    "insert into participated values('HU2309','OMSH1732','78608','500');"
   ]
  },
  {
   "cell_type": "code",
   "execution_count": 9,
   "metadata": {},
   "outputs": [
    {
     "name": "stdout",
     "output_type": "stream",
     "text": [
      " * sqlite:///insurance.db\n",
      "Done.\n"
     ]
    },
    {
     "data": {
      "text/html": [
       "<table>\n",
       "    <tr>\n",
       "        <th>driver_id</th>\n",
       "        <th>name</th>\n",
       "        <th>address</th>\n",
       "    </tr>\n",
       "    <tr>\n",
       "        <td>29538</td>\n",
       "        <td>John Smith</td>\n",
       "        <td>Seoul</td>\n",
       "    </tr>\n",
       "    <tr>\n",
       "        <td>12345</td>\n",
       "        <td>Brianne Howey</td>\n",
       "        <td>Daejeon</td>\n",
       "    </tr>\n",
       "    <tr>\n",
       "        <td>58033</td>\n",
       "        <td>Chris Brown</td>\n",
       "        <td>Gwangju</td>\n",
       "    </tr>\n",
       "    <tr>\n",
       "        <td>82592</td>\n",
       "        <td>Filip Tysander</td>\n",
       "        <td>Ulsan</td>\n",
       "    </tr>\n",
       "    <tr>\n",
       "        <td>78608</td>\n",
       "        <td>Erick Carreira</td>\n",
       "        <td>Daegu</td>\n",
       "    </tr>\n",
       "</table>"
      ],
      "text/plain": [
       "[('29538', 'John Smith', 'Seoul'),\n",
       " ('12345', 'Brianne Howey', 'Daejeon'),\n",
       " ('58033', 'Chris Brown', 'Gwangju'),\n",
       " ('82592', 'Filip Tysander', 'Ulsan'),\n",
       " ('78608', 'Erick Carreira', 'Daegu')]"
      ]
     },
     "execution_count": 9,
     "metadata": {},
     "output_type": "execute_result"
    }
   ],
   "source": [
    "%%sql /*Problem 3-2*/\n",
    "select * from person"
   ]
  },
  {
   "cell_type": "code",
   "execution_count": 10,
   "metadata": {},
   "outputs": [
    {
     "name": "stdout",
     "output_type": "stream",
     "text": [
      " * sqlite:///insurance.db\n",
      "Done.\n"
     ]
    },
    {
     "data": {
      "text/html": [
       "<table>\n",
       "    <tr>\n",
       "        <th>license_plate</th>\n",
       "        <th>model</th>\n",
       "        <th>year</th>\n",
       "    </tr>\n",
       "    <tr>\n",
       "        <td>AABB2000</td>\n",
       "        <td>Ferrari</td>\n",
       "        <td>2018</td>\n",
       "    </tr>\n",
       "    <tr>\n",
       "        <td>UFNE8210</td>\n",
       "        <td>Benz</td>\n",
       "        <td>2010</td>\n",
       "    </tr>\n",
       "    <tr>\n",
       "        <td>TDWU0421</td>\n",
       "        <td>Ford</td>\n",
       "        <td>2012</td>\n",
       "    </tr>\n",
       "    <tr>\n",
       "        <td>CSYF1980</td>\n",
       "        <td>BMW</td>\n",
       "        <td>2013</td>\n",
       "    </tr>\n",
       "    <tr>\n",
       "        <td>OMSH1732</td>\n",
       "        <td>Morning</td>\n",
       "        <td>2008</td>\n",
       "    </tr>\n",
       "</table>"
      ],
      "text/plain": [
       "[('AABB2000', 'Ferrari', 2018),\n",
       " ('UFNE8210', 'Benz', 2010),\n",
       " ('TDWU0421', 'Ford', 2012),\n",
       " ('CSYF1980', 'BMW', 2013),\n",
       " ('OMSH1732', 'Morning', 2008)]"
      ]
     },
     "execution_count": 10,
     "metadata": {},
     "output_type": "execute_result"
    }
   ],
   "source": [
    "%%sql /*Problem 3-3*/ \n",
    "select * from car"
   ]
  },
  {
   "cell_type": "code",
   "execution_count": 11,
   "metadata": {},
   "outputs": [
    {
     "name": "stdout",
     "output_type": "stream",
     "text": [
      " * sqlite:///insurance.db\n",
      "Done.\n"
     ]
    },
    {
     "data": {
      "text/html": [
       "<table>\n",
       "    <tr>\n",
       "        <th>report_number</th>\n",
       "        <th>year</th>\n",
       "        <th>location</th>\n",
       "    </tr>\n",
       "    <tr>\n",
       "        <td>AR2197</td>\n",
       "        <td>2021</td>\n",
       "        <td>Seoul</td>\n",
       "    </tr>\n",
       "    <tr>\n",
       "        <td>HE4884</td>\n",
       "        <td>2012</td>\n",
       "        <td>Daejeon</td>\n",
       "    </tr>\n",
       "    <tr>\n",
       "        <td>QW2197</td>\n",
       "        <td>2021</td>\n",
       "        <td>Gwangju</td>\n",
       "    </tr>\n",
       "    <tr>\n",
       "        <td>XE8732</td>\n",
       "        <td>2013</td>\n",
       "        <td>Ulsan</td>\n",
       "    </tr>\n",
       "    <tr>\n",
       "        <td>HU2309</td>\n",
       "        <td>2018</td>\n",
       "        <td>Daegu</td>\n",
       "    </tr>\n",
       "</table>"
      ],
      "text/plain": [
       "[('AR2197', 2021, 'Seoul'),\n",
       " ('HE4884', 2012, 'Daejeon'),\n",
       " ('QW2197', 2021, 'Gwangju'),\n",
       " ('XE8732', 2013, 'Ulsan'),\n",
       " ('HU2309', 2018, 'Daegu')]"
      ]
     },
     "execution_count": 11,
     "metadata": {},
     "output_type": "execute_result"
    }
   ],
   "source": [
    "%%sql /*Problem 3-4*/ \n",
    "select * from accident"
   ]
  },
  {
   "cell_type": "code",
   "execution_count": 12,
   "metadata": {},
   "outputs": [
    {
     "name": "stdout",
     "output_type": "stream",
     "text": [
      " * sqlite:///insurance.db\n",
      "Done.\n"
     ]
    },
    {
     "data": {
      "text/html": [
       "<table>\n",
       "    <tr>\n",
       "        <th>driver_id</th>\n",
       "        <th>license_plate</th>\n",
       "    </tr>\n",
       "    <tr>\n",
       "        <td>29538</td>\n",
       "        <td>AABB2000</td>\n",
       "    </tr>\n",
       "    <tr>\n",
       "        <td>12345</td>\n",
       "        <td>UFNE8210</td>\n",
       "    </tr>\n",
       "    <tr>\n",
       "        <td>58033</td>\n",
       "        <td>TDWU0421</td>\n",
       "    </tr>\n",
       "    <tr>\n",
       "        <td>82592</td>\n",
       "        <td>CSYF1980</td>\n",
       "    </tr>\n",
       "    <tr>\n",
       "        <td>78608</td>\n",
       "        <td>OMSH1732</td>\n",
       "    </tr>\n",
       "</table>"
      ],
      "text/plain": [
       "[('29538', 'AABB2000'),\n",
       " ('12345', 'UFNE8210'),\n",
       " ('58033', 'TDWU0421'),\n",
       " ('82592', 'CSYF1980'),\n",
       " ('78608', 'OMSH1732')]"
      ]
     },
     "execution_count": 12,
     "metadata": {},
     "output_type": "execute_result"
    }
   ],
   "source": [
    "%%sql /*Problem 3-5*/ \n",
    "select * from owns"
   ]
  },
  {
   "cell_type": "code",
   "execution_count": 13,
   "metadata": {},
   "outputs": [
    {
     "name": "stdout",
     "output_type": "stream",
     "text": [
      " * sqlite:///insurance.db\n",
      "Done.\n"
     ]
    },
    {
     "data": {
      "text/html": [
       "<table>\n",
       "    <tr>\n",
       "        <th>report_number</th>\n",
       "        <th>license_plate</th>\n",
       "        <th>driver_id</th>\n",
       "        <th>damage_amount</th>\n",
       "    </tr>\n",
       "    <tr>\n",
       "        <td>QW2197</td>\n",
       "        <td>TDWU0421</td>\n",
       "        <td>58033</td>\n",
       "        <td>1700</td>\n",
       "    </tr>\n",
       "    <tr>\n",
       "        <td>HE4884</td>\n",
       "        <td>UFNE8210</td>\n",
       "        <td>12345</td>\n",
       "        <td>2300</td>\n",
       "    </tr>\n",
       "    <tr>\n",
       "        <td>AR2197</td>\n",
       "        <td>AABB2000</td>\n",
       "        <td>29538</td>\n",
       "        <td>2700</td>\n",
       "    </tr>\n",
       "    <tr>\n",
       "        <td>XE8732</td>\n",
       "        <td>CSYF1980</td>\n",
       "        <td>82592</td>\n",
       "        <td>2100</td>\n",
       "    </tr>\n",
       "    <tr>\n",
       "        <td>HU2309</td>\n",
       "        <td>OMSH1732</td>\n",
       "        <td>78608</td>\n",
       "        <td>500</td>\n",
       "    </tr>\n",
       "</table>"
      ],
      "text/plain": [
       "[('QW2197', 'TDWU0421', '58033', 1700),\n",
       " ('HE4884', 'UFNE8210', '12345', 2300),\n",
       " ('AR2197', 'AABB2000', '29538', 2700),\n",
       " ('XE8732', 'CSYF1980', '82592', 2100),\n",
       " ('HU2309', 'OMSH1732', '78608', 500)]"
      ]
     },
     "execution_count": 13,
     "metadata": {},
     "output_type": "execute_result"
    }
   ],
   "source": [
    "%%sql /*Problem 3-6*/ \n",
    "select * from participated"
   ]
  },
  {
   "cell_type": "code",
   "execution_count": 14,
   "metadata": {},
   "outputs": [
    {
     "name": "stdout",
     "output_type": "stream",
     "text": [
      " * sqlite:///insurance.db\n",
      "Done.\n"
     ]
    },
    {
     "data": {
      "text/html": [
       "<table>\n",
       "    <tr>\n",
       "        <th>count(driver_id)</th>\n",
       "    </tr>\n",
       "    <tr>\n",
       "        <td>2</td>\n",
       "    </tr>\n",
       "</table>"
      ],
      "text/plain": [
       "[(2,)]"
      ]
     },
     "execution_count": 14,
     "metadata": {},
     "output_type": "execute_result"
    }
   ],
   "source": [
    "%%sql /*Problem 4*/\n",
    "select count(driver_id)\n",
    "from owns\n",
    "where license_plate in (select license_plate\n",
    "                        from accident natural join participated\n",
    "                        where year = '2021')"
   ]
  },
  {
   "cell_type": "code",
   "execution_count": 15,
   "metadata": {},
   "outputs": [
    {
     "name": "stdout",
     "output_type": "stream",
     "text": [
      " * sqlite:///insurance.db\n",
      "Done.\n"
     ]
    },
    {
     "data": {
      "text/html": [
       "<table>\n",
       "    <tr>\n",
       "        <th>count(report_number)</th>\n",
       "    </tr>\n",
       "    <tr>\n",
       "        <td>1</td>\n",
       "    </tr>\n",
       "</table>"
      ],
      "text/plain": [
       "[(1,)]"
      ]
     },
     "execution_count": 15,
     "metadata": {},
     "output_type": "execute_result"
    }
   ],
   "source": [
    "%%sql /*Problem 5*/\n",
    "select count(report_number)\n",
    "from participated\n",
    "where license_plate in (select license_plate\n",
    "                        from person natural join owns\n",
    "                        where name = 'John Smith')"
   ]
  },
  {
   "cell_type": "code",
   "execution_count": 16,
   "metadata": {},
   "outputs": [
    {
     "name": "stdout",
     "output_type": "stream",
     "text": [
      " * sqlite:///insurance.db\n",
      "Done.\n"
     ]
    },
    {
     "data": {
      "text/plain": [
       "[]"
      ]
     },
     "execution_count": 16,
     "metadata": {},
     "output_type": "execute_result"
    }
   ],
   "source": [
    "%%sql /*Problem 6*/\n",
    "delete from owns\n",
    "where driver_id in (select driver_id\n",
    "                    from person natural join owns\n",
    "                    where driver_id = '12345')"
   ]
  },
  {
   "cell_type": "code",
   "execution_count": 17,
   "metadata": {},
   "outputs": [
    {
     "name": "stdout",
     "output_type": "stream",
     "text": [
      " * sqlite:///insurance.db\n",
      "Done.\n"
     ]
    },
    {
     "data": {
      "text/html": [
       "<table>\n",
       "    <tr>\n",
       "        <th>driver_id</th>\n",
       "        <th>license_plate</th>\n",
       "    </tr>\n",
       "    <tr>\n",
       "        <td>29538</td>\n",
       "        <td>AABB2000</td>\n",
       "    </tr>\n",
       "    <tr>\n",
       "        <td>58033</td>\n",
       "        <td>TDWU0421</td>\n",
       "    </tr>\n",
       "    <tr>\n",
       "        <td>82592</td>\n",
       "        <td>CSYF1980</td>\n",
       "    </tr>\n",
       "    <tr>\n",
       "        <td>78608</td>\n",
       "        <td>OMSH1732</td>\n",
       "    </tr>\n",
       "</table>"
      ],
      "text/plain": [
       "[('29538', 'AABB2000'),\n",
       " ('58033', 'TDWU0421'),\n",
       " ('82592', 'CSYF1980'),\n",
       " ('78608', 'OMSH1732')]"
      ]
     },
     "execution_count": 17,
     "metadata": {},
     "output_type": "execute_result"
    }
   ],
   "source": [
    "%%sql \n",
    "select * from owns"
   ]
  },
  {
   "cell_type": "code",
   "execution_count": 18,
   "metadata": {},
   "outputs": [
    {
     "name": "stdout",
     "output_type": "stream",
     "text": [
      " * sqlite:///insurance.db\n",
      "Done.\n"
     ]
    },
    {
     "data": {
      "text/plain": [
       "[]"
      ]
     },
     "execution_count": 18,
     "metadata": {},
     "output_type": "execute_result"
    }
   ],
   "source": [
    "%%sql /*Problem 7*/\n",
    "update participated set damage_amount='3000' \n",
    "where license_plate='AABB2000' and report_number = 'AR2197'"
   ]
  },
  {
   "cell_type": "code",
   "execution_count": 19,
   "metadata": {},
   "outputs": [
    {
     "name": "stdout",
     "output_type": "stream",
     "text": [
      " * sqlite:///insurance.db\n",
      "Done.\n"
     ]
    },
    {
     "data": {
      "text/html": [
       "<table>\n",
       "    <tr>\n",
       "        <th>report_number</th>\n",
       "        <th>license_plate</th>\n",
       "        <th>driver_id</th>\n",
       "        <th>damage_amount</th>\n",
       "    </tr>\n",
       "    <tr>\n",
       "        <td>AR2197</td>\n",
       "        <td>AABB2000</td>\n",
       "        <td>29538</td>\n",
       "        <td>3000</td>\n",
       "    </tr>\n",
       "</table>"
      ],
      "text/plain": [
       "[('AR2197', 'AABB2000', '29538', 3000)]"
      ]
     },
     "execution_count": 19,
     "metadata": {},
     "output_type": "execute_result"
    }
   ],
   "source": [
    "%%sql\n",
    "select * from participated\n",
    "where license_plate='AABB2000' and report_number = 'AR2197'"
   ]
  },
  {
   "cell_type": "code",
   "execution_count": 20,
   "metadata": {},
   "outputs": [
    {
     "name": "stdout",
     "output_type": "stream",
     "text": [
      " * sqlite:///insurance.db\n",
      "Done.\n"
     ]
    },
    {
     "data": {
      "text/html": [
       "<table>\n",
       "    <tr>\n",
       "        <th>report_number</th>\n",
       "        <th>license_plate</th>\n",
       "        <th>driver_id</th>\n",
       "        <th>damage_amount</th>\n",
       "    </tr>\n",
       "    <tr>\n",
       "        <td>QW2197</td>\n",
       "        <td>TDWU0421</td>\n",
       "        <td>58033</td>\n",
       "        <td>1700</td>\n",
       "    </tr>\n",
       "    <tr>\n",
       "        <td>HE4884</td>\n",
       "        <td>UFNE8210</td>\n",
       "        <td>12345</td>\n",
       "        <td>2300</td>\n",
       "    </tr>\n",
       "    <tr>\n",
       "        <td>AR2197</td>\n",
       "        <td>AABB2000</td>\n",
       "        <td>29538</td>\n",
       "        <td>3000</td>\n",
       "    </tr>\n",
       "    <tr>\n",
       "        <td>XE8732</td>\n",
       "        <td>CSYF1980</td>\n",
       "        <td>82592</td>\n",
       "        <td>2100</td>\n",
       "    </tr>\n",
       "    <tr>\n",
       "        <td>HU2309</td>\n",
       "        <td>OMSH1732</td>\n",
       "        <td>78608</td>\n",
       "        <td>500</td>\n",
       "    </tr>\n",
       "</table>"
      ],
      "text/plain": [
       "[('QW2197', 'TDWU0421', '58033', 1700),\n",
       " ('HE4884', 'UFNE8210', '12345', 2300),\n",
       " ('AR2197', 'AABB2000', '29538', 3000),\n",
       " ('XE8732', 'CSYF1980', '82592', 2100),\n",
       " ('HU2309', 'OMSH1732', '78608', 500)]"
      ]
     },
     "execution_count": 20,
     "metadata": {},
     "output_type": "execute_result"
    }
   ],
   "source": [
    "%%sql\n",
    "select * from participated"
   ]
  }
 ],
 "metadata": {
  "kernelspec": {
   "display_name": "Python 3",
   "language": "python",
   "name": "python3"
  },
  "language_info": {
   "codemirror_mode": {
    "name": "ipython",
    "version": 3
   },
   "file_extension": ".py",
   "mimetype": "text/x-python",
   "name": "python",
   "nbconvert_exporter": "python",
   "pygments_lexer": "ipython3",
   "version": "3.8.5"
  },
  "metadata": {
   "interpreter": {
    "hash": "2db524e06e9f5f4ffedc911c917cb75e12dbc923643829bf417064a77eb14d37"
   }
  }
 },
 "nbformat": 4,
 "nbformat_minor": 5
}
