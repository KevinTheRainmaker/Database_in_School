{
 "cells": [
  {
   "cell_type": "code",
   "execution_count": 1,
   "metadata": {},
   "outputs": [],
   "source": [
    "%load_ext sql"
   ]
  },
  {
   "cell_type": "code",
   "execution_count": 2,
   "metadata": {},
   "outputs": [],
   "source": [
    "%sql sqlite:///db_univ7.db"
   ]
  },
  {
   "cell_type": "code",
   "execution_count": 3,
   "metadata": {},
   "outputs": [
    {
     "name": "stdout",
     "output_type": "stream",
     "text": [
      " * sqlite:///db_univ7.db\n",
      "Done.\n"
     ]
    },
    {
     "data": {
      "text/html": [
       "<table>\n",
       "    <tr>\n",
       "        <th>type</th>\n",
       "        <th>name</th>\n",
       "        <th>tbl_name</th>\n",
       "        <th>rootpage</th>\n",
       "        <th>sql</th>\n",
       "    </tr>\n",
       "    <tr>\n",
       "        <td>table</td>\n",
       "        <td>classroom</td>\n",
       "        <td>classroom</td>\n",
       "        <td>2</td>\n",
       "        <td>CREATE TABLE classroom<br>\t(building\t\tvarchar(15),<br>\t room_number\t\tvarchar(7),<br>\t capacity\t\tnumeric(4,0),<br>\t primary key (building, room_number)<br>\t)</td>\n",
       "    </tr>\n",
       "    <tr>\n",
       "        <td>index</td>\n",
       "        <td>sqlite_autoindex_classroom_1</td>\n",
       "        <td>classroom</td>\n",
       "        <td>3</td>\n",
       "        <td>None</td>\n",
       "    </tr>\n",
       "    <tr>\n",
       "        <td>table</td>\n",
       "        <td>department</td>\n",
       "        <td>department</td>\n",
       "        <td>4</td>\n",
       "        <td>CREATE TABLE department<br>\t(dept_name\t\tvarchar(20), <br>\t building\t\tvarchar(15), <br>\t budget\t\t        numeric(12,2) check (budget &gt; 0),<br>\t primary key (dept_name)<br>\t)</td>\n",
       "    </tr>\n",
       "    <tr>\n",
       "        <td>index</td>\n",
       "        <td>sqlite_autoindex_department_1</td>\n",
       "        <td>department</td>\n",
       "        <td>5</td>\n",
       "        <td>None</td>\n",
       "    </tr>\n",
       "    <tr>\n",
       "        <td>table</td>\n",
       "        <td>course</td>\n",
       "        <td>course</td>\n",
       "        <td>6</td>\n",
       "        <td>CREATE TABLE course<br>\t(course_id\t\tvarchar(8), <br>\t title\t\t\tvarchar(50), <br>\t dept_name\t\tvarchar(20),<br>\t credits\t\tnumeric(2,0) check (credits &gt; 0),<br>\t primary key (course_id),<br>\t foreign key (dept_name) references department (dept_name)<br>\t\ton delete set null<br>\t)</td>\n",
       "    </tr>\n",
       "    <tr>\n",
       "        <td>index</td>\n",
       "        <td>sqlite_autoindex_course_1</td>\n",
       "        <td>course</td>\n",
       "        <td>7</td>\n",
       "        <td>None</td>\n",
       "    </tr>\n",
       "    <tr>\n",
       "        <td>table</td>\n",
       "        <td>instructor</td>\n",
       "        <td>instructor</td>\n",
       "        <td>8</td>\n",
       "        <td>CREATE TABLE instructor<br>\t(ID\t\t\tvarchar(5), <br>\t name\t\t\tvarchar(20) not null, <br>\t dept_name\t\tvarchar(20), <br>\t salary\t\t\tnumeric(8,2) check (salary &gt; 29000),<br>\t primary key (ID),<br>\t foreign key (dept_name) references department (dept_name)<br>\t\ton delete set null<br>\t)</td>\n",
       "    </tr>\n",
       "    <tr>\n",
       "        <td>index</td>\n",
       "        <td>sqlite_autoindex_instructor_1</td>\n",
       "        <td>instructor</td>\n",
       "        <td>9</td>\n",
       "        <td>None</td>\n",
       "    </tr>\n",
       "    <tr>\n",
       "        <td>table</td>\n",
       "        <td>section</td>\n",
       "        <td>section</td>\n",
       "        <td>10</td>\n",
       "        <td>CREATE TABLE section<br>\t(course_id\t\tvarchar(8), <br>         sec_id\t\t\tvarchar(8),<br>\t semester\t\tvarchar(6)<br>\t\tcheck (semester in (&#x27;Fall&#x27;, &#x27;Winter&#x27;, &#x27;Spring&#x27;, &#x27;Summer&#x27;)), <br>\t year\t\t\tnumeric(4,0) check (year &gt; 1701 and year &lt; 2100), <br>\t building\t\tvarchar(15),<br>\t room_number\t\tvarchar(7),<br>\t time_slot_id\t\tvarchar(4),<br>\t primary key (course_id, sec_id, semester, year),<br>\t foreign key (course_id) references course (course_id)<br>\t\ton delete cascade,<br>\t foreign key (building, room_number) references classroom (building, room_number)<br>\t\ton delete set null<br>\t)</td>\n",
       "    </tr>\n",
       "    <tr>\n",
       "        <td>index</td>\n",
       "        <td>sqlite_autoindex_section_1</td>\n",
       "        <td>section</td>\n",
       "        <td>11</td>\n",
       "        <td>None</td>\n",
       "    </tr>\n",
       "    <tr>\n",
       "        <td>table</td>\n",
       "        <td>teaches</td>\n",
       "        <td>teaches</td>\n",
       "        <td>12</td>\n",
       "        <td>CREATE TABLE teaches<br>\t(ID\t\t\tvarchar(5), <br>\t course_id\t\tvarchar(8),<br>\t sec_id\t\t\tvarchar(8), <br>\t semester\t\tvarchar(6),<br>\t year\t\t\tnumeric(4,0),<br>\t primary key (ID, course_id, sec_id, semester, year),<br>\t foreign key (course_id, sec_id, semester, year) references section (course_id, sec_id, semester, year)<br>\t\ton delete cascade,<br>\t foreign key (ID) references instructor (ID)<br>\t\ton delete cascade<br>\t)</td>\n",
       "    </tr>\n",
       "    <tr>\n",
       "        <td>index</td>\n",
       "        <td>sqlite_autoindex_teaches_1</td>\n",
       "        <td>teaches</td>\n",
       "        <td>13</td>\n",
       "        <td>None</td>\n",
       "    </tr>\n",
       "    <tr>\n",
       "        <td>table</td>\n",
       "        <td>student</td>\n",
       "        <td>student</td>\n",
       "        <td>14</td>\n",
       "        <td>CREATE TABLE student<br>\t(ID\t\t\tvarchar(5), <br>\t name\t\t\tvarchar(20) not null, <br>\t dept_name\t\tvarchar(20), <br>\t tot_cred\t\tnumeric(3,0) check (tot_cred &gt;= 0),<br>\t primary key (ID),<br>\t foreign key (dept_name) references department (dept_name)<br>\t\ton delete set null<br>\t)</td>\n",
       "    </tr>\n",
       "    <tr>\n",
       "        <td>index</td>\n",
       "        <td>sqlite_autoindex_student_1</td>\n",
       "        <td>student</td>\n",
       "        <td>15</td>\n",
       "        <td>None</td>\n",
       "    </tr>\n",
       "    <tr>\n",
       "        <td>table</td>\n",
       "        <td>takes</td>\n",
       "        <td>takes</td>\n",
       "        <td>16</td>\n",
       "        <td>CREATE TABLE takes<br>\t(ID\t\t\tvarchar(5), <br>\t course_id\t\tvarchar(8),<br>\t sec_id\t\t\tvarchar(8), <br>\t semester\t\tvarchar(6),<br>\t year\t\t\tnumeric(4,0),<br>\t grade\t\t        varchar(2),<br>\t primary key (ID, course_id, sec_id, semester, year),<br>\t foreign key (course_id, sec_id, semester, year) references section (course_id, sec_id, semester, year)<br>\t\ton delete cascade,<br>\t foreign key (ID) references student (ID)<br>\t\ton delete cascade<br>\t)</td>\n",
       "    </tr>\n",
       "    <tr>\n",
       "        <td>index</td>\n",
       "        <td>sqlite_autoindex_takes_1</td>\n",
       "        <td>takes</td>\n",
       "        <td>17</td>\n",
       "        <td>None</td>\n",
       "    </tr>\n",
       "    <tr>\n",
       "        <td>table</td>\n",
       "        <td>advisor</td>\n",
       "        <td>advisor</td>\n",
       "        <td>18</td>\n",
       "        <td>CREATE TABLE advisor<br>\t(s_ID\t\t\tvarchar(5),<br>\t i_ID\t\t\tvarchar(5),<br>\t primary key (s_ID),<br>\t foreign key (i_ID) references instructor (ID)<br>\t\ton delete set null,<br>\t foreign key (s_ID) references student (ID)<br>\t\ton delete cascade<br>\t)</td>\n",
       "    </tr>\n",
       "    <tr>\n",
       "        <td>index</td>\n",
       "        <td>sqlite_autoindex_advisor_1</td>\n",
       "        <td>advisor</td>\n",
       "        <td>19</td>\n",
       "        <td>None</td>\n",
       "    </tr>\n",
       "    <tr>\n",
       "        <td>table</td>\n",
       "        <td>time_slot</td>\n",
       "        <td>time_slot</td>\n",
       "        <td>20</td>\n",
       "        <td>CREATE TABLE time_slot<br>\t(time_slot_id\t\tvarchar(4),<br>\t day\t\t\tvarchar(1),<br>\t start_hr\t\tnumeric(2) check (start_hr &gt;= 0 and start_hr &lt; 24),<br>\t start_min\t\tnumeric(2) check (start_min &gt;= 0 and start_min &lt; 60),<br>\t end_hr\t\t\tnumeric(2) check (end_hr &gt;= 0 and end_hr &lt; 24),<br>\t end_min\t\tnumeric(2) check (end_min &gt;= 0 and end_min &lt; 60),<br>\t primary key (time_slot_id, day, start_hr, start_min)<br>\t)</td>\n",
       "    </tr>\n",
       "    <tr>\n",
       "        <td>index</td>\n",
       "        <td>sqlite_autoindex_time_slot_1</td>\n",
       "        <td>time_slot</td>\n",
       "        <td>21</td>\n",
       "        <td>None</td>\n",
       "    </tr>\n",
       "    <tr>\n",
       "        <td>table</td>\n",
       "        <td>prereq</td>\n",
       "        <td>prereq</td>\n",
       "        <td>22</td>\n",
       "        <td>CREATE TABLE prereq<br>\t(course_id\t\tvarchar(8), <br>\t prereq_id\t\tvarchar(8),<br>\t primary key (course_id, prereq_id),<br>\t foreign key (course_id) references course (course_id)<br>\t\ton delete cascade,<br>\t foreign key (prereq_id) references course (course_id)<br>\t)</td>\n",
       "    </tr>\n",
       "    <tr>\n",
       "        <td>index</td>\n",
       "        <td>sqlite_autoindex_prereq_1</td>\n",
       "        <td>prereq</td>\n",
       "        <td>23</td>\n",
       "        <td>None</td>\n",
       "    </tr>\n",
       "</table>"
      ],
      "text/plain": [
       "[('table', 'classroom', 'classroom', 2, 'CREATE TABLE classroom\\n\\t(building\\t\\tvarchar(15),\\n\\t room_number\\t\\tvarchar(7),\\n\\t capacity\\t\\tnumeric(4,0),\\n\\t primary key (building, room_number)\\n\\t)'),\n",
       " ('index', 'sqlite_autoindex_classroom_1', 'classroom', 3, None),\n",
       " ('table', 'department', 'department', 4, 'CREATE TABLE department\\n\\t(dept_name\\t\\tvarchar(20), \\n\\t building\\t\\tvarchar(15), \\n\\t budget\\t\\t        numeric(12,2) check (budget > 0),\\n\\t primary key (dept_name)\\n\\t)'),\n",
       " ('index', 'sqlite_autoindex_department_1', 'department', 5, None),\n",
       " ('table', 'course', 'course', 6, 'CREATE TABLE course\\n\\t(course_id\\t\\tvarchar(8), \\n\\t title\\t\\t\\tvarchar(50), \\n\\t dept_name\\t\\tvarchar(20),\\n\\t credits\\t\\tnumeric(2,0) check (credits > 0),\\n\\t primary key (course_id),\\n\\t foreign key (dept_name) references department (dept_name)\\n\\t\\ton delete set null\\n\\t)'),\n",
       " ('index', 'sqlite_autoindex_course_1', 'course', 7, None),\n",
       " ('table', 'instructor', 'instructor', 8, 'CREATE TABLE instructor\\n\\t(ID\\t\\t\\tvarchar(5), \\n\\t name\\t\\t\\tvarchar(20) not null, \\n\\t dept_name\\t\\tvarchar(20), \\n\\t salary\\t\\t\\tnumeric(8,2) check (salary > 29000),\\n\\t primary key (ID),\\n\\t foreign key (dept_name) references department (dept_name)\\n\\t\\ton delete set null\\n\\t)'),\n",
       " ('index', 'sqlite_autoindex_instructor_1', 'instructor', 9, None),\n",
       " ('table', 'section', 'section', 10, \"CREATE TABLE section\\n\\t(course_id\\t\\tvarchar(8), \\n         sec_id\\t\\t\\tvarchar(8),\\n\\t semester\\t\\tvarchar(6)\\n\\t\\tcheck (semester in ('Fall', 'Win ... (285 characters truncated) ... (course_id)\\n\\t\\ton delete cascade,\\n\\t foreign key (building, room_number) references classroom (building, room_number)\\n\\t\\ton delete set null\\n\\t)\"),\n",
       " ('index', 'sqlite_autoindex_section_1', 'section', 11, None),\n",
       " ('table', 'teaches', 'teaches', 12, 'CREATE TABLE teaches\\n\\t(ID\\t\\t\\tvarchar(5), \\n\\t course_id\\t\\tvarchar(8),\\n\\t sec_id\\t\\t\\tvarchar(8), \\n\\t semester\\t\\tvarchar(6),\\n\\t year\\t\\t\\tnum ... (125 characters truncated) ... ences section (course_id, sec_id, semester, year)\\n\\t\\ton delete cascade,\\n\\t foreign key (ID) references instructor (ID)\\n\\t\\ton delete cascade\\n\\t)'),\n",
       " ('index', 'sqlite_autoindex_teaches_1', 'teaches', 13, None),\n",
       " ('table', 'student', 'student', 14, 'CREATE TABLE student\\n\\t(ID\\t\\t\\tvarchar(5), \\n\\t name\\t\\t\\tvarchar(20) not null, \\n\\t dept_name\\t\\tvarchar(20), \\n\\t tot_cred\\t\\tnumeric(3,0) check (tot_cred >= 0),\\n\\t primary key (ID),\\n\\t foreign key (dept_name) references department (dept_name)\\n\\t\\ton delete set null\\n\\t)'),\n",
       " ('index', 'sqlite_autoindex_student_1', 'student', 15, None),\n",
       " ('table', 'takes', 'takes', 16, 'CREATE TABLE takes\\n\\t(ID\\t\\t\\tvarchar(5), \\n\\t course_id\\t\\tvarchar(8),\\n\\t sec_id\\t\\t\\tvarchar(8), \\n\\t semester\\t\\tvarchar(6),\\n\\t year\\t\\t\\tnumer ... (153 characters truncated) ... ferences section (course_id, sec_id, semester, year)\\n\\t\\ton delete cascade,\\n\\t foreign key (ID) references student (ID)\\n\\t\\ton delete cascade\\n\\t)'),\n",
       " ('index', 'sqlite_autoindex_takes_1', 'takes', 17, None),\n",
       " ('table', 'advisor', 'advisor', 18, 'CREATE TABLE advisor\\n\\t(s_ID\\t\\t\\tvarchar(5),\\n\\t i_ID\\t\\t\\tvarchar(5),\\n\\t primary key (s_ID),\\n\\t foreign key (i_ID) references instructor (ID)\\n\\t\\ton delete set null,\\n\\t foreign key (s_ID) references student (ID)\\n\\t\\ton delete cascade\\n\\t)'),\n",
       " ('index', 'sqlite_autoindex_advisor_1', 'advisor', 19, None),\n",
       " ('table', 'time_slot', 'time_slot', 20, 'CREATE TABLE time_slot\\n\\t(time_slot_id\\t\\tvarchar(4),\\n\\t day\\t\\t\\tvarchar(1),\\n\\t start_hr\\t\\tnumeric(2) check (start_hr >= 0 and start_hr < 24),\\n ... (111 characters truncated) ... >= 0 and end_hr < 24),\\n\\t end_min\\t\\tnumeric(2) check (end_min >= 0 and end_min < 60),\\n\\t primary key (time_slot_id, day, start_hr, start_min)\\n\\t)'),\n",
       " ('index', 'sqlite_autoindex_time_slot_1', 'time_slot', 21, None),\n",
       " ('table', 'prereq', 'prereq', 22, 'CREATE TABLE prereq\\n\\t(course_id\\t\\tvarchar(8), \\n\\t prereq_id\\t\\tvarchar(8),\\n\\t primary key (course_id, prereq_id),\\n\\t foreign key (course_id) references course (course_id)\\n\\t\\ton delete cascade,\\n\\t foreign key (prereq_id) references course (course_id)\\n\\t)'),\n",
       " ('index', 'sqlite_autoindex_prereq_1', 'prereq', 23, None)]"
      ]
     },
     "execution_count": 3,
     "metadata": {},
     "output_type": "execute_result"
    }
   ],
   "source": [
    "%sql select * from sqlite_master;"
   ]
  },
  {
   "cell_type": "code",
   "execution_count": 3,
   "metadata": {},
   "outputs": [
    {
     "name": "stdout",
     "output_type": "stream",
     "text": [
      " * sqlite:///db_univ7.db\n"
     ]
    },
    {
     "ename": "IntegrityError",
     "evalue": "(sqlite3.IntegrityError) CHECK constraint failed: section\n[SQL: insert into section values ('BIO-101','1','Winter-Spring', 2018, 'Painter', '514', 'B')]\n(Background on this error at: http://sqlalche.me/e/13/gkpj)",
     "output_type": "error",
     "traceback": [
      "\u001b[1;31m---------------------------------------------------------------------------\u001b[0m",
      "\u001b[1;31mIntegrityError\u001b[0m                            Traceback (most recent call last)",
      "\u001b[1;32m~\\anaconda3\\lib\\site-packages\\sqlalchemy\\engine\\base.py\u001b[0m in \u001b[0;36m_execute_context\u001b[1;34m(self, dialect, constructor, statement, parameters, *args)\u001b[0m\n\u001b[0;32m   1276\u001b[0m                 \u001b[1;32mif\u001b[0m \u001b[1;32mnot\u001b[0m \u001b[0mevt_handled\u001b[0m\u001b[1;33m:\u001b[0m\u001b[1;33m\u001b[0m\u001b[1;33m\u001b[0m\u001b[0m\n\u001b[1;32m-> 1277\u001b[1;33m                     self.dialect.do_execute(\n\u001b[0m\u001b[0;32m   1278\u001b[0m                         \u001b[0mcursor\u001b[0m\u001b[1;33m,\u001b[0m \u001b[0mstatement\u001b[0m\u001b[1;33m,\u001b[0m \u001b[0mparameters\u001b[0m\u001b[1;33m,\u001b[0m \u001b[0mcontext\u001b[0m\u001b[1;33m\u001b[0m\u001b[1;33m\u001b[0m\u001b[0m\n",
      "\u001b[1;32m~\\anaconda3\\lib\\site-packages\\sqlalchemy\\engine\\default.py\u001b[0m in \u001b[0;36mdo_execute\u001b[1;34m(self, cursor, statement, parameters, context)\u001b[0m\n\u001b[0;32m    592\u001b[0m     \u001b[1;32mdef\u001b[0m \u001b[0mdo_execute\u001b[0m\u001b[1;33m(\u001b[0m\u001b[0mself\u001b[0m\u001b[1;33m,\u001b[0m \u001b[0mcursor\u001b[0m\u001b[1;33m,\u001b[0m \u001b[0mstatement\u001b[0m\u001b[1;33m,\u001b[0m \u001b[0mparameters\u001b[0m\u001b[1;33m,\u001b[0m \u001b[0mcontext\u001b[0m\u001b[1;33m=\u001b[0m\u001b[1;32mNone\u001b[0m\u001b[1;33m)\u001b[0m\u001b[1;33m:\u001b[0m\u001b[1;33m\u001b[0m\u001b[1;33m\u001b[0m\u001b[0m\n\u001b[1;32m--> 593\u001b[1;33m         \u001b[0mcursor\u001b[0m\u001b[1;33m.\u001b[0m\u001b[0mexecute\u001b[0m\u001b[1;33m(\u001b[0m\u001b[0mstatement\u001b[0m\u001b[1;33m,\u001b[0m \u001b[0mparameters\u001b[0m\u001b[1;33m)\u001b[0m\u001b[1;33m\u001b[0m\u001b[1;33m\u001b[0m\u001b[0m\n\u001b[0m\u001b[0;32m    594\u001b[0m \u001b[1;33m\u001b[0m\u001b[0m\n",
      "\u001b[1;31mIntegrityError\u001b[0m: CHECK constraint failed: section",
      "\nThe above exception was the direct cause of the following exception:\n",
      "\u001b[1;31mIntegrityError\u001b[0m                            Traceback (most recent call last)",
      "\u001b[1;32m<ipython-input-3-0960362c0a1e>\u001b[0m in \u001b[0;36m<module>\u001b[1;34m\u001b[0m\n\u001b[1;32m----> 1\u001b[1;33m \u001b[0mget_ipython\u001b[0m\u001b[1;33m(\u001b[0m\u001b[1;33m)\u001b[0m\u001b[1;33m.\u001b[0m\u001b[0mrun_line_magic\u001b[0m\u001b[1;33m(\u001b[0m\u001b[1;34m'sql'\u001b[0m\u001b[1;33m,\u001b[0m \u001b[1;34m\"insert into section values ('BIO-101','1','Winter-Spring', 2018, 'Painter', '514', 'B')\"\u001b[0m\u001b[1;33m)\u001b[0m\u001b[1;33m\u001b[0m\u001b[1;33m\u001b[0m\u001b[0m\n\u001b[0m",
      "\u001b[1;32m~\\anaconda3\\lib\\site-packages\\IPython\\core\\interactiveshell.py\u001b[0m in \u001b[0;36mrun_line_magic\u001b[1;34m(self, magic_name, line, _stack_depth)\u001b[0m\n\u001b[0;32m   2324\u001b[0m                 \u001b[0mkwargs\u001b[0m\u001b[1;33m[\u001b[0m\u001b[1;34m'local_ns'\u001b[0m\u001b[1;33m]\u001b[0m \u001b[1;33m=\u001b[0m \u001b[0msys\u001b[0m\u001b[1;33m.\u001b[0m\u001b[0m_getframe\u001b[0m\u001b[1;33m(\u001b[0m\u001b[0mstack_depth\u001b[0m\u001b[1;33m)\u001b[0m\u001b[1;33m.\u001b[0m\u001b[0mf_locals\u001b[0m\u001b[1;33m\u001b[0m\u001b[1;33m\u001b[0m\u001b[0m\n\u001b[0;32m   2325\u001b[0m             \u001b[1;32mwith\u001b[0m \u001b[0mself\u001b[0m\u001b[1;33m.\u001b[0m\u001b[0mbuiltin_trap\u001b[0m\u001b[1;33m:\u001b[0m\u001b[1;33m\u001b[0m\u001b[1;33m\u001b[0m\u001b[0m\n\u001b[1;32m-> 2326\u001b[1;33m                 \u001b[0mresult\u001b[0m \u001b[1;33m=\u001b[0m \u001b[0mfn\u001b[0m\u001b[1;33m(\u001b[0m\u001b[1;33m*\u001b[0m\u001b[0margs\u001b[0m\u001b[1;33m,\u001b[0m \u001b[1;33m**\u001b[0m\u001b[0mkwargs\u001b[0m\u001b[1;33m)\u001b[0m\u001b[1;33m\u001b[0m\u001b[1;33m\u001b[0m\u001b[0m\n\u001b[0m\u001b[0;32m   2327\u001b[0m             \u001b[1;32mreturn\u001b[0m \u001b[0mresult\u001b[0m\u001b[1;33m\u001b[0m\u001b[1;33m\u001b[0m\u001b[0m\n\u001b[0;32m   2328\u001b[0m \u001b[1;33m\u001b[0m\u001b[0m\n",
      "\u001b[1;32m<decorator-gen-128>\u001b[0m in \u001b[0;36mexecute\u001b[1;34m(self, line, cell, local_ns)\u001b[0m\n",
      "\u001b[1;32m~\\anaconda3\\lib\\site-packages\\IPython\\core\\magic.py\u001b[0m in \u001b[0;36m<lambda>\u001b[1;34m(f, *a, **k)\u001b[0m\n\u001b[0;32m    185\u001b[0m     \u001b[1;31m# but it's overkill for just that one bit of state.\u001b[0m\u001b[1;33m\u001b[0m\u001b[1;33m\u001b[0m\u001b[1;33m\u001b[0m\u001b[0m\n\u001b[0;32m    186\u001b[0m     \u001b[1;32mdef\u001b[0m \u001b[0mmagic_deco\u001b[0m\u001b[1;33m(\u001b[0m\u001b[0marg\u001b[0m\u001b[1;33m)\u001b[0m\u001b[1;33m:\u001b[0m\u001b[1;33m\u001b[0m\u001b[1;33m\u001b[0m\u001b[0m\n\u001b[1;32m--> 187\u001b[1;33m         \u001b[0mcall\u001b[0m \u001b[1;33m=\u001b[0m \u001b[1;32mlambda\u001b[0m \u001b[0mf\u001b[0m\u001b[1;33m,\u001b[0m \u001b[1;33m*\u001b[0m\u001b[0ma\u001b[0m\u001b[1;33m,\u001b[0m \u001b[1;33m**\u001b[0m\u001b[0mk\u001b[0m\u001b[1;33m:\u001b[0m \u001b[0mf\u001b[0m\u001b[1;33m(\u001b[0m\u001b[1;33m*\u001b[0m\u001b[0ma\u001b[0m\u001b[1;33m,\u001b[0m \u001b[1;33m**\u001b[0m\u001b[0mk\u001b[0m\u001b[1;33m)\u001b[0m\u001b[1;33m\u001b[0m\u001b[1;33m\u001b[0m\u001b[0m\n\u001b[0m\u001b[0;32m    188\u001b[0m \u001b[1;33m\u001b[0m\u001b[0m\n\u001b[0;32m    189\u001b[0m         \u001b[1;32mif\u001b[0m \u001b[0mcallable\u001b[0m\u001b[1;33m(\u001b[0m\u001b[0marg\u001b[0m\u001b[1;33m)\u001b[0m\u001b[1;33m:\u001b[0m\u001b[1;33m\u001b[0m\u001b[1;33m\u001b[0m\u001b[0m\n",
      "\u001b[1;32m<decorator-gen-127>\u001b[0m in \u001b[0;36mexecute\u001b[1;34m(self, line, cell, local_ns)\u001b[0m\n",
      "\u001b[1;32m~\\anaconda3\\lib\\site-packages\\IPython\\core\\magic.py\u001b[0m in \u001b[0;36m<lambda>\u001b[1;34m(f, *a, **k)\u001b[0m\n\u001b[0;32m    185\u001b[0m     \u001b[1;31m# but it's overkill for just that one bit of state.\u001b[0m\u001b[1;33m\u001b[0m\u001b[1;33m\u001b[0m\u001b[1;33m\u001b[0m\u001b[0m\n\u001b[0;32m    186\u001b[0m     \u001b[1;32mdef\u001b[0m \u001b[0mmagic_deco\u001b[0m\u001b[1;33m(\u001b[0m\u001b[0marg\u001b[0m\u001b[1;33m)\u001b[0m\u001b[1;33m:\u001b[0m\u001b[1;33m\u001b[0m\u001b[1;33m\u001b[0m\u001b[0m\n\u001b[1;32m--> 187\u001b[1;33m         \u001b[0mcall\u001b[0m \u001b[1;33m=\u001b[0m \u001b[1;32mlambda\u001b[0m \u001b[0mf\u001b[0m\u001b[1;33m,\u001b[0m \u001b[1;33m*\u001b[0m\u001b[0ma\u001b[0m\u001b[1;33m,\u001b[0m \u001b[1;33m**\u001b[0m\u001b[0mk\u001b[0m\u001b[1;33m:\u001b[0m \u001b[0mf\u001b[0m\u001b[1;33m(\u001b[0m\u001b[1;33m*\u001b[0m\u001b[0ma\u001b[0m\u001b[1;33m,\u001b[0m \u001b[1;33m**\u001b[0m\u001b[0mk\u001b[0m\u001b[1;33m)\u001b[0m\u001b[1;33m\u001b[0m\u001b[1;33m\u001b[0m\u001b[0m\n\u001b[0m\u001b[0;32m    188\u001b[0m \u001b[1;33m\u001b[0m\u001b[0m\n\u001b[0;32m    189\u001b[0m         \u001b[1;32mif\u001b[0m \u001b[0mcallable\u001b[0m\u001b[1;33m(\u001b[0m\u001b[0marg\u001b[0m\u001b[1;33m)\u001b[0m\u001b[1;33m:\u001b[0m\u001b[1;33m\u001b[0m\u001b[1;33m\u001b[0m\u001b[0m\n",
      "\u001b[1;32m~\\anaconda3\\lib\\site-packages\\sql\\magic.py\u001b[0m in \u001b[0;36mexecute\u001b[1;34m(self, line, cell, local_ns)\u001b[0m\n\u001b[0;32m    215\u001b[0m \u001b[1;33m\u001b[0m\u001b[0m\n\u001b[0;32m    216\u001b[0m         \u001b[1;32mtry\u001b[0m\u001b[1;33m:\u001b[0m\u001b[1;33m\u001b[0m\u001b[1;33m\u001b[0m\u001b[0m\n\u001b[1;32m--> 217\u001b[1;33m             \u001b[0mresult\u001b[0m \u001b[1;33m=\u001b[0m \u001b[0msql\u001b[0m\u001b[1;33m.\u001b[0m\u001b[0mrun\u001b[0m\u001b[1;33m.\u001b[0m\u001b[0mrun\u001b[0m\u001b[1;33m(\u001b[0m\u001b[0mconn\u001b[0m\u001b[1;33m,\u001b[0m \u001b[0mparsed\u001b[0m\u001b[1;33m[\u001b[0m\u001b[1;34m\"sql\"\u001b[0m\u001b[1;33m]\u001b[0m\u001b[1;33m,\u001b[0m \u001b[0mself\u001b[0m\u001b[1;33m,\u001b[0m \u001b[0muser_ns\u001b[0m\u001b[1;33m)\u001b[0m\u001b[1;33m\u001b[0m\u001b[1;33m\u001b[0m\u001b[0m\n\u001b[0m\u001b[0;32m    218\u001b[0m \u001b[1;33m\u001b[0m\u001b[0m\n\u001b[0;32m    219\u001b[0m             if (\n",
      "\u001b[1;32m~\\anaconda3\\lib\\site-packages\\sql\\run.py\u001b[0m in \u001b[0;36mrun\u001b[1;34m(conn, sql, config, user_namespace)\u001b[0m\n\u001b[0;32m    365\u001b[0m             \u001b[1;32melse\u001b[0m\u001b[1;33m:\u001b[0m\u001b[1;33m\u001b[0m\u001b[1;33m\u001b[0m\u001b[0m\n\u001b[0;32m    366\u001b[0m                 \u001b[0mtxt\u001b[0m \u001b[1;33m=\u001b[0m \u001b[0msqlalchemy\u001b[0m\u001b[1;33m.\u001b[0m\u001b[0msql\u001b[0m\u001b[1;33m.\u001b[0m\u001b[0mtext\u001b[0m\u001b[1;33m(\u001b[0m\u001b[0mstatement\u001b[0m\u001b[1;33m)\u001b[0m\u001b[1;33m\u001b[0m\u001b[1;33m\u001b[0m\u001b[0m\n\u001b[1;32m--> 367\u001b[1;33m                 \u001b[0mresult\u001b[0m \u001b[1;33m=\u001b[0m \u001b[0mconn\u001b[0m\u001b[1;33m.\u001b[0m\u001b[0msession\u001b[0m\u001b[1;33m.\u001b[0m\u001b[0mexecute\u001b[0m\u001b[1;33m(\u001b[0m\u001b[0mtxt\u001b[0m\u001b[1;33m,\u001b[0m \u001b[0muser_namespace\u001b[0m\u001b[1;33m)\u001b[0m\u001b[1;33m\u001b[0m\u001b[1;33m\u001b[0m\u001b[0m\n\u001b[0m\u001b[0;32m    368\u001b[0m             \u001b[0m_commit\u001b[0m\u001b[1;33m(\u001b[0m\u001b[0mconn\u001b[0m\u001b[1;33m=\u001b[0m\u001b[0mconn\u001b[0m\u001b[1;33m,\u001b[0m \u001b[0mconfig\u001b[0m\u001b[1;33m=\u001b[0m\u001b[0mconfig\u001b[0m\u001b[1;33m)\u001b[0m\u001b[1;33m\u001b[0m\u001b[1;33m\u001b[0m\u001b[0m\n\u001b[0;32m    369\u001b[0m             \u001b[1;32mif\u001b[0m \u001b[0mresult\u001b[0m \u001b[1;32mand\u001b[0m \u001b[0mconfig\u001b[0m\u001b[1;33m.\u001b[0m\u001b[0mfeedback\u001b[0m\u001b[1;33m:\u001b[0m\u001b[1;33m\u001b[0m\u001b[1;33m\u001b[0m\u001b[0m\n",
      "\u001b[1;32m~\\anaconda3\\lib\\site-packages\\sqlalchemy\\engine\\base.py\u001b[0m in \u001b[0;36mexecute\u001b[1;34m(self, object_, *multiparams, **params)\u001b[0m\n\u001b[0;32m   1012\u001b[0m             )\n\u001b[0;32m   1013\u001b[0m         \u001b[1;32melse\u001b[0m\u001b[1;33m:\u001b[0m\u001b[1;33m\u001b[0m\u001b[1;33m\u001b[0m\u001b[0m\n\u001b[1;32m-> 1014\u001b[1;33m             \u001b[1;32mreturn\u001b[0m \u001b[0mmeth\u001b[0m\u001b[1;33m(\u001b[0m\u001b[0mself\u001b[0m\u001b[1;33m,\u001b[0m \u001b[0mmultiparams\u001b[0m\u001b[1;33m,\u001b[0m \u001b[0mparams\u001b[0m\u001b[1;33m)\u001b[0m\u001b[1;33m\u001b[0m\u001b[1;33m\u001b[0m\u001b[0m\n\u001b[0m\u001b[0;32m   1015\u001b[0m \u001b[1;33m\u001b[0m\u001b[0m\n\u001b[0;32m   1016\u001b[0m     \u001b[1;32mdef\u001b[0m \u001b[0m_execute_function\u001b[0m\u001b[1;33m(\u001b[0m\u001b[0mself\u001b[0m\u001b[1;33m,\u001b[0m \u001b[0mfunc\u001b[0m\u001b[1;33m,\u001b[0m \u001b[0mmultiparams\u001b[0m\u001b[1;33m,\u001b[0m \u001b[0mparams\u001b[0m\u001b[1;33m)\u001b[0m\u001b[1;33m:\u001b[0m\u001b[1;33m\u001b[0m\u001b[1;33m\u001b[0m\u001b[0m\n",
      "\u001b[1;32m~\\anaconda3\\lib\\site-packages\\sqlalchemy\\sql\\elements.py\u001b[0m in \u001b[0;36m_execute_on_connection\u001b[1;34m(self, connection, multiparams, params)\u001b[0m\n\u001b[0;32m    296\u001b[0m     \u001b[1;32mdef\u001b[0m \u001b[0m_execute_on_connection\u001b[0m\u001b[1;33m(\u001b[0m\u001b[0mself\u001b[0m\u001b[1;33m,\u001b[0m \u001b[0mconnection\u001b[0m\u001b[1;33m,\u001b[0m \u001b[0mmultiparams\u001b[0m\u001b[1;33m,\u001b[0m \u001b[0mparams\u001b[0m\u001b[1;33m)\u001b[0m\u001b[1;33m:\u001b[0m\u001b[1;33m\u001b[0m\u001b[1;33m\u001b[0m\u001b[0m\n\u001b[0;32m    297\u001b[0m         \u001b[1;32mif\u001b[0m \u001b[0mself\u001b[0m\u001b[1;33m.\u001b[0m\u001b[0msupports_execution\u001b[0m\u001b[1;33m:\u001b[0m\u001b[1;33m\u001b[0m\u001b[1;33m\u001b[0m\u001b[0m\n\u001b[1;32m--> 298\u001b[1;33m             \u001b[1;32mreturn\u001b[0m \u001b[0mconnection\u001b[0m\u001b[1;33m.\u001b[0m\u001b[0m_execute_clauseelement\u001b[0m\u001b[1;33m(\u001b[0m\u001b[0mself\u001b[0m\u001b[1;33m,\u001b[0m \u001b[0mmultiparams\u001b[0m\u001b[1;33m,\u001b[0m \u001b[0mparams\u001b[0m\u001b[1;33m)\u001b[0m\u001b[1;33m\u001b[0m\u001b[1;33m\u001b[0m\u001b[0m\n\u001b[0m\u001b[0;32m    299\u001b[0m         \u001b[1;32melse\u001b[0m\u001b[1;33m:\u001b[0m\u001b[1;33m\u001b[0m\u001b[1;33m\u001b[0m\u001b[0m\n\u001b[0;32m    300\u001b[0m             \u001b[1;32mraise\u001b[0m \u001b[0mexc\u001b[0m\u001b[1;33m.\u001b[0m\u001b[0mObjectNotExecutableError\u001b[0m\u001b[1;33m(\u001b[0m\u001b[0mself\u001b[0m\u001b[1;33m)\u001b[0m\u001b[1;33m\u001b[0m\u001b[1;33m\u001b[0m\u001b[0m\n",
      "\u001b[1;32m~\\anaconda3\\lib\\site-packages\\sqlalchemy\\engine\\base.py\u001b[0m in \u001b[0;36m_execute_clauseelement\u001b[1;34m(self, elem, multiparams, params)\u001b[0m\n\u001b[0;32m   1125\u001b[0m             )\n\u001b[0;32m   1126\u001b[0m \u001b[1;33m\u001b[0m\u001b[0m\n\u001b[1;32m-> 1127\u001b[1;33m         ret = self._execute_context(\n\u001b[0m\u001b[0;32m   1128\u001b[0m             \u001b[0mdialect\u001b[0m\u001b[1;33m,\u001b[0m\u001b[1;33m\u001b[0m\u001b[1;33m\u001b[0m\u001b[0m\n\u001b[0;32m   1129\u001b[0m             \u001b[0mdialect\u001b[0m\u001b[1;33m.\u001b[0m\u001b[0mexecution_ctx_cls\u001b[0m\u001b[1;33m.\u001b[0m\u001b[0m_init_compiled\u001b[0m\u001b[1;33m,\u001b[0m\u001b[1;33m\u001b[0m\u001b[1;33m\u001b[0m\u001b[0m\n",
      "\u001b[1;32m~\\anaconda3\\lib\\site-packages\\sqlalchemy\\engine\\base.py\u001b[0m in \u001b[0;36m_execute_context\u001b[1;34m(self, dialect, constructor, statement, parameters, *args)\u001b[0m\n\u001b[0;32m   1315\u001b[0m \u001b[1;33m\u001b[0m\u001b[0m\n\u001b[0;32m   1316\u001b[0m         \u001b[1;32mexcept\u001b[0m \u001b[0mBaseException\u001b[0m \u001b[1;32mas\u001b[0m \u001b[0me\u001b[0m\u001b[1;33m:\u001b[0m\u001b[1;33m\u001b[0m\u001b[1;33m\u001b[0m\u001b[0m\n\u001b[1;32m-> 1317\u001b[1;33m             self._handle_dbapi_exception(\n\u001b[0m\u001b[0;32m   1318\u001b[0m                 \u001b[0me\u001b[0m\u001b[1;33m,\u001b[0m \u001b[0mstatement\u001b[0m\u001b[1;33m,\u001b[0m \u001b[0mparameters\u001b[0m\u001b[1;33m,\u001b[0m \u001b[0mcursor\u001b[0m\u001b[1;33m,\u001b[0m \u001b[0mcontext\u001b[0m\u001b[1;33m\u001b[0m\u001b[1;33m\u001b[0m\u001b[0m\n\u001b[0;32m   1319\u001b[0m             )\n",
      "\u001b[1;32m~\\anaconda3\\lib\\site-packages\\sqlalchemy\\engine\\base.py\u001b[0m in \u001b[0;36m_handle_dbapi_exception\u001b[1;34m(self, e, statement, parameters, cursor, context)\u001b[0m\n\u001b[0;32m   1509\u001b[0m                 \u001b[0mutil\u001b[0m\u001b[1;33m.\u001b[0m\u001b[0mraise_\u001b[0m\u001b[1;33m(\u001b[0m\u001b[0mnewraise\u001b[0m\u001b[1;33m,\u001b[0m \u001b[0mwith_traceback\u001b[0m\u001b[1;33m=\u001b[0m\u001b[0mexc_info\u001b[0m\u001b[1;33m[\u001b[0m\u001b[1;36m2\u001b[0m\u001b[1;33m]\u001b[0m\u001b[1;33m,\u001b[0m \u001b[0mfrom_\u001b[0m\u001b[1;33m=\u001b[0m\u001b[0me\u001b[0m\u001b[1;33m)\u001b[0m\u001b[1;33m\u001b[0m\u001b[1;33m\u001b[0m\u001b[0m\n\u001b[0;32m   1510\u001b[0m             \u001b[1;32melif\u001b[0m \u001b[0mshould_wrap\u001b[0m\u001b[1;33m:\u001b[0m\u001b[1;33m\u001b[0m\u001b[1;33m\u001b[0m\u001b[0m\n\u001b[1;32m-> 1511\u001b[1;33m                 util.raise_(\n\u001b[0m\u001b[0;32m   1512\u001b[0m                     \u001b[0msqlalchemy_exception\u001b[0m\u001b[1;33m,\u001b[0m \u001b[0mwith_traceback\u001b[0m\u001b[1;33m=\u001b[0m\u001b[0mexc_info\u001b[0m\u001b[1;33m[\u001b[0m\u001b[1;36m2\u001b[0m\u001b[1;33m]\u001b[0m\u001b[1;33m,\u001b[0m \u001b[0mfrom_\u001b[0m\u001b[1;33m=\u001b[0m\u001b[0me\u001b[0m\u001b[1;33m\u001b[0m\u001b[1;33m\u001b[0m\u001b[0m\n\u001b[0;32m   1513\u001b[0m                 )\n",
      "\u001b[1;32m~\\anaconda3\\lib\\site-packages\\sqlalchemy\\util\\compat.py\u001b[0m in \u001b[0;36mraise_\u001b[1;34m(***failed resolving arguments***)\u001b[0m\n\u001b[0;32m    176\u001b[0m \u001b[1;33m\u001b[0m\u001b[0m\n\u001b[0;32m    177\u001b[0m         \u001b[1;32mtry\u001b[0m\u001b[1;33m:\u001b[0m\u001b[1;33m\u001b[0m\u001b[1;33m\u001b[0m\u001b[0m\n\u001b[1;32m--> 178\u001b[1;33m             \u001b[1;32mraise\u001b[0m \u001b[0mexception\u001b[0m\u001b[1;33m\u001b[0m\u001b[1;33m\u001b[0m\u001b[0m\n\u001b[0m\u001b[0;32m    179\u001b[0m         \u001b[1;32mfinally\u001b[0m\u001b[1;33m:\u001b[0m\u001b[1;33m\u001b[0m\u001b[1;33m\u001b[0m\u001b[0m\n\u001b[0;32m    180\u001b[0m             \u001b[1;31m# credit to\u001b[0m\u001b[1;33m\u001b[0m\u001b[1;33m\u001b[0m\u001b[1;33m\u001b[0m\u001b[0m\n",
      "\u001b[1;32m~\\anaconda3\\lib\\site-packages\\sqlalchemy\\engine\\base.py\u001b[0m in \u001b[0;36m_execute_context\u001b[1;34m(self, dialect, constructor, statement, parameters, *args)\u001b[0m\n\u001b[0;32m   1275\u001b[0m                             \u001b[1;32mbreak\u001b[0m\u001b[1;33m\u001b[0m\u001b[1;33m\u001b[0m\u001b[0m\n\u001b[0;32m   1276\u001b[0m                 \u001b[1;32mif\u001b[0m \u001b[1;32mnot\u001b[0m \u001b[0mevt_handled\u001b[0m\u001b[1;33m:\u001b[0m\u001b[1;33m\u001b[0m\u001b[1;33m\u001b[0m\u001b[0m\n\u001b[1;32m-> 1277\u001b[1;33m                     self.dialect.do_execute(\n\u001b[0m\u001b[0;32m   1278\u001b[0m                         \u001b[0mcursor\u001b[0m\u001b[1;33m,\u001b[0m \u001b[0mstatement\u001b[0m\u001b[1;33m,\u001b[0m \u001b[0mparameters\u001b[0m\u001b[1;33m,\u001b[0m \u001b[0mcontext\u001b[0m\u001b[1;33m\u001b[0m\u001b[1;33m\u001b[0m\u001b[0m\n\u001b[0;32m   1279\u001b[0m                     )\n",
      "\u001b[1;32m~\\anaconda3\\lib\\site-packages\\sqlalchemy\\engine\\default.py\u001b[0m in \u001b[0;36mdo_execute\u001b[1;34m(self, cursor, statement, parameters, context)\u001b[0m\n\u001b[0;32m    591\u001b[0m \u001b[1;33m\u001b[0m\u001b[0m\n\u001b[0;32m    592\u001b[0m     \u001b[1;32mdef\u001b[0m \u001b[0mdo_execute\u001b[0m\u001b[1;33m(\u001b[0m\u001b[0mself\u001b[0m\u001b[1;33m,\u001b[0m \u001b[0mcursor\u001b[0m\u001b[1;33m,\u001b[0m \u001b[0mstatement\u001b[0m\u001b[1;33m,\u001b[0m \u001b[0mparameters\u001b[0m\u001b[1;33m,\u001b[0m \u001b[0mcontext\u001b[0m\u001b[1;33m=\u001b[0m\u001b[1;32mNone\u001b[0m\u001b[1;33m)\u001b[0m\u001b[1;33m:\u001b[0m\u001b[1;33m\u001b[0m\u001b[1;33m\u001b[0m\u001b[0m\n\u001b[1;32m--> 593\u001b[1;33m         \u001b[0mcursor\u001b[0m\u001b[1;33m.\u001b[0m\u001b[0mexecute\u001b[0m\u001b[1;33m(\u001b[0m\u001b[0mstatement\u001b[0m\u001b[1;33m,\u001b[0m \u001b[0mparameters\u001b[0m\u001b[1;33m)\u001b[0m\u001b[1;33m\u001b[0m\u001b[1;33m\u001b[0m\u001b[0m\n\u001b[0m\u001b[0;32m    594\u001b[0m \u001b[1;33m\u001b[0m\u001b[0m\n\u001b[0;32m    595\u001b[0m     \u001b[1;32mdef\u001b[0m \u001b[0mdo_execute_no_params\u001b[0m\u001b[1;33m(\u001b[0m\u001b[0mself\u001b[0m\u001b[1;33m,\u001b[0m \u001b[0mcursor\u001b[0m\u001b[1;33m,\u001b[0m \u001b[0mstatement\u001b[0m\u001b[1;33m,\u001b[0m \u001b[0mcontext\u001b[0m\u001b[1;33m=\u001b[0m\u001b[1;32mNone\u001b[0m\u001b[1;33m)\u001b[0m\u001b[1;33m:\u001b[0m\u001b[1;33m\u001b[0m\u001b[1;33m\u001b[0m\u001b[0m\n",
      "\u001b[1;31mIntegrityError\u001b[0m: (sqlite3.IntegrityError) CHECK constraint failed: section\n[SQL: insert into section values ('BIO-101','1','Winter-Spring', 2018, 'Painter', '514', 'B')]\n(Background on this error at: http://sqlalche.me/e/13/gkpj)"
     ]
    }
   ],
   "source": [
    "%sql insert into section values ('BIO-101','1','Winter-Spring', 2018, 'Painter', '514', 'B')"
   ]
  },
  {
   "cell_type": "code",
   "execution_count": 4,
   "metadata": {},
   "outputs": [
    {
     "name": "stdout",
     "output_type": "stream",
     "text": [
      " * sqlite:///db_univ7.db\n",
      "1 rows affected.\n"
     ]
    },
    {
     "data": {
      "text/plain": [
       "[]"
      ]
     },
     "execution_count": 4,
     "metadata": {},
     "output_type": "execute_result"
    }
   ],
   "source": [
    "%sql insert into section values ('BIO-101','1','Winter', 2020, 'Painter', '514', 'B')"
   ]
  },
  {
   "cell_type": "code",
   "execution_count": 5,
   "metadata": {},
   "outputs": [
    {
     "name": "stdout",
     "output_type": "stream",
     "text": [
      " * sqlite:///db_univ7.db\n"
     ]
    },
    {
     "ename": "IntegrityError",
     "evalue": "(sqlite3.IntegrityError) CHECK constraint failed: section\n[SQL: insert into section values ('BIO-101','1','Winter', 2108, 'Painter', '514', 'B')]\n(Background on this error at: http://sqlalche.me/e/13/gkpj)",
     "output_type": "error",
     "traceback": [
      "\u001b[1;31m---------------------------------------------------------------------------\u001b[0m",
      "\u001b[1;31mIntegrityError\u001b[0m                            Traceback (most recent call last)",
      "\u001b[1;32m~\\anaconda3\\lib\\site-packages\\sqlalchemy\\engine\\base.py\u001b[0m in \u001b[0;36m_execute_context\u001b[1;34m(self, dialect, constructor, statement, parameters, *args)\u001b[0m\n\u001b[0;32m   1276\u001b[0m                 \u001b[1;32mif\u001b[0m \u001b[1;32mnot\u001b[0m \u001b[0mevt_handled\u001b[0m\u001b[1;33m:\u001b[0m\u001b[1;33m\u001b[0m\u001b[1;33m\u001b[0m\u001b[0m\n\u001b[1;32m-> 1277\u001b[1;33m                     self.dialect.do_execute(\n\u001b[0m\u001b[0;32m   1278\u001b[0m                         \u001b[0mcursor\u001b[0m\u001b[1;33m,\u001b[0m \u001b[0mstatement\u001b[0m\u001b[1;33m,\u001b[0m \u001b[0mparameters\u001b[0m\u001b[1;33m,\u001b[0m \u001b[0mcontext\u001b[0m\u001b[1;33m\u001b[0m\u001b[1;33m\u001b[0m\u001b[0m\n",
      "\u001b[1;32m~\\anaconda3\\lib\\site-packages\\sqlalchemy\\engine\\default.py\u001b[0m in \u001b[0;36mdo_execute\u001b[1;34m(self, cursor, statement, parameters, context)\u001b[0m\n\u001b[0;32m    592\u001b[0m     \u001b[1;32mdef\u001b[0m \u001b[0mdo_execute\u001b[0m\u001b[1;33m(\u001b[0m\u001b[0mself\u001b[0m\u001b[1;33m,\u001b[0m \u001b[0mcursor\u001b[0m\u001b[1;33m,\u001b[0m \u001b[0mstatement\u001b[0m\u001b[1;33m,\u001b[0m \u001b[0mparameters\u001b[0m\u001b[1;33m,\u001b[0m \u001b[0mcontext\u001b[0m\u001b[1;33m=\u001b[0m\u001b[1;32mNone\u001b[0m\u001b[1;33m)\u001b[0m\u001b[1;33m:\u001b[0m\u001b[1;33m\u001b[0m\u001b[1;33m\u001b[0m\u001b[0m\n\u001b[1;32m--> 593\u001b[1;33m         \u001b[0mcursor\u001b[0m\u001b[1;33m.\u001b[0m\u001b[0mexecute\u001b[0m\u001b[1;33m(\u001b[0m\u001b[0mstatement\u001b[0m\u001b[1;33m,\u001b[0m \u001b[0mparameters\u001b[0m\u001b[1;33m)\u001b[0m\u001b[1;33m\u001b[0m\u001b[1;33m\u001b[0m\u001b[0m\n\u001b[0m\u001b[0;32m    594\u001b[0m \u001b[1;33m\u001b[0m\u001b[0m\n",
      "\u001b[1;31mIntegrityError\u001b[0m: CHECK constraint failed: section",
      "\nThe above exception was the direct cause of the following exception:\n",
      "\u001b[1;31mIntegrityError\u001b[0m                            Traceback (most recent call last)",
      "\u001b[1;32m<ipython-input-5-5e23821aa60c>\u001b[0m in \u001b[0;36m<module>\u001b[1;34m\u001b[0m\n\u001b[1;32m----> 1\u001b[1;33m \u001b[0mget_ipython\u001b[0m\u001b[1;33m(\u001b[0m\u001b[1;33m)\u001b[0m\u001b[1;33m.\u001b[0m\u001b[0mrun_line_magic\u001b[0m\u001b[1;33m(\u001b[0m\u001b[1;34m'sql'\u001b[0m\u001b[1;33m,\u001b[0m \u001b[1;34m\"insert into section values ('BIO-101','1','Winter', 2108, 'Painter', '514', 'B')\"\u001b[0m\u001b[1;33m)\u001b[0m\u001b[1;33m\u001b[0m\u001b[1;33m\u001b[0m\u001b[0m\n\u001b[0m",
      "\u001b[1;32m~\\anaconda3\\lib\\site-packages\\IPython\\core\\interactiveshell.py\u001b[0m in \u001b[0;36mrun_line_magic\u001b[1;34m(self, magic_name, line, _stack_depth)\u001b[0m\n\u001b[0;32m   2324\u001b[0m                 \u001b[0mkwargs\u001b[0m\u001b[1;33m[\u001b[0m\u001b[1;34m'local_ns'\u001b[0m\u001b[1;33m]\u001b[0m \u001b[1;33m=\u001b[0m \u001b[0msys\u001b[0m\u001b[1;33m.\u001b[0m\u001b[0m_getframe\u001b[0m\u001b[1;33m(\u001b[0m\u001b[0mstack_depth\u001b[0m\u001b[1;33m)\u001b[0m\u001b[1;33m.\u001b[0m\u001b[0mf_locals\u001b[0m\u001b[1;33m\u001b[0m\u001b[1;33m\u001b[0m\u001b[0m\n\u001b[0;32m   2325\u001b[0m             \u001b[1;32mwith\u001b[0m \u001b[0mself\u001b[0m\u001b[1;33m.\u001b[0m\u001b[0mbuiltin_trap\u001b[0m\u001b[1;33m:\u001b[0m\u001b[1;33m\u001b[0m\u001b[1;33m\u001b[0m\u001b[0m\n\u001b[1;32m-> 2326\u001b[1;33m                 \u001b[0mresult\u001b[0m \u001b[1;33m=\u001b[0m \u001b[0mfn\u001b[0m\u001b[1;33m(\u001b[0m\u001b[1;33m*\u001b[0m\u001b[0margs\u001b[0m\u001b[1;33m,\u001b[0m \u001b[1;33m**\u001b[0m\u001b[0mkwargs\u001b[0m\u001b[1;33m)\u001b[0m\u001b[1;33m\u001b[0m\u001b[1;33m\u001b[0m\u001b[0m\n\u001b[0m\u001b[0;32m   2327\u001b[0m             \u001b[1;32mreturn\u001b[0m \u001b[0mresult\u001b[0m\u001b[1;33m\u001b[0m\u001b[1;33m\u001b[0m\u001b[0m\n\u001b[0;32m   2328\u001b[0m \u001b[1;33m\u001b[0m\u001b[0m\n",
      "\u001b[1;32m<decorator-gen-128>\u001b[0m in \u001b[0;36mexecute\u001b[1;34m(self, line, cell, local_ns)\u001b[0m\n",
      "\u001b[1;32m~\\anaconda3\\lib\\site-packages\\IPython\\core\\magic.py\u001b[0m in \u001b[0;36m<lambda>\u001b[1;34m(f, *a, **k)\u001b[0m\n\u001b[0;32m    185\u001b[0m     \u001b[1;31m# but it's overkill for just that one bit of state.\u001b[0m\u001b[1;33m\u001b[0m\u001b[1;33m\u001b[0m\u001b[1;33m\u001b[0m\u001b[0m\n\u001b[0;32m    186\u001b[0m     \u001b[1;32mdef\u001b[0m \u001b[0mmagic_deco\u001b[0m\u001b[1;33m(\u001b[0m\u001b[0marg\u001b[0m\u001b[1;33m)\u001b[0m\u001b[1;33m:\u001b[0m\u001b[1;33m\u001b[0m\u001b[1;33m\u001b[0m\u001b[0m\n\u001b[1;32m--> 187\u001b[1;33m         \u001b[0mcall\u001b[0m \u001b[1;33m=\u001b[0m \u001b[1;32mlambda\u001b[0m \u001b[0mf\u001b[0m\u001b[1;33m,\u001b[0m \u001b[1;33m*\u001b[0m\u001b[0ma\u001b[0m\u001b[1;33m,\u001b[0m \u001b[1;33m**\u001b[0m\u001b[0mk\u001b[0m\u001b[1;33m:\u001b[0m \u001b[0mf\u001b[0m\u001b[1;33m(\u001b[0m\u001b[1;33m*\u001b[0m\u001b[0ma\u001b[0m\u001b[1;33m,\u001b[0m \u001b[1;33m**\u001b[0m\u001b[0mk\u001b[0m\u001b[1;33m)\u001b[0m\u001b[1;33m\u001b[0m\u001b[1;33m\u001b[0m\u001b[0m\n\u001b[0m\u001b[0;32m    188\u001b[0m \u001b[1;33m\u001b[0m\u001b[0m\n\u001b[0;32m    189\u001b[0m         \u001b[1;32mif\u001b[0m \u001b[0mcallable\u001b[0m\u001b[1;33m(\u001b[0m\u001b[0marg\u001b[0m\u001b[1;33m)\u001b[0m\u001b[1;33m:\u001b[0m\u001b[1;33m\u001b[0m\u001b[1;33m\u001b[0m\u001b[0m\n",
      "\u001b[1;32m<decorator-gen-127>\u001b[0m in \u001b[0;36mexecute\u001b[1;34m(self, line, cell, local_ns)\u001b[0m\n",
      "\u001b[1;32m~\\anaconda3\\lib\\site-packages\\IPython\\core\\magic.py\u001b[0m in \u001b[0;36m<lambda>\u001b[1;34m(f, *a, **k)\u001b[0m\n\u001b[0;32m    185\u001b[0m     \u001b[1;31m# but it's overkill for just that one bit of state.\u001b[0m\u001b[1;33m\u001b[0m\u001b[1;33m\u001b[0m\u001b[1;33m\u001b[0m\u001b[0m\n\u001b[0;32m    186\u001b[0m     \u001b[1;32mdef\u001b[0m \u001b[0mmagic_deco\u001b[0m\u001b[1;33m(\u001b[0m\u001b[0marg\u001b[0m\u001b[1;33m)\u001b[0m\u001b[1;33m:\u001b[0m\u001b[1;33m\u001b[0m\u001b[1;33m\u001b[0m\u001b[0m\n\u001b[1;32m--> 187\u001b[1;33m         \u001b[0mcall\u001b[0m \u001b[1;33m=\u001b[0m \u001b[1;32mlambda\u001b[0m \u001b[0mf\u001b[0m\u001b[1;33m,\u001b[0m \u001b[1;33m*\u001b[0m\u001b[0ma\u001b[0m\u001b[1;33m,\u001b[0m \u001b[1;33m**\u001b[0m\u001b[0mk\u001b[0m\u001b[1;33m:\u001b[0m \u001b[0mf\u001b[0m\u001b[1;33m(\u001b[0m\u001b[1;33m*\u001b[0m\u001b[0ma\u001b[0m\u001b[1;33m,\u001b[0m \u001b[1;33m**\u001b[0m\u001b[0mk\u001b[0m\u001b[1;33m)\u001b[0m\u001b[1;33m\u001b[0m\u001b[1;33m\u001b[0m\u001b[0m\n\u001b[0m\u001b[0;32m    188\u001b[0m \u001b[1;33m\u001b[0m\u001b[0m\n\u001b[0;32m    189\u001b[0m         \u001b[1;32mif\u001b[0m \u001b[0mcallable\u001b[0m\u001b[1;33m(\u001b[0m\u001b[0marg\u001b[0m\u001b[1;33m)\u001b[0m\u001b[1;33m:\u001b[0m\u001b[1;33m\u001b[0m\u001b[1;33m\u001b[0m\u001b[0m\n",
      "\u001b[1;32m~\\anaconda3\\lib\\site-packages\\sql\\magic.py\u001b[0m in \u001b[0;36mexecute\u001b[1;34m(self, line, cell, local_ns)\u001b[0m\n\u001b[0;32m    215\u001b[0m \u001b[1;33m\u001b[0m\u001b[0m\n\u001b[0;32m    216\u001b[0m         \u001b[1;32mtry\u001b[0m\u001b[1;33m:\u001b[0m\u001b[1;33m\u001b[0m\u001b[1;33m\u001b[0m\u001b[0m\n\u001b[1;32m--> 217\u001b[1;33m             \u001b[0mresult\u001b[0m \u001b[1;33m=\u001b[0m \u001b[0msql\u001b[0m\u001b[1;33m.\u001b[0m\u001b[0mrun\u001b[0m\u001b[1;33m.\u001b[0m\u001b[0mrun\u001b[0m\u001b[1;33m(\u001b[0m\u001b[0mconn\u001b[0m\u001b[1;33m,\u001b[0m \u001b[0mparsed\u001b[0m\u001b[1;33m[\u001b[0m\u001b[1;34m\"sql\"\u001b[0m\u001b[1;33m]\u001b[0m\u001b[1;33m,\u001b[0m \u001b[0mself\u001b[0m\u001b[1;33m,\u001b[0m \u001b[0muser_ns\u001b[0m\u001b[1;33m)\u001b[0m\u001b[1;33m\u001b[0m\u001b[1;33m\u001b[0m\u001b[0m\n\u001b[0m\u001b[0;32m    218\u001b[0m \u001b[1;33m\u001b[0m\u001b[0m\n\u001b[0;32m    219\u001b[0m             if (\n",
      "\u001b[1;32m~\\anaconda3\\lib\\site-packages\\sql\\run.py\u001b[0m in \u001b[0;36mrun\u001b[1;34m(conn, sql, config, user_namespace)\u001b[0m\n\u001b[0;32m    365\u001b[0m             \u001b[1;32melse\u001b[0m\u001b[1;33m:\u001b[0m\u001b[1;33m\u001b[0m\u001b[1;33m\u001b[0m\u001b[0m\n\u001b[0;32m    366\u001b[0m                 \u001b[0mtxt\u001b[0m \u001b[1;33m=\u001b[0m \u001b[0msqlalchemy\u001b[0m\u001b[1;33m.\u001b[0m\u001b[0msql\u001b[0m\u001b[1;33m.\u001b[0m\u001b[0mtext\u001b[0m\u001b[1;33m(\u001b[0m\u001b[0mstatement\u001b[0m\u001b[1;33m)\u001b[0m\u001b[1;33m\u001b[0m\u001b[1;33m\u001b[0m\u001b[0m\n\u001b[1;32m--> 367\u001b[1;33m                 \u001b[0mresult\u001b[0m \u001b[1;33m=\u001b[0m \u001b[0mconn\u001b[0m\u001b[1;33m.\u001b[0m\u001b[0msession\u001b[0m\u001b[1;33m.\u001b[0m\u001b[0mexecute\u001b[0m\u001b[1;33m(\u001b[0m\u001b[0mtxt\u001b[0m\u001b[1;33m,\u001b[0m \u001b[0muser_namespace\u001b[0m\u001b[1;33m)\u001b[0m\u001b[1;33m\u001b[0m\u001b[1;33m\u001b[0m\u001b[0m\n\u001b[0m\u001b[0;32m    368\u001b[0m             \u001b[0m_commit\u001b[0m\u001b[1;33m(\u001b[0m\u001b[0mconn\u001b[0m\u001b[1;33m=\u001b[0m\u001b[0mconn\u001b[0m\u001b[1;33m,\u001b[0m \u001b[0mconfig\u001b[0m\u001b[1;33m=\u001b[0m\u001b[0mconfig\u001b[0m\u001b[1;33m)\u001b[0m\u001b[1;33m\u001b[0m\u001b[1;33m\u001b[0m\u001b[0m\n\u001b[0;32m    369\u001b[0m             \u001b[1;32mif\u001b[0m \u001b[0mresult\u001b[0m \u001b[1;32mand\u001b[0m \u001b[0mconfig\u001b[0m\u001b[1;33m.\u001b[0m\u001b[0mfeedback\u001b[0m\u001b[1;33m:\u001b[0m\u001b[1;33m\u001b[0m\u001b[1;33m\u001b[0m\u001b[0m\n",
      "\u001b[1;32m~\\anaconda3\\lib\\site-packages\\sqlalchemy\\engine\\base.py\u001b[0m in \u001b[0;36mexecute\u001b[1;34m(self, object_, *multiparams, **params)\u001b[0m\n\u001b[0;32m   1012\u001b[0m             )\n\u001b[0;32m   1013\u001b[0m         \u001b[1;32melse\u001b[0m\u001b[1;33m:\u001b[0m\u001b[1;33m\u001b[0m\u001b[1;33m\u001b[0m\u001b[0m\n\u001b[1;32m-> 1014\u001b[1;33m             \u001b[1;32mreturn\u001b[0m \u001b[0mmeth\u001b[0m\u001b[1;33m(\u001b[0m\u001b[0mself\u001b[0m\u001b[1;33m,\u001b[0m \u001b[0mmultiparams\u001b[0m\u001b[1;33m,\u001b[0m \u001b[0mparams\u001b[0m\u001b[1;33m)\u001b[0m\u001b[1;33m\u001b[0m\u001b[1;33m\u001b[0m\u001b[0m\n\u001b[0m\u001b[0;32m   1015\u001b[0m \u001b[1;33m\u001b[0m\u001b[0m\n\u001b[0;32m   1016\u001b[0m     \u001b[1;32mdef\u001b[0m \u001b[0m_execute_function\u001b[0m\u001b[1;33m(\u001b[0m\u001b[0mself\u001b[0m\u001b[1;33m,\u001b[0m \u001b[0mfunc\u001b[0m\u001b[1;33m,\u001b[0m \u001b[0mmultiparams\u001b[0m\u001b[1;33m,\u001b[0m \u001b[0mparams\u001b[0m\u001b[1;33m)\u001b[0m\u001b[1;33m:\u001b[0m\u001b[1;33m\u001b[0m\u001b[1;33m\u001b[0m\u001b[0m\n",
      "\u001b[1;32m~\\anaconda3\\lib\\site-packages\\sqlalchemy\\sql\\elements.py\u001b[0m in \u001b[0;36m_execute_on_connection\u001b[1;34m(self, connection, multiparams, params)\u001b[0m\n\u001b[0;32m    296\u001b[0m     \u001b[1;32mdef\u001b[0m \u001b[0m_execute_on_connection\u001b[0m\u001b[1;33m(\u001b[0m\u001b[0mself\u001b[0m\u001b[1;33m,\u001b[0m \u001b[0mconnection\u001b[0m\u001b[1;33m,\u001b[0m \u001b[0mmultiparams\u001b[0m\u001b[1;33m,\u001b[0m \u001b[0mparams\u001b[0m\u001b[1;33m)\u001b[0m\u001b[1;33m:\u001b[0m\u001b[1;33m\u001b[0m\u001b[1;33m\u001b[0m\u001b[0m\n\u001b[0;32m    297\u001b[0m         \u001b[1;32mif\u001b[0m \u001b[0mself\u001b[0m\u001b[1;33m.\u001b[0m\u001b[0msupports_execution\u001b[0m\u001b[1;33m:\u001b[0m\u001b[1;33m\u001b[0m\u001b[1;33m\u001b[0m\u001b[0m\n\u001b[1;32m--> 298\u001b[1;33m             \u001b[1;32mreturn\u001b[0m \u001b[0mconnection\u001b[0m\u001b[1;33m.\u001b[0m\u001b[0m_execute_clauseelement\u001b[0m\u001b[1;33m(\u001b[0m\u001b[0mself\u001b[0m\u001b[1;33m,\u001b[0m \u001b[0mmultiparams\u001b[0m\u001b[1;33m,\u001b[0m \u001b[0mparams\u001b[0m\u001b[1;33m)\u001b[0m\u001b[1;33m\u001b[0m\u001b[1;33m\u001b[0m\u001b[0m\n\u001b[0m\u001b[0;32m    299\u001b[0m         \u001b[1;32melse\u001b[0m\u001b[1;33m:\u001b[0m\u001b[1;33m\u001b[0m\u001b[1;33m\u001b[0m\u001b[0m\n\u001b[0;32m    300\u001b[0m             \u001b[1;32mraise\u001b[0m \u001b[0mexc\u001b[0m\u001b[1;33m.\u001b[0m\u001b[0mObjectNotExecutableError\u001b[0m\u001b[1;33m(\u001b[0m\u001b[0mself\u001b[0m\u001b[1;33m)\u001b[0m\u001b[1;33m\u001b[0m\u001b[1;33m\u001b[0m\u001b[0m\n",
      "\u001b[1;32m~\\anaconda3\\lib\\site-packages\\sqlalchemy\\engine\\base.py\u001b[0m in \u001b[0;36m_execute_clauseelement\u001b[1;34m(self, elem, multiparams, params)\u001b[0m\n\u001b[0;32m   1125\u001b[0m             )\n\u001b[0;32m   1126\u001b[0m \u001b[1;33m\u001b[0m\u001b[0m\n\u001b[1;32m-> 1127\u001b[1;33m         ret = self._execute_context(\n\u001b[0m\u001b[0;32m   1128\u001b[0m             \u001b[0mdialect\u001b[0m\u001b[1;33m,\u001b[0m\u001b[1;33m\u001b[0m\u001b[1;33m\u001b[0m\u001b[0m\n\u001b[0;32m   1129\u001b[0m             \u001b[0mdialect\u001b[0m\u001b[1;33m.\u001b[0m\u001b[0mexecution_ctx_cls\u001b[0m\u001b[1;33m.\u001b[0m\u001b[0m_init_compiled\u001b[0m\u001b[1;33m,\u001b[0m\u001b[1;33m\u001b[0m\u001b[1;33m\u001b[0m\u001b[0m\n",
      "\u001b[1;32m~\\anaconda3\\lib\\site-packages\\sqlalchemy\\engine\\base.py\u001b[0m in \u001b[0;36m_execute_context\u001b[1;34m(self, dialect, constructor, statement, parameters, *args)\u001b[0m\n\u001b[0;32m   1315\u001b[0m \u001b[1;33m\u001b[0m\u001b[0m\n\u001b[0;32m   1316\u001b[0m         \u001b[1;32mexcept\u001b[0m \u001b[0mBaseException\u001b[0m \u001b[1;32mas\u001b[0m \u001b[0me\u001b[0m\u001b[1;33m:\u001b[0m\u001b[1;33m\u001b[0m\u001b[1;33m\u001b[0m\u001b[0m\n\u001b[1;32m-> 1317\u001b[1;33m             self._handle_dbapi_exception(\n\u001b[0m\u001b[0;32m   1318\u001b[0m                 \u001b[0me\u001b[0m\u001b[1;33m,\u001b[0m \u001b[0mstatement\u001b[0m\u001b[1;33m,\u001b[0m \u001b[0mparameters\u001b[0m\u001b[1;33m,\u001b[0m \u001b[0mcursor\u001b[0m\u001b[1;33m,\u001b[0m \u001b[0mcontext\u001b[0m\u001b[1;33m\u001b[0m\u001b[1;33m\u001b[0m\u001b[0m\n\u001b[0;32m   1319\u001b[0m             )\n",
      "\u001b[1;32m~\\anaconda3\\lib\\site-packages\\sqlalchemy\\engine\\base.py\u001b[0m in \u001b[0;36m_handle_dbapi_exception\u001b[1;34m(self, e, statement, parameters, cursor, context)\u001b[0m\n\u001b[0;32m   1509\u001b[0m                 \u001b[0mutil\u001b[0m\u001b[1;33m.\u001b[0m\u001b[0mraise_\u001b[0m\u001b[1;33m(\u001b[0m\u001b[0mnewraise\u001b[0m\u001b[1;33m,\u001b[0m \u001b[0mwith_traceback\u001b[0m\u001b[1;33m=\u001b[0m\u001b[0mexc_info\u001b[0m\u001b[1;33m[\u001b[0m\u001b[1;36m2\u001b[0m\u001b[1;33m]\u001b[0m\u001b[1;33m,\u001b[0m \u001b[0mfrom_\u001b[0m\u001b[1;33m=\u001b[0m\u001b[0me\u001b[0m\u001b[1;33m)\u001b[0m\u001b[1;33m\u001b[0m\u001b[1;33m\u001b[0m\u001b[0m\n\u001b[0;32m   1510\u001b[0m             \u001b[1;32melif\u001b[0m \u001b[0mshould_wrap\u001b[0m\u001b[1;33m:\u001b[0m\u001b[1;33m\u001b[0m\u001b[1;33m\u001b[0m\u001b[0m\n\u001b[1;32m-> 1511\u001b[1;33m                 util.raise_(\n\u001b[0m\u001b[0;32m   1512\u001b[0m                     \u001b[0msqlalchemy_exception\u001b[0m\u001b[1;33m,\u001b[0m \u001b[0mwith_traceback\u001b[0m\u001b[1;33m=\u001b[0m\u001b[0mexc_info\u001b[0m\u001b[1;33m[\u001b[0m\u001b[1;36m2\u001b[0m\u001b[1;33m]\u001b[0m\u001b[1;33m,\u001b[0m \u001b[0mfrom_\u001b[0m\u001b[1;33m=\u001b[0m\u001b[0me\u001b[0m\u001b[1;33m\u001b[0m\u001b[1;33m\u001b[0m\u001b[0m\n\u001b[0;32m   1513\u001b[0m                 )\n",
      "\u001b[1;32m~\\anaconda3\\lib\\site-packages\\sqlalchemy\\util\\compat.py\u001b[0m in \u001b[0;36mraise_\u001b[1;34m(***failed resolving arguments***)\u001b[0m\n\u001b[0;32m    176\u001b[0m \u001b[1;33m\u001b[0m\u001b[0m\n\u001b[0;32m    177\u001b[0m         \u001b[1;32mtry\u001b[0m\u001b[1;33m:\u001b[0m\u001b[1;33m\u001b[0m\u001b[1;33m\u001b[0m\u001b[0m\n\u001b[1;32m--> 178\u001b[1;33m             \u001b[1;32mraise\u001b[0m \u001b[0mexception\u001b[0m\u001b[1;33m\u001b[0m\u001b[1;33m\u001b[0m\u001b[0m\n\u001b[0m\u001b[0;32m    179\u001b[0m         \u001b[1;32mfinally\u001b[0m\u001b[1;33m:\u001b[0m\u001b[1;33m\u001b[0m\u001b[1;33m\u001b[0m\u001b[0m\n\u001b[0;32m    180\u001b[0m             \u001b[1;31m# credit to\u001b[0m\u001b[1;33m\u001b[0m\u001b[1;33m\u001b[0m\u001b[1;33m\u001b[0m\u001b[0m\n",
      "\u001b[1;32m~\\anaconda3\\lib\\site-packages\\sqlalchemy\\engine\\base.py\u001b[0m in \u001b[0;36m_execute_context\u001b[1;34m(self, dialect, constructor, statement, parameters, *args)\u001b[0m\n\u001b[0;32m   1275\u001b[0m                             \u001b[1;32mbreak\u001b[0m\u001b[1;33m\u001b[0m\u001b[1;33m\u001b[0m\u001b[0m\n\u001b[0;32m   1276\u001b[0m                 \u001b[1;32mif\u001b[0m \u001b[1;32mnot\u001b[0m \u001b[0mevt_handled\u001b[0m\u001b[1;33m:\u001b[0m\u001b[1;33m\u001b[0m\u001b[1;33m\u001b[0m\u001b[0m\n\u001b[1;32m-> 1277\u001b[1;33m                     self.dialect.do_execute(\n\u001b[0m\u001b[0;32m   1278\u001b[0m                         \u001b[0mcursor\u001b[0m\u001b[1;33m,\u001b[0m \u001b[0mstatement\u001b[0m\u001b[1;33m,\u001b[0m \u001b[0mparameters\u001b[0m\u001b[1;33m,\u001b[0m \u001b[0mcontext\u001b[0m\u001b[1;33m\u001b[0m\u001b[1;33m\u001b[0m\u001b[0m\n\u001b[0;32m   1279\u001b[0m                     )\n",
      "\u001b[1;32m~\\anaconda3\\lib\\site-packages\\sqlalchemy\\engine\\default.py\u001b[0m in \u001b[0;36mdo_execute\u001b[1;34m(self, cursor, statement, parameters, context)\u001b[0m\n\u001b[0;32m    591\u001b[0m \u001b[1;33m\u001b[0m\u001b[0m\n\u001b[0;32m    592\u001b[0m     \u001b[1;32mdef\u001b[0m \u001b[0mdo_execute\u001b[0m\u001b[1;33m(\u001b[0m\u001b[0mself\u001b[0m\u001b[1;33m,\u001b[0m \u001b[0mcursor\u001b[0m\u001b[1;33m,\u001b[0m \u001b[0mstatement\u001b[0m\u001b[1;33m,\u001b[0m \u001b[0mparameters\u001b[0m\u001b[1;33m,\u001b[0m \u001b[0mcontext\u001b[0m\u001b[1;33m=\u001b[0m\u001b[1;32mNone\u001b[0m\u001b[1;33m)\u001b[0m\u001b[1;33m:\u001b[0m\u001b[1;33m\u001b[0m\u001b[1;33m\u001b[0m\u001b[0m\n\u001b[1;32m--> 593\u001b[1;33m         \u001b[0mcursor\u001b[0m\u001b[1;33m.\u001b[0m\u001b[0mexecute\u001b[0m\u001b[1;33m(\u001b[0m\u001b[0mstatement\u001b[0m\u001b[1;33m,\u001b[0m \u001b[0mparameters\u001b[0m\u001b[1;33m)\u001b[0m\u001b[1;33m\u001b[0m\u001b[1;33m\u001b[0m\u001b[0m\n\u001b[0m\u001b[0;32m    594\u001b[0m \u001b[1;33m\u001b[0m\u001b[0m\n\u001b[0;32m    595\u001b[0m     \u001b[1;32mdef\u001b[0m \u001b[0mdo_execute_no_params\u001b[0m\u001b[1;33m(\u001b[0m\u001b[0mself\u001b[0m\u001b[1;33m,\u001b[0m \u001b[0mcursor\u001b[0m\u001b[1;33m,\u001b[0m \u001b[0mstatement\u001b[0m\u001b[1;33m,\u001b[0m \u001b[0mcontext\u001b[0m\u001b[1;33m=\u001b[0m\u001b[1;32mNone\u001b[0m\u001b[1;33m)\u001b[0m\u001b[1;33m:\u001b[0m\u001b[1;33m\u001b[0m\u001b[1;33m\u001b[0m\u001b[0m\n",
      "\u001b[1;31mIntegrityError\u001b[0m: (sqlite3.IntegrityError) CHECK constraint failed: section\n[SQL: insert into section values ('BIO-101','1','Winter', 2108, 'Painter', '514', 'B')]\n(Background on this error at: http://sqlalche.me/e/13/gkpj)"
     ]
    }
   ],
   "source": [
    "%sql insert into section values ('BIO-101','1','Winter', 2108, 'Painter', '514', 'B')"
   ]
  },
  {
   "cell_type": "code",
   "execution_count": 6,
   "metadata": {},
   "outputs": [
    {
     "name": "stdout",
     "output_type": "stream",
     "text": [
      " * sqlite:///db_univ7.db\n",
      "Done.\n"
     ]
    },
    {
     "data": {
      "text/html": [
       "<table>\n",
       "    <tr>\n",
       "        <th>course_id</th>\n",
       "        <th>sec_id</th>\n",
       "        <th>semester</th>\n",
       "        <th>year</th>\n",
       "        <th>building</th>\n",
       "        <th>room_number</th>\n",
       "        <th>time_slot_id</th>\n",
       "    </tr>\n",
       "    <tr>\n",
       "        <td>BIO-101</td>\n",
       "        <td>1</td>\n",
       "        <td>Summer</td>\n",
       "        <td>2017</td>\n",
       "        <td>Painter</td>\n",
       "        <td>514</td>\n",
       "        <td>B</td>\n",
       "    </tr>\n",
       "    <tr>\n",
       "        <td>BIO-301</td>\n",
       "        <td>1</td>\n",
       "        <td>Summer</td>\n",
       "        <td>2018</td>\n",
       "        <td>Painter</td>\n",
       "        <td>514</td>\n",
       "        <td>A</td>\n",
       "    </tr>\n",
       "    <tr>\n",
       "        <td>CS-101</td>\n",
       "        <td>1</td>\n",
       "        <td>Fall</td>\n",
       "        <td>2017</td>\n",
       "        <td>Packard</td>\n",
       "        <td>101</td>\n",
       "        <td>H</td>\n",
       "    </tr>\n",
       "    <tr>\n",
       "        <td>CS-101</td>\n",
       "        <td>1</td>\n",
       "        <td>Spring</td>\n",
       "        <td>2018</td>\n",
       "        <td>Packard</td>\n",
       "        <td>101</td>\n",
       "        <td>F</td>\n",
       "    </tr>\n",
       "    <tr>\n",
       "        <td>CS-190</td>\n",
       "        <td>1</td>\n",
       "        <td>Spring</td>\n",
       "        <td>2017</td>\n",
       "        <td>Taylor</td>\n",
       "        <td>3128</td>\n",
       "        <td>E</td>\n",
       "    </tr>\n",
       "    <tr>\n",
       "        <td>CS-190</td>\n",
       "        <td>2</td>\n",
       "        <td>Spring</td>\n",
       "        <td>2017</td>\n",
       "        <td>Taylor</td>\n",
       "        <td>3128</td>\n",
       "        <td>A</td>\n",
       "    </tr>\n",
       "    <tr>\n",
       "        <td>CS-315</td>\n",
       "        <td>1</td>\n",
       "        <td>Spring</td>\n",
       "        <td>2018</td>\n",
       "        <td>Watson</td>\n",
       "        <td>120</td>\n",
       "        <td>D</td>\n",
       "    </tr>\n",
       "    <tr>\n",
       "        <td>CS-319</td>\n",
       "        <td>1</td>\n",
       "        <td>Spring</td>\n",
       "        <td>2018</td>\n",
       "        <td>Watson</td>\n",
       "        <td>100</td>\n",
       "        <td>B</td>\n",
       "    </tr>\n",
       "    <tr>\n",
       "        <td>CS-319</td>\n",
       "        <td>2</td>\n",
       "        <td>Spring</td>\n",
       "        <td>2018</td>\n",
       "        <td>Taylor</td>\n",
       "        <td>3128</td>\n",
       "        <td>C</td>\n",
       "    </tr>\n",
       "    <tr>\n",
       "        <td>CS-347</td>\n",
       "        <td>1</td>\n",
       "        <td>Fall</td>\n",
       "        <td>2017</td>\n",
       "        <td>Taylor</td>\n",
       "        <td>3128</td>\n",
       "        <td>A</td>\n",
       "    </tr>\n",
       "    <tr>\n",
       "        <td>EE-181</td>\n",
       "        <td>1</td>\n",
       "        <td>Spring</td>\n",
       "        <td>2017</td>\n",
       "        <td>Taylor</td>\n",
       "        <td>3128</td>\n",
       "        <td>C</td>\n",
       "    </tr>\n",
       "    <tr>\n",
       "        <td>FIN-201</td>\n",
       "        <td>1</td>\n",
       "        <td>Spring</td>\n",
       "        <td>2018</td>\n",
       "        <td>Packard</td>\n",
       "        <td>101</td>\n",
       "        <td>B</td>\n",
       "    </tr>\n",
       "    <tr>\n",
       "        <td>HIS-351</td>\n",
       "        <td>1</td>\n",
       "        <td>Spring</td>\n",
       "        <td>2018</td>\n",
       "        <td>Painter</td>\n",
       "        <td>514</td>\n",
       "        <td>C</td>\n",
       "    </tr>\n",
       "    <tr>\n",
       "        <td>MU-199</td>\n",
       "        <td>1</td>\n",
       "        <td>Spring</td>\n",
       "        <td>2018</td>\n",
       "        <td>Packard</td>\n",
       "        <td>101</td>\n",
       "        <td>D</td>\n",
       "    </tr>\n",
       "    <tr>\n",
       "        <td>PHY-101</td>\n",
       "        <td>1</td>\n",
       "        <td>Fall</td>\n",
       "        <td>2017</td>\n",
       "        <td>Watson</td>\n",
       "        <td>100</td>\n",
       "        <td>A</td>\n",
       "    </tr>\n",
       "    <tr>\n",
       "        <td>BIO-101</td>\n",
       "        <td>1</td>\n",
       "        <td>Winter</td>\n",
       "        <td>2020</td>\n",
       "        <td>Painter</td>\n",
       "        <td>514</td>\n",
       "        <td>B</td>\n",
       "    </tr>\n",
       "</table>"
      ],
      "text/plain": [
       "[('BIO-101', '1', 'Summer', 2017, 'Painter', '514', 'B'),\n",
       " ('BIO-301', '1', 'Summer', 2018, 'Painter', '514', 'A'),\n",
       " ('CS-101', '1', 'Fall', 2017, 'Packard', '101', 'H'),\n",
       " ('CS-101', '1', 'Spring', 2018, 'Packard', '101', 'F'),\n",
       " ('CS-190', '1', 'Spring', 2017, 'Taylor', '3128', 'E'),\n",
       " ('CS-190', '2', 'Spring', 2017, 'Taylor', '3128', 'A'),\n",
       " ('CS-315', '1', 'Spring', 2018, 'Watson', '120', 'D'),\n",
       " ('CS-319', '1', 'Spring', 2018, 'Watson', '100', 'B'),\n",
       " ('CS-319', '2', 'Spring', 2018, 'Taylor', '3128', 'C'),\n",
       " ('CS-347', '1', 'Fall', 2017, 'Taylor', '3128', 'A'),\n",
       " ('EE-181', '1', 'Spring', 2017, 'Taylor', '3128', 'C'),\n",
       " ('FIN-201', '1', 'Spring', 2018, 'Packard', '101', 'B'),\n",
       " ('HIS-351', '1', 'Spring', 2018, 'Painter', '514', 'C'),\n",
       " ('MU-199', '1', 'Spring', 2018, 'Packard', '101', 'D'),\n",
       " ('PHY-101', '1', 'Fall', 2017, 'Watson', '100', 'A'),\n",
       " ('BIO-101', '1', 'Winter', 2020, 'Painter', '514', 'B')]"
      ]
     },
     "execution_count": 6,
     "metadata": {},
     "output_type": "execute_result"
    }
   ],
   "source": [
    "%sql select * from section"
   ]
  },
  {
   "cell_type": "code",
   "execution_count": 7,
   "metadata": {},
   "outputs": [
    {
     "name": "stdout",
     "output_type": "stream",
     "text": [
      " * sqlite:///db_univ7.db\n",
      "Done.\n"
     ]
    },
    {
     "data": {
      "text/plain": [
       "[]"
      ]
     },
     "execution_count": 7,
     "metadata": {},
     "output_type": "execute_result"
    }
   ],
   "source": [
    "%sql PRAGMA foreign_keys = ON;"
   ]
  },
  {
   "cell_type": "code",
   "execution_count": 8,
   "metadata": {},
   "outputs": [
    {
     "name": "stdout",
     "output_type": "stream",
     "text": [
      " * sqlite:///db_univ7.db\n",
      "Done.\n"
     ]
    },
    {
     "data": {
      "text/html": [
       "<table>\n",
       "    <tr>\n",
       "        <th>building</th>\n",
       "        <th>room_number</th>\n",
       "        <th>capacity</th>\n",
       "    </tr>\n",
       "    <tr>\n",
       "        <td>Packard</td>\n",
       "        <td>101</td>\n",
       "        <td>500</td>\n",
       "    </tr>\n",
       "    <tr>\n",
       "        <td>Painter</td>\n",
       "        <td>514</td>\n",
       "        <td>10</td>\n",
       "    </tr>\n",
       "    <tr>\n",
       "        <td>Taylor</td>\n",
       "        <td>3128</td>\n",
       "        <td>70</td>\n",
       "    </tr>\n",
       "    <tr>\n",
       "        <td>Watson</td>\n",
       "        <td>100</td>\n",
       "        <td>30</td>\n",
       "    </tr>\n",
       "    <tr>\n",
       "        <td>Watson</td>\n",
       "        <td>120</td>\n",
       "        <td>50</td>\n",
       "    </tr>\n",
       "</table>"
      ],
      "text/plain": [
       "[('Packard', '101', 500),\n",
       " ('Painter', '514', 10),\n",
       " ('Taylor', '3128', 70),\n",
       " ('Watson', '100', 30),\n",
       " ('Watson', '120', 50)]"
      ]
     },
     "execution_count": 8,
     "metadata": {},
     "output_type": "execute_result"
    }
   ],
   "source": [
    "%sql select * from classroom"
   ]
  },
  {
   "cell_type": "code",
   "execution_count": 9,
   "metadata": {},
   "outputs": [
    {
     "name": "stdout",
     "output_type": "stream",
     "text": [
      " * sqlite:///db_univ7.db\n",
      "1 rows affected.\n"
     ]
    },
    {
     "data": {
      "text/plain": [
       "[]"
      ]
     },
     "execution_count": 9,
     "metadata": {},
     "output_type": "execute_result"
    }
   ],
   "source": [
    "%sql delete from classroom where building='Painter' and room_number='514'"
   ]
  },
  {
   "cell_type": "code",
   "execution_count": 10,
   "metadata": {},
   "outputs": [
    {
     "name": "stdout",
     "output_type": "stream",
     "text": [
      " * sqlite:///db_univ7.db\n",
      "Done.\n"
     ]
    },
    {
     "data": {
      "text/html": [
       "<table>\n",
       "    <tr>\n",
       "        <th>building</th>\n",
       "        <th>room_number</th>\n",
       "        <th>capacity</th>\n",
       "    </tr>\n",
       "    <tr>\n",
       "        <td>Packard</td>\n",
       "        <td>101</td>\n",
       "        <td>500</td>\n",
       "    </tr>\n",
       "    <tr>\n",
       "        <td>Taylor</td>\n",
       "        <td>3128</td>\n",
       "        <td>70</td>\n",
       "    </tr>\n",
       "    <tr>\n",
       "        <td>Watson</td>\n",
       "        <td>100</td>\n",
       "        <td>30</td>\n",
       "    </tr>\n",
       "    <tr>\n",
       "        <td>Watson</td>\n",
       "        <td>120</td>\n",
       "        <td>50</td>\n",
       "    </tr>\n",
       "</table>"
      ],
      "text/plain": [
       "[('Packard', '101', 500),\n",
       " ('Taylor', '3128', 70),\n",
       " ('Watson', '100', 30),\n",
       " ('Watson', '120', 50)]"
      ]
     },
     "execution_count": 10,
     "metadata": {},
     "output_type": "execute_result"
    }
   ],
   "source": [
    "%sql select * from classroom"
   ]
  },
  {
   "cell_type": "code",
   "execution_count": 11,
   "metadata": {},
   "outputs": [
    {
     "name": "stdout",
     "output_type": "stream",
     "text": [
      " * sqlite:///db_univ7.db\n",
      "Done.\n"
     ]
    },
    {
     "data": {
      "text/html": [
       "<table>\n",
       "    <tr>\n",
       "        <th>course_id</th>\n",
       "        <th>sec_id</th>\n",
       "        <th>semester</th>\n",
       "        <th>year</th>\n",
       "        <th>building</th>\n",
       "        <th>room_number</th>\n",
       "        <th>time_slot_id</th>\n",
       "    </tr>\n",
       "    <tr>\n",
       "        <td>BIO-101</td>\n",
       "        <td>1</td>\n",
       "        <td>Summer</td>\n",
       "        <td>2017</td>\n",
       "        <td>None</td>\n",
       "        <td>None</td>\n",
       "        <td>B</td>\n",
       "    </tr>\n",
       "    <tr>\n",
       "        <td>BIO-301</td>\n",
       "        <td>1</td>\n",
       "        <td>Summer</td>\n",
       "        <td>2018</td>\n",
       "        <td>None</td>\n",
       "        <td>None</td>\n",
       "        <td>A</td>\n",
       "    </tr>\n",
       "    <tr>\n",
       "        <td>CS-101</td>\n",
       "        <td>1</td>\n",
       "        <td>Fall</td>\n",
       "        <td>2017</td>\n",
       "        <td>Packard</td>\n",
       "        <td>101</td>\n",
       "        <td>H</td>\n",
       "    </tr>\n",
       "    <tr>\n",
       "        <td>CS-101</td>\n",
       "        <td>1</td>\n",
       "        <td>Spring</td>\n",
       "        <td>2018</td>\n",
       "        <td>Packard</td>\n",
       "        <td>101</td>\n",
       "        <td>F</td>\n",
       "    </tr>\n",
       "    <tr>\n",
       "        <td>CS-190</td>\n",
       "        <td>1</td>\n",
       "        <td>Spring</td>\n",
       "        <td>2017</td>\n",
       "        <td>Taylor</td>\n",
       "        <td>3128</td>\n",
       "        <td>E</td>\n",
       "    </tr>\n",
       "    <tr>\n",
       "        <td>CS-190</td>\n",
       "        <td>2</td>\n",
       "        <td>Spring</td>\n",
       "        <td>2017</td>\n",
       "        <td>Taylor</td>\n",
       "        <td>3128</td>\n",
       "        <td>A</td>\n",
       "    </tr>\n",
       "    <tr>\n",
       "        <td>CS-315</td>\n",
       "        <td>1</td>\n",
       "        <td>Spring</td>\n",
       "        <td>2018</td>\n",
       "        <td>Watson</td>\n",
       "        <td>120</td>\n",
       "        <td>D</td>\n",
       "    </tr>\n",
       "    <tr>\n",
       "        <td>CS-319</td>\n",
       "        <td>1</td>\n",
       "        <td>Spring</td>\n",
       "        <td>2018</td>\n",
       "        <td>Watson</td>\n",
       "        <td>100</td>\n",
       "        <td>B</td>\n",
       "    </tr>\n",
       "    <tr>\n",
       "        <td>CS-319</td>\n",
       "        <td>2</td>\n",
       "        <td>Spring</td>\n",
       "        <td>2018</td>\n",
       "        <td>Taylor</td>\n",
       "        <td>3128</td>\n",
       "        <td>C</td>\n",
       "    </tr>\n",
       "    <tr>\n",
       "        <td>CS-347</td>\n",
       "        <td>1</td>\n",
       "        <td>Fall</td>\n",
       "        <td>2017</td>\n",
       "        <td>Taylor</td>\n",
       "        <td>3128</td>\n",
       "        <td>A</td>\n",
       "    </tr>\n",
       "    <tr>\n",
       "        <td>EE-181</td>\n",
       "        <td>1</td>\n",
       "        <td>Spring</td>\n",
       "        <td>2017</td>\n",
       "        <td>Taylor</td>\n",
       "        <td>3128</td>\n",
       "        <td>C</td>\n",
       "    </tr>\n",
       "    <tr>\n",
       "        <td>FIN-201</td>\n",
       "        <td>1</td>\n",
       "        <td>Spring</td>\n",
       "        <td>2018</td>\n",
       "        <td>Packard</td>\n",
       "        <td>101</td>\n",
       "        <td>B</td>\n",
       "    </tr>\n",
       "    <tr>\n",
       "        <td>HIS-351</td>\n",
       "        <td>1</td>\n",
       "        <td>Spring</td>\n",
       "        <td>2018</td>\n",
       "        <td>None</td>\n",
       "        <td>None</td>\n",
       "        <td>C</td>\n",
       "    </tr>\n",
       "    <tr>\n",
       "        <td>MU-199</td>\n",
       "        <td>1</td>\n",
       "        <td>Spring</td>\n",
       "        <td>2018</td>\n",
       "        <td>Packard</td>\n",
       "        <td>101</td>\n",
       "        <td>D</td>\n",
       "    </tr>\n",
       "    <tr>\n",
       "        <td>PHY-101</td>\n",
       "        <td>1</td>\n",
       "        <td>Fall</td>\n",
       "        <td>2017</td>\n",
       "        <td>Watson</td>\n",
       "        <td>100</td>\n",
       "        <td>A</td>\n",
       "    </tr>\n",
       "    <tr>\n",
       "        <td>BIO-101</td>\n",
       "        <td>1</td>\n",
       "        <td>Winter</td>\n",
       "        <td>2020</td>\n",
       "        <td>None</td>\n",
       "        <td>None</td>\n",
       "        <td>B</td>\n",
       "    </tr>\n",
       "</table>"
      ],
      "text/plain": [
       "[('BIO-101', '1', 'Summer', 2017, None, None, 'B'),\n",
       " ('BIO-301', '1', 'Summer', 2018, None, None, 'A'),\n",
       " ('CS-101', '1', 'Fall', 2017, 'Packard', '101', 'H'),\n",
       " ('CS-101', '1', 'Spring', 2018, 'Packard', '101', 'F'),\n",
       " ('CS-190', '1', 'Spring', 2017, 'Taylor', '3128', 'E'),\n",
       " ('CS-190', '2', 'Spring', 2017, 'Taylor', '3128', 'A'),\n",
       " ('CS-315', '1', 'Spring', 2018, 'Watson', '120', 'D'),\n",
       " ('CS-319', '1', 'Spring', 2018, 'Watson', '100', 'B'),\n",
       " ('CS-319', '2', 'Spring', 2018, 'Taylor', '3128', 'C'),\n",
       " ('CS-347', '1', 'Fall', 2017, 'Taylor', '3128', 'A'),\n",
       " ('EE-181', '1', 'Spring', 2017, 'Taylor', '3128', 'C'),\n",
       " ('FIN-201', '1', 'Spring', 2018, 'Packard', '101', 'B'),\n",
       " ('HIS-351', '1', 'Spring', 2018, None, None, 'C'),\n",
       " ('MU-199', '1', 'Spring', 2018, 'Packard', '101', 'D'),\n",
       " ('PHY-101', '1', 'Fall', 2017, 'Watson', '100', 'A'),\n",
       " ('BIO-101', '1', 'Winter', 2020, None, None, 'B')]"
      ]
     },
     "execution_count": 11,
     "metadata": {},
     "output_type": "execute_result"
    }
   ],
   "source": [
    "%sql select * from section"
   ]
  },
  {
   "cell_type": "code",
   "execution_count": 12,
   "metadata": {},
   "outputs": [
    {
     "name": "stdout",
     "output_type": "stream",
     "text": [
      " * sqlite:///db_univ7.db\n",
      "Done.\n"
     ]
    },
    {
     "data": {
      "text/html": [
       "<table>\n",
       "    <tr>\n",
       "        <th>ID</th>\n",
       "        <th>course_id</th>\n",
       "        <th>sec_id</th>\n",
       "        <th>semester</th>\n",
       "        <th>year</th>\n",
       "        <th>grade</th>\n",
       "    </tr>\n",
       "    <tr>\n",
       "        <td>00128</td>\n",
       "        <td>CS-101</td>\n",
       "        <td>1</td>\n",
       "        <td>Fall</td>\n",
       "        <td>2017</td>\n",
       "        <td>A</td>\n",
       "    </tr>\n",
       "    <tr>\n",
       "        <td>00128</td>\n",
       "        <td>CS-347</td>\n",
       "        <td>1</td>\n",
       "        <td>Fall</td>\n",
       "        <td>2017</td>\n",
       "        <td>A-</td>\n",
       "    </tr>\n",
       "    <tr>\n",
       "        <td>12345</td>\n",
       "        <td>CS-101</td>\n",
       "        <td>1</td>\n",
       "        <td>Fall</td>\n",
       "        <td>2017</td>\n",
       "        <td>C</td>\n",
       "    </tr>\n",
       "    <tr>\n",
       "        <td>12345</td>\n",
       "        <td>CS-190</td>\n",
       "        <td>2</td>\n",
       "        <td>Spring</td>\n",
       "        <td>2017</td>\n",
       "        <td>A</td>\n",
       "    </tr>\n",
       "    <tr>\n",
       "        <td>12345</td>\n",
       "        <td>CS-315</td>\n",
       "        <td>1</td>\n",
       "        <td>Spring</td>\n",
       "        <td>2018</td>\n",
       "        <td>A</td>\n",
       "    </tr>\n",
       "    <tr>\n",
       "        <td>12345</td>\n",
       "        <td>CS-347</td>\n",
       "        <td>1</td>\n",
       "        <td>Fall</td>\n",
       "        <td>2017</td>\n",
       "        <td>A</td>\n",
       "    </tr>\n",
       "    <tr>\n",
       "        <td>19991</td>\n",
       "        <td>HIS-351</td>\n",
       "        <td>1</td>\n",
       "        <td>Spring</td>\n",
       "        <td>2018</td>\n",
       "        <td>B</td>\n",
       "    </tr>\n",
       "    <tr>\n",
       "        <td>23121</td>\n",
       "        <td>FIN-201</td>\n",
       "        <td>1</td>\n",
       "        <td>Spring</td>\n",
       "        <td>2018</td>\n",
       "        <td>C+</td>\n",
       "    </tr>\n",
       "    <tr>\n",
       "        <td>44553</td>\n",
       "        <td>PHY-101</td>\n",
       "        <td>1</td>\n",
       "        <td>Fall</td>\n",
       "        <td>2017</td>\n",
       "        <td>B-</td>\n",
       "    </tr>\n",
       "    <tr>\n",
       "        <td>45678</td>\n",
       "        <td>CS-101</td>\n",
       "        <td>1</td>\n",
       "        <td>Fall</td>\n",
       "        <td>2017</td>\n",
       "        <td>F</td>\n",
       "    </tr>\n",
       "    <tr>\n",
       "        <td>45678</td>\n",
       "        <td>CS-101</td>\n",
       "        <td>1</td>\n",
       "        <td>Spring</td>\n",
       "        <td>2018</td>\n",
       "        <td>B+</td>\n",
       "    </tr>\n",
       "    <tr>\n",
       "        <td>45678</td>\n",
       "        <td>CS-319</td>\n",
       "        <td>1</td>\n",
       "        <td>Spring</td>\n",
       "        <td>2018</td>\n",
       "        <td>B</td>\n",
       "    </tr>\n",
       "    <tr>\n",
       "        <td>54321</td>\n",
       "        <td>CS-101</td>\n",
       "        <td>1</td>\n",
       "        <td>Fall</td>\n",
       "        <td>2017</td>\n",
       "        <td>A-</td>\n",
       "    </tr>\n",
       "    <tr>\n",
       "        <td>54321</td>\n",
       "        <td>CS-190</td>\n",
       "        <td>2</td>\n",
       "        <td>Spring</td>\n",
       "        <td>2017</td>\n",
       "        <td>B+</td>\n",
       "    </tr>\n",
       "    <tr>\n",
       "        <td>55739</td>\n",
       "        <td>MU-199</td>\n",
       "        <td>1</td>\n",
       "        <td>Spring</td>\n",
       "        <td>2018</td>\n",
       "        <td>A-</td>\n",
       "    </tr>\n",
       "    <tr>\n",
       "        <td>76543</td>\n",
       "        <td>CS-101</td>\n",
       "        <td>1</td>\n",
       "        <td>Fall</td>\n",
       "        <td>2017</td>\n",
       "        <td>A</td>\n",
       "    </tr>\n",
       "    <tr>\n",
       "        <td>76543</td>\n",
       "        <td>CS-319</td>\n",
       "        <td>2</td>\n",
       "        <td>Spring</td>\n",
       "        <td>2018</td>\n",
       "        <td>A</td>\n",
       "    </tr>\n",
       "    <tr>\n",
       "        <td>76653</td>\n",
       "        <td>EE-181</td>\n",
       "        <td>1</td>\n",
       "        <td>Spring</td>\n",
       "        <td>2017</td>\n",
       "        <td>C</td>\n",
       "    </tr>\n",
       "    <tr>\n",
       "        <td>98765</td>\n",
       "        <td>CS-101</td>\n",
       "        <td>1</td>\n",
       "        <td>Fall</td>\n",
       "        <td>2017</td>\n",
       "        <td>C-</td>\n",
       "    </tr>\n",
       "    <tr>\n",
       "        <td>98765</td>\n",
       "        <td>CS-315</td>\n",
       "        <td>1</td>\n",
       "        <td>Spring</td>\n",
       "        <td>2018</td>\n",
       "        <td>B</td>\n",
       "    </tr>\n",
       "    <tr>\n",
       "        <td>98988</td>\n",
       "        <td>BIO-101</td>\n",
       "        <td>1</td>\n",
       "        <td>Summer</td>\n",
       "        <td>2017</td>\n",
       "        <td>A</td>\n",
       "    </tr>\n",
       "    <tr>\n",
       "        <td>98988</td>\n",
       "        <td>BIO-301</td>\n",
       "        <td>1</td>\n",
       "        <td>Summer</td>\n",
       "        <td>2018</td>\n",
       "        <td>None</td>\n",
       "    </tr>\n",
       "</table>"
      ],
      "text/plain": [
       "[('00128', 'CS-101', '1', 'Fall', 2017, 'A'),\n",
       " ('00128', 'CS-347', '1', 'Fall', 2017, 'A-'),\n",
       " ('12345', 'CS-101', '1', 'Fall', 2017, 'C'),\n",
       " ('12345', 'CS-190', '2', 'Spring', 2017, 'A'),\n",
       " ('12345', 'CS-315', '1', 'Spring', 2018, 'A'),\n",
       " ('12345', 'CS-347', '1', 'Fall', 2017, 'A'),\n",
       " ('19991', 'HIS-351', '1', 'Spring', 2018, 'B'),\n",
       " ('23121', 'FIN-201', '1', 'Spring', 2018, 'C+'),\n",
       " ('44553', 'PHY-101', '1', 'Fall', 2017, 'B-'),\n",
       " ('45678', 'CS-101', '1', 'Fall', 2017, 'F'),\n",
       " ('45678', 'CS-101', '1', 'Spring', 2018, 'B+'),\n",
       " ('45678', 'CS-319', '1', 'Spring', 2018, 'B'),\n",
       " ('54321', 'CS-101', '1', 'Fall', 2017, 'A-'),\n",
       " ('54321', 'CS-190', '2', 'Spring', 2017, 'B+'),\n",
       " ('55739', 'MU-199', '1', 'Spring', 2018, 'A-'),\n",
       " ('76543', 'CS-101', '1', 'Fall', 2017, 'A'),\n",
       " ('76543', 'CS-319', '2', 'Spring', 2018, 'A'),\n",
       " ('76653', 'EE-181', '1', 'Spring', 2017, 'C'),\n",
       " ('98765', 'CS-101', '1', 'Fall', 2017, 'C-'),\n",
       " ('98765', 'CS-315', '1', 'Spring', 2018, 'B'),\n",
       " ('98988', 'BIO-101', '1', 'Summer', 2017, 'A'),\n",
       " ('98988', 'BIO-301', '1', 'Summer', 2018, None)]"
      ]
     },
     "execution_count": 12,
     "metadata": {},
     "output_type": "execute_result"
    }
   ],
   "source": [
    "%sql select * from takes"
   ]
  },
  {
   "cell_type": "code",
   "execution_count": 13,
   "metadata": {},
   "outputs": [
    {
     "name": "stdout",
     "output_type": "stream",
     "text": [
      " * sqlite:///db_univ7.db\n",
      "1 rows affected.\n"
     ]
    },
    {
     "data": {
      "text/plain": [
       "[]"
      ]
     },
     "execution_count": 13,
     "metadata": {},
     "output_type": "execute_result"
    }
   ],
   "source": [
    "%sql delete from section where course_id='PHY-101' and sec_id='1' and semester='Fall' and year='2017'"
   ]
  },
  {
   "cell_type": "code",
   "execution_count": 14,
   "metadata": {
    "scrolled": true
   },
   "outputs": [
    {
     "name": "stdout",
     "output_type": "stream",
     "text": [
      " * sqlite:///db_univ7.db\n",
      "Done.\n"
     ]
    },
    {
     "data": {
      "text/html": [
       "<table>\n",
       "    <tr>\n",
       "        <th>ID</th>\n",
       "        <th>course_id</th>\n",
       "        <th>sec_id</th>\n",
       "        <th>semester</th>\n",
       "        <th>year</th>\n",
       "        <th>grade</th>\n",
       "    </tr>\n",
       "    <tr>\n",
       "        <td>00128</td>\n",
       "        <td>CS-101</td>\n",
       "        <td>1</td>\n",
       "        <td>Fall</td>\n",
       "        <td>2017</td>\n",
       "        <td>A</td>\n",
       "    </tr>\n",
       "    <tr>\n",
       "        <td>00128</td>\n",
       "        <td>CS-347</td>\n",
       "        <td>1</td>\n",
       "        <td>Fall</td>\n",
       "        <td>2017</td>\n",
       "        <td>A-</td>\n",
       "    </tr>\n",
       "    <tr>\n",
       "        <td>12345</td>\n",
       "        <td>CS-101</td>\n",
       "        <td>1</td>\n",
       "        <td>Fall</td>\n",
       "        <td>2017</td>\n",
       "        <td>C</td>\n",
       "    </tr>\n",
       "    <tr>\n",
       "        <td>12345</td>\n",
       "        <td>CS-190</td>\n",
       "        <td>2</td>\n",
       "        <td>Spring</td>\n",
       "        <td>2017</td>\n",
       "        <td>A</td>\n",
       "    </tr>\n",
       "    <tr>\n",
       "        <td>12345</td>\n",
       "        <td>CS-315</td>\n",
       "        <td>1</td>\n",
       "        <td>Spring</td>\n",
       "        <td>2018</td>\n",
       "        <td>A</td>\n",
       "    </tr>\n",
       "    <tr>\n",
       "        <td>12345</td>\n",
       "        <td>CS-347</td>\n",
       "        <td>1</td>\n",
       "        <td>Fall</td>\n",
       "        <td>2017</td>\n",
       "        <td>A</td>\n",
       "    </tr>\n",
       "    <tr>\n",
       "        <td>19991</td>\n",
       "        <td>HIS-351</td>\n",
       "        <td>1</td>\n",
       "        <td>Spring</td>\n",
       "        <td>2018</td>\n",
       "        <td>B</td>\n",
       "    </tr>\n",
       "    <tr>\n",
       "        <td>23121</td>\n",
       "        <td>FIN-201</td>\n",
       "        <td>1</td>\n",
       "        <td>Spring</td>\n",
       "        <td>2018</td>\n",
       "        <td>C+</td>\n",
       "    </tr>\n",
       "    <tr>\n",
       "        <td>45678</td>\n",
       "        <td>CS-101</td>\n",
       "        <td>1</td>\n",
       "        <td>Fall</td>\n",
       "        <td>2017</td>\n",
       "        <td>F</td>\n",
       "    </tr>\n",
       "    <tr>\n",
       "        <td>45678</td>\n",
       "        <td>CS-101</td>\n",
       "        <td>1</td>\n",
       "        <td>Spring</td>\n",
       "        <td>2018</td>\n",
       "        <td>B+</td>\n",
       "    </tr>\n",
       "    <tr>\n",
       "        <td>45678</td>\n",
       "        <td>CS-319</td>\n",
       "        <td>1</td>\n",
       "        <td>Spring</td>\n",
       "        <td>2018</td>\n",
       "        <td>B</td>\n",
       "    </tr>\n",
       "    <tr>\n",
       "        <td>54321</td>\n",
       "        <td>CS-101</td>\n",
       "        <td>1</td>\n",
       "        <td>Fall</td>\n",
       "        <td>2017</td>\n",
       "        <td>A-</td>\n",
       "    </tr>\n",
       "    <tr>\n",
       "        <td>54321</td>\n",
       "        <td>CS-190</td>\n",
       "        <td>2</td>\n",
       "        <td>Spring</td>\n",
       "        <td>2017</td>\n",
       "        <td>B+</td>\n",
       "    </tr>\n",
       "    <tr>\n",
       "        <td>55739</td>\n",
       "        <td>MU-199</td>\n",
       "        <td>1</td>\n",
       "        <td>Spring</td>\n",
       "        <td>2018</td>\n",
       "        <td>A-</td>\n",
       "    </tr>\n",
       "    <tr>\n",
       "        <td>76543</td>\n",
       "        <td>CS-101</td>\n",
       "        <td>1</td>\n",
       "        <td>Fall</td>\n",
       "        <td>2017</td>\n",
       "        <td>A</td>\n",
       "    </tr>\n",
       "    <tr>\n",
       "        <td>76543</td>\n",
       "        <td>CS-319</td>\n",
       "        <td>2</td>\n",
       "        <td>Spring</td>\n",
       "        <td>2018</td>\n",
       "        <td>A</td>\n",
       "    </tr>\n",
       "    <tr>\n",
       "        <td>76653</td>\n",
       "        <td>EE-181</td>\n",
       "        <td>1</td>\n",
       "        <td>Spring</td>\n",
       "        <td>2017</td>\n",
       "        <td>C</td>\n",
       "    </tr>\n",
       "    <tr>\n",
       "        <td>98765</td>\n",
       "        <td>CS-101</td>\n",
       "        <td>1</td>\n",
       "        <td>Fall</td>\n",
       "        <td>2017</td>\n",
       "        <td>C-</td>\n",
       "    </tr>\n",
       "    <tr>\n",
       "        <td>98765</td>\n",
       "        <td>CS-315</td>\n",
       "        <td>1</td>\n",
       "        <td>Spring</td>\n",
       "        <td>2018</td>\n",
       "        <td>B</td>\n",
       "    </tr>\n",
       "    <tr>\n",
       "        <td>98988</td>\n",
       "        <td>BIO-101</td>\n",
       "        <td>1</td>\n",
       "        <td>Summer</td>\n",
       "        <td>2017</td>\n",
       "        <td>A</td>\n",
       "    </tr>\n",
       "    <tr>\n",
       "        <td>98988</td>\n",
       "        <td>BIO-301</td>\n",
       "        <td>1</td>\n",
       "        <td>Summer</td>\n",
       "        <td>2018</td>\n",
       "        <td>None</td>\n",
       "    </tr>\n",
       "</table>"
      ],
      "text/plain": [
       "[('00128', 'CS-101', '1', 'Fall', 2017, 'A'),\n",
       " ('00128', 'CS-347', '1', 'Fall', 2017, 'A-'),\n",
       " ('12345', 'CS-101', '1', 'Fall', 2017, 'C'),\n",
       " ('12345', 'CS-190', '2', 'Spring', 2017, 'A'),\n",
       " ('12345', 'CS-315', '1', 'Spring', 2018, 'A'),\n",
       " ('12345', 'CS-347', '1', 'Fall', 2017, 'A'),\n",
       " ('19991', 'HIS-351', '1', 'Spring', 2018, 'B'),\n",
       " ('23121', 'FIN-201', '1', 'Spring', 2018, 'C+'),\n",
       " ('45678', 'CS-101', '1', 'Fall', 2017, 'F'),\n",
       " ('45678', 'CS-101', '1', 'Spring', 2018, 'B+'),\n",
       " ('45678', 'CS-319', '1', 'Spring', 2018, 'B'),\n",
       " ('54321', 'CS-101', '1', 'Fall', 2017, 'A-'),\n",
       " ('54321', 'CS-190', '2', 'Spring', 2017, 'B+'),\n",
       " ('55739', 'MU-199', '1', 'Spring', 2018, 'A-'),\n",
       " ('76543', 'CS-101', '1', 'Fall', 2017, 'A'),\n",
       " ('76543', 'CS-319', '2', 'Spring', 2018, 'A'),\n",
       " ('76653', 'EE-181', '1', 'Spring', 2017, 'C'),\n",
       " ('98765', 'CS-101', '1', 'Fall', 2017, 'C-'),\n",
       " ('98765', 'CS-315', '1', 'Spring', 2018, 'B'),\n",
       " ('98988', 'BIO-101', '1', 'Summer', 2017, 'A'),\n",
       " ('98988', 'BIO-301', '1', 'Summer', 2018, None)]"
      ]
     },
     "execution_count": 14,
     "metadata": {},
     "output_type": "execute_result"
    }
   ],
   "source": [
    "%sql select * from takes"
   ]
  },
  {
   "cell_type": "code",
   "execution_count": null,
   "metadata": {},
   "outputs": [],
   "source": []
  },
  {
   "cell_type": "code",
   "execution_count": 15,
   "metadata": {},
   "outputs": [
    {
     "name": "stdout",
     "output_type": "stream",
     "text": [
      " * sqlite:///db_univ7.db\n",
      "Done.\n"
     ]
    },
    {
     "data": {
      "text/plain": [
       "[]"
      ]
     },
     "execution_count": 15,
     "metadata": {},
     "output_type": "execute_result"
    }
   ],
   "source": [
    "%%sql\n",
    "create table person (ID  char(10) primary key, name char(40), mother char(10), father char(10),spouse  char(10),\n",
    "                    foreign key (father) references person)"
   ]
  },
  {
   "cell_type": "code",
   "execution_count": 16,
   "metadata": {},
   "outputs": [
    {
     "name": "stdout",
     "output_type": "stream",
     "text": [
      " * sqlite:///db_univ7.db\n"
     ]
    },
    {
     "ename": "IntegrityError",
     "evalue": "(sqlite3.IntegrityError) FOREIGN KEY constraint failed\n[SQL: insert into person values ('11111','me','mymother','myfather','myspouse')]\n(Background on this error at: http://sqlalche.me/e/13/gkpj)",
     "output_type": "error",
     "traceback": [
      "\u001b[1;31m---------------------------------------------------------------------------\u001b[0m",
      "\u001b[1;31mIntegrityError\u001b[0m                            Traceback (most recent call last)",
      "\u001b[1;32m~\\anaconda3\\lib\\site-packages\\sqlalchemy\\engine\\base.py\u001b[0m in \u001b[0;36m_execute_context\u001b[1;34m(self, dialect, constructor, statement, parameters, *args)\u001b[0m\n\u001b[0;32m   1276\u001b[0m                 \u001b[1;32mif\u001b[0m \u001b[1;32mnot\u001b[0m \u001b[0mevt_handled\u001b[0m\u001b[1;33m:\u001b[0m\u001b[1;33m\u001b[0m\u001b[1;33m\u001b[0m\u001b[0m\n\u001b[1;32m-> 1277\u001b[1;33m                     self.dialect.do_execute(\n\u001b[0m\u001b[0;32m   1278\u001b[0m                         \u001b[0mcursor\u001b[0m\u001b[1;33m,\u001b[0m \u001b[0mstatement\u001b[0m\u001b[1;33m,\u001b[0m \u001b[0mparameters\u001b[0m\u001b[1;33m,\u001b[0m \u001b[0mcontext\u001b[0m\u001b[1;33m\u001b[0m\u001b[1;33m\u001b[0m\u001b[0m\n",
      "\u001b[1;32m~\\anaconda3\\lib\\site-packages\\sqlalchemy\\engine\\default.py\u001b[0m in \u001b[0;36mdo_execute\u001b[1;34m(self, cursor, statement, parameters, context)\u001b[0m\n\u001b[0;32m    592\u001b[0m     \u001b[1;32mdef\u001b[0m \u001b[0mdo_execute\u001b[0m\u001b[1;33m(\u001b[0m\u001b[0mself\u001b[0m\u001b[1;33m,\u001b[0m \u001b[0mcursor\u001b[0m\u001b[1;33m,\u001b[0m \u001b[0mstatement\u001b[0m\u001b[1;33m,\u001b[0m \u001b[0mparameters\u001b[0m\u001b[1;33m,\u001b[0m \u001b[0mcontext\u001b[0m\u001b[1;33m=\u001b[0m\u001b[1;32mNone\u001b[0m\u001b[1;33m)\u001b[0m\u001b[1;33m:\u001b[0m\u001b[1;33m\u001b[0m\u001b[1;33m\u001b[0m\u001b[0m\n\u001b[1;32m--> 593\u001b[1;33m         \u001b[0mcursor\u001b[0m\u001b[1;33m.\u001b[0m\u001b[0mexecute\u001b[0m\u001b[1;33m(\u001b[0m\u001b[0mstatement\u001b[0m\u001b[1;33m,\u001b[0m \u001b[0mparameters\u001b[0m\u001b[1;33m)\u001b[0m\u001b[1;33m\u001b[0m\u001b[1;33m\u001b[0m\u001b[0m\n\u001b[0m\u001b[0;32m    594\u001b[0m \u001b[1;33m\u001b[0m\u001b[0m\n",
      "\u001b[1;31mIntegrityError\u001b[0m: FOREIGN KEY constraint failed",
      "\nThe above exception was the direct cause of the following exception:\n",
      "\u001b[1;31mIntegrityError\u001b[0m                            Traceback (most recent call last)",
      "\u001b[1;32m<ipython-input-16-300743f53b60>\u001b[0m in \u001b[0;36m<module>\u001b[1;34m\u001b[0m\n\u001b[1;32m----> 1\u001b[1;33m \u001b[0mget_ipython\u001b[0m\u001b[1;33m(\u001b[0m\u001b[1;33m)\u001b[0m\u001b[1;33m.\u001b[0m\u001b[0mrun_line_magic\u001b[0m\u001b[1;33m(\u001b[0m\u001b[1;34m'sql'\u001b[0m\u001b[1;33m,\u001b[0m \u001b[1;34m\"insert into person values ('11111','me','mymother','myfather','myspouse')\"\u001b[0m\u001b[1;33m)\u001b[0m\u001b[1;33m\u001b[0m\u001b[1;33m\u001b[0m\u001b[0m\n\u001b[0m",
      "\u001b[1;32m~\\anaconda3\\lib\\site-packages\\IPython\\core\\interactiveshell.py\u001b[0m in \u001b[0;36mrun_line_magic\u001b[1;34m(self, magic_name, line, _stack_depth)\u001b[0m\n\u001b[0;32m   2324\u001b[0m                 \u001b[0mkwargs\u001b[0m\u001b[1;33m[\u001b[0m\u001b[1;34m'local_ns'\u001b[0m\u001b[1;33m]\u001b[0m \u001b[1;33m=\u001b[0m \u001b[0msys\u001b[0m\u001b[1;33m.\u001b[0m\u001b[0m_getframe\u001b[0m\u001b[1;33m(\u001b[0m\u001b[0mstack_depth\u001b[0m\u001b[1;33m)\u001b[0m\u001b[1;33m.\u001b[0m\u001b[0mf_locals\u001b[0m\u001b[1;33m\u001b[0m\u001b[1;33m\u001b[0m\u001b[0m\n\u001b[0;32m   2325\u001b[0m             \u001b[1;32mwith\u001b[0m \u001b[0mself\u001b[0m\u001b[1;33m.\u001b[0m\u001b[0mbuiltin_trap\u001b[0m\u001b[1;33m:\u001b[0m\u001b[1;33m\u001b[0m\u001b[1;33m\u001b[0m\u001b[0m\n\u001b[1;32m-> 2326\u001b[1;33m                 \u001b[0mresult\u001b[0m \u001b[1;33m=\u001b[0m \u001b[0mfn\u001b[0m\u001b[1;33m(\u001b[0m\u001b[1;33m*\u001b[0m\u001b[0margs\u001b[0m\u001b[1;33m,\u001b[0m \u001b[1;33m**\u001b[0m\u001b[0mkwargs\u001b[0m\u001b[1;33m)\u001b[0m\u001b[1;33m\u001b[0m\u001b[1;33m\u001b[0m\u001b[0m\n\u001b[0m\u001b[0;32m   2327\u001b[0m             \u001b[1;32mreturn\u001b[0m \u001b[0mresult\u001b[0m\u001b[1;33m\u001b[0m\u001b[1;33m\u001b[0m\u001b[0m\n\u001b[0;32m   2328\u001b[0m \u001b[1;33m\u001b[0m\u001b[0m\n",
      "\u001b[1;32m<decorator-gen-128>\u001b[0m in \u001b[0;36mexecute\u001b[1;34m(self, line, cell, local_ns)\u001b[0m\n",
      "\u001b[1;32m~\\anaconda3\\lib\\site-packages\\IPython\\core\\magic.py\u001b[0m in \u001b[0;36m<lambda>\u001b[1;34m(f, *a, **k)\u001b[0m\n\u001b[0;32m    185\u001b[0m     \u001b[1;31m# but it's overkill for just that one bit of state.\u001b[0m\u001b[1;33m\u001b[0m\u001b[1;33m\u001b[0m\u001b[1;33m\u001b[0m\u001b[0m\n\u001b[0;32m    186\u001b[0m     \u001b[1;32mdef\u001b[0m \u001b[0mmagic_deco\u001b[0m\u001b[1;33m(\u001b[0m\u001b[0marg\u001b[0m\u001b[1;33m)\u001b[0m\u001b[1;33m:\u001b[0m\u001b[1;33m\u001b[0m\u001b[1;33m\u001b[0m\u001b[0m\n\u001b[1;32m--> 187\u001b[1;33m         \u001b[0mcall\u001b[0m \u001b[1;33m=\u001b[0m \u001b[1;32mlambda\u001b[0m \u001b[0mf\u001b[0m\u001b[1;33m,\u001b[0m \u001b[1;33m*\u001b[0m\u001b[0ma\u001b[0m\u001b[1;33m,\u001b[0m \u001b[1;33m**\u001b[0m\u001b[0mk\u001b[0m\u001b[1;33m:\u001b[0m \u001b[0mf\u001b[0m\u001b[1;33m(\u001b[0m\u001b[1;33m*\u001b[0m\u001b[0ma\u001b[0m\u001b[1;33m,\u001b[0m \u001b[1;33m**\u001b[0m\u001b[0mk\u001b[0m\u001b[1;33m)\u001b[0m\u001b[1;33m\u001b[0m\u001b[1;33m\u001b[0m\u001b[0m\n\u001b[0m\u001b[0;32m    188\u001b[0m \u001b[1;33m\u001b[0m\u001b[0m\n\u001b[0;32m    189\u001b[0m         \u001b[1;32mif\u001b[0m \u001b[0mcallable\u001b[0m\u001b[1;33m(\u001b[0m\u001b[0marg\u001b[0m\u001b[1;33m)\u001b[0m\u001b[1;33m:\u001b[0m\u001b[1;33m\u001b[0m\u001b[1;33m\u001b[0m\u001b[0m\n",
      "\u001b[1;32m<decorator-gen-127>\u001b[0m in \u001b[0;36mexecute\u001b[1;34m(self, line, cell, local_ns)\u001b[0m\n",
      "\u001b[1;32m~\\anaconda3\\lib\\site-packages\\IPython\\core\\magic.py\u001b[0m in \u001b[0;36m<lambda>\u001b[1;34m(f, *a, **k)\u001b[0m\n\u001b[0;32m    185\u001b[0m     \u001b[1;31m# but it's overkill for just that one bit of state.\u001b[0m\u001b[1;33m\u001b[0m\u001b[1;33m\u001b[0m\u001b[1;33m\u001b[0m\u001b[0m\n\u001b[0;32m    186\u001b[0m     \u001b[1;32mdef\u001b[0m \u001b[0mmagic_deco\u001b[0m\u001b[1;33m(\u001b[0m\u001b[0marg\u001b[0m\u001b[1;33m)\u001b[0m\u001b[1;33m:\u001b[0m\u001b[1;33m\u001b[0m\u001b[1;33m\u001b[0m\u001b[0m\n\u001b[1;32m--> 187\u001b[1;33m         \u001b[0mcall\u001b[0m \u001b[1;33m=\u001b[0m \u001b[1;32mlambda\u001b[0m \u001b[0mf\u001b[0m\u001b[1;33m,\u001b[0m \u001b[1;33m*\u001b[0m\u001b[0ma\u001b[0m\u001b[1;33m,\u001b[0m \u001b[1;33m**\u001b[0m\u001b[0mk\u001b[0m\u001b[1;33m:\u001b[0m \u001b[0mf\u001b[0m\u001b[1;33m(\u001b[0m\u001b[1;33m*\u001b[0m\u001b[0ma\u001b[0m\u001b[1;33m,\u001b[0m \u001b[1;33m**\u001b[0m\u001b[0mk\u001b[0m\u001b[1;33m)\u001b[0m\u001b[1;33m\u001b[0m\u001b[1;33m\u001b[0m\u001b[0m\n\u001b[0m\u001b[0;32m    188\u001b[0m \u001b[1;33m\u001b[0m\u001b[0m\n\u001b[0;32m    189\u001b[0m         \u001b[1;32mif\u001b[0m \u001b[0mcallable\u001b[0m\u001b[1;33m(\u001b[0m\u001b[0marg\u001b[0m\u001b[1;33m)\u001b[0m\u001b[1;33m:\u001b[0m\u001b[1;33m\u001b[0m\u001b[1;33m\u001b[0m\u001b[0m\n",
      "\u001b[1;32m~\\anaconda3\\lib\\site-packages\\sql\\magic.py\u001b[0m in \u001b[0;36mexecute\u001b[1;34m(self, line, cell, local_ns)\u001b[0m\n\u001b[0;32m    215\u001b[0m \u001b[1;33m\u001b[0m\u001b[0m\n\u001b[0;32m    216\u001b[0m         \u001b[1;32mtry\u001b[0m\u001b[1;33m:\u001b[0m\u001b[1;33m\u001b[0m\u001b[1;33m\u001b[0m\u001b[0m\n\u001b[1;32m--> 217\u001b[1;33m             \u001b[0mresult\u001b[0m \u001b[1;33m=\u001b[0m \u001b[0msql\u001b[0m\u001b[1;33m.\u001b[0m\u001b[0mrun\u001b[0m\u001b[1;33m.\u001b[0m\u001b[0mrun\u001b[0m\u001b[1;33m(\u001b[0m\u001b[0mconn\u001b[0m\u001b[1;33m,\u001b[0m \u001b[0mparsed\u001b[0m\u001b[1;33m[\u001b[0m\u001b[1;34m\"sql\"\u001b[0m\u001b[1;33m]\u001b[0m\u001b[1;33m,\u001b[0m \u001b[0mself\u001b[0m\u001b[1;33m,\u001b[0m \u001b[0muser_ns\u001b[0m\u001b[1;33m)\u001b[0m\u001b[1;33m\u001b[0m\u001b[1;33m\u001b[0m\u001b[0m\n\u001b[0m\u001b[0;32m    218\u001b[0m \u001b[1;33m\u001b[0m\u001b[0m\n\u001b[0;32m    219\u001b[0m             if (\n",
      "\u001b[1;32m~\\anaconda3\\lib\\site-packages\\sql\\run.py\u001b[0m in \u001b[0;36mrun\u001b[1;34m(conn, sql, config, user_namespace)\u001b[0m\n\u001b[0;32m    365\u001b[0m             \u001b[1;32melse\u001b[0m\u001b[1;33m:\u001b[0m\u001b[1;33m\u001b[0m\u001b[1;33m\u001b[0m\u001b[0m\n\u001b[0;32m    366\u001b[0m                 \u001b[0mtxt\u001b[0m \u001b[1;33m=\u001b[0m \u001b[0msqlalchemy\u001b[0m\u001b[1;33m.\u001b[0m\u001b[0msql\u001b[0m\u001b[1;33m.\u001b[0m\u001b[0mtext\u001b[0m\u001b[1;33m(\u001b[0m\u001b[0mstatement\u001b[0m\u001b[1;33m)\u001b[0m\u001b[1;33m\u001b[0m\u001b[1;33m\u001b[0m\u001b[0m\n\u001b[1;32m--> 367\u001b[1;33m                 \u001b[0mresult\u001b[0m \u001b[1;33m=\u001b[0m \u001b[0mconn\u001b[0m\u001b[1;33m.\u001b[0m\u001b[0msession\u001b[0m\u001b[1;33m.\u001b[0m\u001b[0mexecute\u001b[0m\u001b[1;33m(\u001b[0m\u001b[0mtxt\u001b[0m\u001b[1;33m,\u001b[0m \u001b[0muser_namespace\u001b[0m\u001b[1;33m)\u001b[0m\u001b[1;33m\u001b[0m\u001b[1;33m\u001b[0m\u001b[0m\n\u001b[0m\u001b[0;32m    368\u001b[0m             \u001b[0m_commit\u001b[0m\u001b[1;33m(\u001b[0m\u001b[0mconn\u001b[0m\u001b[1;33m=\u001b[0m\u001b[0mconn\u001b[0m\u001b[1;33m,\u001b[0m \u001b[0mconfig\u001b[0m\u001b[1;33m=\u001b[0m\u001b[0mconfig\u001b[0m\u001b[1;33m)\u001b[0m\u001b[1;33m\u001b[0m\u001b[1;33m\u001b[0m\u001b[0m\n\u001b[0;32m    369\u001b[0m             \u001b[1;32mif\u001b[0m \u001b[0mresult\u001b[0m \u001b[1;32mand\u001b[0m \u001b[0mconfig\u001b[0m\u001b[1;33m.\u001b[0m\u001b[0mfeedback\u001b[0m\u001b[1;33m:\u001b[0m\u001b[1;33m\u001b[0m\u001b[1;33m\u001b[0m\u001b[0m\n",
      "\u001b[1;32m~\\anaconda3\\lib\\site-packages\\sqlalchemy\\engine\\base.py\u001b[0m in \u001b[0;36mexecute\u001b[1;34m(self, object_, *multiparams, **params)\u001b[0m\n\u001b[0;32m   1012\u001b[0m             )\n\u001b[0;32m   1013\u001b[0m         \u001b[1;32melse\u001b[0m\u001b[1;33m:\u001b[0m\u001b[1;33m\u001b[0m\u001b[1;33m\u001b[0m\u001b[0m\n\u001b[1;32m-> 1014\u001b[1;33m             \u001b[1;32mreturn\u001b[0m \u001b[0mmeth\u001b[0m\u001b[1;33m(\u001b[0m\u001b[0mself\u001b[0m\u001b[1;33m,\u001b[0m \u001b[0mmultiparams\u001b[0m\u001b[1;33m,\u001b[0m \u001b[0mparams\u001b[0m\u001b[1;33m)\u001b[0m\u001b[1;33m\u001b[0m\u001b[1;33m\u001b[0m\u001b[0m\n\u001b[0m\u001b[0;32m   1015\u001b[0m \u001b[1;33m\u001b[0m\u001b[0m\n\u001b[0;32m   1016\u001b[0m     \u001b[1;32mdef\u001b[0m \u001b[0m_execute_function\u001b[0m\u001b[1;33m(\u001b[0m\u001b[0mself\u001b[0m\u001b[1;33m,\u001b[0m \u001b[0mfunc\u001b[0m\u001b[1;33m,\u001b[0m \u001b[0mmultiparams\u001b[0m\u001b[1;33m,\u001b[0m \u001b[0mparams\u001b[0m\u001b[1;33m)\u001b[0m\u001b[1;33m:\u001b[0m\u001b[1;33m\u001b[0m\u001b[1;33m\u001b[0m\u001b[0m\n",
      "\u001b[1;32m~\\anaconda3\\lib\\site-packages\\sqlalchemy\\sql\\elements.py\u001b[0m in \u001b[0;36m_execute_on_connection\u001b[1;34m(self, connection, multiparams, params)\u001b[0m\n\u001b[0;32m    296\u001b[0m     \u001b[1;32mdef\u001b[0m \u001b[0m_execute_on_connection\u001b[0m\u001b[1;33m(\u001b[0m\u001b[0mself\u001b[0m\u001b[1;33m,\u001b[0m \u001b[0mconnection\u001b[0m\u001b[1;33m,\u001b[0m \u001b[0mmultiparams\u001b[0m\u001b[1;33m,\u001b[0m \u001b[0mparams\u001b[0m\u001b[1;33m)\u001b[0m\u001b[1;33m:\u001b[0m\u001b[1;33m\u001b[0m\u001b[1;33m\u001b[0m\u001b[0m\n\u001b[0;32m    297\u001b[0m         \u001b[1;32mif\u001b[0m \u001b[0mself\u001b[0m\u001b[1;33m.\u001b[0m\u001b[0msupports_execution\u001b[0m\u001b[1;33m:\u001b[0m\u001b[1;33m\u001b[0m\u001b[1;33m\u001b[0m\u001b[0m\n\u001b[1;32m--> 298\u001b[1;33m             \u001b[1;32mreturn\u001b[0m \u001b[0mconnection\u001b[0m\u001b[1;33m.\u001b[0m\u001b[0m_execute_clauseelement\u001b[0m\u001b[1;33m(\u001b[0m\u001b[0mself\u001b[0m\u001b[1;33m,\u001b[0m \u001b[0mmultiparams\u001b[0m\u001b[1;33m,\u001b[0m \u001b[0mparams\u001b[0m\u001b[1;33m)\u001b[0m\u001b[1;33m\u001b[0m\u001b[1;33m\u001b[0m\u001b[0m\n\u001b[0m\u001b[0;32m    299\u001b[0m         \u001b[1;32melse\u001b[0m\u001b[1;33m:\u001b[0m\u001b[1;33m\u001b[0m\u001b[1;33m\u001b[0m\u001b[0m\n\u001b[0;32m    300\u001b[0m             \u001b[1;32mraise\u001b[0m \u001b[0mexc\u001b[0m\u001b[1;33m.\u001b[0m\u001b[0mObjectNotExecutableError\u001b[0m\u001b[1;33m(\u001b[0m\u001b[0mself\u001b[0m\u001b[1;33m)\u001b[0m\u001b[1;33m\u001b[0m\u001b[1;33m\u001b[0m\u001b[0m\n",
      "\u001b[1;32m~\\anaconda3\\lib\\site-packages\\sqlalchemy\\engine\\base.py\u001b[0m in \u001b[0;36m_execute_clauseelement\u001b[1;34m(self, elem, multiparams, params)\u001b[0m\n\u001b[0;32m   1125\u001b[0m             )\n\u001b[0;32m   1126\u001b[0m \u001b[1;33m\u001b[0m\u001b[0m\n\u001b[1;32m-> 1127\u001b[1;33m         ret = self._execute_context(\n\u001b[0m\u001b[0;32m   1128\u001b[0m             \u001b[0mdialect\u001b[0m\u001b[1;33m,\u001b[0m\u001b[1;33m\u001b[0m\u001b[1;33m\u001b[0m\u001b[0m\n\u001b[0;32m   1129\u001b[0m             \u001b[0mdialect\u001b[0m\u001b[1;33m.\u001b[0m\u001b[0mexecution_ctx_cls\u001b[0m\u001b[1;33m.\u001b[0m\u001b[0m_init_compiled\u001b[0m\u001b[1;33m,\u001b[0m\u001b[1;33m\u001b[0m\u001b[1;33m\u001b[0m\u001b[0m\n",
      "\u001b[1;32m~\\anaconda3\\lib\\site-packages\\sqlalchemy\\engine\\base.py\u001b[0m in \u001b[0;36m_execute_context\u001b[1;34m(self, dialect, constructor, statement, parameters, *args)\u001b[0m\n\u001b[0;32m   1315\u001b[0m \u001b[1;33m\u001b[0m\u001b[0m\n\u001b[0;32m   1316\u001b[0m         \u001b[1;32mexcept\u001b[0m \u001b[0mBaseException\u001b[0m \u001b[1;32mas\u001b[0m \u001b[0me\u001b[0m\u001b[1;33m:\u001b[0m\u001b[1;33m\u001b[0m\u001b[1;33m\u001b[0m\u001b[0m\n\u001b[1;32m-> 1317\u001b[1;33m             self._handle_dbapi_exception(\n\u001b[0m\u001b[0;32m   1318\u001b[0m                 \u001b[0me\u001b[0m\u001b[1;33m,\u001b[0m \u001b[0mstatement\u001b[0m\u001b[1;33m,\u001b[0m \u001b[0mparameters\u001b[0m\u001b[1;33m,\u001b[0m \u001b[0mcursor\u001b[0m\u001b[1;33m,\u001b[0m \u001b[0mcontext\u001b[0m\u001b[1;33m\u001b[0m\u001b[1;33m\u001b[0m\u001b[0m\n\u001b[0;32m   1319\u001b[0m             )\n",
      "\u001b[1;32m~\\anaconda3\\lib\\site-packages\\sqlalchemy\\engine\\base.py\u001b[0m in \u001b[0;36m_handle_dbapi_exception\u001b[1;34m(self, e, statement, parameters, cursor, context)\u001b[0m\n\u001b[0;32m   1509\u001b[0m                 \u001b[0mutil\u001b[0m\u001b[1;33m.\u001b[0m\u001b[0mraise_\u001b[0m\u001b[1;33m(\u001b[0m\u001b[0mnewraise\u001b[0m\u001b[1;33m,\u001b[0m \u001b[0mwith_traceback\u001b[0m\u001b[1;33m=\u001b[0m\u001b[0mexc_info\u001b[0m\u001b[1;33m[\u001b[0m\u001b[1;36m2\u001b[0m\u001b[1;33m]\u001b[0m\u001b[1;33m,\u001b[0m \u001b[0mfrom_\u001b[0m\u001b[1;33m=\u001b[0m\u001b[0me\u001b[0m\u001b[1;33m)\u001b[0m\u001b[1;33m\u001b[0m\u001b[1;33m\u001b[0m\u001b[0m\n\u001b[0;32m   1510\u001b[0m             \u001b[1;32melif\u001b[0m \u001b[0mshould_wrap\u001b[0m\u001b[1;33m:\u001b[0m\u001b[1;33m\u001b[0m\u001b[1;33m\u001b[0m\u001b[0m\n\u001b[1;32m-> 1511\u001b[1;33m                 util.raise_(\n\u001b[0m\u001b[0;32m   1512\u001b[0m                     \u001b[0msqlalchemy_exception\u001b[0m\u001b[1;33m,\u001b[0m \u001b[0mwith_traceback\u001b[0m\u001b[1;33m=\u001b[0m\u001b[0mexc_info\u001b[0m\u001b[1;33m[\u001b[0m\u001b[1;36m2\u001b[0m\u001b[1;33m]\u001b[0m\u001b[1;33m,\u001b[0m \u001b[0mfrom_\u001b[0m\u001b[1;33m=\u001b[0m\u001b[0me\u001b[0m\u001b[1;33m\u001b[0m\u001b[1;33m\u001b[0m\u001b[0m\n\u001b[0;32m   1513\u001b[0m                 )\n",
      "\u001b[1;32m~\\anaconda3\\lib\\site-packages\\sqlalchemy\\util\\compat.py\u001b[0m in \u001b[0;36mraise_\u001b[1;34m(***failed resolving arguments***)\u001b[0m\n\u001b[0;32m    176\u001b[0m \u001b[1;33m\u001b[0m\u001b[0m\n\u001b[0;32m    177\u001b[0m         \u001b[1;32mtry\u001b[0m\u001b[1;33m:\u001b[0m\u001b[1;33m\u001b[0m\u001b[1;33m\u001b[0m\u001b[0m\n\u001b[1;32m--> 178\u001b[1;33m             \u001b[1;32mraise\u001b[0m \u001b[0mexception\u001b[0m\u001b[1;33m\u001b[0m\u001b[1;33m\u001b[0m\u001b[0m\n\u001b[0m\u001b[0;32m    179\u001b[0m         \u001b[1;32mfinally\u001b[0m\u001b[1;33m:\u001b[0m\u001b[1;33m\u001b[0m\u001b[1;33m\u001b[0m\u001b[0m\n\u001b[0;32m    180\u001b[0m             \u001b[1;31m# credit to\u001b[0m\u001b[1;33m\u001b[0m\u001b[1;33m\u001b[0m\u001b[1;33m\u001b[0m\u001b[0m\n",
      "\u001b[1;32m~\\anaconda3\\lib\\site-packages\\sqlalchemy\\engine\\base.py\u001b[0m in \u001b[0;36m_execute_context\u001b[1;34m(self, dialect, constructor, statement, parameters, *args)\u001b[0m\n\u001b[0;32m   1275\u001b[0m                             \u001b[1;32mbreak\u001b[0m\u001b[1;33m\u001b[0m\u001b[1;33m\u001b[0m\u001b[0m\n\u001b[0;32m   1276\u001b[0m                 \u001b[1;32mif\u001b[0m \u001b[1;32mnot\u001b[0m \u001b[0mevt_handled\u001b[0m\u001b[1;33m:\u001b[0m\u001b[1;33m\u001b[0m\u001b[1;33m\u001b[0m\u001b[0m\n\u001b[1;32m-> 1277\u001b[1;33m                     self.dialect.do_execute(\n\u001b[0m\u001b[0;32m   1278\u001b[0m                         \u001b[0mcursor\u001b[0m\u001b[1;33m,\u001b[0m \u001b[0mstatement\u001b[0m\u001b[1;33m,\u001b[0m \u001b[0mparameters\u001b[0m\u001b[1;33m,\u001b[0m \u001b[0mcontext\u001b[0m\u001b[1;33m\u001b[0m\u001b[1;33m\u001b[0m\u001b[0m\n\u001b[0;32m   1279\u001b[0m                     )\n",
      "\u001b[1;32m~\\anaconda3\\lib\\site-packages\\sqlalchemy\\engine\\default.py\u001b[0m in \u001b[0;36mdo_execute\u001b[1;34m(self, cursor, statement, parameters, context)\u001b[0m\n\u001b[0;32m    591\u001b[0m \u001b[1;33m\u001b[0m\u001b[0m\n\u001b[0;32m    592\u001b[0m     \u001b[1;32mdef\u001b[0m \u001b[0mdo_execute\u001b[0m\u001b[1;33m(\u001b[0m\u001b[0mself\u001b[0m\u001b[1;33m,\u001b[0m \u001b[0mcursor\u001b[0m\u001b[1;33m,\u001b[0m \u001b[0mstatement\u001b[0m\u001b[1;33m,\u001b[0m \u001b[0mparameters\u001b[0m\u001b[1;33m,\u001b[0m \u001b[0mcontext\u001b[0m\u001b[1;33m=\u001b[0m\u001b[1;32mNone\u001b[0m\u001b[1;33m)\u001b[0m\u001b[1;33m:\u001b[0m\u001b[1;33m\u001b[0m\u001b[1;33m\u001b[0m\u001b[0m\n\u001b[1;32m--> 593\u001b[1;33m         \u001b[0mcursor\u001b[0m\u001b[1;33m.\u001b[0m\u001b[0mexecute\u001b[0m\u001b[1;33m(\u001b[0m\u001b[0mstatement\u001b[0m\u001b[1;33m,\u001b[0m \u001b[0mparameters\u001b[0m\u001b[1;33m)\u001b[0m\u001b[1;33m\u001b[0m\u001b[1;33m\u001b[0m\u001b[0m\n\u001b[0m\u001b[0;32m    594\u001b[0m \u001b[1;33m\u001b[0m\u001b[0m\n\u001b[0;32m    595\u001b[0m     \u001b[1;32mdef\u001b[0m \u001b[0mdo_execute_no_params\u001b[0m\u001b[1;33m(\u001b[0m\u001b[0mself\u001b[0m\u001b[1;33m,\u001b[0m \u001b[0mcursor\u001b[0m\u001b[1;33m,\u001b[0m \u001b[0mstatement\u001b[0m\u001b[1;33m,\u001b[0m \u001b[0mcontext\u001b[0m\u001b[1;33m=\u001b[0m\u001b[1;32mNone\u001b[0m\u001b[1;33m)\u001b[0m\u001b[1;33m:\u001b[0m\u001b[1;33m\u001b[0m\u001b[1;33m\u001b[0m\u001b[0m\n",
      "\u001b[1;31mIntegrityError\u001b[0m: (sqlite3.IntegrityError) FOREIGN KEY constraint failed\n[SQL: insert into person values ('11111','me','mymother','myfather','myspouse')]\n(Background on this error at: http://sqlalche.me/e/13/gkpj)"
     ]
    }
   ],
   "source": [
    "%sql insert into person values ('11111','me','mymother','myfather','myspouse')"
   ]
  },
  {
   "cell_type": "code",
   "execution_count": 17,
   "metadata": {},
   "outputs": [
    {
     "name": "stdout",
     "output_type": "stream",
     "text": [
      " * sqlite:///db_univ7.db\n",
      "1 rows affected.\n"
     ]
    },
    {
     "data": {
      "text/plain": [
       "[]"
      ]
     },
     "execution_count": 17,
     "metadata": {},
     "output_type": "execute_result"
    }
   ],
   "source": [
    "%sql insert into person values ('11111','me','mymother',null,'myspouse')"
   ]
  },
  {
   "cell_type": "code",
   "execution_count": 18,
   "metadata": {
    "scrolled": true
   },
   "outputs": [
    {
     "name": "stdout",
     "output_type": "stream",
     "text": [
      " * sqlite:///db_univ7.db\n",
      "Done.\n"
     ]
    },
    {
     "data": {
      "text/html": [
       "<table>\n",
       "    <tr>\n",
       "        <th>ID</th>\n",
       "        <th>name</th>\n",
       "        <th>mother</th>\n",
       "        <th>father</th>\n",
       "        <th>spouse</th>\n",
       "    </tr>\n",
       "    <tr>\n",
       "        <td>11111</td>\n",
       "        <td>me</td>\n",
       "        <td>mymother</td>\n",
       "        <td>None</td>\n",
       "        <td>myspouse</td>\n",
       "    </tr>\n",
       "</table>"
      ],
      "text/plain": [
       "[('11111', 'me', 'mymother', None, 'myspouse')]"
      ]
     },
     "execution_count": 18,
     "metadata": {},
     "output_type": "execute_result"
    }
   ],
   "source": [
    "%sql select * from person"
   ]
  },
  {
   "cell_type": "code",
   "execution_count": 19,
   "metadata": {},
   "outputs": [
    {
     "name": "stdout",
     "output_type": "stream",
     "text": [
      " * sqlite:///db_univ7.db\n",
      "(sqlite3.OperationalError) subqueries prohibited in CHECK constraints\n",
      "[SQL: create table section2 (course_id\t\tvarchar(8), \n",
      "         sec_id\t\t\tvarchar(8),\n",
      "\t semester\t\tvarchar(6)\n",
      "\t\tcheck (semester in ('Fall', 'Winter', 'Spring', 'Summer')), \n",
      "\t year\t\t\tnumeric(4,0) check (year > 1701 and year < 2100), \n",
      "\t building\t\tvarchar(15),\n",
      "\t room_number\t\tvarchar(7),\n",
      "\t time_slot_id\t\tvarchar(4) check (time_slot_id  in (select time_slot_id from time_slot)),\n",
      "\t primary key (course_id, sec_id, semester, year),\n",
      "\t foreign key (course_id) references course (course_id)\n",
      "\t\ton delete cascade,\n",
      "\t foreign key (building, room_number) references classroom (building, room_number)\n",
      "\t\ton delete set null\n",
      "\t);]\n",
      "(Background on this error at: http://sqlalche.me/e/13/e3q8)\n"
     ]
    }
   ],
   "source": [
    "%%sql create table section2\n",
    "\t(course_id\t\tvarchar(8), \n",
    "         sec_id\t\t\tvarchar(8),\n",
    "\t semester\t\tvarchar(6)\n",
    "\t\tcheck (semester in ('Fall', 'Winter', 'Spring', 'Summer')), \n",
    "\t year\t\t\tnumeric(4,0) check (year > 1701 and year < 2100), \n",
    "\t building\t\tvarchar(15),\n",
    "\t room_number\t\tvarchar(7),\n",
    "\t time_slot_id\t\tvarchar(4) check (time_slot_id  in (select time_slot_id from time_slot)),\n",
    "\t primary key (course_id, sec_id, semester, year),\n",
    "\t foreign key (course_id) references course (course_id)\n",
    "\t\ton delete cascade,\n",
    "\t foreign key (building, room_number) references classroom (building, room_number)\n",
    "\t\ton delete set null\n",
    "\t);"
   ]
  },
  {
   "cell_type": "code",
   "execution_count": 20,
   "metadata": {},
   "outputs": [
    {
     "name": "stdout",
     "output_type": "stream",
     "text": [
      " * sqlite:///db_univ7.db\n",
      "Done.\n"
     ]
    },
    {
     "data": {
      "text/plain": [
       "[]"
      ]
     },
     "execution_count": 20,
     "metadata": {},
     "output_type": "execute_result"
    }
   ],
   "source": [
    "%%sql create table section2\n",
    "\t(course_id\t\tvarchar(8), \n",
    "         sec_id\t\t\tvarchar(8),\n",
    "\t semester\t\tvarchar(6)\n",
    "\t\tcheck (semester in ('Fall', 'Winter', 'Spring', 'Summer')), \n",
    "\t year\t\t\tnumeric(4,0) check (year > 1701 and year < 2100), \n",
    "\t building\t\tvarchar(15),\n",
    "\t room_number\t\tvarchar(7),\n",
    "\t time_slot_id\t\tvarchar(4),\n",
    "\t primary key (course_id, sec_id, semester, year),\n",
    "\t foreign key (course_id) references course (course_id)\n",
    "\t\ton delete cascade,\n",
    "\t foreign key (building, room_number) references classroom (building, room_number)\n",
    "\t\ton delete set null\n",
    "\t);"
   ]
  },
  {
   "cell_type": "code",
   "execution_count": 21,
   "metadata": {},
   "outputs": [
    {
     "name": "stdout",
     "output_type": "stream",
     "text": [
      " * sqlite:///db_univ7.db\n",
      "(sqlite3.OperationalError) near \"type\": syntax error\n",
      "[SQL: create type Dollars as numeric (12,2) final;]\n",
      "(Background on this error at: http://sqlalche.me/e/13/e3q8)\n"
     ]
    }
   ],
   "source": [
    "%sql create type Dollars as numeric (12,2) final;"
   ]
  },
  {
   "cell_type": "code",
   "execution_count": 22,
   "metadata": {},
   "outputs": [
    {
     "name": "stdout",
     "output_type": "stream",
     "text": [
      " * sqlite:///db_univ7.db\n",
      "(sqlite3.OperationalError) near \"domain\": syntax error\n",
      "[SQL: create domain person_name char(20) not null;]\n",
      "(Background on this error at: http://sqlalche.me/e/13/e3q8)\n"
     ]
    }
   ],
   "source": [
    "%sql create domain person_name char(20) not null;"
   ]
  },
  {
   "cell_type": "code",
   "execution_count": 23,
   "metadata": {},
   "outputs": [
    {
     "name": "stdout",
     "output_type": "stream",
     "text": [
      " * sqlite:///db_univ7.db\n",
      "Done.\n"
     ]
    },
    {
     "data": {
      "text/html": [
       "<table>\n",
       "    <tr>\n",
       "        <th>type</th>\n",
       "        <th>name</th>\n",
       "        <th>tbl_name</th>\n",
       "        <th>rootpage</th>\n",
       "        <th>sql</th>\n",
       "    </tr>\n",
       "    <tr>\n",
       "        <td>table</td>\n",
       "        <td>classroom</td>\n",
       "        <td>classroom</td>\n",
       "        <td>2</td>\n",
       "        <td>CREATE TABLE classroom<br>\t(building\t\tvarchar(15),<br>\t room_number\t\tvarchar(7),<br>\t capacity\t\tnumeric(4,0),<br>\t primary key (building, room_number)<br>\t)</td>\n",
       "    </tr>\n",
       "    <tr>\n",
       "        <td>index</td>\n",
       "        <td>sqlite_autoindex_classroom_1</td>\n",
       "        <td>classroom</td>\n",
       "        <td>3</td>\n",
       "        <td>None</td>\n",
       "    </tr>\n",
       "    <tr>\n",
       "        <td>table</td>\n",
       "        <td>department</td>\n",
       "        <td>department</td>\n",
       "        <td>4</td>\n",
       "        <td>CREATE TABLE department<br>\t(dept_name\t\tvarchar(20), <br>\t building\t\tvarchar(15), <br>\t budget\t\t        numeric(12,2) check (budget &gt; 0),<br>\t primary key (dept_name)<br>\t)</td>\n",
       "    </tr>\n",
       "    <tr>\n",
       "        <td>index</td>\n",
       "        <td>sqlite_autoindex_department_1</td>\n",
       "        <td>department</td>\n",
       "        <td>5</td>\n",
       "        <td>None</td>\n",
       "    </tr>\n",
       "    <tr>\n",
       "        <td>table</td>\n",
       "        <td>course</td>\n",
       "        <td>course</td>\n",
       "        <td>6</td>\n",
       "        <td>CREATE TABLE course<br>\t(course_id\t\tvarchar(8), <br>\t title\t\t\tvarchar(50), <br>\t dept_name\t\tvarchar(20),<br>\t credits\t\tnumeric(2,0) check (credits &gt; 0),<br>\t primary key (course_id),<br>\t foreign key (dept_name) references department (dept_name)<br>\t\ton delete set null<br>\t)</td>\n",
       "    </tr>\n",
       "    <tr>\n",
       "        <td>index</td>\n",
       "        <td>sqlite_autoindex_course_1</td>\n",
       "        <td>course</td>\n",
       "        <td>7</td>\n",
       "        <td>None</td>\n",
       "    </tr>\n",
       "    <tr>\n",
       "        <td>table</td>\n",
       "        <td>instructor</td>\n",
       "        <td>instructor</td>\n",
       "        <td>8</td>\n",
       "        <td>CREATE TABLE instructor<br>\t(ID\t\t\tvarchar(5), <br>\t name\t\t\tvarchar(20) not null, <br>\t dept_name\t\tvarchar(20), <br>\t salary\t\t\tnumeric(8,2) check (salary &gt; 29000),<br>\t primary key (ID),<br>\t foreign key (dept_name) references department (dept_name)<br>\t\ton delete set null<br>\t)</td>\n",
       "    </tr>\n",
       "    <tr>\n",
       "        <td>index</td>\n",
       "        <td>sqlite_autoindex_instructor_1</td>\n",
       "        <td>instructor</td>\n",
       "        <td>9</td>\n",
       "        <td>None</td>\n",
       "    </tr>\n",
       "    <tr>\n",
       "        <td>table</td>\n",
       "        <td>section</td>\n",
       "        <td>section</td>\n",
       "        <td>10</td>\n",
       "        <td>CREATE TABLE section<br>\t(course_id\t\tvarchar(8), <br>         sec_id\t\t\tvarchar(8),<br>\t semester\t\tvarchar(6)<br>\t\tcheck (semester in (&#x27;Fall&#x27;, &#x27;Winter&#x27;, &#x27;Spring&#x27;, &#x27;Summer&#x27;)), <br>\t year\t\t\tnumeric(4,0) check (year &gt; 1701 and year &lt; 2100), <br>\t building\t\tvarchar(15),<br>\t room_number\t\tvarchar(7),<br>\t time_slot_id\t\tvarchar(4),<br>\t primary key (course_id, sec_id, semester, year),<br>\t foreign key (course_id) references course (course_id)<br>\t\ton delete cascade,<br>\t foreign key (building, room_number) references classroom (building, room_number)<br>\t\ton delete set null<br>\t)</td>\n",
       "    </tr>\n",
       "    <tr>\n",
       "        <td>index</td>\n",
       "        <td>sqlite_autoindex_section_1</td>\n",
       "        <td>section</td>\n",
       "        <td>11</td>\n",
       "        <td>None</td>\n",
       "    </tr>\n",
       "    <tr>\n",
       "        <td>table</td>\n",
       "        <td>teaches</td>\n",
       "        <td>teaches</td>\n",
       "        <td>12</td>\n",
       "        <td>CREATE TABLE teaches<br>\t(ID\t\t\tvarchar(5), <br>\t course_id\t\tvarchar(8),<br>\t sec_id\t\t\tvarchar(8), <br>\t semester\t\tvarchar(6),<br>\t year\t\t\tnumeric(4,0),<br>\t primary key (ID, course_id, sec_id, semester, year),<br>\t foreign key (course_id, sec_id, semester, year) references section (course_id, sec_id, semester, year)<br>\t\ton delete cascade,<br>\t foreign key (ID) references instructor (ID)<br>\t\ton delete cascade<br>\t)</td>\n",
       "    </tr>\n",
       "    <tr>\n",
       "        <td>index</td>\n",
       "        <td>sqlite_autoindex_teaches_1</td>\n",
       "        <td>teaches</td>\n",
       "        <td>13</td>\n",
       "        <td>None</td>\n",
       "    </tr>\n",
       "    <tr>\n",
       "        <td>table</td>\n",
       "        <td>student</td>\n",
       "        <td>student</td>\n",
       "        <td>14</td>\n",
       "        <td>CREATE TABLE student<br>\t(ID\t\t\tvarchar(5), <br>\t name\t\t\tvarchar(20) not null, <br>\t dept_name\t\tvarchar(20), <br>\t tot_cred\t\tnumeric(3,0) check (tot_cred &gt;= 0),<br>\t primary key (ID),<br>\t foreign key (dept_name) references department (dept_name)<br>\t\ton delete set null<br>\t)</td>\n",
       "    </tr>\n",
       "    <tr>\n",
       "        <td>index</td>\n",
       "        <td>sqlite_autoindex_student_1</td>\n",
       "        <td>student</td>\n",
       "        <td>15</td>\n",
       "        <td>None</td>\n",
       "    </tr>\n",
       "    <tr>\n",
       "        <td>table</td>\n",
       "        <td>takes</td>\n",
       "        <td>takes</td>\n",
       "        <td>16</td>\n",
       "        <td>CREATE TABLE takes<br>\t(ID\t\t\tvarchar(5), <br>\t course_id\t\tvarchar(8),<br>\t sec_id\t\t\tvarchar(8), <br>\t semester\t\tvarchar(6),<br>\t year\t\t\tnumeric(4,0),<br>\t grade\t\t        varchar(2),<br>\t primary key (ID, course_id, sec_id, semester, year),<br>\t foreign key (course_id, sec_id, semester, year) references section (course_id, sec_id, semester, year)<br>\t\ton delete cascade,<br>\t foreign key (ID) references student (ID)<br>\t\ton delete cascade<br>\t)</td>\n",
       "    </tr>\n",
       "    <tr>\n",
       "        <td>index</td>\n",
       "        <td>sqlite_autoindex_takes_1</td>\n",
       "        <td>takes</td>\n",
       "        <td>17</td>\n",
       "        <td>None</td>\n",
       "    </tr>\n",
       "    <tr>\n",
       "        <td>table</td>\n",
       "        <td>advisor</td>\n",
       "        <td>advisor</td>\n",
       "        <td>18</td>\n",
       "        <td>CREATE TABLE advisor<br>\t(s_ID\t\t\tvarchar(5),<br>\t i_ID\t\t\tvarchar(5),<br>\t primary key (s_ID),<br>\t foreign key (i_ID) references instructor (ID)<br>\t\ton delete set null,<br>\t foreign key (s_ID) references student (ID)<br>\t\ton delete cascade<br>\t)</td>\n",
       "    </tr>\n",
       "    <tr>\n",
       "        <td>index</td>\n",
       "        <td>sqlite_autoindex_advisor_1</td>\n",
       "        <td>advisor</td>\n",
       "        <td>19</td>\n",
       "        <td>None</td>\n",
       "    </tr>\n",
       "    <tr>\n",
       "        <td>table</td>\n",
       "        <td>time_slot</td>\n",
       "        <td>time_slot</td>\n",
       "        <td>20</td>\n",
       "        <td>CREATE TABLE time_slot<br>\t(time_slot_id\t\tvarchar(4),<br>\t day\t\t\tvarchar(1),<br>\t start_hr\t\tnumeric(2) check (start_hr &gt;= 0 and start_hr &lt; 24),<br>\t start_min\t\tnumeric(2) check (start_min &gt;= 0 and start_min &lt; 60),<br>\t end_hr\t\t\tnumeric(2) check (end_hr &gt;= 0 and end_hr &lt; 24),<br>\t end_min\t\tnumeric(2) check (end_min &gt;= 0 and end_min &lt; 60),<br>\t primary key (time_slot_id, day, start_hr, start_min)<br>\t)</td>\n",
       "    </tr>\n",
       "    <tr>\n",
       "        <td>index</td>\n",
       "        <td>sqlite_autoindex_time_slot_1</td>\n",
       "        <td>time_slot</td>\n",
       "        <td>21</td>\n",
       "        <td>None</td>\n",
       "    </tr>\n",
       "    <tr>\n",
       "        <td>table</td>\n",
       "        <td>prereq</td>\n",
       "        <td>prereq</td>\n",
       "        <td>22</td>\n",
       "        <td>CREATE TABLE prereq<br>\t(course_id\t\tvarchar(8), <br>\t prereq_id\t\tvarchar(8),<br>\t primary key (course_id, prereq_id),<br>\t foreign key (course_id) references course (course_id)<br>\t\ton delete cascade,<br>\t foreign key (prereq_id) references course (course_id)<br>\t)</td>\n",
       "    </tr>\n",
       "    <tr>\n",
       "        <td>index</td>\n",
       "        <td>sqlite_autoindex_prereq_1</td>\n",
       "        <td>prereq</td>\n",
       "        <td>23</td>\n",
       "        <td>None</td>\n",
       "    </tr>\n",
       "    <tr>\n",
       "        <td>table</td>\n",
       "        <td>person</td>\n",
       "        <td>person</td>\n",
       "        <td>26</td>\n",
       "        <td>CREATE TABLE person (ID  char(10) primary key, name char(40), mother char(10), father char(10),spouse  char(10),<br>                    foreign key (father) references person)</td>\n",
       "    </tr>\n",
       "    <tr>\n",
       "        <td>index</td>\n",
       "        <td>sqlite_autoindex_person_1</td>\n",
       "        <td>person</td>\n",
       "        <td>27</td>\n",
       "        <td>None</td>\n",
       "    </tr>\n",
       "    <tr>\n",
       "        <td>table</td>\n",
       "        <td>section2</td>\n",
       "        <td>section2</td>\n",
       "        <td>28</td>\n",
       "        <td>CREATE TABLE section2 (course_id\t\tvarchar(8), <br>         sec_id\t\t\tvarchar(8),<br>\t semester\t\tvarchar(6)<br>\t\tcheck (semester in (&#x27;Fall&#x27;, &#x27;Winter&#x27;, &#x27;Spring&#x27;, &#x27;Summer&#x27;)), <br>\t year\t\t\tnumeric(4,0) check (year &gt; 1701 and year &lt; 2100), <br>\t building\t\tvarchar(15),<br>\t room_number\t\tvarchar(7),<br>\t time_slot_id\t\tvarchar(4),<br>\t primary key (course_id, sec_id, semester, year),<br>\t foreign key (course_id) references course (course_id)<br>\t\ton delete cascade,<br>\t foreign key (building, room_number) references classroom (building, room_number)<br>\t\ton delete set null<br>\t)</td>\n",
       "    </tr>\n",
       "    <tr>\n",
       "        <td>index</td>\n",
       "        <td>sqlite_autoindex_section2_1</td>\n",
       "        <td>section2</td>\n",
       "        <td>29</td>\n",
       "        <td>None</td>\n",
       "    </tr>\n",
       "</table>"
      ],
      "text/plain": [
       "[('table', 'classroom', 'classroom', 2, 'CREATE TABLE classroom\\n\\t(building\\t\\tvarchar(15),\\n\\t room_number\\t\\tvarchar(7),\\n\\t capacity\\t\\tnumeric(4,0),\\n\\t primary key (building, room_number)\\n\\t)'),\n",
       " ('index', 'sqlite_autoindex_classroom_1', 'classroom', 3, None),\n",
       " ('table', 'department', 'department', 4, 'CREATE TABLE department\\n\\t(dept_name\\t\\tvarchar(20), \\n\\t building\\t\\tvarchar(15), \\n\\t budget\\t\\t        numeric(12,2) check (budget > 0),\\n\\t primary key (dept_name)\\n\\t)'),\n",
       " ('index', 'sqlite_autoindex_department_1', 'department', 5, None),\n",
       " ('table', 'course', 'course', 6, 'CREATE TABLE course\\n\\t(course_id\\t\\tvarchar(8), \\n\\t title\\t\\t\\tvarchar(50), \\n\\t dept_name\\t\\tvarchar(20),\\n\\t credits\\t\\tnumeric(2,0) check (credits > 0),\\n\\t primary key (course_id),\\n\\t foreign key (dept_name) references department (dept_name)\\n\\t\\ton delete set null\\n\\t)'),\n",
       " ('index', 'sqlite_autoindex_course_1', 'course', 7, None),\n",
       " ('table', 'instructor', 'instructor', 8, 'CREATE TABLE instructor\\n\\t(ID\\t\\t\\tvarchar(5), \\n\\t name\\t\\t\\tvarchar(20) not null, \\n\\t dept_name\\t\\tvarchar(20), \\n\\t salary\\t\\t\\tnumeric(8,2) check (salary > 29000),\\n\\t primary key (ID),\\n\\t foreign key (dept_name) references department (dept_name)\\n\\t\\ton delete set null\\n\\t)'),\n",
       " ('index', 'sqlite_autoindex_instructor_1', 'instructor', 9, None),\n",
       " ('table', 'section', 'section', 10, \"CREATE TABLE section\\n\\t(course_id\\t\\tvarchar(8), \\n         sec_id\\t\\t\\tvarchar(8),\\n\\t semester\\t\\tvarchar(6)\\n\\t\\tcheck (semester in ('Fall', 'Win ... (285 characters truncated) ... (course_id)\\n\\t\\ton delete cascade,\\n\\t foreign key (building, room_number) references classroom (building, room_number)\\n\\t\\ton delete set null\\n\\t)\"),\n",
       " ('index', 'sqlite_autoindex_section_1', 'section', 11, None),\n",
       " ('table', 'teaches', 'teaches', 12, 'CREATE TABLE teaches\\n\\t(ID\\t\\t\\tvarchar(5), \\n\\t course_id\\t\\tvarchar(8),\\n\\t sec_id\\t\\t\\tvarchar(8), \\n\\t semester\\t\\tvarchar(6),\\n\\t year\\t\\t\\tnum ... (125 characters truncated) ... ences section (course_id, sec_id, semester, year)\\n\\t\\ton delete cascade,\\n\\t foreign key (ID) references instructor (ID)\\n\\t\\ton delete cascade\\n\\t)'),\n",
       " ('index', 'sqlite_autoindex_teaches_1', 'teaches', 13, None),\n",
       " ('table', 'student', 'student', 14, 'CREATE TABLE student\\n\\t(ID\\t\\t\\tvarchar(5), \\n\\t name\\t\\t\\tvarchar(20) not null, \\n\\t dept_name\\t\\tvarchar(20), \\n\\t tot_cred\\t\\tnumeric(3,0) check (tot_cred >= 0),\\n\\t primary key (ID),\\n\\t foreign key (dept_name) references department (dept_name)\\n\\t\\ton delete set null\\n\\t)'),\n",
       " ('index', 'sqlite_autoindex_student_1', 'student', 15, None),\n",
       " ('table', 'takes', 'takes', 16, 'CREATE TABLE takes\\n\\t(ID\\t\\t\\tvarchar(5), \\n\\t course_id\\t\\tvarchar(8),\\n\\t sec_id\\t\\t\\tvarchar(8), \\n\\t semester\\t\\tvarchar(6),\\n\\t year\\t\\t\\tnumer ... (153 characters truncated) ... ferences section (course_id, sec_id, semester, year)\\n\\t\\ton delete cascade,\\n\\t foreign key (ID) references student (ID)\\n\\t\\ton delete cascade\\n\\t)'),\n",
       " ('index', 'sqlite_autoindex_takes_1', 'takes', 17, None),\n",
       " ('table', 'advisor', 'advisor', 18, 'CREATE TABLE advisor\\n\\t(s_ID\\t\\t\\tvarchar(5),\\n\\t i_ID\\t\\t\\tvarchar(5),\\n\\t primary key (s_ID),\\n\\t foreign key (i_ID) references instructor (ID)\\n\\t\\ton delete set null,\\n\\t foreign key (s_ID) references student (ID)\\n\\t\\ton delete cascade\\n\\t)'),\n",
       " ('index', 'sqlite_autoindex_advisor_1', 'advisor', 19, None),\n",
       " ('table', 'time_slot', 'time_slot', 20, 'CREATE TABLE time_slot\\n\\t(time_slot_id\\t\\tvarchar(4),\\n\\t day\\t\\t\\tvarchar(1),\\n\\t start_hr\\t\\tnumeric(2) check (start_hr >= 0 and start_hr < 24),\\n ... (111 characters truncated) ... >= 0 and end_hr < 24),\\n\\t end_min\\t\\tnumeric(2) check (end_min >= 0 and end_min < 60),\\n\\t primary key (time_slot_id, day, start_hr, start_min)\\n\\t)'),\n",
       " ('index', 'sqlite_autoindex_time_slot_1', 'time_slot', 21, None),\n",
       " ('table', 'prereq', 'prereq', 22, 'CREATE TABLE prereq\\n\\t(course_id\\t\\tvarchar(8), \\n\\t prereq_id\\t\\tvarchar(8),\\n\\t primary key (course_id, prereq_id),\\n\\t foreign key (course_id) references course (course_id)\\n\\t\\ton delete cascade,\\n\\t foreign key (prereq_id) references course (course_id)\\n\\t)'),\n",
       " ('index', 'sqlite_autoindex_prereq_1', 'prereq', 23, None),\n",
       " ('table', 'person', 'person', 26, 'CREATE TABLE person (ID  char(10) primary key, name char(40), mother char(10), father char(10),spouse  char(10),\\n                    foreign key (father) references person)'),\n",
       " ('index', 'sqlite_autoindex_person_1', 'person', 27, None),\n",
       " ('table', 'section2', 'section2', 28, \"CREATE TABLE section2 (course_id\\t\\tvarchar(8), \\n         sec_id\\t\\t\\tvarchar(8),\\n\\t semester\\t\\tvarchar(6)\\n\\t\\tcheck (semester in ('Fall', 'Winte ... (283 characters truncated) ... (course_id)\\n\\t\\ton delete cascade,\\n\\t foreign key (building, room_number) references classroom (building, room_number)\\n\\t\\ton delete set null\\n\\t)\"),\n",
       " ('index', 'sqlite_autoindex_section2_1', 'section2', 29, None)]"
      ]
     },
     "execution_count": 23,
     "metadata": {},
     "output_type": "execute_result"
    }
   ],
   "source": [
    "%sql select * from sqlite_master;"
   ]
  },
  {
   "cell_type": "code",
   "execution_count": 24,
   "metadata": {},
   "outputs": [
    {
     "name": "stdout",
     "output_type": "stream",
     "text": [
      " * sqlite:///db_univ7.db\n",
      "Done.\n"
     ]
    },
    {
     "data": {
      "text/html": [
       "<table>\n",
       "    <tr>\n",
       "        <th>seq</th>\n",
       "        <th>name</th>\n",
       "        <th>unique</th>\n",
       "        <th>origin</th>\n",
       "        <th>partial</th>\n",
       "    </tr>\n",
       "    <tr>\n",
       "        <td>0</td>\n",
       "        <td>sqlite_autoindex_instructor_1</td>\n",
       "        <td>1</td>\n",
       "        <td>pk</td>\n",
       "        <td>0</td>\n",
       "    </tr>\n",
       "</table>"
      ],
      "text/plain": [
       "[(0, 'sqlite_autoindex_instructor_1', 1, 'pk', 0)]"
      ]
     },
     "execution_count": 24,
     "metadata": {},
     "output_type": "execute_result"
    }
   ],
   "source": [
    "%sql pragma index_list(instructor)"
   ]
  },
  {
   "cell_type": "code",
   "execution_count": 25,
   "metadata": {},
   "outputs": [
    {
     "name": "stdout",
     "output_type": "stream",
     "text": [
      " * sqlite:///db_univ7.db\n",
      "Done.\n"
     ]
    },
    {
     "data": {
      "text/html": [
       "<table>\n",
       "    <tr>\n",
       "        <th>seqno</th>\n",
       "        <th>cid</th>\n",
       "        <th>name</th>\n",
       "    </tr>\n",
       "    <tr>\n",
       "        <td>0</td>\n",
       "        <td>0</td>\n",
       "        <td>ID</td>\n",
       "    </tr>\n",
       "</table>"
      ],
      "text/plain": [
       "[(0, 0, 'ID')]"
      ]
     },
     "execution_count": 25,
     "metadata": {},
     "output_type": "execute_result"
    }
   ],
   "source": [
    "%sql pragma index_info('sqlite_autoindex_instructor_1')"
   ]
  },
  {
   "cell_type": "code",
   "execution_count": 26,
   "metadata": {},
   "outputs": [
    {
     "name": "stdout",
     "output_type": "stream",
     "text": [
      " * sqlite:///db_univ7.db\n",
      "Done.\n"
     ]
    },
    {
     "data": {
      "text/plain": [
       "[]"
      ]
     },
     "execution_count": 26,
     "metadata": {},
     "output_type": "execute_result"
    }
   ],
   "source": [
    "%sql create index instructorName_index on instructor (name)"
   ]
  },
  {
   "cell_type": "code",
   "execution_count": 27,
   "metadata": {},
   "outputs": [
    {
     "name": "stdout",
     "output_type": "stream",
     "text": [
      " * sqlite:///db_univ7.db\n",
      "Done.\n"
     ]
    },
    {
     "data": {
      "text/html": [
       "<table>\n",
       "    <tr>\n",
       "        <th>seq</th>\n",
       "        <th>name</th>\n",
       "        <th>unique</th>\n",
       "        <th>origin</th>\n",
       "        <th>partial</th>\n",
       "    </tr>\n",
       "    <tr>\n",
       "        <td>0</td>\n",
       "        <td>instructorName_index</td>\n",
       "        <td>0</td>\n",
       "        <td>c</td>\n",
       "        <td>0</td>\n",
       "    </tr>\n",
       "    <tr>\n",
       "        <td>1</td>\n",
       "        <td>sqlite_autoindex_instructor_1</td>\n",
       "        <td>1</td>\n",
       "        <td>pk</td>\n",
       "        <td>0</td>\n",
       "    </tr>\n",
       "</table>"
      ],
      "text/plain": [
       "[(0, 'instructorName_index', 0, 'c', 0),\n",
       " (1, 'sqlite_autoindex_instructor_1', 1, 'pk', 0)]"
      ]
     },
     "execution_count": 27,
     "metadata": {},
     "output_type": "execute_result"
    }
   ],
   "source": [
    "%sql pragma index_list(instructor)"
   ]
  },
  {
   "cell_type": "code",
   "execution_count": 28,
   "metadata": {},
   "outputs": [
    {
     "name": "stdout",
     "output_type": "stream",
     "text": [
      " * sqlite:///db_univ7.db\n",
      "Done.\n"
     ]
    },
    {
     "data": {
      "text/plain": [
       "[]"
      ]
     },
     "execution_count": 28,
     "metadata": {},
     "output_type": "execute_result"
    }
   ],
   "source": [
    "%sql drop index instructorName_index"
   ]
  },
  {
   "cell_type": "code",
   "execution_count": null,
   "metadata": {},
   "outputs": [],
   "source": []
  }
 ],
 "metadata": {
  "kernelspec": {
   "display_name": "Python 3",
   "language": "python",
   "name": "python3"
  },
  "language_info": {
   "codemirror_mode": {
    "name": "ipython",
    "version": 3
   },
   "file_extension": ".py",
   "mimetype": "text/x-python",
   "name": "python",
   "nbconvert_exporter": "python",
   "pygments_lexer": "ipython3",
   "version": "3.8.3"
  }
 },
 "nbformat": 4,
 "nbformat_minor": 2
}
