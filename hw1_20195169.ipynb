{
 "cells": [
  {
   "cell_type": "code",
   "execution_count": 1,
   "id": "comic-external",
   "metadata": {},
   "outputs": [],
   "source": [
    "%load_ext sql\n",
    "import sql"
   ]
  },
  {
   "cell_type": "code",
   "execution_count": 6,
   "id": "following-evans",
   "metadata": {},
   "outputs": [],
   "source": [
    "%sql sqlite:///db_univ7.db"
   ]
  },
  {
   "cell_type": "code",
   "execution_count": 8,
   "metadata": {},
   "outputs": [
    {
     "output_type": "stream",
     "name": "stdout",
     "text": [
      " * sqlite:///db_univ7.db\nDone.\n"
     ]
    },
    {
     "output_type": "execute_result",
     "data": {
      "text/plain": [
       "[('table', 'classroom', 'classroom', 2, 'CREATE TABLE classroom\\n\\t(building\\t\\tvarchar(15),\\n\\t room_number\\t\\tvarchar(7),\\n\\t capacity\\t\\tnumeric(4,0),\\n\\t primary key (building, room_number)\\n\\t)'),\n",
       " ('index', 'sqlite_autoindex_classroom_1', 'classroom', 3, None),\n",
       " ('table', 'department', 'department', 4, 'CREATE TABLE department\\n\\t(dept_name\\t\\tvarchar(20), \\n\\t building\\t\\tvarchar(15), \\n\\t budget\\t\\t        numeric(12,2) check (budget > 0),\\n\\t primary key (dept_name)\\n\\t)'),\n",
       " ('index', 'sqlite_autoindex_department_1', 'department', 5, None),\n",
       " ('table', 'course', 'course', 6, 'CREATE TABLE course\\n\\t(course_id\\t\\tvarchar(8), \\n\\t title\\t\\t\\tvarchar(50), \\n\\t dept_name\\t\\tvarchar(20),\\n\\t credits\\t\\tnumeric(2,0) check (credits > 0),\\n\\t primary key (course_id),\\n\\t foreign key (dept_name) references department (dept_name)\\n\\t\\ton delete set null\\n\\t)'),\n",
       " ('index', 'sqlite_autoindex_course_1', 'course', 7, None),\n",
       " ('table', 'instructor', 'instructor', 8, 'CREATE TABLE instructor\\n\\t(ID\\t\\t\\tvarchar(5), \\n\\t name\\t\\t\\tvarchar(20) not null, \\n\\t dept_name\\t\\tvarchar(20), \\n\\t salary\\t\\t\\tnumeric(8,2) check (salary > 29000),\\n\\t primary key (ID),\\n\\t foreign key (dept_name) references department (dept_name)\\n\\t\\ton delete set null\\n\\t)'),\n",
       " ('index', 'sqlite_autoindex_instructor_1', 'instructor', 9, None),\n",
       " ('table', 'section', 'section', 10, \"CREATE TABLE section\\n\\t(course_id\\t\\tvarchar(8), \\n         sec_id\\t\\t\\tvarchar(8),\\n\\t semester\\t\\tvarchar(6)\\n\\t\\tcheck (semester in ('Fall', 'Win ... (285 characters truncated) ... (course_id)\\n\\t\\ton delete cascade,\\n\\t foreign key (building, room_number) references classroom (building, room_number)\\n\\t\\ton delete set null\\n\\t)\"),\n",
       " ('index', 'sqlite_autoindex_section_1', 'section', 11, None),\n",
       " ('table', 'teaches', 'teaches', 12, 'CREATE TABLE teaches\\n\\t(ID\\t\\t\\tvarchar(5), \\n\\t course_id\\t\\tvarchar(8),\\n\\t sec_id\\t\\t\\tvarchar(8), \\n\\t semester\\t\\tvarchar(6),\\n\\t year\\t\\t\\tnum ... (125 characters truncated) ... ences section (course_id, sec_id, semester, year)\\n\\t\\ton delete cascade,\\n\\t foreign key (ID) references instructor (ID)\\n\\t\\ton delete cascade\\n\\t)'),\n",
       " ('index', 'sqlite_autoindex_teaches_1', 'teaches', 13, None),\n",
       " ('table', 'student', 'student', 14, 'CREATE TABLE student\\n\\t(ID\\t\\t\\tvarchar(5), \\n\\t name\\t\\t\\tvarchar(20) not null, \\n\\t dept_name\\t\\tvarchar(20), \\n\\t tot_cred\\t\\tnumeric(3,0) check (tot_cred >= 0),\\n\\t primary key (ID),\\n\\t foreign key (dept_name) references department (dept_name)\\n\\t\\ton delete set null\\n\\t)'),\n",
       " ('index', 'sqlite_autoindex_student_1', 'student', 15, None),\n",
       " ('table', 'takes', 'takes', 16, 'CREATE TABLE takes\\n\\t(ID\\t\\t\\tvarchar(5), \\n\\t course_id\\t\\tvarchar(8),\\n\\t sec_id\\t\\t\\tvarchar(8), \\n\\t semester\\t\\tvarchar(6),\\n\\t year\\t\\t\\tnumer ... (153 characters truncated) ... ferences section (course_id, sec_id, semester, year)\\n\\t\\ton delete cascade,\\n\\t foreign key (ID) references student (ID)\\n\\t\\ton delete cascade\\n\\t)'),\n",
       " ('index', 'sqlite_autoindex_takes_1', 'takes', 17, None),\n",
       " ('table', 'advisor', 'advisor', 18, 'CREATE TABLE advisor\\n\\t(s_ID\\t\\t\\tvarchar(5),\\n\\t i_ID\\t\\t\\tvarchar(5),\\n\\t primary key (s_ID),\\n\\t foreign key (i_ID) references instructor (ID)\\n\\t\\ton delete set null,\\n\\t foreign key (s_ID) references student (ID)\\n\\t\\ton delete cascade\\n\\t)'),\n",
       " ('index', 'sqlite_autoindex_advisor_1', 'advisor', 19, None),\n",
       " ('table', 'time_slot', 'time_slot', 20, 'CREATE TABLE time_slot\\n\\t(time_slot_id\\t\\tvarchar(4),\\n\\t day\\t\\t\\tvarchar(1),\\n\\t start_hr\\t\\tnumeric(2) check (start_hr >= 0 and start_hr < 24),\\n ... (111 characters truncated) ... >= 0 and end_hr < 24),\\n\\t end_min\\t\\tnumeric(2) check (end_min >= 0 and end_min < 60),\\n\\t primary key (time_slot_id, day, start_hr, start_min)\\n\\t)'),\n",
       " ('index', 'sqlite_autoindex_time_slot_1', 'time_slot', 21, None),\n",
       " ('table', 'prereq', 'prereq', 22, 'CREATE TABLE prereq\\n\\t(course_id\\t\\tvarchar(8), \\n\\t prereq_id\\t\\tvarchar(8),\\n\\t primary key (course_id, prereq_id),\\n\\t foreign key (course_id) references course (course_id)\\n\\t\\ton delete cascade,\\n\\t foreign key (prereq_id) references course (course_id)\\n\\t)'),\n",
       " ('index', 'sqlite_autoindex_prereq_1', 'prereq', 23, None)]"
      ],
      "text/html": "<table>\n    <tr>\n        <th>type</th>\n        <th>name</th>\n        <th>tbl_name</th>\n        <th>rootpage</th>\n        <th>sql</th>\n    </tr>\n    <tr>\n        <td>table</td>\n        <td>classroom</td>\n        <td>classroom</td>\n        <td>2</td>\n        <td>CREATE TABLE classroom<br>\t(building\t\tvarchar(15),<br>\t room_number\t\tvarchar(7),<br>\t capacity\t\tnumeric(4,0),<br>\t primary key (building, room_number)<br>\t)</td>\n    </tr>\n    <tr>\n        <td>index</td>\n        <td>sqlite_autoindex_classroom_1</td>\n        <td>classroom</td>\n        <td>3</td>\n        <td>None</td>\n    </tr>\n    <tr>\n        <td>table</td>\n        <td>department</td>\n        <td>department</td>\n        <td>4</td>\n        <td>CREATE TABLE department<br>\t(dept_name\t\tvarchar(20), <br>\t building\t\tvarchar(15), <br>\t budget\t\t        numeric(12,2) check (budget &gt; 0),<br>\t primary key (dept_name)<br>\t)</td>\n    </tr>\n    <tr>\n        <td>index</td>\n        <td>sqlite_autoindex_department_1</td>\n        <td>department</td>\n        <td>5</td>\n        <td>None</td>\n    </tr>\n    <tr>\n        <td>table</td>\n        <td>course</td>\n        <td>course</td>\n        <td>6</td>\n        <td>CREATE TABLE course<br>\t(course_id\t\tvarchar(8), <br>\t title\t\t\tvarchar(50), <br>\t dept_name\t\tvarchar(20),<br>\t credits\t\tnumeric(2,0) check (credits &gt; 0),<br>\t primary key (course_id),<br>\t foreign key (dept_name) references department (dept_name)<br>\t\ton delete set null<br>\t)</td>\n    </tr>\n    <tr>\n        <td>index</td>\n        <td>sqlite_autoindex_course_1</td>\n        <td>course</td>\n        <td>7</td>\n        <td>None</td>\n    </tr>\n    <tr>\n        <td>table</td>\n        <td>instructor</td>\n        <td>instructor</td>\n        <td>8</td>\n        <td>CREATE TABLE instructor<br>\t(ID\t\t\tvarchar(5), <br>\t name\t\t\tvarchar(20) not null, <br>\t dept_name\t\tvarchar(20), <br>\t salary\t\t\tnumeric(8,2) check (salary &gt; 29000),<br>\t primary key (ID),<br>\t foreign key (dept_name) references department (dept_name)<br>\t\ton delete set null<br>\t)</td>\n    </tr>\n    <tr>\n        <td>index</td>\n        <td>sqlite_autoindex_instructor_1</td>\n        <td>instructor</td>\n        <td>9</td>\n        <td>None</td>\n    </tr>\n    <tr>\n        <td>table</td>\n        <td>section</td>\n        <td>section</td>\n        <td>10</td>\n        <td>CREATE TABLE section<br>\t(course_id\t\tvarchar(8), <br>         sec_id\t\t\tvarchar(8),<br>\t semester\t\tvarchar(6)<br>\t\tcheck (semester in (&#x27;Fall&#x27;, &#x27;Winter&#x27;, &#x27;Spring&#x27;, &#x27;Summer&#x27;)), <br>\t year\t\t\tnumeric(4,0) check (year &gt; 1701 and year &lt; 2100), <br>\t building\t\tvarchar(15),<br>\t room_number\t\tvarchar(7),<br>\t time_slot_id\t\tvarchar(4),<br>\t primary key (course_id, sec_id, semester, year),<br>\t foreign key (course_id) references course (course_id)<br>\t\ton delete cascade,<br>\t foreign key (building, room_number) references classroom (building, room_number)<br>\t\ton delete set null<br>\t)</td>\n    </tr>\n    <tr>\n        <td>index</td>\n        <td>sqlite_autoindex_section_1</td>\n        <td>section</td>\n        <td>11</td>\n        <td>None</td>\n    </tr>\n    <tr>\n        <td>table</td>\n        <td>teaches</td>\n        <td>teaches</td>\n        <td>12</td>\n        <td>CREATE TABLE teaches<br>\t(ID\t\t\tvarchar(5), <br>\t course_id\t\tvarchar(8),<br>\t sec_id\t\t\tvarchar(8), <br>\t semester\t\tvarchar(6),<br>\t year\t\t\tnumeric(4,0),<br>\t primary key (ID, course_id, sec_id, semester, year),<br>\t foreign key (course_id, sec_id, semester, year) references section (course_id, sec_id, semester, year)<br>\t\ton delete cascade,<br>\t foreign key (ID) references instructor (ID)<br>\t\ton delete cascade<br>\t)</td>\n    </tr>\n    <tr>\n        <td>index</td>\n        <td>sqlite_autoindex_teaches_1</td>\n        <td>teaches</td>\n        <td>13</td>\n        <td>None</td>\n    </tr>\n    <tr>\n        <td>table</td>\n        <td>student</td>\n        <td>student</td>\n        <td>14</td>\n        <td>CREATE TABLE student<br>\t(ID\t\t\tvarchar(5), <br>\t name\t\t\tvarchar(20) not null, <br>\t dept_name\t\tvarchar(20), <br>\t tot_cred\t\tnumeric(3,0) check (tot_cred &gt;= 0),<br>\t primary key (ID),<br>\t foreign key (dept_name) references department (dept_name)<br>\t\ton delete set null<br>\t)</td>\n    </tr>\n    <tr>\n        <td>index</td>\n        <td>sqlite_autoindex_student_1</td>\n        <td>student</td>\n        <td>15</td>\n        <td>None</td>\n    </tr>\n    <tr>\n        <td>table</td>\n        <td>takes</td>\n        <td>takes</td>\n        <td>16</td>\n        <td>CREATE TABLE takes<br>\t(ID\t\t\tvarchar(5), <br>\t course_id\t\tvarchar(8),<br>\t sec_id\t\t\tvarchar(8), <br>\t semester\t\tvarchar(6),<br>\t year\t\t\tnumeric(4,0),<br>\t grade\t\t        varchar(2),<br>\t primary key (ID, course_id, sec_id, semester, year),<br>\t foreign key (course_id, sec_id, semester, year) references section (course_id, sec_id, semester, year)<br>\t\ton delete cascade,<br>\t foreign key (ID) references student (ID)<br>\t\ton delete cascade<br>\t)</td>\n    </tr>\n    <tr>\n        <td>index</td>\n        <td>sqlite_autoindex_takes_1</td>\n        <td>takes</td>\n        <td>17</td>\n        <td>None</td>\n    </tr>\n    <tr>\n        <td>table</td>\n        <td>advisor</td>\n        <td>advisor</td>\n        <td>18</td>\n        <td>CREATE TABLE advisor<br>\t(s_ID\t\t\tvarchar(5),<br>\t i_ID\t\t\tvarchar(5),<br>\t primary key (s_ID),<br>\t foreign key (i_ID) references instructor (ID)<br>\t\ton delete set null,<br>\t foreign key (s_ID) references student (ID)<br>\t\ton delete cascade<br>\t)</td>\n    </tr>\n    <tr>\n        <td>index</td>\n        <td>sqlite_autoindex_advisor_1</td>\n        <td>advisor</td>\n        <td>19</td>\n        <td>None</td>\n    </tr>\n    <tr>\n        <td>table</td>\n        <td>time_slot</td>\n        <td>time_slot</td>\n        <td>20</td>\n        <td>CREATE TABLE time_slot<br>\t(time_slot_id\t\tvarchar(4),<br>\t day\t\t\tvarchar(1),<br>\t start_hr\t\tnumeric(2) check (start_hr &gt;= 0 and start_hr &lt; 24),<br>\t start_min\t\tnumeric(2) check (start_min &gt;= 0 and start_min &lt; 60),<br>\t end_hr\t\t\tnumeric(2) check (end_hr &gt;= 0 and end_hr &lt; 24),<br>\t end_min\t\tnumeric(2) check (end_min &gt;= 0 and end_min &lt; 60),<br>\t primary key (time_slot_id, day, start_hr, start_min)<br>\t)</td>\n    </tr>\n    <tr>\n        <td>index</td>\n        <td>sqlite_autoindex_time_slot_1</td>\n        <td>time_slot</td>\n        <td>21</td>\n        <td>None</td>\n    </tr>\n    <tr>\n        <td>table</td>\n        <td>prereq</td>\n        <td>prereq</td>\n        <td>22</td>\n        <td>CREATE TABLE prereq<br>\t(course_id\t\tvarchar(8), <br>\t prereq_id\t\tvarchar(8),<br>\t primary key (course_id, prereq_id),<br>\t foreign key (course_id) references course (course_id)<br>\t\ton delete cascade,<br>\t foreign key (prereq_id) references course (course_id)<br>\t)</td>\n    </tr>\n    <tr>\n        <td>index</td>\n        <td>sqlite_autoindex_prereq_1</td>\n        <td>prereq</td>\n        <td>23</td>\n        <td>None</td>\n    </tr>\n</table>"
     },
     "metadata": {},
     "execution_count": 8
    }
   ],
   "source": [
    "%sql select * from sqlite_master"
   ]
  },
  {
   "cell_type": "code",
   "execution_count": 7,
   "metadata": {},
   "outputs": [
    {
     "output_type": "stream",
     "name": "stdout",
     "text": [
      " * sqlite:///db_univ7.db\nDone.\n"
     ]
    },
    {
     "output_type": "execute_result",
     "data": {
      "text/plain": [
       "[('BIO-101', 'Intro. to Biology', 'Biology', 4),\n",
       " ('BIO-301', 'Genetics', 'Biology', 4),\n",
       " ('BIO-399', 'Computational Biology', 'Biology', 3),\n",
       " ('CS-101', 'Intro. to Computer Science', 'Comp. Sci.', 4),\n",
       " ('CS-190', 'Game Design', 'Comp. Sci.', 4),\n",
       " ('CS-315', 'Robotics', 'Comp. Sci.', 3),\n",
       " ('CS-319', 'Image Processing', 'Comp. Sci.', 3),\n",
       " ('CS-347', 'Database System Concepts', 'Comp. Sci.', 3),\n",
       " ('EE-181', 'Intro. to Digital Systems', 'Elec. Eng.', 3),\n",
       " ('FIN-201', 'Investment Banking', 'Finance', 3),\n",
       " ('HIS-351', 'World History', 'History', 3),\n",
       " ('MU-199', 'Music Video Production', 'Music', 3),\n",
       " ('PHY-101', 'Physical Principles', 'Physics', 4)]"
      ],
      "text/html": "<table>\n    <tr>\n        <th>course_id</th>\n        <th>title</th>\n        <th>dept_name</th>\n        <th>credits</th>\n    </tr>\n    <tr>\n        <td>BIO-101</td>\n        <td>Intro. to Biology</td>\n        <td>Biology</td>\n        <td>4</td>\n    </tr>\n    <tr>\n        <td>BIO-301</td>\n        <td>Genetics</td>\n        <td>Biology</td>\n        <td>4</td>\n    </tr>\n    <tr>\n        <td>BIO-399</td>\n        <td>Computational Biology</td>\n        <td>Biology</td>\n        <td>3</td>\n    </tr>\n    <tr>\n        <td>CS-101</td>\n        <td>Intro. to Computer Science</td>\n        <td>Comp. Sci.</td>\n        <td>4</td>\n    </tr>\n    <tr>\n        <td>CS-190</td>\n        <td>Game Design</td>\n        <td>Comp. Sci.</td>\n        <td>4</td>\n    </tr>\n    <tr>\n        <td>CS-315</td>\n        <td>Robotics</td>\n        <td>Comp. Sci.</td>\n        <td>3</td>\n    </tr>\n    <tr>\n        <td>CS-319</td>\n        <td>Image Processing</td>\n        <td>Comp. Sci.</td>\n        <td>3</td>\n    </tr>\n    <tr>\n        <td>CS-347</td>\n        <td>Database System Concepts</td>\n        <td>Comp. Sci.</td>\n        <td>3</td>\n    </tr>\n    <tr>\n        <td>EE-181</td>\n        <td>Intro. to Digital Systems</td>\n        <td>Elec. Eng.</td>\n        <td>3</td>\n    </tr>\n    <tr>\n        <td>FIN-201</td>\n        <td>Investment Banking</td>\n        <td>Finance</td>\n        <td>3</td>\n    </tr>\n    <tr>\n        <td>HIS-351</td>\n        <td>World History</td>\n        <td>History</td>\n        <td>3</td>\n    </tr>\n    <tr>\n        <td>MU-199</td>\n        <td>Music Video Production</td>\n        <td>Music</td>\n        <td>3</td>\n    </tr>\n    <tr>\n        <td>PHY-101</td>\n        <td>Physical Principles</td>\n        <td>Physics</td>\n        <td>4</td>\n    </tr>\n</table>"
     },
     "metadata": {},
     "execution_count": 7
    }
   ],
   "source": [
    "%sql select * from course"
   ]
  },
  {
   "cell_type": "code",
   "execution_count": 70,
   "metadata": {},
   "outputs": [
    {
     "output_type": "stream",
     "name": "stdout",
     "text": [
      " * sqlite:///db_univ7.db\nDone.\n"
     ]
    },
    {
     "output_type": "execute_result",
     "data": {
      "text/plain": [
       "[('BIO-101', '1', 'Summer', 2017, 'Painter', '514', 'B'),\n",
       " ('BIO-301', '1', 'Summer', 2018, 'Painter', '514', 'A'),\n",
       " ('CS-101', '1', 'Fall', 2017, 'Packard', '101', 'H'),\n",
       " ('CS-101', '1', 'Spring', 2018, 'Packard', '101', 'F'),\n",
       " ('CS-190', '1', 'Spring', 2017, 'Taylor', '3128', 'E'),\n",
       " ('CS-190', '2', 'Spring', 2017, 'Taylor', '3128', 'A'),\n",
       " ('CS-315', '1', 'Spring', 2018, 'Watson', '120', 'D'),\n",
       " ('CS-319', '1', 'Spring', 2018, 'Watson', '100', 'B'),\n",
       " ('CS-319', '2', 'Spring', 2018, 'Taylor', '3128', 'C'),\n",
       " ('CS-347', '1', 'Fall', 2017, 'Taylor', '3128', 'A'),\n",
       " ('EE-181', '1', 'Spring', 2017, 'Taylor', '3128', 'C'),\n",
       " ('FIN-201', '1', 'Spring', 2018, 'Packard', '101', 'B'),\n",
       " ('HIS-351', '1', 'Spring', 2018, 'Painter', '514', 'C'),\n",
       " ('MU-199', '1', 'Spring', 2018, 'Packard', '101', 'D'),\n",
       " ('PHY-101', '1', 'Fall', 2017, 'Watson', '100', 'A')]"
      ],
      "text/html": "<table>\n    <tr>\n        <th>course_id</th>\n        <th>sec_id</th>\n        <th>semester</th>\n        <th>year</th>\n        <th>building</th>\n        <th>room_number</th>\n        <th>time_slot_id</th>\n    </tr>\n    <tr>\n        <td>BIO-101</td>\n        <td>1</td>\n        <td>Summer</td>\n        <td>2017</td>\n        <td>Painter</td>\n        <td>514</td>\n        <td>B</td>\n    </tr>\n    <tr>\n        <td>BIO-301</td>\n        <td>1</td>\n        <td>Summer</td>\n        <td>2018</td>\n        <td>Painter</td>\n        <td>514</td>\n        <td>A</td>\n    </tr>\n    <tr>\n        <td>CS-101</td>\n        <td>1</td>\n        <td>Fall</td>\n        <td>2017</td>\n        <td>Packard</td>\n        <td>101</td>\n        <td>H</td>\n    </tr>\n    <tr>\n        <td>CS-101</td>\n        <td>1</td>\n        <td>Spring</td>\n        <td>2018</td>\n        <td>Packard</td>\n        <td>101</td>\n        <td>F</td>\n    </tr>\n    <tr>\n        <td>CS-190</td>\n        <td>1</td>\n        <td>Spring</td>\n        <td>2017</td>\n        <td>Taylor</td>\n        <td>3128</td>\n        <td>E</td>\n    </tr>\n    <tr>\n        <td>CS-190</td>\n        <td>2</td>\n        <td>Spring</td>\n        <td>2017</td>\n        <td>Taylor</td>\n        <td>3128</td>\n        <td>A</td>\n    </tr>\n    <tr>\n        <td>CS-315</td>\n        <td>1</td>\n        <td>Spring</td>\n        <td>2018</td>\n        <td>Watson</td>\n        <td>120</td>\n        <td>D</td>\n    </tr>\n    <tr>\n        <td>CS-319</td>\n        <td>1</td>\n        <td>Spring</td>\n        <td>2018</td>\n        <td>Watson</td>\n        <td>100</td>\n        <td>B</td>\n    </tr>\n    <tr>\n        <td>CS-319</td>\n        <td>2</td>\n        <td>Spring</td>\n        <td>2018</td>\n        <td>Taylor</td>\n        <td>3128</td>\n        <td>C</td>\n    </tr>\n    <tr>\n        <td>CS-347</td>\n        <td>1</td>\n        <td>Fall</td>\n        <td>2017</td>\n        <td>Taylor</td>\n        <td>3128</td>\n        <td>A</td>\n    </tr>\n    <tr>\n        <td>EE-181</td>\n        <td>1</td>\n        <td>Spring</td>\n        <td>2017</td>\n        <td>Taylor</td>\n        <td>3128</td>\n        <td>C</td>\n    </tr>\n    <tr>\n        <td>FIN-201</td>\n        <td>1</td>\n        <td>Spring</td>\n        <td>2018</td>\n        <td>Packard</td>\n        <td>101</td>\n        <td>B</td>\n    </tr>\n    <tr>\n        <td>HIS-351</td>\n        <td>1</td>\n        <td>Spring</td>\n        <td>2018</td>\n        <td>Painter</td>\n        <td>514</td>\n        <td>C</td>\n    </tr>\n    <tr>\n        <td>MU-199</td>\n        <td>1</td>\n        <td>Spring</td>\n        <td>2018</td>\n        <td>Packard</td>\n        <td>101</td>\n        <td>D</td>\n    </tr>\n    <tr>\n        <td>PHY-101</td>\n        <td>1</td>\n        <td>Fall</td>\n        <td>2017</td>\n        <td>Watson</td>\n        <td>100</td>\n        <td>A</td>\n    </tr>\n</table>"
     },
     "metadata": {},
     "execution_count": 70
    }
   ],
   "source": [
    "%%sql\n",
    "select * from section\n",
    "order by course_id,year, semester"
   ]
  },
  {
   "cell_type": "code",
   "execution_count": 28,
   "metadata": {},
   "outputs": [
    {
     "output_type": "stream",
     "name": "stdout",
     "text": [
      " * sqlite:///db_univ7.db\nDone.\n"
     ]
    },
    {
     "output_type": "execute_result",
     "data": {
      "text/plain": [
       "[('00128', 'Zhang', 'Comp. Sci.', 102),\n",
       " ('12345', 'Shankar', 'Comp. Sci.', 32),\n",
       " ('19991', 'Brandt', 'History', 80),\n",
       " ('23121', 'Chavez', 'Finance', 110),\n",
       " ('44553', 'Peltier', 'Physics', 56),\n",
       " ('45678', 'Levy', 'Physics', 46),\n",
       " ('54321', 'Williams', 'Comp. Sci.', 54),\n",
       " ('55739', 'Sanchez', 'Music', 38),\n",
       " ('70557', 'Snow', 'Physics', 0),\n",
       " ('76543', 'Brown', 'Comp. Sci.', 58),\n",
       " ('76653', 'Aoi', 'Elec. Eng.', 60),\n",
       " ('98765', 'Bourikas', 'Elec. Eng.', 98),\n",
       " ('98988', 'Tanaka', 'Biology', 120)]"
      ],
      "text/html": "<table>\n    <tr>\n        <th>ID</th>\n        <th>name</th>\n        <th>dept_name</th>\n        <th>tot_cred</th>\n    </tr>\n    <tr>\n        <td>00128</td>\n        <td>Zhang</td>\n        <td>Comp. Sci.</td>\n        <td>102</td>\n    </tr>\n    <tr>\n        <td>12345</td>\n        <td>Shankar</td>\n        <td>Comp. Sci.</td>\n        <td>32</td>\n    </tr>\n    <tr>\n        <td>19991</td>\n        <td>Brandt</td>\n        <td>History</td>\n        <td>80</td>\n    </tr>\n    <tr>\n        <td>23121</td>\n        <td>Chavez</td>\n        <td>Finance</td>\n        <td>110</td>\n    </tr>\n    <tr>\n        <td>44553</td>\n        <td>Peltier</td>\n        <td>Physics</td>\n        <td>56</td>\n    </tr>\n    <tr>\n        <td>45678</td>\n        <td>Levy</td>\n        <td>Physics</td>\n        <td>46</td>\n    </tr>\n    <tr>\n        <td>54321</td>\n        <td>Williams</td>\n        <td>Comp. Sci.</td>\n        <td>54</td>\n    </tr>\n    <tr>\n        <td>55739</td>\n        <td>Sanchez</td>\n        <td>Music</td>\n        <td>38</td>\n    </tr>\n    <tr>\n        <td>70557</td>\n        <td>Snow</td>\n        <td>Physics</td>\n        <td>0</td>\n    </tr>\n    <tr>\n        <td>76543</td>\n        <td>Brown</td>\n        <td>Comp. Sci.</td>\n        <td>58</td>\n    </tr>\n    <tr>\n        <td>76653</td>\n        <td>Aoi</td>\n        <td>Elec. Eng.</td>\n        <td>60</td>\n    </tr>\n    <tr>\n        <td>98765</td>\n        <td>Bourikas</td>\n        <td>Elec. Eng.</td>\n        <td>98</td>\n    </tr>\n    <tr>\n        <td>98988</td>\n        <td>Tanaka</td>\n        <td>Biology</td>\n        <td>120</td>\n    </tr>\n</table>"
     },
     "metadata": {},
     "execution_count": 28
    }
   ],
   "source": [
    "%%sql\n",
    "select * from student"
   ]
  },
  {
   "cell_type": "code",
   "execution_count": 53,
   "metadata": {},
   "outputs": [
    {
     "output_type": "stream",
     "name": "stdout",
     "text": [
      " * sqlite:///db_univ7.db\nDone.\n"
     ]
    },
    {
     "output_type": "execute_result",
     "data": {
      "text/plain": [
       "[('10101', 'Srinivasan', 'Comp. Sci.', 65000),\n",
       " ('12121', 'Wu', 'Finance', 90000),\n",
       " ('15151', 'Mozart', 'Music', 40000),\n",
       " ('22222', 'Einstein', 'Physics', 95000),\n",
       " ('32343', 'El Said', 'History', 60000),\n",
       " ('33456', 'Gold', 'Physics', 87000),\n",
       " ('45565', 'Katz', 'Comp. Sci.', 75000),\n",
       " ('58583', 'Califieri', 'History', 62000),\n",
       " ('76543', 'Singh', 'Finance', 80000),\n",
       " ('76766', 'Crick', 'Biology', 72000),\n",
       " ('83821', 'Brandt', 'Comp. Sci.', 92000),\n",
       " ('98345', 'Kim', 'Elec. Eng.', 80000)]"
      ],
      "text/html": "<table>\n    <tr>\n        <th>ID</th>\n        <th>name</th>\n        <th>dept_name</th>\n        <th>salary</th>\n    </tr>\n    <tr>\n        <td>10101</td>\n        <td>Srinivasan</td>\n        <td>Comp. Sci.</td>\n        <td>65000</td>\n    </tr>\n    <tr>\n        <td>12121</td>\n        <td>Wu</td>\n        <td>Finance</td>\n        <td>90000</td>\n    </tr>\n    <tr>\n        <td>15151</td>\n        <td>Mozart</td>\n        <td>Music</td>\n        <td>40000</td>\n    </tr>\n    <tr>\n        <td>22222</td>\n        <td>Einstein</td>\n        <td>Physics</td>\n        <td>95000</td>\n    </tr>\n    <tr>\n        <td>32343</td>\n        <td>El Said</td>\n        <td>History</td>\n        <td>60000</td>\n    </tr>\n    <tr>\n        <td>33456</td>\n        <td>Gold</td>\n        <td>Physics</td>\n        <td>87000</td>\n    </tr>\n    <tr>\n        <td>45565</td>\n        <td>Katz</td>\n        <td>Comp. Sci.</td>\n        <td>75000</td>\n    </tr>\n    <tr>\n        <td>58583</td>\n        <td>Califieri</td>\n        <td>History</td>\n        <td>62000</td>\n    </tr>\n    <tr>\n        <td>76543</td>\n        <td>Singh</td>\n        <td>Finance</td>\n        <td>80000</td>\n    </tr>\n    <tr>\n        <td>76766</td>\n        <td>Crick</td>\n        <td>Biology</td>\n        <td>72000</td>\n    </tr>\n    <tr>\n        <td>83821</td>\n        <td>Brandt</td>\n        <td>Comp. Sci.</td>\n        <td>92000</td>\n    </tr>\n    <tr>\n        <td>98345</td>\n        <td>Kim</td>\n        <td>Elec. Eng.</td>\n        <td>80000</td>\n    </tr>\n</table>"
     },
     "metadata": {},
     "execution_count": 53
    }
   ],
   "source": [
    "%%sql\n",
    "select * from instructor"
   ]
  },
  {
   "cell_type": "code",
   "execution_count": 64,
   "metadata": {},
   "outputs": [
    {
     "output_type": "stream",
     "name": "stdout",
     "text": [
      " * sqlite:///db_univ7.db\nDone.\n"
     ]
    },
    {
     "output_type": "execute_result",
     "data": {
      "text/plain": [
       "[('00128', 'CS-101', '1', 'Fall', 2017, 'A'),\n",
       " ('12345', 'CS-101', '1', 'Fall', 2017, 'C'),\n",
       " ('45678', 'CS-101', '1', 'Fall', 2017, 'F'),\n",
       " ('54321', 'CS-101', '1', 'Fall', 2017, 'A-'),\n",
       " ('76543', 'CS-101', '1', 'Fall', 2017, 'A'),\n",
       " ('98765', 'CS-101', '1', 'Fall', 2017, 'C-'),\n",
       " ('00128', 'CS-347', '1', 'Fall', 2017, 'A-'),\n",
       " ('12345', 'CS-347', '1', 'Fall', 2017, 'A'),\n",
       " ('44553', 'PHY-101', '1', 'Fall', 2017, 'B-'),\n",
       " ('12345', 'CS-190', '2', 'Spring', 2017, 'A'),\n",
       " ('54321', 'CS-190', '2', 'Spring', 2017, 'B+'),\n",
       " ('76653', 'EE-181', '1', 'Spring', 2017, 'C'),\n",
       " ('98988', 'BIO-101', '1', 'Summer', 2017, 'A'),\n",
       " ('45678', 'CS-101', '1', 'Spring', 2018, 'B+'),\n",
       " ('12345', 'CS-315', '1', 'Spring', 2018, 'A'),\n",
       " ('98765', 'CS-315', '1', 'Spring', 2018, 'B'),\n",
       " ('45678', 'CS-319', '1', 'Spring', 2018, 'B'),\n",
       " ('76543', 'CS-319', '2', 'Spring', 2018, 'A'),\n",
       " ('23121', 'FIN-201', '1', 'Spring', 2018, 'C+'),\n",
       " ('19991', 'HIS-351', '1', 'Spring', 2018, 'B'),\n",
       " ('55739', 'MU-199', '1', 'Spring', 2018, 'A-'),\n",
       " ('98988', 'BIO-301', '1', 'Summer', 2018, None)]"
      ],
      "text/html": "<table>\n    <tr>\n        <th>ID</th>\n        <th>course_id</th>\n        <th>sec_id</th>\n        <th>semester</th>\n        <th>year</th>\n        <th>grade</th>\n    </tr>\n    <tr>\n        <td>00128</td>\n        <td>CS-101</td>\n        <td>1</td>\n        <td>Fall</td>\n        <td>2017</td>\n        <td>A</td>\n    </tr>\n    <tr>\n        <td>12345</td>\n        <td>CS-101</td>\n        <td>1</td>\n        <td>Fall</td>\n        <td>2017</td>\n        <td>C</td>\n    </tr>\n    <tr>\n        <td>45678</td>\n        <td>CS-101</td>\n        <td>1</td>\n        <td>Fall</td>\n        <td>2017</td>\n        <td>F</td>\n    </tr>\n    <tr>\n        <td>54321</td>\n        <td>CS-101</td>\n        <td>1</td>\n        <td>Fall</td>\n        <td>2017</td>\n        <td>A-</td>\n    </tr>\n    <tr>\n        <td>76543</td>\n        <td>CS-101</td>\n        <td>1</td>\n        <td>Fall</td>\n        <td>2017</td>\n        <td>A</td>\n    </tr>\n    <tr>\n        <td>98765</td>\n        <td>CS-101</td>\n        <td>1</td>\n        <td>Fall</td>\n        <td>2017</td>\n        <td>C-</td>\n    </tr>\n    <tr>\n        <td>00128</td>\n        <td>CS-347</td>\n        <td>1</td>\n        <td>Fall</td>\n        <td>2017</td>\n        <td>A-</td>\n    </tr>\n    <tr>\n        <td>12345</td>\n        <td>CS-347</td>\n        <td>1</td>\n        <td>Fall</td>\n        <td>2017</td>\n        <td>A</td>\n    </tr>\n    <tr>\n        <td>44553</td>\n        <td>PHY-101</td>\n        <td>1</td>\n        <td>Fall</td>\n        <td>2017</td>\n        <td>B-</td>\n    </tr>\n    <tr>\n        <td>12345</td>\n        <td>CS-190</td>\n        <td>2</td>\n        <td>Spring</td>\n        <td>2017</td>\n        <td>A</td>\n    </tr>\n    <tr>\n        <td>54321</td>\n        <td>CS-190</td>\n        <td>2</td>\n        <td>Spring</td>\n        <td>2017</td>\n        <td>B+</td>\n    </tr>\n    <tr>\n        <td>76653</td>\n        <td>EE-181</td>\n        <td>1</td>\n        <td>Spring</td>\n        <td>2017</td>\n        <td>C</td>\n    </tr>\n    <tr>\n        <td>98988</td>\n        <td>BIO-101</td>\n        <td>1</td>\n        <td>Summer</td>\n        <td>2017</td>\n        <td>A</td>\n    </tr>\n    <tr>\n        <td>45678</td>\n        <td>CS-101</td>\n        <td>1</td>\n        <td>Spring</td>\n        <td>2018</td>\n        <td>B+</td>\n    </tr>\n    <tr>\n        <td>12345</td>\n        <td>CS-315</td>\n        <td>1</td>\n        <td>Spring</td>\n        <td>2018</td>\n        <td>A</td>\n    </tr>\n    <tr>\n        <td>98765</td>\n        <td>CS-315</td>\n        <td>1</td>\n        <td>Spring</td>\n        <td>2018</td>\n        <td>B</td>\n    </tr>\n    <tr>\n        <td>45678</td>\n        <td>CS-319</td>\n        <td>1</td>\n        <td>Spring</td>\n        <td>2018</td>\n        <td>B</td>\n    </tr>\n    <tr>\n        <td>76543</td>\n        <td>CS-319</td>\n        <td>2</td>\n        <td>Spring</td>\n        <td>2018</td>\n        <td>A</td>\n    </tr>\n    <tr>\n        <td>23121</td>\n        <td>FIN-201</td>\n        <td>1</td>\n        <td>Spring</td>\n        <td>2018</td>\n        <td>C+</td>\n    </tr>\n    <tr>\n        <td>19991</td>\n        <td>HIS-351</td>\n        <td>1</td>\n        <td>Spring</td>\n        <td>2018</td>\n        <td>B</td>\n    </tr>\n    <tr>\n        <td>55739</td>\n        <td>MU-199</td>\n        <td>1</td>\n        <td>Spring</td>\n        <td>2018</td>\n        <td>A-</td>\n    </tr>\n    <tr>\n        <td>98988</td>\n        <td>BIO-301</td>\n        <td>1</td>\n        <td>Summer</td>\n        <td>2018</td>\n        <td>None</td>\n    </tr>\n</table>"
     },
     "metadata": {},
     "execution_count": 64
    }
   ],
   "source": [
    "%%sql\n",
    "select * from takes\n",
    "order by year, semester,course_id"
   ]
  },
  {
   "cell_type": "code",
   "execution_count": 33,
   "metadata": {},
   "outputs": [
    {
     "output_type": "stream",
     "name": "stdout",
     "text": [
      " * sqlite:///db_univ7.db\nDone.\n"
     ]
    },
    {
     "output_type": "execute_result",
     "data": {
      "text/plain": [
       "[('10101', 'CS-101', '1', 'Fall', 2017),\n",
       " ('10101', 'CS-315', '1', 'Spring', 2018),\n",
       " ('10101', 'CS-347', '1', 'Fall', 2017),\n",
       " ('12121', 'FIN-201', '1', 'Spring', 2018),\n",
       " ('15151', 'MU-199', '1', 'Spring', 2018),\n",
       " ('22222', 'PHY-101', '1', 'Fall', 2017),\n",
       " ('32343', 'HIS-351', '1', 'Spring', 2018),\n",
       " ('45565', 'CS-101', '1', 'Spring', 2018),\n",
       " ('45565', 'CS-319', '1', 'Spring', 2018),\n",
       " ('76766', 'BIO-101', '1', 'Summer', 2017),\n",
       " ('76766', 'BIO-301', '1', 'Summer', 2018),\n",
       " ('83821', 'CS-190', '1', 'Spring', 2017),\n",
       " ('83821', 'CS-190', '2', 'Spring', 2017),\n",
       " ('83821', 'CS-319', '2', 'Spring', 2018),\n",
       " ('98345', 'EE-181', '1', 'Spring', 2017)]"
      ],
      "text/html": "<table>\n    <tr>\n        <th>ID</th>\n        <th>course_id</th>\n        <th>sec_id</th>\n        <th>semester</th>\n        <th>year</th>\n    </tr>\n    <tr>\n        <td>10101</td>\n        <td>CS-101</td>\n        <td>1</td>\n        <td>Fall</td>\n        <td>2017</td>\n    </tr>\n    <tr>\n        <td>10101</td>\n        <td>CS-315</td>\n        <td>1</td>\n        <td>Spring</td>\n        <td>2018</td>\n    </tr>\n    <tr>\n        <td>10101</td>\n        <td>CS-347</td>\n        <td>1</td>\n        <td>Fall</td>\n        <td>2017</td>\n    </tr>\n    <tr>\n        <td>12121</td>\n        <td>FIN-201</td>\n        <td>1</td>\n        <td>Spring</td>\n        <td>2018</td>\n    </tr>\n    <tr>\n        <td>15151</td>\n        <td>MU-199</td>\n        <td>1</td>\n        <td>Spring</td>\n        <td>2018</td>\n    </tr>\n    <tr>\n        <td>22222</td>\n        <td>PHY-101</td>\n        <td>1</td>\n        <td>Fall</td>\n        <td>2017</td>\n    </tr>\n    <tr>\n        <td>32343</td>\n        <td>HIS-351</td>\n        <td>1</td>\n        <td>Spring</td>\n        <td>2018</td>\n    </tr>\n    <tr>\n        <td>45565</td>\n        <td>CS-101</td>\n        <td>1</td>\n        <td>Spring</td>\n        <td>2018</td>\n    </tr>\n    <tr>\n        <td>45565</td>\n        <td>CS-319</td>\n        <td>1</td>\n        <td>Spring</td>\n        <td>2018</td>\n    </tr>\n    <tr>\n        <td>76766</td>\n        <td>BIO-101</td>\n        <td>1</td>\n        <td>Summer</td>\n        <td>2017</td>\n    </tr>\n    <tr>\n        <td>76766</td>\n        <td>BIO-301</td>\n        <td>1</td>\n        <td>Summer</td>\n        <td>2018</td>\n    </tr>\n    <tr>\n        <td>83821</td>\n        <td>CS-190</td>\n        <td>1</td>\n        <td>Spring</td>\n        <td>2017</td>\n    </tr>\n    <tr>\n        <td>83821</td>\n        <td>CS-190</td>\n        <td>2</td>\n        <td>Spring</td>\n        <td>2017</td>\n    </tr>\n    <tr>\n        <td>83821</td>\n        <td>CS-319</td>\n        <td>2</td>\n        <td>Spring</td>\n        <td>2018</td>\n    </tr>\n    <tr>\n        <td>98345</td>\n        <td>EE-181</td>\n        <td>1</td>\n        <td>Spring</td>\n        <td>2017</td>\n    </tr>\n</table>"
     },
     "metadata": {},
     "execution_count": 33
    }
   ],
   "source": [
    "%%sql\n",
    "select * from teaches"
   ]
  },
  {
   "source": [
    "## Problem 1"
   ],
   "cell_type": "markdown",
   "metadata": {}
  },
  {
   "source": [
    "#### Problem 1-1"
   ],
   "cell_type": "markdown",
   "metadata": {}
  },
  {
   "source": [
    "%%sql\n",
    "select title from course\n",
    "where credits=3 and dept_name='Comp. Sci.'"
   ],
   "cell_type": "code",
   "metadata": {},
   "execution_count": 25,
   "outputs": [
    {
     "output_type": "stream",
     "name": "stdout",
     "text": [
      " * sqlite:///db_univ7.db\nDone.\n"
     ]
    },
    {
     "output_type": "execute_result",
     "data": {
      "text/plain": [
       "[('Robotics',), ('Image Processing',), ('Database System Concepts',)]"
      ],
      "text/html": "<table>\n    <tr>\n        <th>title</th>\n    </tr>\n    <tr>\n        <td>Robotics</td>\n    </tr>\n    <tr>\n        <td>Image Processing</td>\n    </tr>\n    <tr>\n        <td>Database System Concepts</td>\n    </tr>\n</table>"
     },
     "metadata": {},
     "execution_count": 25
    }
   ]
  },
  {
   "source": [
    "#### Problem 1-2"
   ],
   "cell_type": "markdown",
   "metadata": {}
  },
  {
   "cell_type": "code",
   "execution_count": 38,
   "metadata": {},
   "outputs": [
    {
     "output_type": "stream",
     "name": "stdout",
     "text": [
      " * sqlite:///db_univ7.db\nDone.\n"
     ]
    },
    {
     "output_type": "execute_result",
     "data": {
      "text/plain": [
       "[('44553',)]"
      ],
      "text/html": "<table>\n    <tr>\n        <th>ID</th>\n    </tr>\n    <tr>\n        <td>44553</td>\n    </tr>\n</table>"
     },
     "metadata": {},
     "execution_count": 38
    }
   ],
   "source": [
    "%%sql\n",
    "select distinct student.ID\n",
    "from student,takes\n",
    "where takes.course_ID = (select T.course_ID\n",
    "                         from instructor as I,teaches as T\n",
    "                         where name = 'Einstein' and I.ID =  T.ID)\n",
    "      and student.ID = takes.ID"
   ]
  },
  {
   "source": [
    "#### Problem 1-3"
   ],
   "cell_type": "markdown",
   "metadata": {}
  },
  {
   "cell_type": "code",
   "execution_count": 54,
   "metadata": {},
   "outputs": [
    {
     "output_type": "stream",
     "name": "stdout",
     "text": [
      " * sqlite:///db_univ7.db\nDone.\n"
     ]
    },
    {
     "output_type": "execute_result",
     "data": {
      "text/plain": [
       "[(95000,)]"
      ],
      "text/html": "<table>\n    <tr>\n        <th>max(salary)</th>\n    </tr>\n    <tr>\n        <td>95000</td>\n    </tr>\n</table>"
     },
     "metadata": {},
     "execution_count": 54
    }
   ],
   "source": [
    "%%sql\n",
    "select max(salary) from instructor"
   ]
  },
  {
   "source": [
    "#### Problem 1-4"
   ],
   "cell_type": "markdown",
   "metadata": {}
  },
  {
   "cell_type": "code",
   "execution_count": 56,
   "metadata": {},
   "outputs": [
    {
     "output_type": "stream",
     "name": "stdout",
     "text": [
      " * sqlite:///db_univ7.db\nDone.\n"
     ]
    },
    {
     "output_type": "execute_result",
     "data": {
      "text/plain": [
       "[('Einstein',)]"
      ],
      "text/html": "<table>\n    <tr>\n        <th>name</th>\n    </tr>\n    <tr>\n        <td>Einstein</td>\n    </tr>\n</table>"
     },
     "metadata": {},
     "execution_count": 56
    }
   ],
   "source": [
    "%%sql\n",
    "select name from instructor\n",
    "where salary = (select max(salary) from instructor)"
   ]
  },
  {
   "source": [
    "#### Problem 1-5"
   ],
   "cell_type": "markdown",
   "metadata": {}
  },
  {
   "cell_type": "code",
   "execution_count": 12,
   "metadata": {},
   "outputs": [
    {
     "output_type": "stream",
     "name": "stdout",
     "text": [
      " * sqlite:///db_univ7.db\nDone.\n"
     ]
    },
    {
     "output_type": "execute_result",
     "data": {
      "text/plain": [
       "[('CS-101', '1', 6), ('CS-347', '1', 2), ('PHY-101', '1', 1)]"
      ],
      "text/html": "<table>\n    <tr>\n        <th>course_id</th>\n        <th>sec_id</th>\n        <th>enrollment</th>\n    </tr>\n    <tr>\n        <td>CS-101</td>\n        <td>1</td>\n        <td>6</td>\n    </tr>\n    <tr>\n        <td>CS-347</td>\n        <td>1</td>\n        <td>2</td>\n    </tr>\n    <tr>\n        <td>PHY-101</td>\n        <td>1</td>\n        <td>1</td>\n    </tr>\n</table>"
     },
     "metadata": {},
     "execution_count": 12
    }
   ],
   "source": [
    "%%sql\n",
    "select course_id, sec_id, count(course_id) as enrollment\n",
    "from takes natural join section\n",
    "where semester = 'Fall' and year = '2017'\n",
    "group by course_id"
   ]
  },
  {
   "source": [
    "#### Problem 1-6"
   ],
   "cell_type": "markdown",
   "metadata": {}
  },
  {
   "cell_type": "code",
   "execution_count": 16,
   "metadata": {},
   "outputs": [
    {
     "output_type": "stream",
     "name": "stdout",
     "text": [
      " * sqlite:///db_univ7.db\nDone.\n"
     ]
    },
    {
     "output_type": "execute_result",
     "data": {
      "text/plain": [
       "[]"
      ]
     },
     "metadata": {},
     "execution_count": 16
    }
   ],
   "source": [
    "%%sql\n",
    "create view count as\n",
    "select course_id, sec_id, count(course_id) as enrollment\n",
    "from takes natural join section\n",
    "where semester = 'Fall' and year = '2017'\n",
    "group by course_id"
   ]
  },
  {
   "cell_type": "code",
   "execution_count": 17,
   "metadata": {},
   "outputs": [
    {
     "output_type": "stream",
     "name": "stdout",
     "text": [
      " * sqlite:///db_univ7.db\nDone.\n"
     ]
    },
    {
     "output_type": "execute_result",
     "data": {
      "text/plain": [
       "[(6,)]"
      ],
      "text/html": "<table>\n    <tr>\n        <th>max(enrollment)</th>\n    </tr>\n    <tr>\n        <td>6</td>\n    </tr>\n</table>"
     },
     "metadata": {},
     "execution_count": 17
    }
   ],
   "source": [
    "%%sql\n",
    "select max(enrollment)\n",
    "from count"
   ]
  },
  {
   "source": [
    "#### Problem 1-7"
   ],
   "cell_type": "markdown",
   "metadata": {}
  },
  {
   "cell_type": "code",
   "execution_count": 18,
   "metadata": {},
   "outputs": [
    {
     "output_type": "stream",
     "name": "stdout",
     "text": [
      " * sqlite:///db_univ7.db\nDone.\n"
     ]
    },
    {
     "output_type": "execute_result",
     "data": {
      "text/plain": [
       "[('CS-101', '1')]"
      ],
      "text/html": "<table>\n    <tr>\n        <th>course_id</th>\n        <th>sec_id</th>\n    </tr>\n    <tr>\n        <td>CS-101</td>\n        <td>1</td>\n    </tr>\n</table>"
     },
     "metadata": {},
     "execution_count": 18
    }
   ],
   "source": [
    "%%sql\n",
    "select course_id,sec_id\n",
    "from count\n",
    "where enrollment in (select max(enrollment)\n",
    "                     from count)"
   ]
  },
  {
   "source": [
    "## Problem 2"
   ],
   "cell_type": "markdown",
   "metadata": {}
  },
  {
   "cell_type": "code",
   "execution_count": 2,
   "metadata": {},
   "outputs": [],
   "source": [
    "%sql sqlite:///insurance.db"
   ]
  },
  {
   "cell_type": "code",
   "execution_count": 5,
   "metadata": {},
   "outputs": [
    {
     "output_type": "stream",
     "name": "stdout",
     "text": [
      " * sqlite:///insurance.db\nDone.\nDone.\nDone.\nDone.\nDone.\n"
     ]
    },
    {
     "output_type": "execute_result",
     "data": {
      "text/plain": [
       "[]"
      ]
     },
     "metadata": {},
     "execution_count": 5
    }
   ],
   "source": [
    "%%sql\n",
    "create table person(\n",
    "    driver_id   varchar(5),\n",
    "    name        varchar(20) not null,\n",
    "    address     varchar(10),\n",
    "    primary key(driver_id)\n",
    ");\n",
    "create table car(\n",
    "    license_plate   varchar(10),\n",
    "    model           varchar(10),\n",
    "    year            numeric(4,0) check(year>1800 and year<2100),\n",
    "    primary key(license_plate)\n",
    ");\n",
    "create table accident(\n",
    "    report_number   varchar(10),\n",
    "    year            numeric(4,0) check(year>1800 and year<2100),\n",
    "    location        varchar(20),\n",
    "    primary key(report_number)    \n",
    ");\n",
    "create table owns(\n",
    "    driver_id       varchar(5),\n",
    "    license_plate   varchar(10),\n",
    "    primary key(driver_id,license_plate),\n",
    "    foreign key(driver_id) references person,\n",
    "    foreign key(license_plate) references car\n",
    ");\n",
    "create table participated(\n",
    "    report_number   varchar(10),\n",
    "    license_plate   varchar(10),\n",
    "    driver_id       varchar(5),\n",
    "    damage_amount   numeric(7,0),\n",
    "    primary key(report_number,license_plate),\n",
    "    foreign key(report_number) references accident,\n",
    "    foreign key(license_plate) references car,\n",
    "    foreign key(driver_id) references person\n",
    ");"
   ]
  },
  {
   "source": [
    "## Problem 3"
   ],
   "cell_type": "markdown",
   "metadata": {}
  },
  {
   "source": [
    "#### Problem 3-1"
   ],
   "cell_type": "markdown",
   "metadata": {}
  },
  {
   "cell_type": "code",
   "execution_count": 7,
   "metadata": {},
   "outputs": [
    {
     "output_type": "stream",
     "name": "stdout",
     "text": [
      " * sqlite:///insurance.db\n1 rows affected.\n1 rows affected.\n1 rows affected.\n1 rows affected.\n1 rows affected.\n"
     ]
    },
    {
     "output_type": "execute_result",
     "data": {
      "text/plain": [
       "[]"
      ]
     },
     "metadata": {},
     "execution_count": 7
    }
   ],
   "source": [
    "%%sql\n",
    "insert into person values('12378','John Smith','Gwangju');\n",
    "insert into person values('47820','Will Lennon','Seoul');\n",
    "insert into person values('36431','Paul Walker','Daejeon');\n",
    "insert into person values('12345','Bruno Mars','Ulsan');\n",
    "insert into person values('88432','Freddie Mercury','Daegu');"
   ]
  },
  {
   "cell_type": "code",
   "execution_count": 10,
   "metadata": {},
   "outputs": [
    {
     "output_type": "stream",
     "name": "stdout",
     "text": [
      " * sqlite:///insurance.db\n1 rows affected.\n1 rows affected.\n1 rows affected.\n1 rows affected.\n1 rows affected.\n"
     ]
    },
    {
     "output_type": "execute_result",
     "data": {
      "text/plain": [
       "[]"
      ]
     },
     "metadata": {},
     "execution_count": 10
    }
   ],
   "source": [
    "%%sql\n",
    "insert into car values('AABB2000','Jeep','2012');\n",
    "insert into car values('EBDC8920','Avante','2020');\n",
    "insert into car values('GSTA6583','Bentley','2015');\n",
    "insert into car values('JENC2341','BMW','2010');\n",
    "insert into car values('ENFC3012','Mercedes-Benz','2018');"
   ]
  },
  {
   "cell_type": "code",
   "execution_count": 12,
   "metadata": {},
   "outputs": [
    {
     "output_type": "stream",
     "name": "stdout",
     "text": [
      " * sqlite:///insurance.db\n",
      "1 rows affected.\n",
      "1 rows affected.\n",
      "1 rows affected.\n",
      "1 rows affected.\n",
      "1 rows affected.\n"
     ]
    },
    {
     "output_type": "execute_result",
     "data": {
      "text/plain": [
       "[]"
      ]
     },
     "metadata": {},
     "execution_count": 12
    }
   ],
   "source": [
    "%%sql\n",
    "insert into accident values('FA9801','2017','Gwangju');\n",
    "insert into accident values('JC3412','2020','Gwangju');\n",
    "insert into accident values('AR2197','2021','Daejeon');\n",
    "insert into accident values('KI8732','2019','Ulsan');\n",
    "insert into accident values('SO2309','2015','Daegu');"
   ]
  },
  {
   "cell_type": "code",
   "execution_count": 13,
   "metadata": {},
   "outputs": [
    {
     "output_type": "stream",
     "name": "stdout",
     "text": [
      " * sqlite:///insurance.db\n",
      "1 rows affected.\n",
      "1 rows affected.\n",
      "1 rows affected.\n",
      "1 rows affected.\n",
      "1 rows affected.\n"
     ]
    },
    {
     "output_type": "execute_result",
     "data": {
      "text/plain": [
       "[]"
      ]
     },
     "metadata": {},
     "execution_count": 13
    }
   ],
   "source": [
    "%%sql\n",
    "insert into owns values('12378','AABB2000');\n",
    "insert into owns values('47820','EBDC8920');\n",
    "insert into owns values('36431','GSTA6583');\n",
    "insert into owns values('12345','JENC2341');\n",
    "insert into owns values('88432','ENFC3012');"
   ]
  },
  {
   "cell_type": "code",
   "execution_count": 14,
   "metadata": {},
   "outputs": [
    {
     "output_type": "stream",
     "name": "stdout",
     "text": [
      " * sqlite:///insurance.db\n1 rows affected.\n1 rows affected.\n1 rows affected.\n1 rows affected.\n1 rows affected.\n"
     ]
    },
    {
     "output_type": "execute_result",
     "data": {
      "text/plain": [
       "[]"
      ]
     },
     "metadata": {},
     "execution_count": 14
    }
   ],
   "source": [
    "%%sql\n",
    "insert into participated values('FA9801','GSTA6583','36431','700');\n",
    "insert into participated values('JC3412','EBDC8920','47820','3000');\n",
    "insert into participated values('AR2197','AABB2000','12378','500');\n",
    "insert into participated values('KI8732','JENC2341','12345','2100');\n",
    "insert into participated values('SO2309','ENFC3012','88432','1300');"
   ]
  },
  {
   "source": [
    "#### Problem 3-2"
   ],
   "cell_type": "markdown",
   "metadata": {}
  },
  {
   "cell_type": "code",
   "execution_count": 16,
   "metadata": {},
   "outputs": [
    {
     "output_type": "stream",
     "name": "stdout",
     "text": [
      " * sqlite:///insurance.db\nDone.\n"
     ]
    },
    {
     "output_type": "execute_result",
     "data": {
      "text/plain": [
       "[('12378', 'John Smith', 'Gwangju'),\n",
       " ('47820', 'Will Lennon', 'Seoul'),\n",
       " ('36431', 'Paul Walker', 'Daejeon'),\n",
       " ('12345', 'Bruno Mars', 'Ulsan'),\n",
       " ('88432', 'Freddie Mercury', 'Daegu')]"
      ],
      "text/html": "<table>\n    <tr>\n        <th>driver_id</th>\n        <th>name</th>\n        <th>address</th>\n    </tr>\n    <tr>\n        <td>12378</td>\n        <td>John Smith</td>\n        <td>Gwangju</td>\n    </tr>\n    <tr>\n        <td>47820</td>\n        <td>Will Lennon</td>\n        <td>Seoul</td>\n    </tr>\n    <tr>\n        <td>36431</td>\n        <td>Paul Walker</td>\n        <td>Daejeon</td>\n    </tr>\n    <tr>\n        <td>12345</td>\n        <td>Bruno Mars</td>\n        <td>Ulsan</td>\n    </tr>\n    <tr>\n        <td>88432</td>\n        <td>Freddie Mercury</td>\n        <td>Daegu</td>\n    </tr>\n</table>"
     },
     "metadata": {},
     "execution_count": 16
    }
   ],
   "source": [
    "%%sql\n",
    "select * from person"
   ]
  },
  {
   "source": [
    "#### Problem 3-3"
   ],
   "cell_type": "markdown",
   "metadata": {}
  },
  {
   "cell_type": "code",
   "execution_count": 17,
   "metadata": {},
   "outputs": [
    {
     "output_type": "stream",
     "name": "stdout",
     "text": [
      " * sqlite:///insurance.db\nDone.\n"
     ]
    },
    {
     "output_type": "execute_result",
     "data": {
      "text/plain": [
       "[('AABB2000', 'Jeep', 2012),\n",
       " ('EBDC8920', 'Avante', 2020),\n",
       " ('GSTA6583', 'Bentley', 2015),\n",
       " ('JENC2341', 'BMW', 2010),\n",
       " ('ENFC3012', 'Mercedes-Benz', 2018)]"
      ],
      "text/html": "<table>\n    <tr>\n        <th>license_plate</th>\n        <th>model</th>\n        <th>year</th>\n    </tr>\n    <tr>\n        <td>AABB2000</td>\n        <td>Jeep</td>\n        <td>2012</td>\n    </tr>\n    <tr>\n        <td>EBDC8920</td>\n        <td>Avante</td>\n        <td>2020</td>\n    </tr>\n    <tr>\n        <td>GSTA6583</td>\n        <td>Bentley</td>\n        <td>2015</td>\n    </tr>\n    <tr>\n        <td>JENC2341</td>\n        <td>BMW</td>\n        <td>2010</td>\n    </tr>\n    <tr>\n        <td>ENFC3012</td>\n        <td>Mercedes-Benz</td>\n        <td>2018</td>\n    </tr>\n</table>"
     },
     "metadata": {},
     "execution_count": 17
    }
   ],
   "source": [
    "%sql select * from car"
   ]
  },
  {
   "source": [
    "#### Problem 3-4"
   ],
   "cell_type": "markdown",
   "metadata": {}
  },
  {
   "cell_type": "code",
   "execution_count": 18,
   "metadata": {},
   "outputs": [
    {
     "output_type": "stream",
     "name": "stdout",
     "text": [
      " * sqlite:///insurance.db\nDone.\n"
     ]
    },
    {
     "output_type": "execute_result",
     "data": {
      "text/plain": [
       "[('FA9801', 2017, 'Gwangju'),\n",
       " ('JC3412', 2020, 'Gwangju'),\n",
       " ('AR2197', 2021, 'Daejeon'),\n",
       " ('KI8732', 2019, 'Ulsan'),\n",
       " ('SO2309', 2015, 'Daegu')]"
      ],
      "text/html": "<table>\n    <tr>\n        <th>report_number</th>\n        <th>year</th>\n        <th>location</th>\n    </tr>\n    <tr>\n        <td>FA9801</td>\n        <td>2017</td>\n        <td>Gwangju</td>\n    </tr>\n    <tr>\n        <td>JC3412</td>\n        <td>2020</td>\n        <td>Gwangju</td>\n    </tr>\n    <tr>\n        <td>AR2197</td>\n        <td>2021</td>\n        <td>Daejeon</td>\n    </tr>\n    <tr>\n        <td>KI8732</td>\n        <td>2019</td>\n        <td>Ulsan</td>\n    </tr>\n    <tr>\n        <td>SO2309</td>\n        <td>2015</td>\n        <td>Daegu</td>\n    </tr>\n</table>"
     },
     "metadata": {},
     "execution_count": 18
    }
   ],
   "source": [
    "%sql select * from accident"
   ]
  },
  {
   "source": [
    "#### Problem 3-5"
   ],
   "cell_type": "markdown",
   "metadata": {}
  },
  {
   "cell_type": "code",
   "execution_count": 19,
   "metadata": {},
   "outputs": [
    {
     "output_type": "stream",
     "name": "stdout",
     "text": [
      " * sqlite:///insurance.db\nDone.\n"
     ]
    },
    {
     "output_type": "execute_result",
     "data": {
      "text/plain": [
       "[('12378', 'AABB2000'),\n",
       " ('47820', 'EBDC8920'),\n",
       " ('36431', 'GSTA6583'),\n",
       " ('12345', 'JENC2341'),\n",
       " ('88432', 'ENFC3012')]"
      ],
      "text/html": "<table>\n    <tr>\n        <th>driver_id</th>\n        <th>license_plate</th>\n    </tr>\n    <tr>\n        <td>12378</td>\n        <td>AABB2000</td>\n    </tr>\n    <tr>\n        <td>47820</td>\n        <td>EBDC8920</td>\n    </tr>\n    <tr>\n        <td>36431</td>\n        <td>GSTA6583</td>\n    </tr>\n    <tr>\n        <td>12345</td>\n        <td>JENC2341</td>\n    </tr>\n    <tr>\n        <td>88432</td>\n        <td>ENFC3012</td>\n    </tr>\n</table>"
     },
     "metadata": {},
     "execution_count": 19
    }
   ],
   "source": [
    "%sql select * from owns"
   ]
  },
  {
   "source": [
    "#### Problem 3-6"
   ],
   "cell_type": "markdown",
   "metadata": {}
  },
  {
   "cell_type": "code",
   "execution_count": 20,
   "metadata": {},
   "outputs": [
    {
     "output_type": "stream",
     "name": "stdout",
     "text": [
      " * sqlite:///insurance.db\nDone.\n"
     ]
    },
    {
     "output_type": "execute_result",
     "data": {
      "text/plain": [
       "[('FA9801', 'GSTA6583', '36431', 700),\n",
       " ('JC3412', 'EBDC8920', '47820', 3000),\n",
       " ('AR2197', 'AABB2000', '12378', 500),\n",
       " ('KI8732', 'JENC2341', '12345', 2100),\n",
       " ('SO2309', 'ENFC3012', '88432', 1300)]"
      ],
      "text/html": "<table>\n    <tr>\n        <th>report_number</th>\n        <th>license_plate</th>\n        <th>driver_id</th>\n        <th>damage_amount</th>\n    </tr>\n    <tr>\n        <td>FA9801</td>\n        <td>GSTA6583</td>\n        <td>36431</td>\n        <td>700</td>\n    </tr>\n    <tr>\n        <td>JC3412</td>\n        <td>EBDC8920</td>\n        <td>47820</td>\n        <td>3000</td>\n    </tr>\n    <tr>\n        <td>AR2197</td>\n        <td>AABB2000</td>\n        <td>12378</td>\n        <td>500</td>\n    </tr>\n    <tr>\n        <td>KI8732</td>\n        <td>JENC2341</td>\n        <td>12345</td>\n        <td>2100</td>\n    </tr>\n    <tr>\n        <td>SO2309</td>\n        <td>ENFC3012</td>\n        <td>88432</td>\n        <td>1300</td>\n    </tr>\n</table>"
     },
     "metadata": {},
     "execution_count": 20
    }
   ],
   "source": [
    "%sql select * from participated"
   ]
  },
  {
   "source": [
    "## Problem 4"
   ],
   "cell_type": "markdown",
   "metadata": {}
  },
  {
   "cell_type": "code",
   "execution_count": 21,
   "metadata": {},
   "outputs": [
    {
     "output_type": "stream",
     "name": "stdout",
     "text": [
      " * sqlite:///insurance.db\nDone.\n"
     ]
    },
    {
     "output_type": "execute_result",
     "data": {
      "text/plain": [
       "[(1,)]"
      ],
      "text/html": "<table>\n    <tr>\n        <th>count(driver_id)</th>\n    </tr>\n    <tr>\n        <td>1</td>\n    </tr>\n</table>"
     },
     "metadata": {},
     "execution_count": 21
    }
   ],
   "source": [
    "%%sql\n",
    "select count(driver_id)\n",
    "from owns\n",
    "where license_plate in (select license_plate\n",
    "                        from accident natural join participated\n",
    "                        where year = '2021')"
   ]
  },
  {
   "source": [
    "## Problem 5"
   ],
   "cell_type": "markdown",
   "metadata": {}
  },
  {
   "cell_type": "code",
   "execution_count": 25,
   "metadata": {},
   "outputs": [
    {
     "output_type": "stream",
     "name": "stdout",
     "text": [
      " * sqlite:///insurance.db\nDone.\n"
     ]
    },
    {
     "output_type": "execute_result",
     "data": {
      "text/plain": [
       "[(1,)]"
      ],
      "text/html": "<table>\n    <tr>\n        <th>count(report_number)</th>\n    </tr>\n    <tr>\n        <td>1</td>\n    </tr>\n</table>"
     },
     "metadata": {},
     "execution_count": 25
    }
   ],
   "source": [
    "%%sql\n",
    "select count(report_number)\n",
    "from participated\n",
    "where license_plate in (select license_plate\n",
    "                        from person natural join owns\n",
    "                        where name = 'John Smith')"
   ]
  },
  {
   "source": [
    "## Problem 6"
   ],
   "cell_type": "markdown",
   "metadata": {}
  },
  {
   "source": [
    "## Problem 7"
   ],
   "cell_type": "markdown",
   "metadata": {}
  },
  {
   "cell_type": "code",
   "execution_count": 26,
   "metadata": {},
   "outputs": [
    {
     "output_type": "stream",
     "name": "stdout",
     "text": [
      " * sqlite:///insurance.db\n1 rows affected.\n"
     ]
    },
    {
     "output_type": "execute_result",
     "data": {
      "text/plain": [
       "[]"
      ]
     },
     "metadata": {},
     "execution_count": 26
    }
   ],
   "source": [
    "%%sql\n",
    "update participated set damage_amount='3000' where license_plate='AABB2000' and report_number = 'AR2197'"
   ]
  },
  {
   "cell_type": "code",
   "execution_count": 27,
   "metadata": {},
   "outputs": [
    {
     "output_type": "stream",
     "name": "stdout",
     "text": [
      " * sqlite:///insurance.db\nDone.\n"
     ]
    },
    {
     "output_type": "execute_result",
     "data": {
      "text/plain": [
       "[('AR2197', 'AABB2000', '12378', 3000)]"
      ],
      "text/html": "<table>\n    <tr>\n        <th>report_number</th>\n        <th>license_plate</th>\n        <th>driver_id</th>\n        <th>damage_amount</th>\n    </tr>\n    <tr>\n        <td>AR2197</td>\n        <td>AABB2000</td>\n        <td>12378</td>\n        <td>3000</td>\n    </tr>\n</table>"
     },
     "metadata": {},
     "execution_count": 27
    }
   ],
   "source": [
    "%%sql\n",
    "select *\n",
    "from participated\n",
    "where license_plate='AABB2000' and report_number = 'AR2197'"
   ]
  },
  {
   "cell_type": "code",
   "execution_count": null,
   "metadata": {},
   "outputs": [],
   "source": []
  }
 ],
 "metadata": {
  "kernelspec": {
   "name": "python386jvsc74a57bd02db524e06e9f5f4ffedc911c917cb75e12dbc923643829bf417064a77eb14d37",
   "display_name": "Python 3.8.6 32-bit"
  },
  "metadata": {
   "interpreter": {
    "hash": "2db524e06e9f5f4ffedc911c917cb75e12dbc923643829bf417064a77eb14d37"
   }
  }
 },
 "nbformat": 4,
 "nbformat_minor": 5
}