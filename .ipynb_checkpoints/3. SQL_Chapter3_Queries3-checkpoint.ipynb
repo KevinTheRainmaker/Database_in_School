{
 "cells": [
  {
   "cell_type": "code",
   "execution_count": 1,
   "metadata": {},
   "outputs": [],
   "source": [
    "%load_ext sql"
   ]
  },
  {
   "cell_type": "code",
   "execution_count": 2,
   "metadata": {},
   "outputs": [],
   "source": [
    "%sql sqlite:///db_univ7.db"
   ]
  },
  {
   "cell_type": "code",
   "execution_count": 3,
   "metadata": {},
   "outputs": [
    {
     "name": "stdout",
     "output_type": "stream",
     "text": [
      " * sqlite:///db_univ7.db\n",
      "Done.\n"
     ]
    },
    {
     "data": {
      "text/html": [
       "<table>\n",
       "    <tr>\n",
       "        <th>type</th>\n",
       "        <th>name</th>\n",
       "        <th>tbl_name</th>\n",
       "        <th>rootpage</th>\n",
       "        <th>sql</th>\n",
       "    </tr>\n",
       "    <tr>\n",
       "        <td>table</td>\n",
       "        <td>classroom</td>\n",
       "        <td>classroom</td>\n",
       "        <td>2</td>\n",
       "        <td>CREATE TABLE classroom<br>\t(building\t\tvarchar(15),<br>\t room_number\t\tvarchar(7),<br>\t capacity\t\tnumeric(4,0),<br>\t primary key (building, room_number)<br>\t)</td>\n",
       "    </tr>\n",
       "    <tr>\n",
       "        <td>index</td>\n",
       "        <td>sqlite_autoindex_classroom_1</td>\n",
       "        <td>classroom</td>\n",
       "        <td>3</td>\n",
       "        <td>None</td>\n",
       "    </tr>\n",
       "    <tr>\n",
       "        <td>table</td>\n",
       "        <td>department</td>\n",
       "        <td>department</td>\n",
       "        <td>4</td>\n",
       "        <td>CREATE TABLE department<br>\t(dept_name\t\tvarchar(20), <br>\t building\t\tvarchar(15), <br>\t budget\t\t        numeric(12,2) check (budget &gt; 0),<br>\t primary key (dept_name)<br>\t)</td>\n",
       "    </tr>\n",
       "    <tr>\n",
       "        <td>index</td>\n",
       "        <td>sqlite_autoindex_department_1</td>\n",
       "        <td>department</td>\n",
       "        <td>5</td>\n",
       "        <td>None</td>\n",
       "    </tr>\n",
       "    <tr>\n",
       "        <td>table</td>\n",
       "        <td>course</td>\n",
       "        <td>course</td>\n",
       "        <td>6</td>\n",
       "        <td>CREATE TABLE course<br>\t(course_id\t\tvarchar(8), <br>\t title\t\t\tvarchar(50), <br>\t dept_name\t\tvarchar(20),<br>\t credits\t\tnumeric(2,0) check (credits &gt; 0),<br>\t primary key (course_id),<br>\t foreign key (dept_name) references department (dept_name)<br>\t\ton delete set null<br>\t)</td>\n",
       "    </tr>\n",
       "    <tr>\n",
       "        <td>index</td>\n",
       "        <td>sqlite_autoindex_course_1</td>\n",
       "        <td>course</td>\n",
       "        <td>7</td>\n",
       "        <td>None</td>\n",
       "    </tr>\n",
       "    <tr>\n",
       "        <td>table</td>\n",
       "        <td>instructor</td>\n",
       "        <td>instructor</td>\n",
       "        <td>8</td>\n",
       "        <td>CREATE TABLE instructor<br>\t(ID\t\t\tvarchar(5), <br>\t name\t\t\tvarchar(20) not null, <br>\t dept_name\t\tvarchar(20), <br>\t salary\t\t\tnumeric(8,2) check (salary &gt; 29000),<br>\t primary key (ID),<br>\t foreign key (dept_name) references department (dept_name)<br>\t\ton delete set null<br>\t)</td>\n",
       "    </tr>\n",
       "    <tr>\n",
       "        <td>index</td>\n",
       "        <td>sqlite_autoindex_instructor_1</td>\n",
       "        <td>instructor</td>\n",
       "        <td>9</td>\n",
       "        <td>None</td>\n",
       "    </tr>\n",
       "    <tr>\n",
       "        <td>table</td>\n",
       "        <td>section</td>\n",
       "        <td>section</td>\n",
       "        <td>10</td>\n",
       "        <td>CREATE TABLE section<br>\t(course_id\t\tvarchar(8), <br>         sec_id\t\t\tvarchar(8),<br>\t semester\t\tvarchar(6)<br>\t\tcheck (semester in (&#x27;Fall&#x27;, &#x27;Winter&#x27;, &#x27;Spring&#x27;, &#x27;Summer&#x27;)), <br>\t year\t\t\tnumeric(4,0) check (year &gt; 1701 and year &lt; 2100), <br>\t building\t\tvarchar(15),<br>\t room_number\t\tvarchar(7),<br>\t time_slot_id\t\tvarchar(4),<br>\t primary key (course_id, sec_id, semester, year),<br>\t foreign key (course_id) references course (course_id)<br>\t\ton delete cascade,<br>\t foreign key (building, room_number) references classroom (building, room_number)<br>\t\ton delete set null<br>\t)</td>\n",
       "    </tr>\n",
       "    <tr>\n",
       "        <td>index</td>\n",
       "        <td>sqlite_autoindex_section_1</td>\n",
       "        <td>section</td>\n",
       "        <td>11</td>\n",
       "        <td>None</td>\n",
       "    </tr>\n",
       "    <tr>\n",
       "        <td>table</td>\n",
       "        <td>teaches</td>\n",
       "        <td>teaches</td>\n",
       "        <td>12</td>\n",
       "        <td>CREATE TABLE teaches<br>\t(ID\t\t\tvarchar(5), <br>\t course_id\t\tvarchar(8),<br>\t sec_id\t\t\tvarchar(8), <br>\t semester\t\tvarchar(6),<br>\t year\t\t\tnumeric(4,0),<br>\t primary key (ID, course_id, sec_id, semester, year),<br>\t foreign key (course_id, sec_id, semester, year) references section (course_id, sec_id, semester, year)<br>\t\ton delete cascade,<br>\t foreign key (ID) references instructor (ID)<br>\t\ton delete cascade<br>\t)</td>\n",
       "    </tr>\n",
       "    <tr>\n",
       "        <td>index</td>\n",
       "        <td>sqlite_autoindex_teaches_1</td>\n",
       "        <td>teaches</td>\n",
       "        <td>13</td>\n",
       "        <td>None</td>\n",
       "    </tr>\n",
       "    <tr>\n",
       "        <td>table</td>\n",
       "        <td>student</td>\n",
       "        <td>student</td>\n",
       "        <td>14</td>\n",
       "        <td>CREATE TABLE student<br>\t(ID\t\t\tvarchar(5), <br>\t name\t\t\tvarchar(20) not null, <br>\t dept_name\t\tvarchar(20), <br>\t tot_cred\t\tnumeric(3,0) check (tot_cred &gt;= 0),<br>\t primary key (ID),<br>\t foreign key (dept_name) references department (dept_name)<br>\t\ton delete set null<br>\t)</td>\n",
       "    </tr>\n",
       "    <tr>\n",
       "        <td>index</td>\n",
       "        <td>sqlite_autoindex_student_1</td>\n",
       "        <td>student</td>\n",
       "        <td>15</td>\n",
       "        <td>None</td>\n",
       "    </tr>\n",
       "    <tr>\n",
       "        <td>table</td>\n",
       "        <td>takes</td>\n",
       "        <td>takes</td>\n",
       "        <td>16</td>\n",
       "        <td>CREATE TABLE takes<br>\t(ID\t\t\tvarchar(5), <br>\t course_id\t\tvarchar(8),<br>\t sec_id\t\t\tvarchar(8), <br>\t semester\t\tvarchar(6),<br>\t year\t\t\tnumeric(4,0),<br>\t grade\t\t        varchar(2),<br>\t primary key (ID, course_id, sec_id, semester, year),<br>\t foreign key (course_id, sec_id, semester, year) references section (course_id, sec_id, semester, year)<br>\t\ton delete cascade,<br>\t foreign key (ID) references student (ID)<br>\t\ton delete cascade<br>\t)</td>\n",
       "    </tr>\n",
       "    <tr>\n",
       "        <td>index</td>\n",
       "        <td>sqlite_autoindex_takes_1</td>\n",
       "        <td>takes</td>\n",
       "        <td>17</td>\n",
       "        <td>None</td>\n",
       "    </tr>\n",
       "    <tr>\n",
       "        <td>table</td>\n",
       "        <td>advisor</td>\n",
       "        <td>advisor</td>\n",
       "        <td>18</td>\n",
       "        <td>CREATE TABLE advisor<br>\t(s_ID\t\t\tvarchar(5),<br>\t i_ID\t\t\tvarchar(5),<br>\t primary key (s_ID),<br>\t foreign key (i_ID) references instructor (ID)<br>\t\ton delete set null,<br>\t foreign key (s_ID) references student (ID)<br>\t\ton delete cascade<br>\t)</td>\n",
       "    </tr>\n",
       "    <tr>\n",
       "        <td>index</td>\n",
       "        <td>sqlite_autoindex_advisor_1</td>\n",
       "        <td>advisor</td>\n",
       "        <td>19</td>\n",
       "        <td>None</td>\n",
       "    </tr>\n",
       "    <tr>\n",
       "        <td>table</td>\n",
       "        <td>time_slot</td>\n",
       "        <td>time_slot</td>\n",
       "        <td>20</td>\n",
       "        <td>CREATE TABLE time_slot<br>\t(time_slot_id\t\tvarchar(4),<br>\t day\t\t\tvarchar(1),<br>\t start_hr\t\tnumeric(2) check (start_hr &gt;= 0 and start_hr &lt; 24),<br>\t start_min\t\tnumeric(2) check (start_min &gt;= 0 and start_min &lt; 60),<br>\t end_hr\t\t\tnumeric(2) check (end_hr &gt;= 0 and end_hr &lt; 24),<br>\t end_min\t\tnumeric(2) check (end_min &gt;= 0 and end_min &lt; 60),<br>\t primary key (time_slot_id, day, start_hr, start_min)<br>\t)</td>\n",
       "    </tr>\n",
       "    <tr>\n",
       "        <td>index</td>\n",
       "        <td>sqlite_autoindex_time_slot_1</td>\n",
       "        <td>time_slot</td>\n",
       "        <td>21</td>\n",
       "        <td>None</td>\n",
       "    </tr>\n",
       "    <tr>\n",
       "        <td>table</td>\n",
       "        <td>prereq</td>\n",
       "        <td>prereq</td>\n",
       "        <td>22</td>\n",
       "        <td>CREATE TABLE prereq<br>\t(course_id\t\tvarchar(8), <br>\t prereq_id\t\tvarchar(8),<br>\t primary key (course_id, prereq_id),<br>\t foreign key (course_id) references course (course_id)<br>\t\ton delete cascade,<br>\t foreign key (prereq_id) references course (course_id)<br>\t)</td>\n",
       "    </tr>\n",
       "    <tr>\n",
       "        <td>index</td>\n",
       "        <td>sqlite_autoindex_prereq_1</td>\n",
       "        <td>prereq</td>\n",
       "        <td>23</td>\n",
       "        <td>None</td>\n",
       "    </tr>\n",
       "</table>"
      ],
      "text/plain": [
       "[('table', 'classroom', 'classroom', 2, 'CREATE TABLE classroom\\n\\t(building\\t\\tvarchar(15),\\n\\t room_number\\t\\tvarchar(7),\\n\\t capacity\\t\\tnumeric(4,0),\\n\\t primary key (building, room_number)\\n\\t)'),\n",
       " ('index', 'sqlite_autoindex_classroom_1', 'classroom', 3, None),\n",
       " ('table', 'department', 'department', 4, 'CREATE TABLE department\\n\\t(dept_name\\t\\tvarchar(20), \\n\\t building\\t\\tvarchar(15), \\n\\t budget\\t\\t        numeric(12,2) check (budget > 0),\\n\\t primary key (dept_name)\\n\\t)'),\n",
       " ('index', 'sqlite_autoindex_department_1', 'department', 5, None),\n",
       " ('table', 'course', 'course', 6, 'CREATE TABLE course\\n\\t(course_id\\t\\tvarchar(8), \\n\\t title\\t\\t\\tvarchar(50), \\n\\t dept_name\\t\\tvarchar(20),\\n\\t credits\\t\\tnumeric(2,0) check (credits > 0),\\n\\t primary key (course_id),\\n\\t foreign key (dept_name) references department (dept_name)\\n\\t\\ton delete set null\\n\\t)'),\n",
       " ('index', 'sqlite_autoindex_course_1', 'course', 7, None),\n",
       " ('table', 'instructor', 'instructor', 8, 'CREATE TABLE instructor\\n\\t(ID\\t\\t\\tvarchar(5), \\n\\t name\\t\\t\\tvarchar(20) not null, \\n\\t dept_name\\t\\tvarchar(20), \\n\\t salary\\t\\t\\tnumeric(8,2) check (salary > 29000),\\n\\t primary key (ID),\\n\\t foreign key (dept_name) references department (dept_name)\\n\\t\\ton delete set null\\n\\t)'),\n",
       " ('index', 'sqlite_autoindex_instructor_1', 'instructor', 9, None),\n",
       " ('table', 'section', 'section', 10, \"CREATE TABLE section\\n\\t(course_id\\t\\tvarchar(8), \\n         sec_id\\t\\t\\tvarchar(8),\\n\\t semester\\t\\tvarchar(6)\\n\\t\\tcheck (semester in ('Fall', 'Win ... (285 characters truncated) ... (course_id)\\n\\t\\ton delete cascade,\\n\\t foreign key (building, room_number) references classroom (building, room_number)\\n\\t\\ton delete set null\\n\\t)\"),\n",
       " ('index', 'sqlite_autoindex_section_1', 'section', 11, None),\n",
       " ('table', 'teaches', 'teaches', 12, 'CREATE TABLE teaches\\n\\t(ID\\t\\t\\tvarchar(5), \\n\\t course_id\\t\\tvarchar(8),\\n\\t sec_id\\t\\t\\tvarchar(8), \\n\\t semester\\t\\tvarchar(6),\\n\\t year\\t\\t\\tnum ... (125 characters truncated) ... ences section (course_id, sec_id, semester, year)\\n\\t\\ton delete cascade,\\n\\t foreign key (ID) references instructor (ID)\\n\\t\\ton delete cascade\\n\\t)'),\n",
       " ('index', 'sqlite_autoindex_teaches_1', 'teaches', 13, None),\n",
       " ('table', 'student', 'student', 14, 'CREATE TABLE student\\n\\t(ID\\t\\t\\tvarchar(5), \\n\\t name\\t\\t\\tvarchar(20) not null, \\n\\t dept_name\\t\\tvarchar(20), \\n\\t tot_cred\\t\\tnumeric(3,0) check (tot_cred >= 0),\\n\\t primary key (ID),\\n\\t foreign key (dept_name) references department (dept_name)\\n\\t\\ton delete set null\\n\\t)'),\n",
       " ('index', 'sqlite_autoindex_student_1', 'student', 15, None),\n",
       " ('table', 'takes', 'takes', 16, 'CREATE TABLE takes\\n\\t(ID\\t\\t\\tvarchar(5), \\n\\t course_id\\t\\tvarchar(8),\\n\\t sec_id\\t\\t\\tvarchar(8), \\n\\t semester\\t\\tvarchar(6),\\n\\t year\\t\\t\\tnumer ... (153 characters truncated) ... ferences section (course_id, sec_id, semester, year)\\n\\t\\ton delete cascade,\\n\\t foreign key (ID) references student (ID)\\n\\t\\ton delete cascade\\n\\t)'),\n",
       " ('index', 'sqlite_autoindex_takes_1', 'takes', 17, None),\n",
       " ('table', 'advisor', 'advisor', 18, 'CREATE TABLE advisor\\n\\t(s_ID\\t\\t\\tvarchar(5),\\n\\t i_ID\\t\\t\\tvarchar(5),\\n\\t primary key (s_ID),\\n\\t foreign key (i_ID) references instructor (ID)\\n\\t\\ton delete set null,\\n\\t foreign key (s_ID) references student (ID)\\n\\t\\ton delete cascade\\n\\t)'),\n",
       " ('index', 'sqlite_autoindex_advisor_1', 'advisor', 19, None),\n",
       " ('table', 'time_slot', 'time_slot', 20, 'CREATE TABLE time_slot\\n\\t(time_slot_id\\t\\tvarchar(4),\\n\\t day\\t\\t\\tvarchar(1),\\n\\t start_hr\\t\\tnumeric(2) check (start_hr >= 0 and start_hr < 24),\\n ... (111 characters truncated) ... >= 0 and end_hr < 24),\\n\\t end_min\\t\\tnumeric(2) check (end_min >= 0 and end_min < 60),\\n\\t primary key (time_slot_id, day, start_hr, start_min)\\n\\t)'),\n",
       " ('index', 'sqlite_autoindex_time_slot_1', 'time_slot', 21, None),\n",
       " ('table', 'prereq', 'prereq', 22, 'CREATE TABLE prereq\\n\\t(course_id\\t\\tvarchar(8), \\n\\t prereq_id\\t\\tvarchar(8),\\n\\t primary key (course_id, prereq_id),\\n\\t foreign key (course_id) references course (course_id)\\n\\t\\ton delete cascade,\\n\\t foreign key (prereq_id) references course (course_id)\\n\\t)'),\n",
       " ('index', 'sqlite_autoindex_prereq_1', 'prereq', 23, None)]"
      ]
     },
     "execution_count": 3,
     "metadata": {},
     "output_type": "execute_result"
    }
   ],
   "source": [
    "%sql select * from sqlite_master;"
   ]
  },
  {
   "cell_type": "code",
   "execution_count": 4,
   "metadata": {},
   "outputs": [
    {
     "name": "stdout",
     "output_type": "stream",
     "text": [
      " * sqlite:///db_univ7.db\n",
      "Done.\n"
     ]
    },
    {
     "data": {
      "text/html": [
       "<table>\n",
       "    <tr>\n",
       "        <th>course_id</th>\n",
       "        <th>sec_id</th>\n",
       "        <th>semester</th>\n",
       "        <th>year</th>\n",
       "        <th>building</th>\n",
       "        <th>room_number</th>\n",
       "        <th>time_slot_id</th>\n",
       "    </tr>\n",
       "    <tr>\n",
       "        <td>CS-101</td>\n",
       "        <td>1</td>\n",
       "        <td>Spring</td>\n",
       "        <td>2018</td>\n",
       "        <td>Packard</td>\n",
       "        <td>101</td>\n",
       "        <td>F</td>\n",
       "    </tr>\n",
       "    <tr>\n",
       "        <td>CS-315</td>\n",
       "        <td>1</td>\n",
       "        <td>Spring</td>\n",
       "        <td>2018</td>\n",
       "        <td>Watson</td>\n",
       "        <td>120</td>\n",
       "        <td>D</td>\n",
       "    </tr>\n",
       "    <tr>\n",
       "        <td>CS-319</td>\n",
       "        <td>1</td>\n",
       "        <td>Spring</td>\n",
       "        <td>2018</td>\n",
       "        <td>Watson</td>\n",
       "        <td>100</td>\n",
       "        <td>B</td>\n",
       "    </tr>\n",
       "    <tr>\n",
       "        <td>CS-319</td>\n",
       "        <td>2</td>\n",
       "        <td>Spring</td>\n",
       "        <td>2018</td>\n",
       "        <td>Taylor</td>\n",
       "        <td>3128</td>\n",
       "        <td>C</td>\n",
       "    </tr>\n",
       "    <tr>\n",
       "        <td>FIN-201</td>\n",
       "        <td>1</td>\n",
       "        <td>Spring</td>\n",
       "        <td>2018</td>\n",
       "        <td>Packard</td>\n",
       "        <td>101</td>\n",
       "        <td>B</td>\n",
       "    </tr>\n",
       "    <tr>\n",
       "        <td>HIS-351</td>\n",
       "        <td>1</td>\n",
       "        <td>Spring</td>\n",
       "        <td>2018</td>\n",
       "        <td>Painter</td>\n",
       "        <td>514</td>\n",
       "        <td>C</td>\n",
       "    </tr>\n",
       "    <tr>\n",
       "        <td>MU-199</td>\n",
       "        <td>1</td>\n",
       "        <td>Spring</td>\n",
       "        <td>2018</td>\n",
       "        <td>Packard</td>\n",
       "        <td>101</td>\n",
       "        <td>D</td>\n",
       "    </tr>\n",
       "</table>"
      ],
      "text/plain": [
       "[('CS-101', '1', 'Spring', 2018, 'Packard', '101', 'F'),\n",
       " ('CS-315', '1', 'Spring', 2018, 'Watson', '120', 'D'),\n",
       " ('CS-319', '1', 'Spring', 2018, 'Watson', '100', 'B'),\n",
       " ('CS-319', '2', 'Spring', 2018, 'Taylor', '3128', 'C'),\n",
       " ('FIN-201', '1', 'Spring', 2018, 'Packard', '101', 'B'),\n",
       " ('HIS-351', '1', 'Spring', 2018, 'Painter', '514', 'C'),\n",
       " ('MU-199', '1', 'Spring', 2018, 'Packard', '101', 'D')]"
      ]
     },
     "execution_count": 4,
     "metadata": {},
     "output_type": "execute_result"
    }
   ],
   "source": [
    "%sql select * from section where semester = 'Spring' and year= 2018"
   ]
  },
  {
   "cell_type": "code",
   "execution_count": 5,
   "metadata": {},
   "outputs": [
    {
     "name": "stdout",
     "output_type": "stream",
     "text": [
      " * sqlite:///db_univ7.db\n",
      "Done.\n"
     ]
    },
    {
     "data": {
      "text/html": [
       "<table>\n",
       "    <tr>\n",
       "        <th>course_id</th>\n",
       "        <th>sec_id</th>\n",
       "        <th>semester</th>\n",
       "        <th>year</th>\n",
       "        <th>building</th>\n",
       "        <th>room_number</th>\n",
       "        <th>time_slot_id</th>\n",
       "    </tr>\n",
       "    <tr>\n",
       "        <td>CS-101</td>\n",
       "        <td>1</td>\n",
       "        <td>Fall</td>\n",
       "        <td>2017</td>\n",
       "        <td>Packard</td>\n",
       "        <td>101</td>\n",
       "        <td>H</td>\n",
       "    </tr>\n",
       "    <tr>\n",
       "        <td>CS-347</td>\n",
       "        <td>1</td>\n",
       "        <td>Fall</td>\n",
       "        <td>2017</td>\n",
       "        <td>Taylor</td>\n",
       "        <td>3128</td>\n",
       "        <td>A</td>\n",
       "    </tr>\n",
       "    <tr>\n",
       "        <td>PHY-101</td>\n",
       "        <td>1</td>\n",
       "        <td>Fall</td>\n",
       "        <td>2017</td>\n",
       "        <td>Watson</td>\n",
       "        <td>100</td>\n",
       "        <td>A</td>\n",
       "    </tr>\n",
       "</table>"
      ],
      "text/plain": [
       "[('CS-101', '1', 'Fall', 2017, 'Packard', '101', 'H'),\n",
       " ('CS-347', '1', 'Fall', 2017, 'Taylor', '3128', 'A'),\n",
       " ('PHY-101', '1', 'Fall', 2017, 'Watson', '100', 'A')]"
      ]
     },
     "execution_count": 5,
     "metadata": {},
     "output_type": "execute_result"
    }
   ],
   "source": [
    "%%sql \n",
    "select *\n",
    "from section as S\n",
    "where semester = 'Fall' and year= 2017"
   ]
  },
  {
   "cell_type": "code",
   "execution_count": 6,
   "metadata": {},
   "outputs": [
    {
     "name": "stdout",
     "output_type": "stream",
     "text": [
      " * sqlite:///db_univ7.db\n",
      "Done.\n"
     ]
    },
    {
     "data": {
      "text/html": [
       "<table>\n",
       "    <tr>\n",
       "        <th>course_id</th>\n",
       "    </tr>\n",
       "    <tr>\n",
       "        <td>CS-101</td>\n",
       "    </tr>\n",
       "</table>"
      ],
      "text/plain": [
       "[('CS-101',)]"
      ]
     },
     "execution_count": 6,
     "metadata": {},
     "output_type": "execute_result"
    }
   ],
   "source": [
    "%%sql \n",
    "select course_id from section where semester = 'Fall' and year= 2017\n",
    "intersect \n",
    "select course_id from section where semester = 'Spring' and year= 2018"
   ]
  },
  {
   "cell_type": "code",
   "execution_count": 7,
   "metadata": {},
   "outputs": [
    {
     "name": "stdout",
     "output_type": "stream",
     "text": [
      " * sqlite:///db_univ7.db\n",
      "Done.\n"
     ]
    },
    {
     "data": {
      "text/html": [
       "<table>\n",
       "    <tr>\n",
       "        <th>course_id</th>\n",
       "    </tr>\n",
       "    <tr>\n",
       "        <td>CS-101</td>\n",
       "    </tr>\n",
       "</table>"
      ],
      "text/plain": [
       "[('CS-101',)]"
      ]
     },
     "execution_count": 7,
     "metadata": {},
     "output_type": "execute_result"
    }
   ],
   "source": [
    "%%sql select course_id\n",
    "from section as S\n",
    "where semester = 'Fall' and year= 2017 and\n",
    "exists (select * from section as T where semester = 'Spring' and year= 2018 and S.course_id= T.course_id);"
   ]
  },
  {
   "cell_type": "code",
   "execution_count": 8,
   "metadata": {},
   "outputs": [
    {
     "name": "stdout",
     "output_type": "stream",
     "text": [
      " * sqlite:///db_univ7.db\n",
      "Done.\n"
     ]
    },
    {
     "data": {
      "text/html": [
       "<table>\n",
       "    <tr>\n",
       "        <th>ID</th>\n",
       "        <th>name</th>\n",
       "    </tr>\n",
       "</table>"
      ],
      "text/plain": [
       "[]"
      ]
     },
     "execution_count": 8,
     "metadata": {},
     "output_type": "execute_result"
    }
   ],
   "source": [
    "%%sql select distinct S.ID, S.name\n",
    "from student as S\n",
    "where not exists (select course_id from course where dept_name = 'Biology' except\n",
    "                                select T.course_id from takes as T where S.ID = T.ID);"
   ]
  },
  {
   "cell_type": "code",
   "execution_count": 9,
   "metadata": {},
   "outputs": [
    {
     "name": "stdout",
     "output_type": "stream",
     "text": [
      " * sqlite:///db_univ7.db\n",
      "Done.\n"
     ]
    },
    {
     "data": {
      "text/html": [
       "<table>\n",
       "    <tr>\n",
       "        <th>course_id</th>\n",
       "        <th>title</th>\n",
       "        <th>dept_name</th>\n",
       "        <th>credits</th>\n",
       "    </tr>\n",
       "    <tr>\n",
       "        <td>BIO-101</td>\n",
       "        <td>Intro. to Biology</td>\n",
       "        <td>Biology</td>\n",
       "        <td>4</td>\n",
       "    </tr>\n",
       "    <tr>\n",
       "        <td>BIO-301</td>\n",
       "        <td>Genetics</td>\n",
       "        <td>Biology</td>\n",
       "        <td>4</td>\n",
       "    </tr>\n",
       "    <tr>\n",
       "        <td>BIO-399</td>\n",
       "        <td>Computational Biology</td>\n",
       "        <td>Biology</td>\n",
       "        <td>3</td>\n",
       "    </tr>\n",
       "</table>"
      ],
      "text/plain": [
       "[('BIO-101', 'Intro. to Biology', 'Biology', 4),\n",
       " ('BIO-301', 'Genetics', 'Biology', 4),\n",
       " ('BIO-399', 'Computational Biology', 'Biology', 3)]"
      ]
     },
     "execution_count": 9,
     "metadata": {},
     "output_type": "execute_result"
    }
   ],
   "source": [
    "%sql select * from course where dept_name = 'Biology'"
   ]
  },
  {
   "cell_type": "code",
   "execution_count": 10,
   "metadata": {},
   "outputs": [
    {
     "name": "stdout",
     "output_type": "stream",
     "text": [
      " * sqlite:///db_univ7.db\n",
      "Done.\n"
     ]
    },
    {
     "data": {
      "text/html": [
       "<table>\n",
       "    <tr>\n",
       "        <th>ID</th>\n",
       "        <th>course_id</th>\n",
       "        <th>sec_id</th>\n",
       "        <th>semester</th>\n",
       "        <th>year</th>\n",
       "        <th>grade</th>\n",
       "    </tr>\n",
       "    <tr>\n",
       "        <td>00128</td>\n",
       "        <td>CS-101</td>\n",
       "        <td>1</td>\n",
       "        <td>Fall</td>\n",
       "        <td>2017</td>\n",
       "        <td>A</td>\n",
       "    </tr>\n",
       "    <tr>\n",
       "        <td>00128</td>\n",
       "        <td>CS-347</td>\n",
       "        <td>1</td>\n",
       "        <td>Fall</td>\n",
       "        <td>2017</td>\n",
       "        <td>A-</td>\n",
       "    </tr>\n",
       "    <tr>\n",
       "        <td>12345</td>\n",
       "        <td>CS-101</td>\n",
       "        <td>1</td>\n",
       "        <td>Fall</td>\n",
       "        <td>2017</td>\n",
       "        <td>C</td>\n",
       "    </tr>\n",
       "    <tr>\n",
       "        <td>12345</td>\n",
       "        <td>CS-190</td>\n",
       "        <td>2</td>\n",
       "        <td>Spring</td>\n",
       "        <td>2017</td>\n",
       "        <td>A</td>\n",
       "    </tr>\n",
       "    <tr>\n",
       "        <td>12345</td>\n",
       "        <td>CS-315</td>\n",
       "        <td>1</td>\n",
       "        <td>Spring</td>\n",
       "        <td>2018</td>\n",
       "        <td>A</td>\n",
       "    </tr>\n",
       "    <tr>\n",
       "        <td>12345</td>\n",
       "        <td>CS-347</td>\n",
       "        <td>1</td>\n",
       "        <td>Fall</td>\n",
       "        <td>2017</td>\n",
       "        <td>A</td>\n",
       "    </tr>\n",
       "    <tr>\n",
       "        <td>19991</td>\n",
       "        <td>HIS-351</td>\n",
       "        <td>1</td>\n",
       "        <td>Spring</td>\n",
       "        <td>2018</td>\n",
       "        <td>B</td>\n",
       "    </tr>\n",
       "    <tr>\n",
       "        <td>23121</td>\n",
       "        <td>FIN-201</td>\n",
       "        <td>1</td>\n",
       "        <td>Spring</td>\n",
       "        <td>2018</td>\n",
       "        <td>C+</td>\n",
       "    </tr>\n",
       "    <tr>\n",
       "        <td>44553</td>\n",
       "        <td>PHY-101</td>\n",
       "        <td>1</td>\n",
       "        <td>Fall</td>\n",
       "        <td>2017</td>\n",
       "        <td>B-</td>\n",
       "    </tr>\n",
       "    <tr>\n",
       "        <td>45678</td>\n",
       "        <td>CS-101</td>\n",
       "        <td>1</td>\n",
       "        <td>Fall</td>\n",
       "        <td>2017</td>\n",
       "        <td>F</td>\n",
       "    </tr>\n",
       "    <tr>\n",
       "        <td>45678</td>\n",
       "        <td>CS-101</td>\n",
       "        <td>1</td>\n",
       "        <td>Spring</td>\n",
       "        <td>2018</td>\n",
       "        <td>B+</td>\n",
       "    </tr>\n",
       "    <tr>\n",
       "        <td>45678</td>\n",
       "        <td>CS-319</td>\n",
       "        <td>1</td>\n",
       "        <td>Spring</td>\n",
       "        <td>2018</td>\n",
       "        <td>B</td>\n",
       "    </tr>\n",
       "    <tr>\n",
       "        <td>54321</td>\n",
       "        <td>CS-101</td>\n",
       "        <td>1</td>\n",
       "        <td>Fall</td>\n",
       "        <td>2017</td>\n",
       "        <td>A-</td>\n",
       "    </tr>\n",
       "    <tr>\n",
       "        <td>54321</td>\n",
       "        <td>CS-190</td>\n",
       "        <td>2</td>\n",
       "        <td>Spring</td>\n",
       "        <td>2017</td>\n",
       "        <td>B+</td>\n",
       "    </tr>\n",
       "    <tr>\n",
       "        <td>55739</td>\n",
       "        <td>MU-199</td>\n",
       "        <td>1</td>\n",
       "        <td>Spring</td>\n",
       "        <td>2018</td>\n",
       "        <td>A-</td>\n",
       "    </tr>\n",
       "    <tr>\n",
       "        <td>76543</td>\n",
       "        <td>CS-101</td>\n",
       "        <td>1</td>\n",
       "        <td>Fall</td>\n",
       "        <td>2017</td>\n",
       "        <td>A</td>\n",
       "    </tr>\n",
       "    <tr>\n",
       "        <td>76543</td>\n",
       "        <td>CS-319</td>\n",
       "        <td>2</td>\n",
       "        <td>Spring</td>\n",
       "        <td>2018</td>\n",
       "        <td>A</td>\n",
       "    </tr>\n",
       "    <tr>\n",
       "        <td>76653</td>\n",
       "        <td>EE-181</td>\n",
       "        <td>1</td>\n",
       "        <td>Spring</td>\n",
       "        <td>2017</td>\n",
       "        <td>C</td>\n",
       "    </tr>\n",
       "    <tr>\n",
       "        <td>98765</td>\n",
       "        <td>CS-101</td>\n",
       "        <td>1</td>\n",
       "        <td>Fall</td>\n",
       "        <td>2017</td>\n",
       "        <td>C-</td>\n",
       "    </tr>\n",
       "    <tr>\n",
       "        <td>98765</td>\n",
       "        <td>CS-315</td>\n",
       "        <td>1</td>\n",
       "        <td>Spring</td>\n",
       "        <td>2018</td>\n",
       "        <td>B</td>\n",
       "    </tr>\n",
       "    <tr>\n",
       "        <td>98988</td>\n",
       "        <td>BIO-101</td>\n",
       "        <td>1</td>\n",
       "        <td>Summer</td>\n",
       "        <td>2017</td>\n",
       "        <td>A</td>\n",
       "    </tr>\n",
       "    <tr>\n",
       "        <td>98988</td>\n",
       "        <td>BIO-301</td>\n",
       "        <td>1</td>\n",
       "        <td>Summer</td>\n",
       "        <td>2018</td>\n",
       "        <td>None</td>\n",
       "    </tr>\n",
       "</table>"
      ],
      "text/plain": [
       "[('00128', 'CS-101', '1', 'Fall', 2017, 'A'),\n",
       " ('00128', 'CS-347', '1', 'Fall', 2017, 'A-'),\n",
       " ('12345', 'CS-101', '1', 'Fall', 2017, 'C'),\n",
       " ('12345', 'CS-190', '2', 'Spring', 2017, 'A'),\n",
       " ('12345', 'CS-315', '1', 'Spring', 2018, 'A'),\n",
       " ('12345', 'CS-347', '1', 'Fall', 2017, 'A'),\n",
       " ('19991', 'HIS-351', '1', 'Spring', 2018, 'B'),\n",
       " ('23121', 'FIN-201', '1', 'Spring', 2018, 'C+'),\n",
       " ('44553', 'PHY-101', '1', 'Fall', 2017, 'B-'),\n",
       " ('45678', 'CS-101', '1', 'Fall', 2017, 'F'),\n",
       " ('45678', 'CS-101', '1', 'Spring', 2018, 'B+'),\n",
       " ('45678', 'CS-319', '1', 'Spring', 2018, 'B'),\n",
       " ('54321', 'CS-101', '1', 'Fall', 2017, 'A-'),\n",
       " ('54321', 'CS-190', '2', 'Spring', 2017, 'B+'),\n",
       " ('55739', 'MU-199', '1', 'Spring', 2018, 'A-'),\n",
       " ('76543', 'CS-101', '1', 'Fall', 2017, 'A'),\n",
       " ('76543', 'CS-319', '2', 'Spring', 2018, 'A'),\n",
       " ('76653', 'EE-181', '1', 'Spring', 2017, 'C'),\n",
       " ('98765', 'CS-101', '1', 'Fall', 2017, 'C-'),\n",
       " ('98765', 'CS-315', '1', 'Spring', 2018, 'B'),\n",
       " ('98988', 'BIO-101', '1', 'Summer', 2017, 'A'),\n",
       " ('98988', 'BIO-301', '1', 'Summer', 2018, None)]"
      ]
     },
     "execution_count": 10,
     "metadata": {},
     "output_type": "execute_result"
    }
   ],
   "source": [
    "%sql select * from takes"
   ]
  },
  {
   "cell_type": "code",
   "execution_count": 11,
   "metadata": {},
   "outputs": [
    {
     "name": "stdout",
     "output_type": "stream",
     "text": [
      " * sqlite:///db_univ7.db\n",
      "1 rows affected.\n"
     ]
    },
    {
     "data": {
      "text/plain": [
       "[]"
      ]
     },
     "execution_count": 11,
     "metadata": {},
     "output_type": "execute_result"
    }
   ],
   "source": [
    "%sql insert into takes values ('98988','BIO-399',1,'Summer','2018','A')"
   ]
  },
  {
   "cell_type": "code",
   "execution_count": 12,
   "metadata": {},
   "outputs": [
    {
     "name": "stdout",
     "output_type": "stream",
     "text": [
      " * sqlite:///db_univ7.db\n",
      "Done.\n"
     ]
    },
    {
     "data": {
      "text/html": [
       "<table>\n",
       "    <tr>\n",
       "        <th>ID</th>\n",
       "        <th>name</th>\n",
       "    </tr>\n",
       "    <tr>\n",
       "        <td>98988</td>\n",
       "        <td>Tanaka</td>\n",
       "    </tr>\n",
       "</table>"
      ],
      "text/plain": [
       "[('98988', 'Tanaka')]"
      ]
     },
     "execution_count": 12,
     "metadata": {},
     "output_type": "execute_result"
    }
   ],
   "source": [
    "%%sql select distinct S.ID, S.name\n",
    "from student as S\n",
    "where not exists (select course_id from course where dept_name = 'Biology' except\n",
    "                                select T.course_id from takes as T where S.ID = T.ID);"
   ]
  },
  {
   "cell_type": "code",
   "execution_count": 13,
   "metadata": {},
   "outputs": [
    {
     "name": "stdout",
     "output_type": "stream",
     "text": [
      " * sqlite:///db_univ7.db\n",
      "Done.\n"
     ]
    },
    {
     "data": {
      "text/html": [
       "<table>\n",
       "    <tr>\n",
       "        <th>ID</th>\n",
       "        <th>course_id</th>\n",
       "        <th>sec_id</th>\n",
       "        <th>semester</th>\n",
       "        <th>year</th>\n",
       "        <th>grade</th>\n",
       "    </tr>\n",
       "    <tr>\n",
       "        <td>00128</td>\n",
       "        <td>CS-101</td>\n",
       "        <td>1</td>\n",
       "        <td>Fall</td>\n",
       "        <td>2017</td>\n",
       "        <td>A</td>\n",
       "    </tr>\n",
       "    <tr>\n",
       "        <td>00128</td>\n",
       "        <td>CS-347</td>\n",
       "        <td>1</td>\n",
       "        <td>Fall</td>\n",
       "        <td>2017</td>\n",
       "        <td>A-</td>\n",
       "    </tr>\n",
       "    <tr>\n",
       "        <td>12345</td>\n",
       "        <td>CS-101</td>\n",
       "        <td>1</td>\n",
       "        <td>Fall</td>\n",
       "        <td>2017</td>\n",
       "        <td>C</td>\n",
       "    </tr>\n",
       "    <tr>\n",
       "        <td>12345</td>\n",
       "        <td>CS-190</td>\n",
       "        <td>2</td>\n",
       "        <td>Spring</td>\n",
       "        <td>2017</td>\n",
       "        <td>A</td>\n",
       "    </tr>\n",
       "    <tr>\n",
       "        <td>12345</td>\n",
       "        <td>CS-315</td>\n",
       "        <td>1</td>\n",
       "        <td>Spring</td>\n",
       "        <td>2018</td>\n",
       "        <td>A</td>\n",
       "    </tr>\n",
       "    <tr>\n",
       "        <td>12345</td>\n",
       "        <td>CS-347</td>\n",
       "        <td>1</td>\n",
       "        <td>Fall</td>\n",
       "        <td>2017</td>\n",
       "        <td>A</td>\n",
       "    </tr>\n",
       "    <tr>\n",
       "        <td>19991</td>\n",
       "        <td>HIS-351</td>\n",
       "        <td>1</td>\n",
       "        <td>Spring</td>\n",
       "        <td>2018</td>\n",
       "        <td>B</td>\n",
       "    </tr>\n",
       "    <tr>\n",
       "        <td>23121</td>\n",
       "        <td>FIN-201</td>\n",
       "        <td>1</td>\n",
       "        <td>Spring</td>\n",
       "        <td>2018</td>\n",
       "        <td>C+</td>\n",
       "    </tr>\n",
       "    <tr>\n",
       "        <td>44553</td>\n",
       "        <td>PHY-101</td>\n",
       "        <td>1</td>\n",
       "        <td>Fall</td>\n",
       "        <td>2017</td>\n",
       "        <td>B-</td>\n",
       "    </tr>\n",
       "    <tr>\n",
       "        <td>45678</td>\n",
       "        <td>CS-101</td>\n",
       "        <td>1</td>\n",
       "        <td>Fall</td>\n",
       "        <td>2017</td>\n",
       "        <td>F</td>\n",
       "    </tr>\n",
       "    <tr>\n",
       "        <td>45678</td>\n",
       "        <td>CS-101</td>\n",
       "        <td>1</td>\n",
       "        <td>Spring</td>\n",
       "        <td>2018</td>\n",
       "        <td>B+</td>\n",
       "    </tr>\n",
       "    <tr>\n",
       "        <td>45678</td>\n",
       "        <td>CS-319</td>\n",
       "        <td>1</td>\n",
       "        <td>Spring</td>\n",
       "        <td>2018</td>\n",
       "        <td>B</td>\n",
       "    </tr>\n",
       "    <tr>\n",
       "        <td>54321</td>\n",
       "        <td>CS-101</td>\n",
       "        <td>1</td>\n",
       "        <td>Fall</td>\n",
       "        <td>2017</td>\n",
       "        <td>A-</td>\n",
       "    </tr>\n",
       "    <tr>\n",
       "        <td>54321</td>\n",
       "        <td>CS-190</td>\n",
       "        <td>2</td>\n",
       "        <td>Spring</td>\n",
       "        <td>2017</td>\n",
       "        <td>B+</td>\n",
       "    </tr>\n",
       "    <tr>\n",
       "        <td>55739</td>\n",
       "        <td>MU-199</td>\n",
       "        <td>1</td>\n",
       "        <td>Spring</td>\n",
       "        <td>2018</td>\n",
       "        <td>A-</td>\n",
       "    </tr>\n",
       "    <tr>\n",
       "        <td>76543</td>\n",
       "        <td>CS-101</td>\n",
       "        <td>1</td>\n",
       "        <td>Fall</td>\n",
       "        <td>2017</td>\n",
       "        <td>A</td>\n",
       "    </tr>\n",
       "    <tr>\n",
       "        <td>76543</td>\n",
       "        <td>CS-319</td>\n",
       "        <td>2</td>\n",
       "        <td>Spring</td>\n",
       "        <td>2018</td>\n",
       "        <td>A</td>\n",
       "    </tr>\n",
       "    <tr>\n",
       "        <td>76653</td>\n",
       "        <td>EE-181</td>\n",
       "        <td>1</td>\n",
       "        <td>Spring</td>\n",
       "        <td>2017</td>\n",
       "        <td>C</td>\n",
       "    </tr>\n",
       "    <tr>\n",
       "        <td>98765</td>\n",
       "        <td>CS-101</td>\n",
       "        <td>1</td>\n",
       "        <td>Fall</td>\n",
       "        <td>2017</td>\n",
       "        <td>C-</td>\n",
       "    </tr>\n",
       "    <tr>\n",
       "        <td>98765</td>\n",
       "        <td>CS-315</td>\n",
       "        <td>1</td>\n",
       "        <td>Spring</td>\n",
       "        <td>2018</td>\n",
       "        <td>B</td>\n",
       "    </tr>\n",
       "    <tr>\n",
       "        <td>98988</td>\n",
       "        <td>BIO-101</td>\n",
       "        <td>1</td>\n",
       "        <td>Summer</td>\n",
       "        <td>2017</td>\n",
       "        <td>A</td>\n",
       "    </tr>\n",
       "    <tr>\n",
       "        <td>98988</td>\n",
       "        <td>BIO-301</td>\n",
       "        <td>1</td>\n",
       "        <td>Summer</td>\n",
       "        <td>2018</td>\n",
       "        <td>None</td>\n",
       "    </tr>\n",
       "    <tr>\n",
       "        <td>98988</td>\n",
       "        <td>BIO-399</td>\n",
       "        <td>1</td>\n",
       "        <td>Summer</td>\n",
       "        <td>2018</td>\n",
       "        <td>A</td>\n",
       "    </tr>\n",
       "</table>"
      ],
      "text/plain": [
       "[('00128', 'CS-101', '1', 'Fall', 2017, 'A'),\n",
       " ('00128', 'CS-347', '1', 'Fall', 2017, 'A-'),\n",
       " ('12345', 'CS-101', '1', 'Fall', 2017, 'C'),\n",
       " ('12345', 'CS-190', '2', 'Spring', 2017, 'A'),\n",
       " ('12345', 'CS-315', '1', 'Spring', 2018, 'A'),\n",
       " ('12345', 'CS-347', '1', 'Fall', 2017, 'A'),\n",
       " ('19991', 'HIS-351', '1', 'Spring', 2018, 'B'),\n",
       " ('23121', 'FIN-201', '1', 'Spring', 2018, 'C+'),\n",
       " ('44553', 'PHY-101', '1', 'Fall', 2017, 'B-'),\n",
       " ('45678', 'CS-101', '1', 'Fall', 2017, 'F'),\n",
       " ('45678', 'CS-101', '1', 'Spring', 2018, 'B+'),\n",
       " ('45678', 'CS-319', '1', 'Spring', 2018, 'B'),\n",
       " ('54321', 'CS-101', '1', 'Fall', 2017, 'A-'),\n",
       " ('54321', 'CS-190', '2', 'Spring', 2017, 'B+'),\n",
       " ('55739', 'MU-199', '1', 'Spring', 2018, 'A-'),\n",
       " ('76543', 'CS-101', '1', 'Fall', 2017, 'A'),\n",
       " ('76543', 'CS-319', '2', 'Spring', 2018, 'A'),\n",
       " ('76653', 'EE-181', '1', 'Spring', 2017, 'C'),\n",
       " ('98765', 'CS-101', '1', 'Fall', 2017, 'C-'),\n",
       " ('98765', 'CS-315', '1', 'Spring', 2018, 'B'),\n",
       " ('98988', 'BIO-101', '1', 'Summer', 2017, 'A'),\n",
       " ('98988', 'BIO-301', '1', 'Summer', 2018, None),\n",
       " ('98988', 'BIO-399', '1', 'Summer', 2018, 'A')]"
      ]
     },
     "execution_count": 13,
     "metadata": {},
     "output_type": "execute_result"
    }
   ],
   "source": [
    "%sql select * from takes"
   ]
  },
  {
   "cell_type": "code",
   "execution_count": 14,
   "metadata": {},
   "outputs": [
    {
     "name": "stdout",
     "output_type": "stream",
     "text": [
      " * sqlite:///db_univ7.db\n",
      "1 rows affected.\n"
     ]
    },
    {
     "data": {
      "text/plain": [
       "[]"
      ]
     },
     "execution_count": 14,
     "metadata": {},
     "output_type": "execute_result"
    }
   ],
   "source": [
    "%sql delete from takes where ID = '98988' and course_id = 'BIO-399'"
   ]
  },
  {
   "cell_type": "code",
   "execution_count": 15,
   "metadata": {},
   "outputs": [
    {
     "name": "stdout",
     "output_type": "stream",
     "text": [
      " * sqlite:///db_univ7.db\n",
      "Done.\n"
     ]
    },
    {
     "data": {
      "text/html": [
       "<table>\n",
       "    <tr>\n",
       "        <th>ID</th>\n",
       "        <th>course_id</th>\n",
       "        <th>sec_id</th>\n",
       "        <th>semester</th>\n",
       "        <th>year</th>\n",
       "        <th>grade</th>\n",
       "    </tr>\n",
       "    <tr>\n",
       "        <td>00128</td>\n",
       "        <td>CS-101</td>\n",
       "        <td>1</td>\n",
       "        <td>Fall</td>\n",
       "        <td>2017</td>\n",
       "        <td>A</td>\n",
       "    </tr>\n",
       "    <tr>\n",
       "        <td>00128</td>\n",
       "        <td>CS-347</td>\n",
       "        <td>1</td>\n",
       "        <td>Fall</td>\n",
       "        <td>2017</td>\n",
       "        <td>A-</td>\n",
       "    </tr>\n",
       "    <tr>\n",
       "        <td>12345</td>\n",
       "        <td>CS-101</td>\n",
       "        <td>1</td>\n",
       "        <td>Fall</td>\n",
       "        <td>2017</td>\n",
       "        <td>C</td>\n",
       "    </tr>\n",
       "    <tr>\n",
       "        <td>12345</td>\n",
       "        <td>CS-190</td>\n",
       "        <td>2</td>\n",
       "        <td>Spring</td>\n",
       "        <td>2017</td>\n",
       "        <td>A</td>\n",
       "    </tr>\n",
       "    <tr>\n",
       "        <td>12345</td>\n",
       "        <td>CS-315</td>\n",
       "        <td>1</td>\n",
       "        <td>Spring</td>\n",
       "        <td>2018</td>\n",
       "        <td>A</td>\n",
       "    </tr>\n",
       "    <tr>\n",
       "        <td>12345</td>\n",
       "        <td>CS-347</td>\n",
       "        <td>1</td>\n",
       "        <td>Fall</td>\n",
       "        <td>2017</td>\n",
       "        <td>A</td>\n",
       "    </tr>\n",
       "    <tr>\n",
       "        <td>19991</td>\n",
       "        <td>HIS-351</td>\n",
       "        <td>1</td>\n",
       "        <td>Spring</td>\n",
       "        <td>2018</td>\n",
       "        <td>B</td>\n",
       "    </tr>\n",
       "    <tr>\n",
       "        <td>23121</td>\n",
       "        <td>FIN-201</td>\n",
       "        <td>1</td>\n",
       "        <td>Spring</td>\n",
       "        <td>2018</td>\n",
       "        <td>C+</td>\n",
       "    </tr>\n",
       "    <tr>\n",
       "        <td>44553</td>\n",
       "        <td>PHY-101</td>\n",
       "        <td>1</td>\n",
       "        <td>Fall</td>\n",
       "        <td>2017</td>\n",
       "        <td>B-</td>\n",
       "    </tr>\n",
       "    <tr>\n",
       "        <td>45678</td>\n",
       "        <td>CS-101</td>\n",
       "        <td>1</td>\n",
       "        <td>Fall</td>\n",
       "        <td>2017</td>\n",
       "        <td>F</td>\n",
       "    </tr>\n",
       "    <tr>\n",
       "        <td>45678</td>\n",
       "        <td>CS-101</td>\n",
       "        <td>1</td>\n",
       "        <td>Spring</td>\n",
       "        <td>2018</td>\n",
       "        <td>B+</td>\n",
       "    </tr>\n",
       "    <tr>\n",
       "        <td>45678</td>\n",
       "        <td>CS-319</td>\n",
       "        <td>1</td>\n",
       "        <td>Spring</td>\n",
       "        <td>2018</td>\n",
       "        <td>B</td>\n",
       "    </tr>\n",
       "    <tr>\n",
       "        <td>54321</td>\n",
       "        <td>CS-101</td>\n",
       "        <td>1</td>\n",
       "        <td>Fall</td>\n",
       "        <td>2017</td>\n",
       "        <td>A-</td>\n",
       "    </tr>\n",
       "    <tr>\n",
       "        <td>54321</td>\n",
       "        <td>CS-190</td>\n",
       "        <td>2</td>\n",
       "        <td>Spring</td>\n",
       "        <td>2017</td>\n",
       "        <td>B+</td>\n",
       "    </tr>\n",
       "    <tr>\n",
       "        <td>55739</td>\n",
       "        <td>MU-199</td>\n",
       "        <td>1</td>\n",
       "        <td>Spring</td>\n",
       "        <td>2018</td>\n",
       "        <td>A-</td>\n",
       "    </tr>\n",
       "    <tr>\n",
       "        <td>76543</td>\n",
       "        <td>CS-101</td>\n",
       "        <td>1</td>\n",
       "        <td>Fall</td>\n",
       "        <td>2017</td>\n",
       "        <td>A</td>\n",
       "    </tr>\n",
       "    <tr>\n",
       "        <td>76543</td>\n",
       "        <td>CS-319</td>\n",
       "        <td>2</td>\n",
       "        <td>Spring</td>\n",
       "        <td>2018</td>\n",
       "        <td>A</td>\n",
       "    </tr>\n",
       "    <tr>\n",
       "        <td>76653</td>\n",
       "        <td>EE-181</td>\n",
       "        <td>1</td>\n",
       "        <td>Spring</td>\n",
       "        <td>2017</td>\n",
       "        <td>C</td>\n",
       "    </tr>\n",
       "    <tr>\n",
       "        <td>98765</td>\n",
       "        <td>CS-101</td>\n",
       "        <td>1</td>\n",
       "        <td>Fall</td>\n",
       "        <td>2017</td>\n",
       "        <td>C-</td>\n",
       "    </tr>\n",
       "    <tr>\n",
       "        <td>98765</td>\n",
       "        <td>CS-315</td>\n",
       "        <td>1</td>\n",
       "        <td>Spring</td>\n",
       "        <td>2018</td>\n",
       "        <td>B</td>\n",
       "    </tr>\n",
       "    <tr>\n",
       "        <td>98988</td>\n",
       "        <td>BIO-101</td>\n",
       "        <td>1</td>\n",
       "        <td>Summer</td>\n",
       "        <td>2017</td>\n",
       "        <td>A</td>\n",
       "    </tr>\n",
       "    <tr>\n",
       "        <td>98988</td>\n",
       "        <td>BIO-301</td>\n",
       "        <td>1</td>\n",
       "        <td>Summer</td>\n",
       "        <td>2018</td>\n",
       "        <td>None</td>\n",
       "    </tr>\n",
       "</table>"
      ],
      "text/plain": [
       "[('00128', 'CS-101', '1', 'Fall', 2017, 'A'),\n",
       " ('00128', 'CS-347', '1', 'Fall', 2017, 'A-'),\n",
       " ('12345', 'CS-101', '1', 'Fall', 2017, 'C'),\n",
       " ('12345', 'CS-190', '2', 'Spring', 2017, 'A'),\n",
       " ('12345', 'CS-315', '1', 'Spring', 2018, 'A'),\n",
       " ('12345', 'CS-347', '1', 'Fall', 2017, 'A'),\n",
       " ('19991', 'HIS-351', '1', 'Spring', 2018, 'B'),\n",
       " ('23121', 'FIN-201', '1', 'Spring', 2018, 'C+'),\n",
       " ('44553', 'PHY-101', '1', 'Fall', 2017, 'B-'),\n",
       " ('45678', 'CS-101', '1', 'Fall', 2017, 'F'),\n",
       " ('45678', 'CS-101', '1', 'Spring', 2018, 'B+'),\n",
       " ('45678', 'CS-319', '1', 'Spring', 2018, 'B'),\n",
       " ('54321', 'CS-101', '1', 'Fall', 2017, 'A-'),\n",
       " ('54321', 'CS-190', '2', 'Spring', 2017, 'B+'),\n",
       " ('55739', 'MU-199', '1', 'Spring', 2018, 'A-'),\n",
       " ('76543', 'CS-101', '1', 'Fall', 2017, 'A'),\n",
       " ('76543', 'CS-319', '2', 'Spring', 2018, 'A'),\n",
       " ('76653', 'EE-181', '1', 'Spring', 2017, 'C'),\n",
       " ('98765', 'CS-101', '1', 'Fall', 2017, 'C-'),\n",
       " ('98765', 'CS-315', '1', 'Spring', 2018, 'B'),\n",
       " ('98988', 'BIO-101', '1', 'Summer', 2017, 'A'),\n",
       " ('98988', 'BIO-301', '1', 'Summer', 2018, None)]"
      ]
     },
     "execution_count": 15,
     "metadata": {},
     "output_type": "execute_result"
    }
   ],
   "source": [
    "%sql select * from takes"
   ]
  },
  {
   "cell_type": "code",
   "execution_count": 16,
   "metadata": {},
   "outputs": [
    {
     "name": "stdout",
     "output_type": "stream",
     "text": [
      " * sqlite:///db_univ7.db\n",
      "Done.\n"
     ]
    },
    {
     "data": {
      "text/html": [
       "<table>\n",
       "    <tr>\n",
       "        <th>course_id</th>\n",
       "        <th>sec_id</th>\n",
       "        <th>semester</th>\n",
       "        <th>year</th>\n",
       "        <th>building</th>\n",
       "        <th>room_number</th>\n",
       "        <th>time_slot_id</th>\n",
       "    </tr>\n",
       "    <tr>\n",
       "        <td>BIO-101</td>\n",
       "        <td>1</td>\n",
       "        <td>Summer</td>\n",
       "        <td>2017</td>\n",
       "        <td>Painter</td>\n",
       "        <td>514</td>\n",
       "        <td>B</td>\n",
       "    </tr>\n",
       "    <tr>\n",
       "        <td>BIO-301</td>\n",
       "        <td>1</td>\n",
       "        <td>Summer</td>\n",
       "        <td>2018</td>\n",
       "        <td>Painter</td>\n",
       "        <td>514</td>\n",
       "        <td>A</td>\n",
       "    </tr>\n",
       "    <tr>\n",
       "        <td>CS-101</td>\n",
       "        <td>1</td>\n",
       "        <td>Fall</td>\n",
       "        <td>2017</td>\n",
       "        <td>Packard</td>\n",
       "        <td>101</td>\n",
       "        <td>H</td>\n",
       "    </tr>\n",
       "    <tr>\n",
       "        <td>CS-101</td>\n",
       "        <td>1</td>\n",
       "        <td>Spring</td>\n",
       "        <td>2018</td>\n",
       "        <td>Packard</td>\n",
       "        <td>101</td>\n",
       "        <td>F</td>\n",
       "    </tr>\n",
       "    <tr>\n",
       "        <td>CS-190</td>\n",
       "        <td>1</td>\n",
       "        <td>Spring</td>\n",
       "        <td>2017</td>\n",
       "        <td>Taylor</td>\n",
       "        <td>3128</td>\n",
       "        <td>E</td>\n",
       "    </tr>\n",
       "    <tr>\n",
       "        <td>CS-190</td>\n",
       "        <td>2</td>\n",
       "        <td>Spring</td>\n",
       "        <td>2017</td>\n",
       "        <td>Taylor</td>\n",
       "        <td>3128</td>\n",
       "        <td>A</td>\n",
       "    </tr>\n",
       "    <tr>\n",
       "        <td>CS-315</td>\n",
       "        <td>1</td>\n",
       "        <td>Spring</td>\n",
       "        <td>2018</td>\n",
       "        <td>Watson</td>\n",
       "        <td>120</td>\n",
       "        <td>D</td>\n",
       "    </tr>\n",
       "    <tr>\n",
       "        <td>CS-319</td>\n",
       "        <td>1</td>\n",
       "        <td>Spring</td>\n",
       "        <td>2018</td>\n",
       "        <td>Watson</td>\n",
       "        <td>100</td>\n",
       "        <td>B</td>\n",
       "    </tr>\n",
       "    <tr>\n",
       "        <td>CS-319</td>\n",
       "        <td>2</td>\n",
       "        <td>Spring</td>\n",
       "        <td>2018</td>\n",
       "        <td>Taylor</td>\n",
       "        <td>3128</td>\n",
       "        <td>C</td>\n",
       "    </tr>\n",
       "    <tr>\n",
       "        <td>CS-347</td>\n",
       "        <td>1</td>\n",
       "        <td>Fall</td>\n",
       "        <td>2017</td>\n",
       "        <td>Taylor</td>\n",
       "        <td>3128</td>\n",
       "        <td>A</td>\n",
       "    </tr>\n",
       "    <tr>\n",
       "        <td>EE-181</td>\n",
       "        <td>1</td>\n",
       "        <td>Spring</td>\n",
       "        <td>2017</td>\n",
       "        <td>Taylor</td>\n",
       "        <td>3128</td>\n",
       "        <td>C</td>\n",
       "    </tr>\n",
       "    <tr>\n",
       "        <td>FIN-201</td>\n",
       "        <td>1</td>\n",
       "        <td>Spring</td>\n",
       "        <td>2018</td>\n",
       "        <td>Packard</td>\n",
       "        <td>101</td>\n",
       "        <td>B</td>\n",
       "    </tr>\n",
       "    <tr>\n",
       "        <td>HIS-351</td>\n",
       "        <td>1</td>\n",
       "        <td>Spring</td>\n",
       "        <td>2018</td>\n",
       "        <td>Painter</td>\n",
       "        <td>514</td>\n",
       "        <td>C</td>\n",
       "    </tr>\n",
       "    <tr>\n",
       "        <td>MU-199</td>\n",
       "        <td>1</td>\n",
       "        <td>Spring</td>\n",
       "        <td>2018</td>\n",
       "        <td>Packard</td>\n",
       "        <td>101</td>\n",
       "        <td>D</td>\n",
       "    </tr>\n",
       "    <tr>\n",
       "        <td>PHY-101</td>\n",
       "        <td>1</td>\n",
       "        <td>Fall</td>\n",
       "        <td>2017</td>\n",
       "        <td>Watson</td>\n",
       "        <td>100</td>\n",
       "        <td>A</td>\n",
       "    </tr>\n",
       "</table>"
      ],
      "text/plain": [
       "[('BIO-101', '1', 'Summer', 2017, 'Painter', '514', 'B'),\n",
       " ('BIO-301', '1', 'Summer', 2018, 'Painter', '514', 'A'),\n",
       " ('CS-101', '1', 'Fall', 2017, 'Packard', '101', 'H'),\n",
       " ('CS-101', '1', 'Spring', 2018, 'Packard', '101', 'F'),\n",
       " ('CS-190', '1', 'Spring', 2017, 'Taylor', '3128', 'E'),\n",
       " ('CS-190', '2', 'Spring', 2017, 'Taylor', '3128', 'A'),\n",
       " ('CS-315', '1', 'Spring', 2018, 'Watson', '120', 'D'),\n",
       " ('CS-319', '1', 'Spring', 2018, 'Watson', '100', 'B'),\n",
       " ('CS-319', '2', 'Spring', 2018, 'Taylor', '3128', 'C'),\n",
       " ('CS-347', '1', 'Fall', 2017, 'Taylor', '3128', 'A'),\n",
       " ('EE-181', '1', 'Spring', 2017, 'Taylor', '3128', 'C'),\n",
       " ('FIN-201', '1', 'Spring', 2018, 'Packard', '101', 'B'),\n",
       " ('HIS-351', '1', 'Spring', 2018, 'Painter', '514', 'C'),\n",
       " ('MU-199', '1', 'Spring', 2018, 'Packard', '101', 'D'),\n",
       " ('PHY-101', '1', 'Fall', 2017, 'Watson', '100', 'A')]"
      ]
     },
     "execution_count": 16,
     "metadata": {},
     "output_type": "execute_result"
    }
   ],
   "source": [
    "%sql select * from section"
   ]
  },
  {
   "cell_type": "code",
   "execution_count": 17,
   "metadata": {},
   "outputs": [
    {
     "name": "stdout",
     "output_type": "stream",
     "text": [
      " * sqlite:///db_univ7.db\n",
      "(sqlite3.OperationalError) near \"unique\": syntax error\n",
      "[SQL: select T.course_id from course as T \n",
      "where unique (select R.course_id\n",
      "              from section as R\n",
      "              where T.course_id= R.course_id\n",
      "              and R.year = 2009);]\n",
      "(Background on this error at: http://sqlalche.me/e/13/e3q8)\n"
     ]
    }
   ],
   "source": [
    "%%sql select T.course_id \n",
    "from course as T \n",
    "where unique (select R.course_id\n",
    "              from section as R\n",
    "              where T.course_id= R.course_id\n",
    "              and R.year = 2009);  "
   ]
  },
  {
   "cell_type": "code",
   "execution_count": 18,
   "metadata": {},
   "outputs": [
    {
     "name": "stdout",
     "output_type": "stream",
     "text": [
      " * sqlite:///db_univ7.db\n",
      "Done.\n"
     ]
    },
    {
     "data": {
      "text/html": [
       "<table>\n",
       "    <tr>\n",
       "        <th>course_id</th>\n",
       "    </tr>\n",
       "    <tr>\n",
       "        <td>BIO-101</td>\n",
       "    </tr>\n",
       "    <tr>\n",
       "        <td>BIO-301</td>\n",
       "    </tr>\n",
       "    <tr>\n",
       "        <td>BIO-399</td>\n",
       "    </tr>\n",
       "    <tr>\n",
       "        <td>CS-101</td>\n",
       "    </tr>\n",
       "    <tr>\n",
       "        <td>CS-190</td>\n",
       "    </tr>\n",
       "    <tr>\n",
       "        <td>CS-315</td>\n",
       "    </tr>\n",
       "    <tr>\n",
       "        <td>CS-319</td>\n",
       "    </tr>\n",
       "    <tr>\n",
       "        <td>CS-347</td>\n",
       "    </tr>\n",
       "    <tr>\n",
       "        <td>EE-181</td>\n",
       "    </tr>\n",
       "    <tr>\n",
       "        <td>FIN-201</td>\n",
       "    </tr>\n",
       "    <tr>\n",
       "        <td>HIS-351</td>\n",
       "    </tr>\n",
       "    <tr>\n",
       "        <td>MU-199</td>\n",
       "    </tr>\n",
       "    <tr>\n",
       "        <td>PHY-101</td>\n",
       "    </tr>\n",
       "</table>"
      ],
      "text/plain": [
       "[('BIO-101',),\n",
       " ('BIO-301',),\n",
       " ('BIO-399',),\n",
       " ('CS-101',),\n",
       " ('CS-190',),\n",
       " ('CS-315',),\n",
       " ('CS-319',),\n",
       " ('CS-347',),\n",
       " ('EE-181',),\n",
       " ('FIN-201',),\n",
       " ('HIS-351',),\n",
       " ('MU-199',),\n",
       " ('PHY-101',)]"
      ]
     },
     "execution_count": 18,
     "metadata": {},
     "output_type": "execute_result"
    }
   ],
   "source": [
    "%%sql select T.course_id \n",
    "from course as T \n",
    "where 1>= (select count(R.course_id)\n",
    "              from section as R\n",
    "              where T.course_id= R.course_id\n",
    "              and R.year = 2009);  "
   ]
  },
  {
   "cell_type": "code",
   "execution_count": 19,
   "metadata": {},
   "outputs": [
    {
     "name": "stdout",
     "output_type": "stream",
     "text": [
      " * sqlite:///db_univ7.db\n",
      "Done.\n"
     ]
    },
    {
     "data": {
      "text/html": [
       "<table>\n",
       "    <tr>\n",
       "        <th>dept_name</th>\n",
       "        <th>avg_salary</th>\n",
       "    </tr>\n",
       "    <tr>\n",
       "        <td>Biology</td>\n",
       "        <td>84000.0</td>\n",
       "    </tr>\n",
       "    <tr>\n",
       "        <td>Comp. Sci.</td>\n",
       "        <td>77333.33333333333</td>\n",
       "    </tr>\n",
       "    <tr>\n",
       "        <td>Elec. Eng.</td>\n",
       "        <td>80000.0</td>\n",
       "    </tr>\n",
       "    <tr>\n",
       "        <td>Finance</td>\n",
       "        <td>85000.0</td>\n",
       "    </tr>\n",
       "    <tr>\n",
       "        <td>History</td>\n",
       "        <td>61000.0</td>\n",
       "    </tr>\n",
       "    <tr>\n",
       "        <td>Physics</td>\n",
       "        <td>91000.0</td>\n",
       "    </tr>\n",
       "</table>"
      ],
      "text/plain": [
       "[('Biology', 84000.0),\n",
       " ('Comp. Sci.', 77333.33333333333),\n",
       " ('Elec. Eng.', 80000.0),\n",
       " ('Finance', 85000.0),\n",
       " ('History', 61000.0),\n",
       " ('Physics', 91000.0)]"
      ]
     },
     "execution_count": 19,
     "metadata": {},
     "output_type": "execute_result"
    }
   ],
   "source": [
    "%%sql \n",
    "select dept_name, avg_salary \n",
    "from (select dept_name, avg (salary) as avg_salary from instructor group by dept_name) \n",
    "where avg_salary > 42000;"
   ]
  },
  {
   "cell_type": "code",
   "execution_count": 20,
   "metadata": {},
   "outputs": [
    {
     "name": "stdout",
     "output_type": "stream",
     "text": [
      " * sqlite:///db_univ7.db\n",
      "Done.\n"
     ]
    },
    {
     "data": {
      "text/html": [
       "<table>\n",
       "    <tr>\n",
       "        <th>MM</th>\n",
       "        <th>dept_name</th>\n",
       "        <th>building</th>\n",
       "        <th>budget</th>\n",
       "    </tr>\n",
       "    <tr>\n",
       "        <td>120000</td>\n",
       "        <td>Finance</td>\n",
       "        <td>Painter</td>\n",
       "        <td>120000</td>\n",
       "    </tr>\n",
       "</table>"
      ],
      "text/plain": [
       "[(120000, 'Finance', 'Painter', 120000)]"
      ]
     },
     "execution_count": 20,
     "metadata": {},
     "output_type": "execute_result"
    }
   ],
   "source": [
    "%%sql\n",
    "with maxBudget (MM) as (select max(budget) from department)\n",
    "select * from maxBudget as M, department as D\n",
    "where M.MM = D.budget"
   ]
  },
  {
   "cell_type": "code",
   "execution_count": 21,
   "metadata": {},
   "outputs": [
    {
     "name": "stdout",
     "output_type": "stream",
     "text": [
      " * sqlite:///db_univ7.db\n",
      "Done.\n"
     ]
    },
    {
     "data": {
      "text/html": [
       "<table>\n",
       "    <tr>\n",
       "        <th>dept_name</th>\n",
       "        <th>budget</th>\n",
       "    </tr>\n",
       "    <tr>\n",
       "        <td>Finance</td>\n",
       "        <td>120000</td>\n",
       "    </tr>\n",
       "</table>"
      ],
      "text/plain": [
       "[('Finance', 120000)]"
      ]
     },
     "execution_count": 21,
     "metadata": {},
     "output_type": "execute_result"
    }
   ],
   "source": [
    "%%sql \n",
    "with max_budget (mbudget) as (select max(budget) from department) \n",
    "select dept_name, budget \n",
    "from department, max_budget \n",
    "where department.budget = max_budget.mbudget;"
   ]
  },
  {
   "cell_type": "code",
   "execution_count": 22,
   "metadata": {},
   "outputs": [
    {
     "name": "stdout",
     "output_type": "stream",
     "text": [
      " * sqlite:///db_univ7.db\n",
      "(sqlite3.OperationalError) no such table: maxBudget\n",
      "[SQL: select * from maxBudget]\n",
      "(Background on this error at: http://sqlalche.me/e/13/e3q8)\n"
     ]
    }
   ],
   "source": [
    "%sql select * from maxBudget"
   ]
  },
  {
   "cell_type": "code",
   "execution_count": 23,
   "metadata": {},
   "outputs": [
    {
     "name": "stdout",
     "output_type": "stream",
     "text": [
      " * sqlite:///db_univ7.db\n",
      "Done.\n"
     ]
    },
    {
     "data": {
      "text/html": [
       "<table>\n",
       "    <tr>\n",
       "        <th>dept_name</th>\n",
       "    </tr>\n",
       "    <tr>\n",
       "        <td>Biology</td>\n",
       "    </tr>\n",
       "    <tr>\n",
       "        <td>Comp. Sci.</td>\n",
       "    </tr>\n",
       "    <tr>\n",
       "        <td>Finance</td>\n",
       "    </tr>\n",
       "    <tr>\n",
       "        <td>Physics</td>\n",
       "    </tr>\n",
       "</table>"
      ],
      "text/plain": [
       "[('Biology',), ('Comp. Sci.',), ('Finance',), ('Physics',)]"
      ]
     },
     "execution_count": 23,
     "metadata": {},
     "output_type": "execute_result"
    }
   ],
   "source": [
    "%%sql with dept_total (dept_name, value) as \n",
    "(select dept_name, sum(salary) \n",
    " from instructor group by dept_name),\n",
    "dept_total_avg(value) as \n",
    "(select avg(value) \n",
    " from dept_total)\n",
    "select dept_name \n",
    "from dept_total, dept_total_avg \n",
    "where dept_total.value >= dept_total_avg.value;"
   ]
  },
  {
   "cell_type": "code",
   "execution_count": 24,
   "metadata": {},
   "outputs": [
    {
     "name": "stdout",
     "output_type": "stream",
     "text": [
      " * sqlite:///db_univ7.db\n",
      "Done.\n"
     ]
    },
    {
     "data": {
      "text/html": [
       "<table>\n",
       "    <tr>\n",
       "        <th>dept_name</th>\n",
       "        <th>building</th>\n",
       "        <th>budget</th>\n",
       "    </tr>\n",
       "    <tr>\n",
       "        <td>Biology</td>\n",
       "        <td>Watson</td>\n",
       "        <td>90000</td>\n",
       "    </tr>\n",
       "    <tr>\n",
       "        <td>Comp. Sci.</td>\n",
       "        <td>Taylor</td>\n",
       "        <td>100000</td>\n",
       "    </tr>\n",
       "    <tr>\n",
       "        <td>Elec. Eng.</td>\n",
       "        <td>Taylor</td>\n",
       "        <td>85000</td>\n",
       "    </tr>\n",
       "    <tr>\n",
       "        <td>Finance</td>\n",
       "        <td>Painter</td>\n",
       "        <td>120000</td>\n",
       "    </tr>\n",
       "    <tr>\n",
       "        <td>History</td>\n",
       "        <td>Painter</td>\n",
       "        <td>50000</td>\n",
       "    </tr>\n",
       "    <tr>\n",
       "        <td>Music</td>\n",
       "        <td>Packard</td>\n",
       "        <td>80000</td>\n",
       "    </tr>\n",
       "    <tr>\n",
       "        <td>Physics</td>\n",
       "        <td>Watson</td>\n",
       "        <td>70000</td>\n",
       "    </tr>\n",
       "</table>"
      ],
      "text/plain": [
       "[('Biology', 'Watson', 90000),\n",
       " ('Comp. Sci.', 'Taylor', 100000),\n",
       " ('Elec. Eng.', 'Taylor', 85000),\n",
       " ('Finance', 'Painter', 120000),\n",
       " ('History', 'Painter', 50000),\n",
       " ('Music', 'Packard', 80000),\n",
       " ('Physics', 'Watson', 70000)]"
      ]
     },
     "execution_count": 24,
     "metadata": {},
     "output_type": "execute_result"
    }
   ],
   "source": [
    "%sql select * from department"
   ]
  },
  {
   "cell_type": "code",
   "execution_count": 25,
   "metadata": {},
   "outputs": [
    {
     "name": "stdout",
     "output_type": "stream",
     "text": [
      " * sqlite:///db_univ7.db\n",
      "Done.\n"
     ]
    },
    {
     "data": {
      "text/html": [
       "<table>\n",
       "    <tr>\n",
       "        <th>dept_name</th>\n",
       "        <th>num_instructors</th>\n",
       "    </tr>\n",
       "    <tr>\n",
       "        <td>Biology</td>\n",
       "        <td>3</td>\n",
       "    </tr>\n",
       "    <tr>\n",
       "        <td>Comp. Sci.</td>\n",
       "        <td>3</td>\n",
       "    </tr>\n",
       "    <tr>\n",
       "        <td>Elec. Eng.</td>\n",
       "        <td>1</td>\n",
       "    </tr>\n",
       "    <tr>\n",
       "        <td>Finance</td>\n",
       "        <td>2</td>\n",
       "    </tr>\n",
       "    <tr>\n",
       "        <td>History</td>\n",
       "        <td>2</td>\n",
       "    </tr>\n",
       "    <tr>\n",
       "        <td>Music</td>\n",
       "        <td>1</td>\n",
       "    </tr>\n",
       "    <tr>\n",
       "        <td>Physics</td>\n",
       "        <td>2</td>\n",
       "    </tr>\n",
       "</table>"
      ],
      "text/plain": [
       "[('Biology', 3),\n",
       " ('Comp. Sci.', 3),\n",
       " ('Elec. Eng.', 1),\n",
       " ('Finance', 2),\n",
       " ('History', 2),\n",
       " ('Music', 1),\n",
       " ('Physics', 2)]"
      ]
     },
     "execution_count": 25,
     "metadata": {},
     "output_type": "execute_result"
    }
   ],
   "source": [
    "%%sql select dept_name, \n",
    "(select count(*) \n",
    " from instructor \n",
    " where department.dept_name = instructor.dept_name)\n",
    "as num_instructors\n",
    "from department;"
   ]
  },
  {
   "cell_type": "code",
   "execution_count": 26,
   "metadata": {},
   "outputs": [],
   "source": [
    "%sql sqlite:///db_univ7_2.db"
   ]
  },
  {
   "cell_type": "code",
   "execution_count": 27,
   "metadata": {},
   "outputs": [
    {
     "name": "stdout",
     "output_type": "stream",
     "text": [
      "   sqlite:///db_univ7.db\n",
      " * sqlite:///db_univ7_2.db\n",
      "2 rows affected.\n"
     ]
    },
    {
     "data": {
      "text/plain": [
       "[]"
      ]
     },
     "execution_count": 27,
     "metadata": {},
     "output_type": "execute_result"
    }
   ],
   "source": [
    "%%sql delete from instructor\n",
    "where dept_name= 'Finance';"
   ]
  },
  {
   "cell_type": "code",
   "execution_count": 28,
   "metadata": {},
   "outputs": [
    {
     "name": "stdout",
     "output_type": "stream",
     "text": [
      "   sqlite:///db_univ7.db\n",
      " * sqlite:///db_univ7_2.db\n",
      "Done.\n"
     ]
    },
    {
     "data": {
      "text/html": [
       "<table>\n",
       "    <tr>\n",
       "        <th>ID</th>\n",
       "        <th>name</th>\n",
       "        <th>dept_name</th>\n",
       "        <th>salary</th>\n",
       "    </tr>\n",
       "    <tr>\n",
       "        <td>10101</td>\n",
       "        <td>Srinivasan</td>\n",
       "        <td>Comp. Sci.</td>\n",
       "        <td>65000</td>\n",
       "    </tr>\n",
       "    <tr>\n",
       "        <td>15151</td>\n",
       "        <td>Mozart</td>\n",
       "        <td>Music</td>\n",
       "        <td>40000</td>\n",
       "    </tr>\n",
       "    <tr>\n",
       "        <td>22222</td>\n",
       "        <td>Einstein</td>\n",
       "        <td>Physics</td>\n",
       "        <td>95000</td>\n",
       "    </tr>\n",
       "    <tr>\n",
       "        <td>32343</td>\n",
       "        <td>El Said</td>\n",
       "        <td>History</td>\n",
       "        <td>60000</td>\n",
       "    </tr>\n",
       "    <tr>\n",
       "        <td>33456</td>\n",
       "        <td>Gold</td>\n",
       "        <td>Physics</td>\n",
       "        <td>87000</td>\n",
       "    </tr>\n",
       "    <tr>\n",
       "        <td>45565</td>\n",
       "        <td>Katz</td>\n",
       "        <td>Comp. Sci.</td>\n",
       "        <td>75000</td>\n",
       "    </tr>\n",
       "    <tr>\n",
       "        <td>58583</td>\n",
       "        <td>Califieri</td>\n",
       "        <td>History</td>\n",
       "        <td>62000</td>\n",
       "    </tr>\n",
       "    <tr>\n",
       "        <td>76766</td>\n",
       "        <td>Crick</td>\n",
       "        <td>Biology</td>\n",
       "        <td>72000</td>\n",
       "    </tr>\n",
       "    <tr>\n",
       "        <td>83821</td>\n",
       "        <td>Brandt</td>\n",
       "        <td>Comp. Sci.</td>\n",
       "        <td>92000</td>\n",
       "    </tr>\n",
       "    <tr>\n",
       "        <td>98345</td>\n",
       "        <td>Kim</td>\n",
       "        <td>Elec. Eng.</td>\n",
       "        <td>80000</td>\n",
       "    </tr>\n",
       "    <tr>\n",
       "        <td>99998</td>\n",
       "        <td>Lee%</td>\n",
       "        <td>Biology</td>\n",
       "        <td>90000</td>\n",
       "    </tr>\n",
       "    <tr>\n",
       "        <td>99999</td>\n",
       "        <td>Lee2</td>\n",
       "        <td>Biology</td>\n",
       "        <td>90000</td>\n",
       "    </tr>\n",
       "</table>"
      ],
      "text/plain": [
       "[('10101', 'Srinivasan', 'Comp. Sci.', 65000),\n",
       " ('15151', 'Mozart', 'Music', 40000),\n",
       " ('22222', 'Einstein', 'Physics', 95000),\n",
       " ('32343', 'El Said', 'History', 60000),\n",
       " ('33456', 'Gold', 'Physics', 87000),\n",
       " ('45565', 'Katz', 'Comp. Sci.', 75000),\n",
       " ('58583', 'Califieri', 'History', 62000),\n",
       " ('76766', 'Crick', 'Biology', 72000),\n",
       " ('83821', 'Brandt', 'Comp. Sci.', 92000),\n",
       " ('98345', 'Kim', 'Elec. Eng.', 80000),\n",
       " ('99998', 'Lee%', 'Biology', 90000),\n",
       " ('99999', 'Lee2', 'Biology', 90000)]"
      ]
     },
     "execution_count": 28,
     "metadata": {},
     "output_type": "execute_result"
    }
   ],
   "source": [
    "%sql select * from instructor"
   ]
  },
  {
   "cell_type": "code",
   "execution_count": 30,
   "metadata": {},
   "outputs": [
    {
     "name": "stdout",
     "output_type": "stream",
     "text": [
      "   sqlite:///db_univ7.db\n",
      " * sqlite:///db_univ7_2.db\n",
      "Done.\n"
     ]
    },
    {
     "data": {
      "text/html": [
       "<table>\n",
       "    <tr>\n",
       "        <th>dept_name</th>\n",
       "        <th>building</th>\n",
       "        <th>budget</th>\n",
       "    </tr>\n",
       "    <tr>\n",
       "        <td>Biology</td>\n",
       "        <td>Watson</td>\n",
       "        <td>90000</td>\n",
       "    </tr>\n",
       "    <tr>\n",
       "        <td>Comp. Sci.</td>\n",
       "        <td>Taylor</td>\n",
       "        <td>100000</td>\n",
       "    </tr>\n",
       "    <tr>\n",
       "        <td>Elec. Eng.</td>\n",
       "        <td>Taylor</td>\n",
       "        <td>85000</td>\n",
       "    </tr>\n",
       "    <tr>\n",
       "        <td>Finance</td>\n",
       "        <td>Painter</td>\n",
       "        <td>120000</td>\n",
       "    </tr>\n",
       "    <tr>\n",
       "        <td>History</td>\n",
       "        <td>Painter</td>\n",
       "        <td>50000</td>\n",
       "    </tr>\n",
       "    <tr>\n",
       "        <td>Music</td>\n",
       "        <td>Packard</td>\n",
       "        <td>80000</td>\n",
       "    </tr>\n",
       "    <tr>\n",
       "        <td>Physics</td>\n",
       "        <td>Watson</td>\n",
       "        <td>70000</td>\n",
       "    </tr>\n",
       "</table>"
      ],
      "text/plain": [
       "[('Biology', 'Watson', 90000),\n",
       " ('Comp. Sci.', 'Taylor', 100000),\n",
       " ('Elec. Eng.', 'Taylor', 85000),\n",
       " ('Finance', 'Painter', 120000),\n",
       " ('History', 'Painter', 50000),\n",
       " ('Music', 'Packard', 80000),\n",
       " ('Physics', 'Watson', 70000)]"
      ]
     },
     "execution_count": 30,
     "metadata": {},
     "output_type": "execute_result"
    }
   ],
   "source": [
    "%sql select * from department"
   ]
  },
  {
   "cell_type": "code",
   "execution_count": 31,
   "metadata": {},
   "outputs": [
    {
     "name": "stdout",
     "output_type": "stream",
     "text": [
      "   sqlite:///db_univ7.db\n",
      " * sqlite:///db_univ7_2.db\n",
      "5 rows affected.\n"
     ]
    },
    {
     "data": {
      "text/plain": [
       "[]"
      ]
     },
     "execution_count": 31,
     "metadata": {},
     "output_type": "execute_result"
    }
   ],
   "source": [
    "%%sql delete from instructor \n",
    "where dept_name in (select dept_name from department where building = 'Watson');"
   ]
  },
  {
   "cell_type": "code",
   "execution_count": 32,
   "metadata": {},
   "outputs": [
    {
     "name": "stdout",
     "output_type": "stream",
     "text": [
      "   sqlite:///db_univ7.db\n",
      " * sqlite:///db_univ7_2.db\n",
      "Done.\n"
     ]
    },
    {
     "data": {
      "text/html": [
       "<table>\n",
       "    <tr>\n",
       "        <th>ID</th>\n",
       "        <th>name</th>\n",
       "        <th>dept_name</th>\n",
       "        <th>salary</th>\n",
       "    </tr>\n",
       "    <tr>\n",
       "        <td>10101</td>\n",
       "        <td>Srinivasan</td>\n",
       "        <td>Comp. Sci.</td>\n",
       "        <td>65000</td>\n",
       "    </tr>\n",
       "    <tr>\n",
       "        <td>15151</td>\n",
       "        <td>Mozart</td>\n",
       "        <td>Music</td>\n",
       "        <td>40000</td>\n",
       "    </tr>\n",
       "    <tr>\n",
       "        <td>32343</td>\n",
       "        <td>El Said</td>\n",
       "        <td>History</td>\n",
       "        <td>60000</td>\n",
       "    </tr>\n",
       "    <tr>\n",
       "        <td>45565</td>\n",
       "        <td>Katz</td>\n",
       "        <td>Comp. Sci.</td>\n",
       "        <td>75000</td>\n",
       "    </tr>\n",
       "    <tr>\n",
       "        <td>58583</td>\n",
       "        <td>Califieri</td>\n",
       "        <td>History</td>\n",
       "        <td>62000</td>\n",
       "    </tr>\n",
       "    <tr>\n",
       "        <td>83821</td>\n",
       "        <td>Brandt</td>\n",
       "        <td>Comp. Sci.</td>\n",
       "        <td>92000</td>\n",
       "    </tr>\n",
       "    <tr>\n",
       "        <td>98345</td>\n",
       "        <td>Kim</td>\n",
       "        <td>Elec. Eng.</td>\n",
       "        <td>80000</td>\n",
       "    </tr>\n",
       "</table>"
      ],
      "text/plain": [
       "[('10101', 'Srinivasan', 'Comp. Sci.', 65000),\n",
       " ('15151', 'Mozart', 'Music', 40000),\n",
       " ('32343', 'El Said', 'History', 60000),\n",
       " ('45565', 'Katz', 'Comp. Sci.', 75000),\n",
       " ('58583', 'Califieri', 'History', 62000),\n",
       " ('83821', 'Brandt', 'Comp. Sci.', 92000),\n",
       " ('98345', 'Kim', 'Elec. Eng.', 80000)]"
      ]
     },
     "execution_count": 32,
     "metadata": {},
     "output_type": "execute_result"
    }
   ],
   "source": [
    "%sql select * from instructor"
   ]
  },
  {
   "cell_type": "code",
   "execution_count": 33,
   "metadata": {},
   "outputs": [
    {
     "name": "stdout",
     "output_type": "stream",
     "text": [
      "   sqlite:///db_univ7.db\n",
      " * sqlite:///db_univ7_2.db\n",
      "4 rows affected.\n"
     ]
    },
    {
     "data": {
      "text/plain": [
       "[]"
      ]
     },
     "execution_count": 33,
     "metadata": {},
     "output_type": "execute_result"
    }
   ],
   "source": [
    "%%sql delete from instructor\n",
    "where salary < (select avg (salary) \n",
    "                           from instructor);\n"
   ]
  },
  {
   "cell_type": "code",
   "execution_count": 34,
   "metadata": {},
   "outputs": [
    {
     "name": "stdout",
     "output_type": "stream",
     "text": [
      "   sqlite:///db_univ7.db\n",
      " * sqlite:///db_univ7_2.db\n",
      "Done.\n"
     ]
    },
    {
     "data": {
      "text/html": [
       "<table>\n",
       "    <tr>\n",
       "        <th>ID</th>\n",
       "        <th>name</th>\n",
       "        <th>dept_name</th>\n",
       "        <th>salary</th>\n",
       "    </tr>\n",
       "    <tr>\n",
       "        <td>45565</td>\n",
       "        <td>Katz</td>\n",
       "        <td>Comp. Sci.</td>\n",
       "        <td>75000</td>\n",
       "    </tr>\n",
       "    <tr>\n",
       "        <td>83821</td>\n",
       "        <td>Brandt</td>\n",
       "        <td>Comp. Sci.</td>\n",
       "        <td>92000</td>\n",
       "    </tr>\n",
       "    <tr>\n",
       "        <td>98345</td>\n",
       "        <td>Kim</td>\n",
       "        <td>Elec. Eng.</td>\n",
       "        <td>80000</td>\n",
       "    </tr>\n",
       "</table>"
      ],
      "text/plain": [
       "[('45565', 'Katz', 'Comp. Sci.', 75000),\n",
       " ('83821', 'Brandt', 'Comp. Sci.', 92000),\n",
       " ('98345', 'Kim', 'Elec. Eng.', 80000)]"
      ]
     },
     "execution_count": 34,
     "metadata": {},
     "output_type": "execute_result"
    }
   ],
   "source": [
    "%sql select * from instructor"
   ]
  },
  {
   "cell_type": "code",
   "execution_count": 38,
   "metadata": {},
   "outputs": [
    {
     "name": "stdout",
     "output_type": "stream",
     "text": [
      "   sqlite:///db_univ7.db\n",
      " * sqlite:///db_univ7_2.db\n",
      "1 rows affected.\n"
     ]
    },
    {
     "data": {
      "text/plain": [
       "[]"
      ]
     },
     "execution_count": 38,
     "metadata": {},
     "output_type": "execute_result"
    }
   ],
   "source": [
    "%%sql insert into instructor select ID, name, dept_name, 38000 \n",
    "from   student where  dept_name = 'Comp. Sci.' and tot_cred > 74;"
   ]
  },
  {
   "cell_type": "code",
   "execution_count": 40,
   "metadata": {},
   "outputs": [
    {
     "name": "stdout",
     "output_type": "stream",
     "text": [
      "   sqlite:///db_univ7.db\n",
      " * sqlite:///db_univ7_2.db\n",
      "Done.\n"
     ]
    },
    {
     "data": {
      "text/html": [
       "<table>\n",
       "    <tr>\n",
       "        <th>ID</th>\n",
       "        <th>name</th>\n",
       "        <th>dept_name</th>\n",
       "        <th>tot_cred</th>\n",
       "    </tr>\n",
       "    <tr>\n",
       "        <td>00128</td>\n",
       "        <td>Zhang</td>\n",
       "        <td>Comp. Sci.</td>\n",
       "        <td>102</td>\n",
       "    </tr>\n",
       "    <tr>\n",
       "        <td>12345</td>\n",
       "        <td>Shankar</td>\n",
       "        <td>Comp. Sci.</td>\n",
       "        <td>32</td>\n",
       "    </tr>\n",
       "    <tr>\n",
       "        <td>19991</td>\n",
       "        <td>Brandt</td>\n",
       "        <td>History</td>\n",
       "        <td>80</td>\n",
       "    </tr>\n",
       "    <tr>\n",
       "        <td>23121</td>\n",
       "        <td>Chavez</td>\n",
       "        <td>Finance</td>\n",
       "        <td>110</td>\n",
       "    </tr>\n",
       "    <tr>\n",
       "        <td>44553</td>\n",
       "        <td>Peltier</td>\n",
       "        <td>Physics</td>\n",
       "        <td>56</td>\n",
       "    </tr>\n",
       "    <tr>\n",
       "        <td>45678</td>\n",
       "        <td>Levy</td>\n",
       "        <td>Physics</td>\n",
       "        <td>46</td>\n",
       "    </tr>\n",
       "    <tr>\n",
       "        <td>54321</td>\n",
       "        <td>Williams</td>\n",
       "        <td>Comp. Sci.</td>\n",
       "        <td>54</td>\n",
       "    </tr>\n",
       "    <tr>\n",
       "        <td>55739</td>\n",
       "        <td>Sanchez</td>\n",
       "        <td>Music</td>\n",
       "        <td>38</td>\n",
       "    </tr>\n",
       "    <tr>\n",
       "        <td>70557</td>\n",
       "        <td>Snow</td>\n",
       "        <td>Physics</td>\n",
       "        <td>0</td>\n",
       "    </tr>\n",
       "    <tr>\n",
       "        <td>76543</td>\n",
       "        <td>Brown</td>\n",
       "        <td>Comp. Sci.</td>\n",
       "        <td>58</td>\n",
       "    </tr>\n",
       "    <tr>\n",
       "        <td>76653</td>\n",
       "        <td>Aoi</td>\n",
       "        <td>Elec. Eng.</td>\n",
       "        <td>60</td>\n",
       "    </tr>\n",
       "    <tr>\n",
       "        <td>98765</td>\n",
       "        <td>Bourikas</td>\n",
       "        <td>Elec. Eng.</td>\n",
       "        <td>98</td>\n",
       "    </tr>\n",
       "    <tr>\n",
       "        <td>98988</td>\n",
       "        <td>Tanaka</td>\n",
       "        <td>Biology</td>\n",
       "        <td>120</td>\n",
       "    </tr>\n",
       "</table>"
      ],
      "text/plain": [
       "[('00128', 'Zhang', 'Comp. Sci.', 102),\n",
       " ('12345', 'Shankar', 'Comp. Sci.', 32),\n",
       " ('19991', 'Brandt', 'History', 80),\n",
       " ('23121', 'Chavez', 'Finance', 110),\n",
       " ('44553', 'Peltier', 'Physics', 56),\n",
       " ('45678', 'Levy', 'Physics', 46),\n",
       " ('54321', 'Williams', 'Comp. Sci.', 54),\n",
       " ('55739', 'Sanchez', 'Music', 38),\n",
       " ('70557', 'Snow', 'Physics', 0),\n",
       " ('76543', 'Brown', 'Comp. Sci.', 58),\n",
       " ('76653', 'Aoi', 'Elec. Eng.', 60),\n",
       " ('98765', 'Bourikas', 'Elec. Eng.', 98),\n",
       " ('98988', 'Tanaka', 'Biology', 120)]"
      ]
     },
     "execution_count": 40,
     "metadata": {},
     "output_type": "execute_result"
    }
   ],
   "source": [
    "%sql select * from student"
   ]
  },
  {
   "cell_type": "code",
   "execution_count": 41,
   "metadata": {
    "scrolled": true
   },
   "outputs": [
    {
     "name": "stdout",
     "output_type": "stream",
     "text": [
      "   sqlite:///db_univ7.db\n",
      " * sqlite:///db_univ7_2.db\n",
      "1 rows affected.\n"
     ]
    },
    {
     "data": {
      "text/plain": [
       "[]"
      ]
     },
     "execution_count": 41,
     "metadata": {},
     "output_type": "execute_result"
    }
   ],
   "source": [
    "%sql update student set tot_cred = 150 where ID = 55739"
   ]
  },
  {
   "cell_type": "code",
   "execution_count": 42,
   "metadata": {},
   "outputs": [
    {
     "name": "stdout",
     "output_type": "stream",
     "text": [
      "   sqlite:///db_univ7.db\n",
      " * sqlite:///db_univ7_2.db\n",
      "Done.\n"
     ]
    },
    {
     "data": {
      "text/html": [
       "<table>\n",
       "    <tr>\n",
       "        <th>ID</th>\n",
       "        <th>name</th>\n",
       "        <th>dept_name</th>\n",
       "        <th>tot_cred</th>\n",
       "    </tr>\n",
       "    <tr>\n",
       "        <td>00128</td>\n",
       "        <td>Zhang</td>\n",
       "        <td>Comp. Sci.</td>\n",
       "        <td>102</td>\n",
       "    </tr>\n",
       "    <tr>\n",
       "        <td>12345</td>\n",
       "        <td>Shankar</td>\n",
       "        <td>Comp. Sci.</td>\n",
       "        <td>32</td>\n",
       "    </tr>\n",
       "    <tr>\n",
       "        <td>19991</td>\n",
       "        <td>Brandt</td>\n",
       "        <td>History</td>\n",
       "        <td>80</td>\n",
       "    </tr>\n",
       "    <tr>\n",
       "        <td>23121</td>\n",
       "        <td>Chavez</td>\n",
       "        <td>Finance</td>\n",
       "        <td>110</td>\n",
       "    </tr>\n",
       "    <tr>\n",
       "        <td>44553</td>\n",
       "        <td>Peltier</td>\n",
       "        <td>Physics</td>\n",
       "        <td>56</td>\n",
       "    </tr>\n",
       "    <tr>\n",
       "        <td>45678</td>\n",
       "        <td>Levy</td>\n",
       "        <td>Physics</td>\n",
       "        <td>46</td>\n",
       "    </tr>\n",
       "    <tr>\n",
       "        <td>54321</td>\n",
       "        <td>Williams</td>\n",
       "        <td>Comp. Sci.</td>\n",
       "        <td>54</td>\n",
       "    </tr>\n",
       "    <tr>\n",
       "        <td>55739</td>\n",
       "        <td>Sanchez</td>\n",
       "        <td>Music</td>\n",
       "        <td>150</td>\n",
       "    </tr>\n",
       "    <tr>\n",
       "        <td>70557</td>\n",
       "        <td>Snow</td>\n",
       "        <td>Physics</td>\n",
       "        <td>0</td>\n",
       "    </tr>\n",
       "    <tr>\n",
       "        <td>76543</td>\n",
       "        <td>Brown</td>\n",
       "        <td>Comp. Sci.</td>\n",
       "        <td>58</td>\n",
       "    </tr>\n",
       "    <tr>\n",
       "        <td>76653</td>\n",
       "        <td>Aoi</td>\n",
       "        <td>Elec. Eng.</td>\n",
       "        <td>60</td>\n",
       "    </tr>\n",
       "    <tr>\n",
       "        <td>98765</td>\n",
       "        <td>Bourikas</td>\n",
       "        <td>Elec. Eng.</td>\n",
       "        <td>98</td>\n",
       "    </tr>\n",
       "    <tr>\n",
       "        <td>98988</td>\n",
       "        <td>Tanaka</td>\n",
       "        <td>Biology</td>\n",
       "        <td>120</td>\n",
       "    </tr>\n",
       "</table>"
      ],
      "text/plain": [
       "[('00128', 'Zhang', 'Comp. Sci.', 102),\n",
       " ('12345', 'Shankar', 'Comp. Sci.', 32),\n",
       " ('19991', 'Brandt', 'History', 80),\n",
       " ('23121', 'Chavez', 'Finance', 110),\n",
       " ('44553', 'Peltier', 'Physics', 56),\n",
       " ('45678', 'Levy', 'Physics', 46),\n",
       " ('54321', 'Williams', 'Comp. Sci.', 54),\n",
       " ('55739', 'Sanchez', 'Music', 150),\n",
       " ('70557', 'Snow', 'Physics', 0),\n",
       " ('76543', 'Brown', 'Comp. Sci.', 58),\n",
       " ('76653', 'Aoi', 'Elec. Eng.', 60),\n",
       " ('98765', 'Bourikas', 'Elec. Eng.', 98),\n",
       " ('98988', 'Tanaka', 'Biology', 120)]"
      ]
     },
     "execution_count": 42,
     "metadata": {},
     "output_type": "execute_result"
    }
   ],
   "source": [
    "%sql select * from student"
   ]
  },
  {
   "cell_type": "code",
   "execution_count": 43,
   "metadata": {},
   "outputs": [
    {
     "name": "stdout",
     "output_type": "stream",
     "text": [
      "   sqlite:///db_univ7.db\n",
      " * sqlite:///db_univ7_2.db\n",
      "1 rows affected.\n"
     ]
    },
    {
     "data": {
      "text/plain": [
       "[]"
      ]
     },
     "execution_count": 43,
     "metadata": {},
     "output_type": "execute_result"
    }
   ],
   "source": [
    "%%sql insert into instructor select ID, name, dept_name, 38000 \n",
    "from   student where  dept_name = 'Music' and tot_cred > 144;"
   ]
  },
  {
   "cell_type": "code",
   "execution_count": 44,
   "metadata": {},
   "outputs": [
    {
     "name": "stdout",
     "output_type": "stream",
     "text": [
      "   sqlite:///db_univ7.db\n",
      " * sqlite:///db_univ7_2.db\n",
      "Done.\n"
     ]
    },
    {
     "data": {
      "text/html": [
       "<table>\n",
       "    <tr>\n",
       "        <th>ID</th>\n",
       "        <th>name</th>\n",
       "        <th>dept_name</th>\n",
       "        <th>salary</th>\n",
       "    </tr>\n",
       "    <tr>\n",
       "        <td>45565</td>\n",
       "        <td>Katz</td>\n",
       "        <td>Comp. Sci.</td>\n",
       "        <td>75000</td>\n",
       "    </tr>\n",
       "    <tr>\n",
       "        <td>83821</td>\n",
       "        <td>Brandt</td>\n",
       "        <td>Comp. Sci.</td>\n",
       "        <td>92000</td>\n",
       "    </tr>\n",
       "    <tr>\n",
       "        <td>98345</td>\n",
       "        <td>Kim</td>\n",
       "        <td>Elec. Eng.</td>\n",
       "        <td>80000</td>\n",
       "    </tr>\n",
       "    <tr>\n",
       "        <td>00128</td>\n",
       "        <td>Zhang</td>\n",
       "        <td>Comp. Sci.</td>\n",
       "        <td>38000</td>\n",
       "    </tr>\n",
       "    <tr>\n",
       "        <td>55739</td>\n",
       "        <td>Sanchez</td>\n",
       "        <td>Music</td>\n",
       "        <td>38000</td>\n",
       "    </tr>\n",
       "</table>"
      ],
      "text/plain": [
       "[('45565', 'Katz', 'Comp. Sci.', 75000),\n",
       " ('83821', 'Brandt', 'Comp. Sci.', 92000),\n",
       " ('98345', 'Kim', 'Elec. Eng.', 80000),\n",
       " ('00128', 'Zhang', 'Comp. Sci.', 38000),\n",
       " ('55739', 'Sanchez', 'Music', 38000)]"
      ]
     },
     "execution_count": 44,
     "metadata": {},
     "output_type": "execute_result"
    }
   ],
   "source": [
    "%sql select * from instructor"
   ]
  },
  {
   "cell_type": "code",
   "execution_count": 45,
   "metadata": {},
   "outputs": [
    {
     "name": "stdout",
     "output_type": "stream",
     "text": [
      "   sqlite:///db_univ7.db\n",
      " * sqlite:///db_univ7_2.db\n",
      "2 rows affected.\n"
     ]
    },
    {
     "data": {
      "text/plain": [
       "[]"
      ]
     },
     "execution_count": 45,
     "metadata": {},
     "output_type": "execute_result"
    }
   ],
   "source": [
    "%%sql update instructor\n",
    "set salary = salary * 1.05\n",
    "where salary <  (select avg (salary) from instructor);"
   ]
  },
  {
   "cell_type": "code",
   "execution_count": 46,
   "metadata": {},
   "outputs": [
    {
     "name": "stdout",
     "output_type": "stream",
     "text": [
      "   sqlite:///db_univ7.db\n",
      " * sqlite:///db_univ7_2.db\n",
      "Done.\n"
     ]
    },
    {
     "data": {
      "text/html": [
       "<table>\n",
       "    <tr>\n",
       "        <th>ID</th>\n",
       "        <th>name</th>\n",
       "        <th>dept_name</th>\n",
       "        <th>salary</th>\n",
       "    </tr>\n",
       "    <tr>\n",
       "        <td>45565</td>\n",
       "        <td>Katz</td>\n",
       "        <td>Comp. Sci.</td>\n",
       "        <td>75000</td>\n",
       "    </tr>\n",
       "    <tr>\n",
       "        <td>83821</td>\n",
       "        <td>Brandt</td>\n",
       "        <td>Comp. Sci.</td>\n",
       "        <td>92000</td>\n",
       "    </tr>\n",
       "    <tr>\n",
       "        <td>98345</td>\n",
       "        <td>Kim</td>\n",
       "        <td>Elec. Eng.</td>\n",
       "        <td>80000</td>\n",
       "    </tr>\n",
       "    <tr>\n",
       "        <td>00128</td>\n",
       "        <td>Zhang</td>\n",
       "        <td>Comp. Sci.</td>\n",
       "        <td>39900</td>\n",
       "    </tr>\n",
       "    <tr>\n",
       "        <td>55739</td>\n",
       "        <td>Sanchez</td>\n",
       "        <td>Music</td>\n",
       "        <td>39900</td>\n",
       "    </tr>\n",
       "</table>"
      ],
      "text/plain": [
       "[('45565', 'Katz', 'Comp. Sci.', 75000),\n",
       " ('83821', 'Brandt', 'Comp. Sci.', 92000),\n",
       " ('98345', 'Kim', 'Elec. Eng.', 80000),\n",
       " ('00128', 'Zhang', 'Comp. Sci.', 39900),\n",
       " ('55739', 'Sanchez', 'Music', 39900)]"
      ]
     },
     "execution_count": 46,
     "metadata": {},
     "output_type": "execute_result"
    }
   ],
   "source": [
    "%sql select * from instructor"
   ]
  },
  {
   "cell_type": "code",
   "execution_count": 47,
   "metadata": {},
   "outputs": [
    {
     "name": "stdout",
     "output_type": "stream",
     "text": [
      "   sqlite:///db_univ7.db\n",
      " * sqlite:///db_univ7_2.db\n",
      "5 rows affected.\n"
     ]
    },
    {
     "data": {
      "text/plain": [
       "[]"
      ]
     },
     "execution_count": 47,
     "metadata": {},
     "output_type": "execute_result"
    }
   ],
   "source": [
    "%%sql update instructor \n",
    "set salary = case when salary <= 75000 then salary * 1.05 else salary * 1.03 end"
   ]
  },
  {
   "cell_type": "code",
   "execution_count": 48,
   "metadata": {},
   "outputs": [
    {
     "name": "stdout",
     "output_type": "stream",
     "text": [
      "   sqlite:///db_univ7.db\n",
      " * sqlite:///db_univ7_2.db\n",
      "Done.\n"
     ]
    },
    {
     "data": {
      "text/html": [
       "<table>\n",
       "    <tr>\n",
       "        <th>ID</th>\n",
       "        <th>name</th>\n",
       "        <th>dept_name</th>\n",
       "        <th>salary</th>\n",
       "    </tr>\n",
       "    <tr>\n",
       "        <td>45565</td>\n",
       "        <td>Katz</td>\n",
       "        <td>Comp. Sci.</td>\n",
       "        <td>78750</td>\n",
       "    </tr>\n",
       "    <tr>\n",
       "        <td>83821</td>\n",
       "        <td>Brandt</td>\n",
       "        <td>Comp. Sci.</td>\n",
       "        <td>94760</td>\n",
       "    </tr>\n",
       "    <tr>\n",
       "        <td>98345</td>\n",
       "        <td>Kim</td>\n",
       "        <td>Elec. Eng.</td>\n",
       "        <td>82400</td>\n",
       "    </tr>\n",
       "    <tr>\n",
       "        <td>00128</td>\n",
       "        <td>Zhang</td>\n",
       "        <td>Comp. Sci.</td>\n",
       "        <td>41895</td>\n",
       "    </tr>\n",
       "    <tr>\n",
       "        <td>55739</td>\n",
       "        <td>Sanchez</td>\n",
       "        <td>Music</td>\n",
       "        <td>41895</td>\n",
       "    </tr>\n",
       "</table>"
      ],
      "text/plain": [
       "[('45565', 'Katz', 'Comp. Sci.', 78750),\n",
       " ('83821', 'Brandt', 'Comp. Sci.', 94760),\n",
       " ('98345', 'Kim', 'Elec. Eng.', 82400),\n",
       " ('00128', 'Zhang', 'Comp. Sci.', 41895),\n",
       " ('55739', 'Sanchez', 'Music', 41895)]"
      ]
     },
     "execution_count": 48,
     "metadata": {},
     "output_type": "execute_result"
    }
   ],
   "source": [
    "%sql select * from instructor"
   ]
  },
  {
   "cell_type": "code",
   "execution_count": 49,
   "metadata": {},
   "outputs": [
    {
     "name": "stdout",
     "output_type": "stream",
     "text": [
      "   sqlite:///db_univ7.db\n",
      " * sqlite:///db_univ7_2.db\n",
      "Done.\n"
     ]
    },
    {
     "data": {
      "text/html": [
       "<table>\n",
       "    <tr>\n",
       "        <th>ID</th>\n",
       "        <th>name</th>\n",
       "        <th>dept_name</th>\n",
       "        <th>tot_cred</th>\n",
       "    </tr>\n",
       "    <tr>\n",
       "        <td>00128</td>\n",
       "        <td>Zhang</td>\n",
       "        <td>Comp. Sci.</td>\n",
       "        <td>102</td>\n",
       "    </tr>\n",
       "    <tr>\n",
       "        <td>12345</td>\n",
       "        <td>Shankar</td>\n",
       "        <td>Comp. Sci.</td>\n",
       "        <td>32</td>\n",
       "    </tr>\n",
       "    <tr>\n",
       "        <td>19991</td>\n",
       "        <td>Brandt</td>\n",
       "        <td>History</td>\n",
       "        <td>80</td>\n",
       "    </tr>\n",
       "    <tr>\n",
       "        <td>23121</td>\n",
       "        <td>Chavez</td>\n",
       "        <td>Finance</td>\n",
       "        <td>110</td>\n",
       "    </tr>\n",
       "    <tr>\n",
       "        <td>44553</td>\n",
       "        <td>Peltier</td>\n",
       "        <td>Physics</td>\n",
       "        <td>56</td>\n",
       "    </tr>\n",
       "    <tr>\n",
       "        <td>45678</td>\n",
       "        <td>Levy</td>\n",
       "        <td>Physics</td>\n",
       "        <td>46</td>\n",
       "    </tr>\n",
       "    <tr>\n",
       "        <td>54321</td>\n",
       "        <td>Williams</td>\n",
       "        <td>Comp. Sci.</td>\n",
       "        <td>54</td>\n",
       "    </tr>\n",
       "    <tr>\n",
       "        <td>55739</td>\n",
       "        <td>Sanchez</td>\n",
       "        <td>Music</td>\n",
       "        <td>150</td>\n",
       "    </tr>\n",
       "    <tr>\n",
       "        <td>70557</td>\n",
       "        <td>Snow</td>\n",
       "        <td>Physics</td>\n",
       "        <td>0</td>\n",
       "    </tr>\n",
       "    <tr>\n",
       "        <td>76543</td>\n",
       "        <td>Brown</td>\n",
       "        <td>Comp. Sci.</td>\n",
       "        <td>58</td>\n",
       "    </tr>\n",
       "    <tr>\n",
       "        <td>76653</td>\n",
       "        <td>Aoi</td>\n",
       "        <td>Elec. Eng.</td>\n",
       "        <td>60</td>\n",
       "    </tr>\n",
       "    <tr>\n",
       "        <td>98765</td>\n",
       "        <td>Bourikas</td>\n",
       "        <td>Elec. Eng.</td>\n",
       "        <td>98</td>\n",
       "    </tr>\n",
       "    <tr>\n",
       "        <td>98988</td>\n",
       "        <td>Tanaka</td>\n",
       "        <td>Biology</td>\n",
       "        <td>120</td>\n",
       "    </tr>\n",
       "</table>"
      ],
      "text/plain": [
       "[('00128', 'Zhang', 'Comp. Sci.', 102),\n",
       " ('12345', 'Shankar', 'Comp. Sci.', 32),\n",
       " ('19991', 'Brandt', 'History', 80),\n",
       " ('23121', 'Chavez', 'Finance', 110),\n",
       " ('44553', 'Peltier', 'Physics', 56),\n",
       " ('45678', 'Levy', 'Physics', 46),\n",
       " ('54321', 'Williams', 'Comp. Sci.', 54),\n",
       " ('55739', 'Sanchez', 'Music', 150),\n",
       " ('70557', 'Snow', 'Physics', 0),\n",
       " ('76543', 'Brown', 'Comp. Sci.', 58),\n",
       " ('76653', 'Aoi', 'Elec. Eng.', 60),\n",
       " ('98765', 'Bourikas', 'Elec. Eng.', 98),\n",
       " ('98988', 'Tanaka', 'Biology', 120)]"
      ]
     },
     "execution_count": 49,
     "metadata": {},
     "output_type": "execute_result"
    }
   ],
   "source": [
    "%sql select * from student"
   ]
  },
  {
   "cell_type": "code",
   "execution_count": 51,
   "metadata": {},
   "outputs": [
    {
     "name": "stdout",
     "output_type": "stream",
     "text": [
      "   sqlite:///db_univ7.db\n",
      " * sqlite:///db_univ7_2.db\n",
      "13 rows affected.\n"
     ]
    },
    {
     "data": {
      "text/plain": [
       "[]"
      ]
     },
     "execution_count": 51,
     "metadata": {},
     "output_type": "execute_result"
    }
   ],
   "source": [
    "%%sql update student as S \n",
    "set tot_cred = \n",
    "(select sum(credits) from takes, course \n",
    " where takes.course_id = course.course_id and S.ID = takes.ID and takes.grade <> 'F' and takes.grade is not null);"
   ]
  },
  {
   "cell_type": "code",
   "execution_count": 52,
   "metadata": {},
   "outputs": [
    {
     "name": "stdout",
     "output_type": "stream",
     "text": [
      "   sqlite:///db_univ7.db\n",
      " * sqlite:///db_univ7_2.db\n",
      "Done.\n"
     ]
    },
    {
     "data": {
      "text/html": [
       "<table>\n",
       "    <tr>\n",
       "        <th>ID</th>\n",
       "        <th>name</th>\n",
       "        <th>dept_name</th>\n",
       "        <th>tot_cred</th>\n",
       "    </tr>\n",
       "    <tr>\n",
       "        <td>00128</td>\n",
       "        <td>Zhang</td>\n",
       "        <td>Comp. Sci.</td>\n",
       "        <td>7</td>\n",
       "    </tr>\n",
       "    <tr>\n",
       "        <td>12345</td>\n",
       "        <td>Shankar</td>\n",
       "        <td>Comp. Sci.</td>\n",
       "        <td>14</td>\n",
       "    </tr>\n",
       "    <tr>\n",
       "        <td>19991</td>\n",
       "        <td>Brandt</td>\n",
       "        <td>History</td>\n",
       "        <td>3</td>\n",
       "    </tr>\n",
       "    <tr>\n",
       "        <td>23121</td>\n",
       "        <td>Chavez</td>\n",
       "        <td>Finance</td>\n",
       "        <td>3</td>\n",
       "    </tr>\n",
       "    <tr>\n",
       "        <td>44553</td>\n",
       "        <td>Peltier</td>\n",
       "        <td>Physics</td>\n",
       "        <td>4</td>\n",
       "    </tr>\n",
       "    <tr>\n",
       "        <td>45678</td>\n",
       "        <td>Levy</td>\n",
       "        <td>Physics</td>\n",
       "        <td>7</td>\n",
       "    </tr>\n",
       "    <tr>\n",
       "        <td>54321</td>\n",
       "        <td>Williams</td>\n",
       "        <td>Comp. Sci.</td>\n",
       "        <td>8</td>\n",
       "    </tr>\n",
       "    <tr>\n",
       "        <td>55739</td>\n",
       "        <td>Sanchez</td>\n",
       "        <td>Music</td>\n",
       "        <td>3</td>\n",
       "    </tr>\n",
       "    <tr>\n",
       "        <td>70557</td>\n",
       "        <td>Snow</td>\n",
       "        <td>Physics</td>\n",
       "        <td>None</td>\n",
       "    </tr>\n",
       "    <tr>\n",
       "        <td>76543</td>\n",
       "        <td>Brown</td>\n",
       "        <td>Comp. Sci.</td>\n",
       "        <td>7</td>\n",
       "    </tr>\n",
       "    <tr>\n",
       "        <td>76653</td>\n",
       "        <td>Aoi</td>\n",
       "        <td>Elec. Eng.</td>\n",
       "        <td>3</td>\n",
       "    </tr>\n",
       "    <tr>\n",
       "        <td>98765</td>\n",
       "        <td>Bourikas</td>\n",
       "        <td>Elec. Eng.</td>\n",
       "        <td>7</td>\n",
       "    </tr>\n",
       "    <tr>\n",
       "        <td>98988</td>\n",
       "        <td>Tanaka</td>\n",
       "        <td>Biology</td>\n",
       "        <td>4</td>\n",
       "    </tr>\n",
       "</table>"
      ],
      "text/plain": [
       "[('00128', 'Zhang', 'Comp. Sci.', 7),\n",
       " ('12345', 'Shankar', 'Comp. Sci.', 14),\n",
       " ('19991', 'Brandt', 'History', 3),\n",
       " ('23121', 'Chavez', 'Finance', 3),\n",
       " ('44553', 'Peltier', 'Physics', 4),\n",
       " ('45678', 'Levy', 'Physics', 7),\n",
       " ('54321', 'Williams', 'Comp. Sci.', 8),\n",
       " ('55739', 'Sanchez', 'Music', 3),\n",
       " ('70557', 'Snow', 'Physics', None),\n",
       " ('76543', 'Brown', 'Comp. Sci.', 7),\n",
       " ('76653', 'Aoi', 'Elec. Eng.', 3),\n",
       " ('98765', 'Bourikas', 'Elec. Eng.', 7),\n",
       " ('98988', 'Tanaka', 'Biology', 4)]"
      ]
     },
     "execution_count": 52,
     "metadata": {},
     "output_type": "execute_result"
    }
   ],
   "source": [
    "%sql select * from student"
   ]
  },
  {
   "cell_type": "code",
   "execution_count": 34,
   "metadata": {},
   "outputs": [
    {
     "name": "stdout",
     "output_type": "stream",
     "text": [
      "   sqlite:///db_univ7.db\n",
      " * sqlite:///db_univ7_2.db\n",
      "13 rows affected.\n"
     ]
    },
    {
     "data": {
      "text/plain": [
       "[]"
      ]
     },
     "execution_count": 34,
     "metadata": {},
     "output_type": "execute_result"
    }
   ],
   "source": [
    "%%sql update student as S \n",
    "set tot_cred = \n",
    "(select case when sum(credits) is not null then sum(credits) else 0 end\n",
    " from takes, course \n",
    " where takes.course_id = course.course_id and S.ID = takes.ID and takes.grade <> 'F' and takes.grade is not null);"
   ]
  },
  {
   "cell_type": "code",
   "execution_count": 53,
   "metadata": {},
   "outputs": [
    {
     "name": "stdout",
     "output_type": "stream",
     "text": [
      "   sqlite:///db_univ7.db\n",
      " * sqlite:///db_univ7_2.db\n",
      "Done.\n"
     ]
    },
    {
     "data": {
      "text/html": [
       "<table>\n",
       "    <tr>\n",
       "        <th>ID</th>\n",
       "        <th>name</th>\n",
       "        <th>dept_name</th>\n",
       "        <th>tot_cred</th>\n",
       "    </tr>\n",
       "    <tr>\n",
       "        <td>00128</td>\n",
       "        <td>Zhang</td>\n",
       "        <td>Comp. Sci.</td>\n",
       "        <td>7</td>\n",
       "    </tr>\n",
       "    <tr>\n",
       "        <td>12345</td>\n",
       "        <td>Shankar</td>\n",
       "        <td>Comp. Sci.</td>\n",
       "        <td>14</td>\n",
       "    </tr>\n",
       "    <tr>\n",
       "        <td>19991</td>\n",
       "        <td>Brandt</td>\n",
       "        <td>History</td>\n",
       "        <td>3</td>\n",
       "    </tr>\n",
       "    <tr>\n",
       "        <td>23121</td>\n",
       "        <td>Chavez</td>\n",
       "        <td>Finance</td>\n",
       "        <td>3</td>\n",
       "    </tr>\n",
       "    <tr>\n",
       "        <td>44553</td>\n",
       "        <td>Peltier</td>\n",
       "        <td>Physics</td>\n",
       "        <td>4</td>\n",
       "    </tr>\n",
       "    <tr>\n",
       "        <td>45678</td>\n",
       "        <td>Levy</td>\n",
       "        <td>Physics</td>\n",
       "        <td>7</td>\n",
       "    </tr>\n",
       "    <tr>\n",
       "        <td>54321</td>\n",
       "        <td>Williams</td>\n",
       "        <td>Comp. Sci.</td>\n",
       "        <td>8</td>\n",
       "    </tr>\n",
       "    <tr>\n",
       "        <td>55739</td>\n",
       "        <td>Sanchez</td>\n",
       "        <td>Music</td>\n",
       "        <td>3</td>\n",
       "    </tr>\n",
       "    <tr>\n",
       "        <td>70557</td>\n",
       "        <td>Snow</td>\n",
       "        <td>Physics</td>\n",
       "        <td>None</td>\n",
       "    </tr>\n",
       "    <tr>\n",
       "        <td>76543</td>\n",
       "        <td>Brown</td>\n",
       "        <td>Comp. Sci.</td>\n",
       "        <td>7</td>\n",
       "    </tr>\n",
       "    <tr>\n",
       "        <td>76653</td>\n",
       "        <td>Aoi</td>\n",
       "        <td>Elec. Eng.</td>\n",
       "        <td>3</td>\n",
       "    </tr>\n",
       "    <tr>\n",
       "        <td>98765</td>\n",
       "        <td>Bourikas</td>\n",
       "        <td>Elec. Eng.</td>\n",
       "        <td>7</td>\n",
       "    </tr>\n",
       "    <tr>\n",
       "        <td>98988</td>\n",
       "        <td>Tanaka</td>\n",
       "        <td>Biology</td>\n",
       "        <td>4</td>\n",
       "    </tr>\n",
       "</table>"
      ],
      "text/plain": [
       "[('00128', 'Zhang', 'Comp. Sci.', 7),\n",
       " ('12345', 'Shankar', 'Comp. Sci.', 14),\n",
       " ('19991', 'Brandt', 'History', 3),\n",
       " ('23121', 'Chavez', 'Finance', 3),\n",
       " ('44553', 'Peltier', 'Physics', 4),\n",
       " ('45678', 'Levy', 'Physics', 7),\n",
       " ('54321', 'Williams', 'Comp. Sci.', 8),\n",
       " ('55739', 'Sanchez', 'Music', 3),\n",
       " ('70557', 'Snow', 'Physics', None),\n",
       " ('76543', 'Brown', 'Comp. Sci.', 7),\n",
       " ('76653', 'Aoi', 'Elec. Eng.', 3),\n",
       " ('98765', 'Bourikas', 'Elec. Eng.', 7),\n",
       " ('98988', 'Tanaka', 'Biology', 4)]"
      ]
     },
     "execution_count": 53,
     "metadata": {},
     "output_type": "execute_result"
    }
   ],
   "source": [
    "%sql select * from student"
   ]
  }
 ],
 "metadata": {
  "kernelspec": {
   "display_name": "Python 3",
   "language": "python",
   "name": "python3"
  },
  "language_info": {
   "codemirror_mode": {
    "name": "ipython",
    "version": 3
   },
   "file_extension": ".py",
   "mimetype": "text/x-python",
   "name": "python",
   "nbconvert_exporter": "python",
   "pygments_lexer": "ipython3",
   "version": "3.8.5"
  }
 },
 "nbformat": 4,
 "nbformat_minor": 2
}
