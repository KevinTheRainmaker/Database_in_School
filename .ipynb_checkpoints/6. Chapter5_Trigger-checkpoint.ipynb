{
 "cells": [
  {
   "cell_type": "code",
   "execution_count": 7,
   "metadata": {},
   "outputs": [
    {
     "name": "stdout",
     "output_type": "stream",
     "text": [
      "The sql extension is already loaded. To reload it, use:\n",
      "  %reload_ext sql\n"
     ]
    }
   ],
   "source": [
    "%load_ext sql"
   ]
  },
  {
   "cell_type": "code",
   "execution_count": 8,
   "metadata": {},
   "outputs": [],
   "source": [
    "%sql sqlite:///db_univ7_3.db"
   ]
  },
  {
   "cell_type": "code",
   "execution_count": 9,
   "metadata": {
    "scrolled": true
   },
   "outputs": [
    {
     "name": "stdout",
     "output_type": "stream",
     "text": [
      " * sqlite:///db_univ7_3.db\n",
      "Done.\n"
     ]
    },
    {
     "data": {
      "text/html": [
       "<table>\n",
       "    <tr>\n",
       "        <th>type</th>\n",
       "        <th>name</th>\n",
       "        <th>tbl_name</th>\n",
       "        <th>rootpage</th>\n",
       "        <th>sql</th>\n",
       "    </tr>\n",
       "    <tr>\n",
       "        <td>table</td>\n",
       "        <td>classroom</td>\n",
       "        <td>classroom</td>\n",
       "        <td>2</td>\n",
       "        <td>CREATE TABLE classroom<br>\t(building\t\tvarchar(15),<br>\t room_number\t\tvarchar(7),<br>\t capacity\t\tnumeric(4,0),<br>\t primary key (building, room_number)<br>\t)</td>\n",
       "    </tr>\n",
       "    <tr>\n",
       "        <td>index</td>\n",
       "        <td>sqlite_autoindex_classroom_1</td>\n",
       "        <td>classroom</td>\n",
       "        <td>3</td>\n",
       "        <td>None</td>\n",
       "    </tr>\n",
       "    <tr>\n",
       "        <td>table</td>\n",
       "        <td>department</td>\n",
       "        <td>department</td>\n",
       "        <td>4</td>\n",
       "        <td>CREATE TABLE department<br>\t(dept_name\t\tvarchar(20), <br>\t building\t\tvarchar(15), <br>\t budget\t\t        numeric(12,2) check (budget &gt; 0),<br>\t primary key (dept_name)<br>\t)</td>\n",
       "    </tr>\n",
       "    <tr>\n",
       "        <td>index</td>\n",
       "        <td>sqlite_autoindex_department_1</td>\n",
       "        <td>department</td>\n",
       "        <td>5</td>\n",
       "        <td>None</td>\n",
       "    </tr>\n",
       "    <tr>\n",
       "        <td>table</td>\n",
       "        <td>course</td>\n",
       "        <td>course</td>\n",
       "        <td>6</td>\n",
       "        <td>CREATE TABLE course<br>\t(course_id\t\tvarchar(8), <br>\t title\t\t\tvarchar(50), <br>\t dept_name\t\tvarchar(20),<br>\t credits\t\tnumeric(2,0) check (credits &gt; 0),<br>\t primary key (course_id),<br>\t foreign key (dept_name) references department (dept_name)<br>\t\ton delete set null<br>\t)</td>\n",
       "    </tr>\n",
       "    <tr>\n",
       "        <td>index</td>\n",
       "        <td>sqlite_autoindex_course_1</td>\n",
       "        <td>course</td>\n",
       "        <td>7</td>\n",
       "        <td>None</td>\n",
       "    </tr>\n",
       "    <tr>\n",
       "        <td>table</td>\n",
       "        <td>instructor</td>\n",
       "        <td>instructor</td>\n",
       "        <td>8</td>\n",
       "        <td>CREATE TABLE instructor<br>\t(ID\t\t\tvarchar(5), <br>\t name\t\t\tvarchar(20) not null, <br>\t dept_name\t\tvarchar(20), <br>\t salary\t\t\tnumeric(8,2) check (salary &gt; 29000),<br>\t primary key (ID),<br>\t foreign key (dept_name) references department (dept_name)<br>\t\ton delete set null<br>\t)</td>\n",
       "    </tr>\n",
       "    <tr>\n",
       "        <td>index</td>\n",
       "        <td>sqlite_autoindex_instructor_1</td>\n",
       "        <td>instructor</td>\n",
       "        <td>9</td>\n",
       "        <td>None</td>\n",
       "    </tr>\n",
       "    <tr>\n",
       "        <td>table</td>\n",
       "        <td>section</td>\n",
       "        <td>section</td>\n",
       "        <td>10</td>\n",
       "        <td>CREATE TABLE section<br>\t(course_id\t\tvarchar(8), <br>         sec_id\t\t\tvarchar(8),<br>\t semester\t\tvarchar(6)<br>\t\tcheck (semester in (&#x27;Fall&#x27;, &#x27;Winter&#x27;, &#x27;Spring&#x27;, &#x27;Summer&#x27;)), <br>\t year\t\t\tnumeric(4,0) check (year &gt; 1701 and year &lt; 2100), <br>\t building\t\tvarchar(15),<br>\t room_number\t\tvarchar(7),<br>\t time_slot_id\t\tvarchar(4),<br>\t primary key (course_id, sec_id, semester, year),<br>\t foreign key (course_id) references course (course_id)<br>\t\ton delete cascade,<br>\t foreign key (building, room_number) references classroom (building, room_number)<br>\t\ton delete set null<br>\t)</td>\n",
       "    </tr>\n",
       "    <tr>\n",
       "        <td>index</td>\n",
       "        <td>sqlite_autoindex_section_1</td>\n",
       "        <td>section</td>\n",
       "        <td>11</td>\n",
       "        <td>None</td>\n",
       "    </tr>\n",
       "    <tr>\n",
       "        <td>table</td>\n",
       "        <td>teaches</td>\n",
       "        <td>teaches</td>\n",
       "        <td>12</td>\n",
       "        <td>CREATE TABLE teaches<br>\t(ID\t\t\tvarchar(5), <br>\t course_id\t\tvarchar(8),<br>\t sec_id\t\t\tvarchar(8), <br>\t semester\t\tvarchar(6),<br>\t year\t\t\tnumeric(4,0),<br>\t primary key (ID, course_id, sec_id, semester, year),<br>\t foreign key (course_id, sec_id, semester, year) references section (course_id, sec_id, semester, year)<br>\t\ton delete cascade,<br>\t foreign key (ID) references instructor (ID)<br>\t\ton delete cascade<br>\t)</td>\n",
       "    </tr>\n",
       "    <tr>\n",
       "        <td>index</td>\n",
       "        <td>sqlite_autoindex_teaches_1</td>\n",
       "        <td>teaches</td>\n",
       "        <td>13</td>\n",
       "        <td>None</td>\n",
       "    </tr>\n",
       "    <tr>\n",
       "        <td>table</td>\n",
       "        <td>student</td>\n",
       "        <td>student</td>\n",
       "        <td>14</td>\n",
       "        <td>CREATE TABLE student<br>\t(ID\t\t\tvarchar(5), <br>\t name\t\t\tvarchar(20) not null, <br>\t dept_name\t\tvarchar(20), <br>\t tot_cred\t\tnumeric(3,0) check (tot_cred &gt;= 0),<br>\t primary key (ID),<br>\t foreign key (dept_name) references department (dept_name)<br>\t\ton delete set null<br>\t)</td>\n",
       "    </tr>\n",
       "    <tr>\n",
       "        <td>index</td>\n",
       "        <td>sqlite_autoindex_student_1</td>\n",
       "        <td>student</td>\n",
       "        <td>15</td>\n",
       "        <td>None</td>\n",
       "    </tr>\n",
       "    <tr>\n",
       "        <td>table</td>\n",
       "        <td>takes</td>\n",
       "        <td>takes</td>\n",
       "        <td>16</td>\n",
       "        <td>CREATE TABLE takes<br>\t(ID\t\t\tvarchar(5), <br>\t course_id\t\tvarchar(8),<br>\t sec_id\t\t\tvarchar(8), <br>\t semester\t\tvarchar(6),<br>\t year\t\t\tnumeric(4,0),<br>\t grade\t\t        varchar(2),<br>\t primary key (ID, course_id, sec_id, semester, year),<br>\t foreign key (course_id, sec_id, semester, year) references section (course_id, sec_id, semester, year)<br>\t\ton delete cascade,<br>\t foreign key (ID) references student (ID)<br>\t\ton delete cascade<br>\t)</td>\n",
       "    </tr>\n",
       "    <tr>\n",
       "        <td>index</td>\n",
       "        <td>sqlite_autoindex_takes_1</td>\n",
       "        <td>takes</td>\n",
       "        <td>17</td>\n",
       "        <td>None</td>\n",
       "    </tr>\n",
       "    <tr>\n",
       "        <td>table</td>\n",
       "        <td>advisor</td>\n",
       "        <td>advisor</td>\n",
       "        <td>18</td>\n",
       "        <td>CREATE TABLE advisor<br>\t(s_ID\t\t\tvarchar(5),<br>\t i_ID\t\t\tvarchar(5),<br>\t primary key (s_ID),<br>\t foreign key (i_ID) references instructor (ID)<br>\t\ton delete set null,<br>\t foreign key (s_ID) references student (ID)<br>\t\ton delete cascade<br>\t)</td>\n",
       "    </tr>\n",
       "    <tr>\n",
       "        <td>index</td>\n",
       "        <td>sqlite_autoindex_advisor_1</td>\n",
       "        <td>advisor</td>\n",
       "        <td>19</td>\n",
       "        <td>None</td>\n",
       "    </tr>\n",
       "    <tr>\n",
       "        <td>table</td>\n",
       "        <td>time_slot</td>\n",
       "        <td>time_slot</td>\n",
       "        <td>20</td>\n",
       "        <td>CREATE TABLE time_slot<br>\t(time_slot_id\t\tvarchar(4),<br>\t day\t\t\tvarchar(1),<br>\t start_hr\t\tnumeric(2) check (start_hr &gt;= 0 and start_hr &lt; 24),<br>\t start_min\t\tnumeric(2) check (start_min &gt;= 0 and start_min &lt; 60),<br>\t end_hr\t\t\tnumeric(2) check (end_hr &gt;= 0 and end_hr &lt; 24),<br>\t end_min\t\tnumeric(2) check (end_min &gt;= 0 and end_min &lt; 60),<br>\t primary key (time_slot_id, day, start_hr, start_min)<br>\t)</td>\n",
       "    </tr>\n",
       "    <tr>\n",
       "        <td>index</td>\n",
       "        <td>sqlite_autoindex_time_slot_1</td>\n",
       "        <td>time_slot</td>\n",
       "        <td>21</td>\n",
       "        <td>None</td>\n",
       "    </tr>\n",
       "    <tr>\n",
       "        <td>table</td>\n",
       "        <td>prereq</td>\n",
       "        <td>prereq</td>\n",
       "        <td>22</td>\n",
       "        <td>CREATE TABLE prereq<br>\t(course_id\t\tvarchar(8), <br>\t prereq_id\t\tvarchar(8),<br>\t primary key (course_id, prereq_id),<br>\t foreign key (course_id) references course (course_id)<br>\t\ton delete cascade,<br>\t foreign key (prereq_id) references course (course_id)<br>\t)</td>\n",
       "    </tr>\n",
       "    <tr>\n",
       "        <td>index</td>\n",
       "        <td>sqlite_autoindex_prereq_1</td>\n",
       "        <td>prereq</td>\n",
       "        <td>23</td>\n",
       "        <td>None</td>\n",
       "    </tr>\n",
       "</table>"
      ],
      "text/plain": [
       "[('table', 'classroom', 'classroom', 2, 'CREATE TABLE classroom\\n\\t(building\\t\\tvarchar(15),\\n\\t room_number\\t\\tvarchar(7),\\n\\t capacity\\t\\tnumeric(4,0),\\n\\t primary key (building, room_number)\\n\\t)'),\n",
       " ('index', 'sqlite_autoindex_classroom_1', 'classroom', 3, None),\n",
       " ('table', 'department', 'department', 4, 'CREATE TABLE department\\n\\t(dept_name\\t\\tvarchar(20), \\n\\t building\\t\\tvarchar(15), \\n\\t budget\\t\\t        numeric(12,2) check (budget > 0),\\n\\t primary key (dept_name)\\n\\t)'),\n",
       " ('index', 'sqlite_autoindex_department_1', 'department', 5, None),\n",
       " ('table', 'course', 'course', 6, 'CREATE TABLE course\\n\\t(course_id\\t\\tvarchar(8), \\n\\t title\\t\\t\\tvarchar(50), \\n\\t dept_name\\t\\tvarchar(20),\\n\\t credits\\t\\tnumeric(2,0) check (credits > 0),\\n\\t primary key (course_id),\\n\\t foreign key (dept_name) references department (dept_name)\\n\\t\\ton delete set null\\n\\t)'),\n",
       " ('index', 'sqlite_autoindex_course_1', 'course', 7, None),\n",
       " ('table', 'instructor', 'instructor', 8, 'CREATE TABLE instructor\\n\\t(ID\\t\\t\\tvarchar(5), \\n\\t name\\t\\t\\tvarchar(20) not null, \\n\\t dept_name\\t\\tvarchar(20), \\n\\t salary\\t\\t\\tnumeric(8,2) check (salary > 29000),\\n\\t primary key (ID),\\n\\t foreign key (dept_name) references department (dept_name)\\n\\t\\ton delete set null\\n\\t)'),\n",
       " ('index', 'sqlite_autoindex_instructor_1', 'instructor', 9, None),\n",
       " ('table', 'section', 'section', 10, \"CREATE TABLE section\\n\\t(course_id\\t\\tvarchar(8), \\n         sec_id\\t\\t\\tvarchar(8),\\n\\t semester\\t\\tvarchar(6)\\n\\t\\tcheck (semester in ('Fall', 'Win ... (285 characters truncated) ... (course_id)\\n\\t\\ton delete cascade,\\n\\t foreign key (building, room_number) references classroom (building, room_number)\\n\\t\\ton delete set null\\n\\t)\"),\n",
       " ('index', 'sqlite_autoindex_section_1', 'section', 11, None),\n",
       " ('table', 'teaches', 'teaches', 12, 'CREATE TABLE teaches\\n\\t(ID\\t\\t\\tvarchar(5), \\n\\t course_id\\t\\tvarchar(8),\\n\\t sec_id\\t\\t\\tvarchar(8), \\n\\t semester\\t\\tvarchar(6),\\n\\t year\\t\\t\\tnum ... (125 characters truncated) ... ences section (course_id, sec_id, semester, year)\\n\\t\\ton delete cascade,\\n\\t foreign key (ID) references instructor (ID)\\n\\t\\ton delete cascade\\n\\t)'),\n",
       " ('index', 'sqlite_autoindex_teaches_1', 'teaches', 13, None),\n",
       " ('table', 'student', 'student', 14, 'CREATE TABLE student\\n\\t(ID\\t\\t\\tvarchar(5), \\n\\t name\\t\\t\\tvarchar(20) not null, \\n\\t dept_name\\t\\tvarchar(20), \\n\\t tot_cred\\t\\tnumeric(3,0) check (tot_cred >= 0),\\n\\t primary key (ID),\\n\\t foreign key (dept_name) references department (dept_name)\\n\\t\\ton delete set null\\n\\t)'),\n",
       " ('index', 'sqlite_autoindex_student_1', 'student', 15, None),\n",
       " ('table', 'takes', 'takes', 16, 'CREATE TABLE takes\\n\\t(ID\\t\\t\\tvarchar(5), \\n\\t course_id\\t\\tvarchar(8),\\n\\t sec_id\\t\\t\\tvarchar(8), \\n\\t semester\\t\\tvarchar(6),\\n\\t year\\t\\t\\tnumer ... (153 characters truncated) ... ferences section (course_id, sec_id, semester, year)\\n\\t\\ton delete cascade,\\n\\t foreign key (ID) references student (ID)\\n\\t\\ton delete cascade\\n\\t)'),\n",
       " ('index', 'sqlite_autoindex_takes_1', 'takes', 17, None),\n",
       " ('table', 'advisor', 'advisor', 18, 'CREATE TABLE advisor\\n\\t(s_ID\\t\\t\\tvarchar(5),\\n\\t i_ID\\t\\t\\tvarchar(5),\\n\\t primary key (s_ID),\\n\\t foreign key (i_ID) references instructor (ID)\\n\\t\\ton delete set null,\\n\\t foreign key (s_ID) references student (ID)\\n\\t\\ton delete cascade\\n\\t)'),\n",
       " ('index', 'sqlite_autoindex_advisor_1', 'advisor', 19, None),\n",
       " ('table', 'time_slot', 'time_slot', 20, 'CREATE TABLE time_slot\\n\\t(time_slot_id\\t\\tvarchar(4),\\n\\t day\\t\\t\\tvarchar(1),\\n\\t start_hr\\t\\tnumeric(2) check (start_hr >= 0 and start_hr < 24),\\n ... (111 characters truncated) ... >= 0 and end_hr < 24),\\n\\t end_min\\t\\tnumeric(2) check (end_min >= 0 and end_min < 60),\\n\\t primary key (time_slot_id, day, start_hr, start_min)\\n\\t)'),\n",
       " ('index', 'sqlite_autoindex_time_slot_1', 'time_slot', 21, None),\n",
       " ('table', 'prereq', 'prereq', 22, 'CREATE TABLE prereq\\n\\t(course_id\\t\\tvarchar(8), \\n\\t prereq_id\\t\\tvarchar(8),\\n\\t primary key (course_id, prereq_id),\\n\\t foreign key (course_id) references course (course_id)\\n\\t\\ton delete cascade,\\n\\t foreign key (prereq_id) references course (course_id)\\n\\t)'),\n",
       " ('index', 'sqlite_autoindex_prereq_1', 'prereq', 23, None)]"
      ]
     },
     "execution_count": 9,
     "metadata": {},
     "output_type": "execute_result"
    }
   ],
   "source": [
    "%sql select * from sqlite_master;"
   ]
  },
  {
   "cell_type": "code",
   "execution_count": 10,
   "metadata": {
    "scrolled": true
   },
   "outputs": [
    {
     "name": "stdout",
     "output_type": "stream",
     "text": [
      " * sqlite:///db_univ7_3.db\n",
      "Done.\n"
     ]
    },
    {
     "data": {
      "text/html": [
       "<table>\n",
       "    <tr>\n",
       "        <th>ID</th>\n",
       "        <th>course_id</th>\n",
       "        <th>sec_id</th>\n",
       "        <th>semester</th>\n",
       "        <th>year</th>\n",
       "        <th>grade</th>\n",
       "    </tr>\n",
       "    <tr>\n",
       "        <td>00128</td>\n",
       "        <td>CS-101</td>\n",
       "        <td>1</td>\n",
       "        <td>Fall</td>\n",
       "        <td>2017</td>\n",
       "        <td>A</td>\n",
       "    </tr>\n",
       "    <tr>\n",
       "        <td>00128</td>\n",
       "        <td>CS-347</td>\n",
       "        <td>1</td>\n",
       "        <td>Fall</td>\n",
       "        <td>2017</td>\n",
       "        <td>A-</td>\n",
       "    </tr>\n",
       "    <tr>\n",
       "        <td>12345</td>\n",
       "        <td>CS-101</td>\n",
       "        <td>1</td>\n",
       "        <td>Fall</td>\n",
       "        <td>2017</td>\n",
       "        <td>C</td>\n",
       "    </tr>\n",
       "    <tr>\n",
       "        <td>12345</td>\n",
       "        <td>CS-190</td>\n",
       "        <td>2</td>\n",
       "        <td>Spring</td>\n",
       "        <td>2017</td>\n",
       "        <td>A</td>\n",
       "    </tr>\n",
       "    <tr>\n",
       "        <td>12345</td>\n",
       "        <td>CS-315</td>\n",
       "        <td>1</td>\n",
       "        <td>Spring</td>\n",
       "        <td>2018</td>\n",
       "        <td>A</td>\n",
       "    </tr>\n",
       "    <tr>\n",
       "        <td>12345</td>\n",
       "        <td>CS-347</td>\n",
       "        <td>1</td>\n",
       "        <td>Fall</td>\n",
       "        <td>2017</td>\n",
       "        <td>A</td>\n",
       "    </tr>\n",
       "    <tr>\n",
       "        <td>19991</td>\n",
       "        <td>HIS-351</td>\n",
       "        <td>1</td>\n",
       "        <td>Spring</td>\n",
       "        <td>2018</td>\n",
       "        <td>B</td>\n",
       "    </tr>\n",
       "    <tr>\n",
       "        <td>23121</td>\n",
       "        <td>FIN-201</td>\n",
       "        <td>1</td>\n",
       "        <td>Spring</td>\n",
       "        <td>2018</td>\n",
       "        <td>C+</td>\n",
       "    </tr>\n",
       "    <tr>\n",
       "        <td>44553</td>\n",
       "        <td>PHY-101</td>\n",
       "        <td>1</td>\n",
       "        <td>Fall</td>\n",
       "        <td>2017</td>\n",
       "        <td>B-</td>\n",
       "    </tr>\n",
       "    <tr>\n",
       "        <td>45678</td>\n",
       "        <td>CS-101</td>\n",
       "        <td>1</td>\n",
       "        <td>Fall</td>\n",
       "        <td>2017</td>\n",
       "        <td>F</td>\n",
       "    </tr>\n",
       "    <tr>\n",
       "        <td>45678</td>\n",
       "        <td>CS-101</td>\n",
       "        <td>1</td>\n",
       "        <td>Spring</td>\n",
       "        <td>2018</td>\n",
       "        <td>B+</td>\n",
       "    </tr>\n",
       "    <tr>\n",
       "        <td>45678</td>\n",
       "        <td>CS-319</td>\n",
       "        <td>1</td>\n",
       "        <td>Spring</td>\n",
       "        <td>2018</td>\n",
       "        <td>B</td>\n",
       "    </tr>\n",
       "    <tr>\n",
       "        <td>54321</td>\n",
       "        <td>CS-101</td>\n",
       "        <td>1</td>\n",
       "        <td>Fall</td>\n",
       "        <td>2017</td>\n",
       "        <td>A-</td>\n",
       "    </tr>\n",
       "    <tr>\n",
       "        <td>54321</td>\n",
       "        <td>CS-190</td>\n",
       "        <td>2</td>\n",
       "        <td>Spring</td>\n",
       "        <td>2017</td>\n",
       "        <td>B+</td>\n",
       "    </tr>\n",
       "    <tr>\n",
       "        <td>55739</td>\n",
       "        <td>MU-199</td>\n",
       "        <td>1</td>\n",
       "        <td>Spring</td>\n",
       "        <td>2018</td>\n",
       "        <td>A-</td>\n",
       "    </tr>\n",
       "    <tr>\n",
       "        <td>76543</td>\n",
       "        <td>CS-101</td>\n",
       "        <td>1</td>\n",
       "        <td>Fall</td>\n",
       "        <td>2017</td>\n",
       "        <td>A</td>\n",
       "    </tr>\n",
       "    <tr>\n",
       "        <td>76543</td>\n",
       "        <td>CS-319</td>\n",
       "        <td>2</td>\n",
       "        <td>Spring</td>\n",
       "        <td>2018</td>\n",
       "        <td>A</td>\n",
       "    </tr>\n",
       "    <tr>\n",
       "        <td>76653</td>\n",
       "        <td>EE-181</td>\n",
       "        <td>1</td>\n",
       "        <td>Spring</td>\n",
       "        <td>2017</td>\n",
       "        <td>C</td>\n",
       "    </tr>\n",
       "    <tr>\n",
       "        <td>98765</td>\n",
       "        <td>CS-101</td>\n",
       "        <td>1</td>\n",
       "        <td>Fall</td>\n",
       "        <td>2017</td>\n",
       "        <td>C-</td>\n",
       "    </tr>\n",
       "    <tr>\n",
       "        <td>98765</td>\n",
       "        <td>CS-315</td>\n",
       "        <td>1</td>\n",
       "        <td>Spring</td>\n",
       "        <td>2018</td>\n",
       "        <td>B</td>\n",
       "    </tr>\n",
       "    <tr>\n",
       "        <td>98988</td>\n",
       "        <td>BIO-101</td>\n",
       "        <td>1</td>\n",
       "        <td>Summer</td>\n",
       "        <td>2017</td>\n",
       "        <td>A</td>\n",
       "    </tr>\n",
       "    <tr>\n",
       "        <td>98988</td>\n",
       "        <td>BIO-301</td>\n",
       "        <td>1</td>\n",
       "        <td>Summer</td>\n",
       "        <td>2018</td>\n",
       "        <td>None</td>\n",
       "    </tr>\n",
       "</table>"
      ],
      "text/plain": [
       "[('00128', 'CS-101', '1', 'Fall', 2017, 'A'),\n",
       " ('00128', 'CS-347', '1', 'Fall', 2017, 'A-'),\n",
       " ('12345', 'CS-101', '1', 'Fall', 2017, 'C'),\n",
       " ('12345', 'CS-190', '2', 'Spring', 2017, 'A'),\n",
       " ('12345', 'CS-315', '1', 'Spring', 2018, 'A'),\n",
       " ('12345', 'CS-347', '1', 'Fall', 2017, 'A'),\n",
       " ('19991', 'HIS-351', '1', 'Spring', 2018, 'B'),\n",
       " ('23121', 'FIN-201', '1', 'Spring', 2018, 'C+'),\n",
       " ('44553', 'PHY-101', '1', 'Fall', 2017, 'B-'),\n",
       " ('45678', 'CS-101', '1', 'Fall', 2017, 'F'),\n",
       " ('45678', 'CS-101', '1', 'Spring', 2018, 'B+'),\n",
       " ('45678', 'CS-319', '1', 'Spring', 2018, 'B'),\n",
       " ('54321', 'CS-101', '1', 'Fall', 2017, 'A-'),\n",
       " ('54321', 'CS-190', '2', 'Spring', 2017, 'B+'),\n",
       " ('55739', 'MU-199', '1', 'Spring', 2018, 'A-'),\n",
       " ('76543', 'CS-101', '1', 'Fall', 2017, 'A'),\n",
       " ('76543', 'CS-319', '2', 'Spring', 2018, 'A'),\n",
       " ('76653', 'EE-181', '1', 'Spring', 2017, 'C'),\n",
       " ('98765', 'CS-101', '1', 'Fall', 2017, 'C-'),\n",
       " ('98765', 'CS-315', '1', 'Spring', 2018, 'B'),\n",
       " ('98988', 'BIO-101', '1', 'Summer', 2017, 'A'),\n",
       " ('98988', 'BIO-301', '1', 'Summer', 2018, None)]"
      ]
     },
     "execution_count": 10,
     "metadata": {},
     "output_type": "execute_result"
    }
   ],
   "source": [
    "%sql select * from takes"
   ]
  },
  {
   "cell_type": "code",
   "execution_count": 11,
   "metadata": {},
   "outputs": [
    {
     "name": "stdout",
     "output_type": "stream",
     "text": [
      " * sqlite:///db_univ7_3.db\n",
      "Done.\n"
     ]
    },
    {
     "data": {
      "text/html": [
       "<table>\n",
       "    <tr>\n",
       "        <th>course_id</th>\n",
       "        <th>title</th>\n",
       "        <th>dept_name</th>\n",
       "        <th>credits</th>\n",
       "    </tr>\n",
       "    <tr>\n",
       "        <td>BIO-101</td>\n",
       "        <td>Intro. to Biology</td>\n",
       "        <td>Biology</td>\n",
       "        <td>4</td>\n",
       "    </tr>\n",
       "    <tr>\n",
       "        <td>BIO-301</td>\n",
       "        <td>Genetics</td>\n",
       "        <td>Biology</td>\n",
       "        <td>4</td>\n",
       "    </tr>\n",
       "    <tr>\n",
       "        <td>BIO-399</td>\n",
       "        <td>Computational Biology</td>\n",
       "        <td>Biology</td>\n",
       "        <td>3</td>\n",
       "    </tr>\n",
       "    <tr>\n",
       "        <td>CS-101</td>\n",
       "        <td>Intro. to Computer Science</td>\n",
       "        <td>Comp. Sci.</td>\n",
       "        <td>4</td>\n",
       "    </tr>\n",
       "    <tr>\n",
       "        <td>CS-190</td>\n",
       "        <td>Game Design</td>\n",
       "        <td>Comp. Sci.</td>\n",
       "        <td>4</td>\n",
       "    </tr>\n",
       "    <tr>\n",
       "        <td>CS-315</td>\n",
       "        <td>Robotics</td>\n",
       "        <td>Comp. Sci.</td>\n",
       "        <td>3</td>\n",
       "    </tr>\n",
       "    <tr>\n",
       "        <td>CS-319</td>\n",
       "        <td>Image Processing</td>\n",
       "        <td>Comp. Sci.</td>\n",
       "        <td>3</td>\n",
       "    </tr>\n",
       "    <tr>\n",
       "        <td>CS-347</td>\n",
       "        <td>Database System Concepts</td>\n",
       "        <td>Comp. Sci.</td>\n",
       "        <td>3</td>\n",
       "    </tr>\n",
       "    <tr>\n",
       "        <td>EE-181</td>\n",
       "        <td>Intro. to Digital Systems</td>\n",
       "        <td>Elec. Eng.</td>\n",
       "        <td>3</td>\n",
       "    </tr>\n",
       "    <tr>\n",
       "        <td>FIN-201</td>\n",
       "        <td>Investment Banking</td>\n",
       "        <td>Finance</td>\n",
       "        <td>3</td>\n",
       "    </tr>\n",
       "    <tr>\n",
       "        <td>HIS-351</td>\n",
       "        <td>World History</td>\n",
       "        <td>History</td>\n",
       "        <td>3</td>\n",
       "    </tr>\n",
       "    <tr>\n",
       "        <td>MU-199</td>\n",
       "        <td>Music Video Production</td>\n",
       "        <td>Music</td>\n",
       "        <td>3</td>\n",
       "    </tr>\n",
       "    <tr>\n",
       "        <td>PHY-101</td>\n",
       "        <td>Physical Principles</td>\n",
       "        <td>Physics</td>\n",
       "        <td>4</td>\n",
       "    </tr>\n",
       "</table>"
      ],
      "text/plain": [
       "[('BIO-101', 'Intro. to Biology', 'Biology', 4),\n",
       " ('BIO-301', 'Genetics', 'Biology', 4),\n",
       " ('BIO-399', 'Computational Biology', 'Biology', 3),\n",
       " ('CS-101', 'Intro. to Computer Science', 'Comp. Sci.', 4),\n",
       " ('CS-190', 'Game Design', 'Comp. Sci.', 4),\n",
       " ('CS-315', 'Robotics', 'Comp. Sci.', 3),\n",
       " ('CS-319', 'Image Processing', 'Comp. Sci.', 3),\n",
       " ('CS-347', 'Database System Concepts', 'Comp. Sci.', 3),\n",
       " ('EE-181', 'Intro. to Digital Systems', 'Elec. Eng.', 3),\n",
       " ('FIN-201', 'Investment Banking', 'Finance', 3),\n",
       " ('HIS-351', 'World History', 'History', 3),\n",
       " ('MU-199', 'Music Video Production', 'Music', 3),\n",
       " ('PHY-101', 'Physical Principles', 'Physics', 4)]"
      ]
     },
     "execution_count": 11,
     "metadata": {},
     "output_type": "execute_result"
    }
   ],
   "source": [
    "%sql select * from course"
   ]
  },
  {
   "cell_type": "code",
   "execution_count": 12,
   "metadata": {},
   "outputs": [
    {
     "name": "stdout",
     "output_type": "stream",
     "text": [
      " * sqlite:///db_univ7_3.db\n",
      "Done.\n"
     ]
    },
    {
     "data": {
      "text/html": [
       "<table>\n",
       "    <tr>\n",
       "        <th>ID</th>\n",
       "        <th>name</th>\n",
       "        <th>dept_name</th>\n",
       "        <th>tot_cred</th>\n",
       "    </tr>\n",
       "    <tr>\n",
       "        <td>00128</td>\n",
       "        <td>Zhang</td>\n",
       "        <td>Comp. Sci.</td>\n",
       "        <td>102</td>\n",
       "    </tr>\n",
       "    <tr>\n",
       "        <td>12345</td>\n",
       "        <td>Shankar</td>\n",
       "        <td>Comp. Sci.</td>\n",
       "        <td>32</td>\n",
       "    </tr>\n",
       "    <tr>\n",
       "        <td>19991</td>\n",
       "        <td>Brandt</td>\n",
       "        <td>History</td>\n",
       "        <td>80</td>\n",
       "    </tr>\n",
       "    <tr>\n",
       "        <td>23121</td>\n",
       "        <td>Chavez</td>\n",
       "        <td>Finance</td>\n",
       "        <td>110</td>\n",
       "    </tr>\n",
       "    <tr>\n",
       "        <td>44553</td>\n",
       "        <td>Peltier</td>\n",
       "        <td>Physics</td>\n",
       "        <td>56</td>\n",
       "    </tr>\n",
       "    <tr>\n",
       "        <td>45678</td>\n",
       "        <td>Levy</td>\n",
       "        <td>Physics</td>\n",
       "        <td>46</td>\n",
       "    </tr>\n",
       "    <tr>\n",
       "        <td>54321</td>\n",
       "        <td>Williams</td>\n",
       "        <td>Comp. Sci.</td>\n",
       "        <td>54</td>\n",
       "    </tr>\n",
       "    <tr>\n",
       "        <td>55739</td>\n",
       "        <td>Sanchez</td>\n",
       "        <td>Music</td>\n",
       "        <td>38</td>\n",
       "    </tr>\n",
       "    <tr>\n",
       "        <td>70557</td>\n",
       "        <td>Snow</td>\n",
       "        <td>Physics</td>\n",
       "        <td>0</td>\n",
       "    </tr>\n",
       "    <tr>\n",
       "        <td>76543</td>\n",
       "        <td>Brown</td>\n",
       "        <td>Comp. Sci.</td>\n",
       "        <td>58</td>\n",
       "    </tr>\n",
       "    <tr>\n",
       "        <td>76653</td>\n",
       "        <td>Aoi</td>\n",
       "        <td>Elec. Eng.</td>\n",
       "        <td>60</td>\n",
       "    </tr>\n",
       "    <tr>\n",
       "        <td>98765</td>\n",
       "        <td>Bourikas</td>\n",
       "        <td>Elec. Eng.</td>\n",
       "        <td>98</td>\n",
       "    </tr>\n",
       "    <tr>\n",
       "        <td>98988</td>\n",
       "        <td>Tanaka</td>\n",
       "        <td>Biology</td>\n",
       "        <td>120</td>\n",
       "    </tr>\n",
       "</table>"
      ],
      "text/plain": [
       "[('00128', 'Zhang', 'Comp. Sci.', 102),\n",
       " ('12345', 'Shankar', 'Comp. Sci.', 32),\n",
       " ('19991', 'Brandt', 'History', 80),\n",
       " ('23121', 'Chavez', 'Finance', 110),\n",
       " ('44553', 'Peltier', 'Physics', 56),\n",
       " ('45678', 'Levy', 'Physics', 46),\n",
       " ('54321', 'Williams', 'Comp. Sci.', 54),\n",
       " ('55739', 'Sanchez', 'Music', 38),\n",
       " ('70557', 'Snow', 'Physics', 0),\n",
       " ('76543', 'Brown', 'Comp. Sci.', 58),\n",
       " ('76653', 'Aoi', 'Elec. Eng.', 60),\n",
       " ('98765', 'Bourikas', 'Elec. Eng.', 98),\n",
       " ('98988', 'Tanaka', 'Biology', 120)]"
      ]
     },
     "execution_count": 12,
     "metadata": {},
     "output_type": "execute_result"
    }
   ],
   "source": [
    "%sql select * from student"
   ]
  },
  {
   "cell_type": "code",
   "execution_count": 13,
   "metadata": {},
   "outputs": [
    {
     "name": "stdout",
     "output_type": "stream",
     "text": [
      " * sqlite:///db_univ7_3.db\n",
      "Done.\n"
     ]
    },
    {
     "data": {
      "text/plain": [
       "[]"
      ]
     },
     "execution_count": 13,
     "metadata": {},
     "output_type": "execute_result"
    }
   ],
   "source": [
    "%%sql\n",
    "create trigger credits_earned after update of grade on takes\n",
    "for each row\n",
    "when (new.grade <> 'F' and new.grade is not null and (old.grade = 'F'))\n",
    "begin \n",
    "    update student\n",
    "    set tot_cred= tot_cred + \n",
    "        (select credits\n",
    "         from course\n",
    "         where course.course_id= new.course_id)\n",
    "    where student.ID = new.ID;\n",
    "end"
   ]
  },
  {
   "cell_type": "code",
   "execution_count": 14,
   "metadata": {},
   "outputs": [
    {
     "name": "stdout",
     "output_type": "stream",
     "text": [
      " * sqlite:///db_univ7_3.db\n",
      "1 rows affected.\n"
     ]
    },
    {
     "data": {
      "text/plain": [
       "[]"
      ]
     },
     "execution_count": 14,
     "metadata": {},
     "output_type": "execute_result"
    }
   ],
   "source": [
    "%sql insert into takes values ('19991','CS-101','1','Spring','2018','F')"
   ]
  },
  {
   "cell_type": "code",
   "execution_count": 15,
   "metadata": {},
   "outputs": [
    {
     "name": "stdout",
     "output_type": "stream",
     "text": [
      " * sqlite:///db_univ7_3.db\n",
      "Done.\n"
     ]
    },
    {
     "data": {
      "text/html": [
       "<table>\n",
       "    <tr>\n",
       "        <th>ID</th>\n",
       "        <th>course_id</th>\n",
       "        <th>sec_id</th>\n",
       "        <th>semester</th>\n",
       "        <th>year</th>\n",
       "        <th>grade</th>\n",
       "    </tr>\n",
       "    <tr>\n",
       "        <td>19991</td>\n",
       "        <td>CS-101</td>\n",
       "        <td>1</td>\n",
       "        <td>Spring</td>\n",
       "        <td>2018</td>\n",
       "        <td>F</td>\n",
       "    </tr>\n",
       "    <tr>\n",
       "        <td>19991</td>\n",
       "        <td>HIS-351</td>\n",
       "        <td>1</td>\n",
       "        <td>Spring</td>\n",
       "        <td>2018</td>\n",
       "        <td>B</td>\n",
       "    </tr>\n",
       "</table>"
      ],
      "text/plain": [
       "[('19991', 'CS-101', '1', 'Spring', 2018, 'F'),\n",
       " ('19991', 'HIS-351', '1', 'Spring', 2018, 'B')]"
      ]
     },
     "execution_count": 15,
     "metadata": {},
     "output_type": "execute_result"
    }
   ],
   "source": [
    "%sql select * from takes where ID='19991'"
   ]
  },
  {
   "cell_type": "code",
   "execution_count": 16,
   "metadata": {},
   "outputs": [
    {
     "name": "stdout",
     "output_type": "stream",
     "text": [
      " * sqlite:///db_univ7_3.db\n",
      "Done.\n"
     ]
    },
    {
     "data": {
      "text/html": [
       "<table>\n",
       "    <tr>\n",
       "        <th>ID</th>\n",
       "        <th>name</th>\n",
       "        <th>dept_name</th>\n",
       "        <th>tot_cred</th>\n",
       "    </tr>\n",
       "    <tr>\n",
       "        <td>19991</td>\n",
       "        <td>Brandt</td>\n",
       "        <td>History</td>\n",
       "        <td>80</td>\n",
       "    </tr>\n",
       "</table>"
      ],
      "text/plain": [
       "[('19991', 'Brandt', 'History', 80)]"
      ]
     },
     "execution_count": 16,
     "metadata": {},
     "output_type": "execute_result"
    }
   ],
   "source": [
    "%sql select * from student where ID='19991'"
   ]
  },
  {
   "cell_type": "code",
   "execution_count": 17,
   "metadata": {},
   "outputs": [
    {
     "name": "stdout",
     "output_type": "stream",
     "text": [
      " * sqlite:///db_univ7_3.db\n",
      "1 rows affected.\n"
     ]
    },
    {
     "data": {
      "text/plain": [
       "[]"
      ]
     },
     "execution_count": 17,
     "metadata": {},
     "output_type": "execute_result"
    }
   ],
   "source": [
    "%%sql \n",
    "update takes \n",
    "set grade = 'B' \n",
    "where ID ='19991' and course_id='CS-101' "
   ]
  },
  {
   "cell_type": "code",
   "execution_count": 18,
   "metadata": {},
   "outputs": [
    {
     "name": "stdout",
     "output_type": "stream",
     "text": [
      " * sqlite:///db_univ7_3.db\n",
      "Done.\n"
     ]
    },
    {
     "data": {
      "text/html": [
       "<table>\n",
       "    <tr>\n",
       "        <th>ID</th>\n",
       "        <th>course_id</th>\n",
       "        <th>sec_id</th>\n",
       "        <th>semester</th>\n",
       "        <th>year</th>\n",
       "        <th>grade</th>\n",
       "    </tr>\n",
       "    <tr>\n",
       "        <td>19991</td>\n",
       "        <td>CS-101</td>\n",
       "        <td>1</td>\n",
       "        <td>Spring</td>\n",
       "        <td>2018</td>\n",
       "        <td>B</td>\n",
       "    </tr>\n",
       "    <tr>\n",
       "        <td>19991</td>\n",
       "        <td>HIS-351</td>\n",
       "        <td>1</td>\n",
       "        <td>Spring</td>\n",
       "        <td>2018</td>\n",
       "        <td>B</td>\n",
       "    </tr>\n",
       "</table>"
      ],
      "text/plain": [
       "[('19991', 'CS-101', '1', 'Spring', 2018, 'B'),\n",
       " ('19991', 'HIS-351', '1', 'Spring', 2018, 'B')]"
      ]
     },
     "execution_count": 18,
     "metadata": {},
     "output_type": "execute_result"
    }
   ],
   "source": [
    "%sql select * from takes where ID='19991'"
   ]
  },
  {
   "cell_type": "code",
   "execution_count": 19,
   "metadata": {},
   "outputs": [
    {
     "name": "stdout",
     "output_type": "stream",
     "text": [
      " * sqlite:///db_univ7_3.db\n",
      "Done.\n"
     ]
    },
    {
     "data": {
      "text/html": [
       "<table>\n",
       "    <tr>\n",
       "        <th>ID</th>\n",
       "        <th>name</th>\n",
       "        <th>dept_name</th>\n",
       "        <th>tot_cred</th>\n",
       "    </tr>\n",
       "    <tr>\n",
       "        <td>19991</td>\n",
       "        <td>Brandt</td>\n",
       "        <td>History</td>\n",
       "        <td>84</td>\n",
       "    </tr>\n",
       "</table>"
      ],
      "text/plain": [
       "[('19991', 'Brandt', 'History', 84)]"
      ]
     },
     "execution_count": 19,
     "metadata": {},
     "output_type": "execute_result"
    }
   ],
   "source": [
    "%sql select * from student where ID='19991'"
   ]
  },
  {
   "cell_type": "code",
   "execution_count": null,
   "metadata": {},
   "outputs": [],
   "source": []
  }
 ],
 "metadata": {
  "kernelspec": {
   "display_name": "Python 3",
   "language": "python",
   "name": "python3"
  },
  "language_info": {
   "codemirror_mode": {
    "name": "ipython",
    "version": 3
   },
   "file_extension": ".py",
   "mimetype": "text/x-python",
   "name": "python",
   "nbconvert_exporter": "python",
   "pygments_lexer": "ipython3",
   "version": "3.8.5"
  }
 },
 "nbformat": 4,
 "nbformat_minor": 2
}
